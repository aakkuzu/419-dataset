{
 "cells": [
  {
   "cell_type": "markdown",
   "metadata": {
    "colab_type": "text",
    "id": "uZWgMbpZl0xV"
   },
   "source": [
    "# Import Preprocessed Data"
   ]
  },
  {
   "cell_type": "code",
   "execution_count": null,
   "metadata": {
    "colab": {},
    "colab_type": "code",
    "id": "1VXQPwgdl32u"
   },
   "outputs": [],
   "source": [
    "#PROJECT_ROOT = \"/content/drive/My Drive/CMPT419/Project\" #@param [\"/content/drive/My Drive/CMPT419/Project\", \"/content/drive/My Drive/school-419-project\"] {allow-input: true}"
   ]
  },
  {
   "cell_type": "code",
   "execution_count": null,
   "metadata": {
    "colab": {
     "base_uri": "https://localhost:8080/",
     "height": 139
    },
    "colab_type": "code",
    "id": "806DsIpfmE_T",
    "outputId": "751426de-1c20-4cf8-e06b-056366a5ff6a"
   },
   "outputs": [
    {
     "name": "stdout",
     "output_type": "stream",
     "text": [
      "Go to this URL in a browser: https://accounts.google.com/o/oauth2/auth?client_id=947318989803-6bn6qk8qdgf4n4g3pfee6491hc0brc4i.apps.googleusercontent.com&redirect_uri=urn%3aietf%3awg%3aoauth%3a2.0%3aoob&scope=email%20https%3a%2f%2fwww.googleapis.com%2fauth%2fdocs.test%20https%3a%2f%2fwww.googleapis.com%2fauth%2fdrive%20https%3a%2f%2fwww.googleapis.com%2fauth%2fdrive.photos.readonly%20https%3a%2f%2fwww.googleapis.com%2fauth%2fpeopleapi.readonly&response_type=code\n",
      "\n",
      "Enter your authorization code:\n",
      "··········\n",
      "Mounted at /content/drive/\n",
      "/content/drive/My Drive/CMPT419/Project\n"
     ]
    }
   ],
   "source": [
    "#from google.colab import drive\n",
    "#drive.mount('/content/drive/')\n",
    "#%cd {PROJECT_ROOT}"
   ]
  },
  {
   "cell_type": "code",
   "execution_count": 1,
   "metadata": {
    "colab": {
     "base_uri": "https://localhost:8080/",
     "height": 363
    },
    "colab_type": "code",
    "id": "W_rGY5Xcmdax",
    "outputId": "768a9f9f-5e43-4055-83c4-cb6af12bd5b6"
   },
   "outputs": [
    {
     "name": "stdout",
     "output_type": "stream",
     "text": [
      "Loading combined CSV's from file\n"
     ]
    },
    {
     "data": {
      "text/html": [
       "<div>\n",
       "<style scoped>\n",
       "    .dataframe tbody tr th:only-of-type {\n",
       "        vertical-align: middle;\n",
       "    }\n",
       "\n",
       "    .dataframe tbody tr th {\n",
       "        vertical-align: top;\n",
       "    }\n",
       "\n",
       "    .dataframe thead th {\n",
       "        text-align: right;\n",
       "    }\n",
       "</style>\n",
       "<table border=\"1\" class=\"dataframe\">\n",
       "  <thead>\n",
       "    <tr style=\"text-align: right;\">\n",
       "      <th></th>\n",
       "      <th>frame</th>\n",
       "      <th>face_id</th>\n",
       "      <th>timestamp</th>\n",
       "      <th>confidence</th>\n",
       "      <th>success</th>\n",
       "      <th>gaze_0_x</th>\n",
       "      <th>gaze_0_y</th>\n",
       "      <th>gaze_0_z</th>\n",
       "      <th>gaze_1_x</th>\n",
       "      <th>gaze_1_y</th>\n",
       "      <th>...</th>\n",
       "      <th>AU12_c</th>\n",
       "      <th>AU14_c</th>\n",
       "      <th>AU15_c</th>\n",
       "      <th>AU17_c</th>\n",
       "      <th>AU20_c</th>\n",
       "      <th>AU23_c</th>\n",
       "      <th>AU25_c</th>\n",
       "      <th>AU26_c</th>\n",
       "      <th>AU28_c</th>\n",
       "      <th>AU45_c</th>\n",
       "    </tr>\n",
       "  </thead>\n",
       "  <tbody>\n",
       "    <tr>\n",
       "      <th>count</th>\n",
       "      <td>22935.000000</td>\n",
       "      <td>22935.000000</td>\n",
       "      <td>22935.000000</td>\n",
       "      <td>22935.000000</td>\n",
       "      <td>22935.000000</td>\n",
       "      <td>22935.000000</td>\n",
       "      <td>22935.000000</td>\n",
       "      <td>22935.000000</td>\n",
       "      <td>22935.000000</td>\n",
       "      <td>22935.000000</td>\n",
       "      <td>...</td>\n",
       "      <td>22935.000000</td>\n",
       "      <td>22935.000000</td>\n",
       "      <td>22935.000000</td>\n",
       "      <td>22935.000000</td>\n",
       "      <td>22935.000000</td>\n",
       "      <td>22935.000000</td>\n",
       "      <td>22935.000000</td>\n",
       "      <td>22935.000000</td>\n",
       "      <td>22935.000000</td>\n",
       "      <td>22935.000000</td>\n",
       "    </tr>\n",
       "    <tr>\n",
       "      <th>mean</th>\n",
       "      <td>155.616133</td>\n",
       "      <td>0.501809</td>\n",
       "      <td>4.605910</td>\n",
       "      <td>0.751813</td>\n",
       "      <td>0.766122</td>\n",
       "      <td>0.036090</td>\n",
       "      <td>0.203211</td>\n",
       "      <td>-0.663631</td>\n",
       "      <td>-0.076915</td>\n",
       "      <td>0.208771</td>\n",
       "      <td>...</td>\n",
       "      <td>0.294790</td>\n",
       "      <td>0.399913</td>\n",
       "      <td>0.581600</td>\n",
       "      <td>0.286767</td>\n",
       "      <td>0.381905</td>\n",
       "      <td>0.208197</td>\n",
       "      <td>0.404229</td>\n",
       "      <td>0.323261</td>\n",
       "      <td>0.406584</td>\n",
       "      <td>0.318552</td>\n",
       "    </tr>\n",
       "    <tr>\n",
       "      <th>std</th>\n",
       "      <td>164.296348</td>\n",
       "      <td>0.710695</td>\n",
       "      <td>4.882572</td>\n",
       "      <td>0.367902</td>\n",
       "      <td>0.423305</td>\n",
       "      <td>0.332307</td>\n",
       "      <td>0.171565</td>\n",
       "      <td>0.378508</td>\n",
       "      <td>0.330183</td>\n",
       "      <td>0.175701</td>\n",
       "      <td>...</td>\n",
       "      <td>0.455958</td>\n",
       "      <td>0.489891</td>\n",
       "      <td>0.493307</td>\n",
       "      <td>0.452262</td>\n",
       "      <td>0.485864</td>\n",
       "      <td>0.406027</td>\n",
       "      <td>0.490753</td>\n",
       "      <td>0.467732</td>\n",
       "      <td>0.491207</td>\n",
       "      <td>0.465925</td>\n",
       "    </tr>\n",
       "    <tr>\n",
       "      <th>min</th>\n",
       "      <td>1.000000</td>\n",
       "      <td>0.000000</td>\n",
       "      <td>0.000000</td>\n",
       "      <td>0.000000</td>\n",
       "      <td>0.000000</td>\n",
       "      <td>-0.805486</td>\n",
       "      <td>-0.448546</td>\n",
       "      <td>-0.999994</td>\n",
       "      <td>-0.914196</td>\n",
       "      <td>-0.414886</td>\n",
       "      <td>...</td>\n",
       "      <td>0.000000</td>\n",
       "      <td>0.000000</td>\n",
       "      <td>0.000000</td>\n",
       "      <td>0.000000</td>\n",
       "      <td>0.000000</td>\n",
       "      <td>0.000000</td>\n",
       "      <td>0.000000</td>\n",
       "      <td>0.000000</td>\n",
       "      <td>0.000000</td>\n",
       "      <td>0.000000</td>\n",
       "    </tr>\n",
       "    <tr>\n",
       "      <th>25%</th>\n",
       "      <td>46.000000</td>\n",
       "      <td>0.000000</td>\n",
       "      <td>1.600000</td>\n",
       "      <td>0.770000</td>\n",
       "      <td>1.000000</td>\n",
       "      <td>-0.196749</td>\n",
       "      <td>0.000000</td>\n",
       "      <td>-0.932839</td>\n",
       "      <td>-0.361876</td>\n",
       "      <td>0.000000</td>\n",
       "      <td>...</td>\n",
       "      <td>0.000000</td>\n",
       "      <td>0.000000</td>\n",
       "      <td>0.000000</td>\n",
       "      <td>0.000000</td>\n",
       "      <td>0.000000</td>\n",
       "      <td>0.000000</td>\n",
       "      <td>0.000000</td>\n",
       "      <td>0.000000</td>\n",
       "      <td>0.000000</td>\n",
       "      <td>0.000000</td>\n",
       "    </tr>\n",
       "    <tr>\n",
       "      <th>50%</th>\n",
       "      <td>97.000000</td>\n",
       "      <td>0.000000</td>\n",
       "      <td>3.365000</td>\n",
       "      <td>0.980000</td>\n",
       "      <td>1.000000</td>\n",
       "      <td>0.000000</td>\n",
       "      <td>0.210941</td>\n",
       "      <td>-0.857065</td>\n",
       "      <td>0.000000</td>\n",
       "      <td>0.219472</td>\n",
       "      <td>...</td>\n",
       "      <td>0.000000</td>\n",
       "      <td>0.000000</td>\n",
       "      <td>1.000000</td>\n",
       "      <td>0.000000</td>\n",
       "      <td>0.000000</td>\n",
       "      <td>0.000000</td>\n",
       "      <td>0.000000</td>\n",
       "      <td>0.000000</td>\n",
       "      <td>0.000000</td>\n",
       "      <td>0.000000</td>\n",
       "    </tr>\n",
       "    <tr>\n",
       "      <th>75%</th>\n",
       "      <td>188.000000</td>\n",
       "      <td>1.000000</td>\n",
       "      <td>5.772000</td>\n",
       "      <td>0.980000</td>\n",
       "      <td>1.000000</td>\n",
       "      <td>0.286586</td>\n",
       "      <td>0.324906</td>\n",
       "      <td>-0.578735</td>\n",
       "      <td>0.125412</td>\n",
       "      <td>0.340716</td>\n",
       "      <td>...</td>\n",
       "      <td>1.000000</td>\n",
       "      <td>1.000000</td>\n",
       "      <td>1.000000</td>\n",
       "      <td>1.000000</td>\n",
       "      <td>1.000000</td>\n",
       "      <td>0.000000</td>\n",
       "      <td>1.000000</td>\n",
       "      <td>1.000000</td>\n",
       "      <td>1.000000</td>\n",
       "      <td>1.000000</td>\n",
       "    </tr>\n",
       "    <tr>\n",
       "      <th>max</th>\n",
       "      <td>837.000000</td>\n",
       "      <td>3.000000</td>\n",
       "      <td>34.868000</td>\n",
       "      <td>0.980000</td>\n",
       "      <td>1.000000</td>\n",
       "      <td>0.931122</td>\n",
       "      <td>0.726961</td>\n",
       "      <td>0.000000</td>\n",
       "      <td>0.893593</td>\n",
       "      <td>0.843826</td>\n",
       "      <td>...</td>\n",
       "      <td>1.000000</td>\n",
       "      <td>1.000000</td>\n",
       "      <td>1.000000</td>\n",
       "      <td>1.000000</td>\n",
       "      <td>1.000000</td>\n",
       "      <td>1.000000</td>\n",
       "      <td>1.000000</td>\n",
       "      <td>1.000000</td>\n",
       "      <td>1.000000</td>\n",
       "      <td>1.000000</td>\n",
       "    </tr>\n",
       "  </tbody>\n",
       "</table>\n",
       "<p>8 rows × 334 columns</p>\n",
       "</div>"
      ],
      "text/plain": [
       "              frame       face_id     timestamp    confidence       success  \\\n",
       "count  22935.000000  22935.000000  22935.000000  22935.000000  22935.000000   \n",
       "mean     155.616133      0.501809      4.605910      0.751813      0.766122   \n",
       "std      164.296348      0.710695      4.882572      0.367902      0.423305   \n",
       "min        1.000000      0.000000      0.000000      0.000000      0.000000   \n",
       "25%       46.000000      0.000000      1.600000      0.770000      1.000000   \n",
       "50%       97.000000      0.000000      3.365000      0.980000      1.000000   \n",
       "75%      188.000000      1.000000      5.772000      0.980000      1.000000   \n",
       "max      837.000000      3.000000     34.868000      0.980000      1.000000   \n",
       "\n",
       "           gaze_0_x      gaze_0_y      gaze_0_z      gaze_1_x      gaze_1_y  \\\n",
       "count  22935.000000  22935.000000  22935.000000  22935.000000  22935.000000   \n",
       "mean       0.036090      0.203211     -0.663631     -0.076915      0.208771   \n",
       "std        0.332307      0.171565      0.378508      0.330183      0.175701   \n",
       "min       -0.805486     -0.448546     -0.999994     -0.914196     -0.414886   \n",
       "25%       -0.196749      0.000000     -0.932839     -0.361876      0.000000   \n",
       "50%        0.000000      0.210941     -0.857065      0.000000      0.219472   \n",
       "75%        0.286586      0.324906     -0.578735      0.125412      0.340716   \n",
       "max        0.931122      0.726961      0.000000      0.893593      0.843826   \n",
       "\n",
       "       ...        AU12_c        AU14_c        AU15_c        AU17_c  \\\n",
       "count  ...  22935.000000  22935.000000  22935.000000  22935.000000   \n",
       "mean   ...      0.294790      0.399913      0.581600      0.286767   \n",
       "std    ...      0.455958      0.489891      0.493307      0.452262   \n",
       "min    ...      0.000000      0.000000      0.000000      0.000000   \n",
       "25%    ...      0.000000      0.000000      0.000000      0.000000   \n",
       "50%    ...      0.000000      0.000000      1.000000      0.000000   \n",
       "75%    ...      1.000000      1.000000      1.000000      1.000000   \n",
       "max    ...      1.000000      1.000000      1.000000      1.000000   \n",
       "\n",
       "             AU20_c        AU23_c        AU25_c        AU26_c        AU28_c  \\\n",
       "count  22935.000000  22935.000000  22935.000000  22935.000000  22935.000000   \n",
       "mean       0.381905      0.208197      0.404229      0.323261      0.406584   \n",
       "std        0.485864      0.406027      0.490753      0.467732      0.491207   \n",
       "min        0.000000      0.000000      0.000000      0.000000      0.000000   \n",
       "25%        0.000000      0.000000      0.000000      0.000000      0.000000   \n",
       "50%        0.000000      0.000000      0.000000      0.000000      0.000000   \n",
       "75%        1.000000      0.000000      1.000000      1.000000      1.000000   \n",
       "max        1.000000      1.000000      1.000000      1.000000      1.000000   \n",
       "\n",
       "             AU45_c  \n",
       "count  22935.000000  \n",
       "mean       0.318552  \n",
       "std        0.465925  \n",
       "min        0.000000  \n",
       "25%        0.000000  \n",
       "50%        0.000000  \n",
       "75%        1.000000  \n",
       "max        1.000000  \n",
       "\n",
       "[8 rows x 334 columns]"
      ]
     },
     "execution_count": 1,
     "metadata": {},
     "output_type": "execute_result"
    }
   ],
   "source": [
    "# Import Openface's data\n",
    "import pandas as pd\n",
    "import os\n",
    "savename = \"aggregated_openface_data.pickle\"\n",
    "\n",
    "openface_csvs = \"./openface_processed/multi\"\n",
    "\n",
    "df = pd.DataFrame()\n",
    "\n",
    "if os.path.isfile(savename):\n",
    "  print(\"Loading combined CSV's from file\")\n",
    "  df = pd.read_pickle(savename)\n",
    "else:\n",
    "  for root, dirs, files in os.walk(openface_csvs):\n",
    "    dirs.clear()  # don't recurse\n",
    "\n",
    "    for f in [f for f in files if f[-4:] == '.csv']:\n",
    "      tempdata = pd.read_csv(os.path.join(root, f), skipinitialspace=True)\n",
    "      tempdata[\"filename\"] = f[0:-4].strip()  # make column with sample number (remove .csv suffix, whitespace)\n",
    "      df = pd.concat([df, tempdata])\n",
    "\n",
    "  print(\"Saving combined CSV's to file\")\n",
    "  df.to_pickle(savename)\n",
    "df.describe()"
   ]
  },
  {
   "cell_type": "code",
   "execution_count": 2,
   "metadata": {
    "colab": {},
    "colab_type": "code",
    "id": "qrUk0cOIrMFZ"
   },
   "outputs": [],
   "source": [
    "# filter out datas with success = 1 or confidence < 0.95\n",
    "df = df[(df['confidence'] >=0.65) & (df['success'] == 1)]\n",
    "df.reset_index(drop=True, inplace=True)\n",
    "# print(df.filename.unique())\n",
    "# print(len(df.keys()))"
   ]
  },
  {
   "cell_type": "code",
   "execution_count": 3,
   "metadata": {
    "colab": {
     "base_uri": "https://localhost:8080/",
     "height": 479
    },
    "colab_type": "code",
    "id": "Qx2nnGCjADlo",
    "outputId": "aae0c2fb-fbda-471e-9f0e-74774c2c55c4"
   },
   "outputs": [
    {
     "data": {
      "text/html": [
       "<div>\n",
       "<style scoped>\n",
       "    .dataframe tbody tr th:only-of-type {\n",
       "        vertical-align: middle;\n",
       "    }\n",
       "\n",
       "    .dataframe tbody tr th {\n",
       "        vertical-align: top;\n",
       "    }\n",
       "\n",
       "    .dataframe thead th {\n",
       "        text-align: right;\n",
       "    }\n",
       "</style>\n",
       "<table border=\"1\" class=\"dataframe\">\n",
       "  <thead>\n",
       "    <tr style=\"text-align: right;\">\n",
       "      <th></th>\n",
       "      <th>mean_pitch</th>\n",
       "      <th>min_pitch</th>\n",
       "      <th>max_pitch</th>\n",
       "      <th>mean_intensity</th>\n",
       "      <th>root_mean_square</th>\n",
       "      <th>center_of_gravity</th>\n",
       "      <th>kurtosis</th>\n",
       "      <th>skewness</th>\n",
       "      <th>standard_deviation</th>\n",
       "      <th>mean_f1_frequency</th>\n",
       "      <th>mean_f2_frequency</th>\n",
       "      <th>mean_speech_rate</th>\n",
       "      <th>number_of_silent_intervals</th>\n",
       "      <th>filename</th>\n",
       "      <th>estimated_frame_number</th>\n",
       "    </tr>\n",
       "  </thead>\n",
       "  <tbody>\n",
       "    <tr>\n",
       "      <th>0</th>\n",
       "      <td>290.447878</td>\n",
       "      <td>223.029898</td>\n",
       "      <td>420.621402</td>\n",
       "      <td>83.265478</td>\n",
       "      <td>0.291275</td>\n",
       "      <td>629.042192</td>\n",
       "      <td>60.851689</td>\n",
       "      <td>4.878547</td>\n",
       "      <td>475.672620</td>\n",
       "      <td>605.231710</td>\n",
       "      <td>1634.643303</td>\n",
       "      <td>0.49362</td>\n",
       "      <td>2</td>\n",
       "      <td>nonflirt-PJP-C7TCaM8-6</td>\n",
       "      <td>0</td>\n",
       "    </tr>\n",
       "    <tr>\n",
       "      <th>1</th>\n",
       "      <td>288.354722</td>\n",
       "      <td>223.129737</td>\n",
       "      <td>420.629276</td>\n",
       "      <td>83.295576</td>\n",
       "      <td>0.292287</td>\n",
       "      <td>630.297852</td>\n",
       "      <td>60.325458</td>\n",
       "      <td>4.840207</td>\n",
       "      <td>476.914570</td>\n",
       "      <td>626.793360</td>\n",
       "      <td>1624.179187</td>\n",
       "      <td>0.49362</td>\n",
       "      <td>2</td>\n",
       "      <td>nonflirt-PJP-C7TCaM8-6</td>\n",
       "      <td>1</td>\n",
       "    </tr>\n",
       "    <tr>\n",
       "      <th>2</th>\n",
       "      <td>286.543449</td>\n",
       "      <td>223.243593</td>\n",
       "      <td>420.609286</td>\n",
       "      <td>83.482699</td>\n",
       "      <td>0.298652</td>\n",
       "      <td>662.504028</td>\n",
       "      <td>68.563877</td>\n",
       "      <td>4.773974</td>\n",
       "      <td>496.830745</td>\n",
       "      <td>636.716477</td>\n",
       "      <td>1611.940717</td>\n",
       "      <td>0.49362</td>\n",
       "      <td>2</td>\n",
       "      <td>nonflirt-PJP-C7TCaM8-6</td>\n",
       "      <td>2</td>\n",
       "    </tr>\n",
       "    <tr>\n",
       "      <th>3</th>\n",
       "      <td>284.431711</td>\n",
       "      <td>223.167087</td>\n",
       "      <td>420.564528</td>\n",
       "      <td>83.700942</td>\n",
       "      <td>0.306251</td>\n",
       "      <td>683.002668</td>\n",
       "      <td>58.698875</td>\n",
       "      <td>4.373654</td>\n",
       "      <td>499.577060</td>\n",
       "      <td>648.038718</td>\n",
       "      <td>1610.828022</td>\n",
       "      <td>0.49362</td>\n",
       "      <td>2</td>\n",
       "      <td>nonflirt-PJP-C7TCaM8-6</td>\n",
       "      <td>3</td>\n",
       "    </tr>\n",
       "    <tr>\n",
       "      <th>4</th>\n",
       "      <td>282.287917</td>\n",
       "      <td>223.092497</td>\n",
       "      <td>420.501990</td>\n",
       "      <td>83.765693</td>\n",
       "      <td>0.308542</td>\n",
       "      <td>681.849847</td>\n",
       "      <td>49.727052</td>\n",
       "      <td>4.123383</td>\n",
       "      <td>495.618783</td>\n",
       "      <td>657.417870</td>\n",
       "      <td>1599.743717</td>\n",
       "      <td>0.49362</td>\n",
       "      <td>2</td>\n",
       "      <td>nonflirt-PJP-C7TCaM8-6</td>\n",
       "      <td>4</td>\n",
       "    </tr>\n",
       "  </tbody>\n",
       "</table>\n",
       "</div>"
      ],
      "text/plain": [
       "   mean_pitch   min_pitch   max_pitch  mean_intensity  root_mean_square  \\\n",
       "0  290.447878  223.029898  420.621402       83.265478          0.291275   \n",
       "1  288.354722  223.129737  420.629276       83.295576          0.292287   \n",
       "2  286.543449  223.243593  420.609286       83.482699          0.298652   \n",
       "3  284.431711  223.167087  420.564528       83.700942          0.306251   \n",
       "4  282.287917  223.092497  420.501990       83.765693          0.308542   \n",
       "\n",
       "   center_of_gravity   kurtosis  skewness  standard_deviation  \\\n",
       "0         629.042192  60.851689  4.878547          475.672620   \n",
       "1         630.297852  60.325458  4.840207          476.914570   \n",
       "2         662.504028  68.563877  4.773974          496.830745   \n",
       "3         683.002668  58.698875  4.373654          499.577060   \n",
       "4         681.849847  49.727052  4.123383          495.618783   \n",
       "\n",
       "   mean_f1_frequency  mean_f2_frequency  mean_speech_rate  \\\n",
       "0         605.231710        1634.643303           0.49362   \n",
       "1         626.793360        1624.179187           0.49362   \n",
       "2         636.716477        1611.940717           0.49362   \n",
       "3         648.038718        1610.828022           0.49362   \n",
       "4         657.417870        1599.743717           0.49362   \n",
       "\n",
       "   number_of_silent_intervals                filename  estimated_frame_number  \n",
       "0                           2  nonflirt-PJP-C7TCaM8-6                       0  \n",
       "1                           2  nonflirt-PJP-C7TCaM8-6                       1  \n",
       "2                           2  nonflirt-PJP-C7TCaM8-6                       2  \n",
       "3                           2  nonflirt-PJP-C7TCaM8-6                       3  \n",
       "4                           2  nonflirt-PJP-C7TCaM8-6                       4  "
      ]
     },
     "execution_count": 3,
     "metadata": {},
     "output_type": "execute_result"
    }
   ],
   "source": [
    "# Import audio data\n",
    "audio_df = pd.read_csv(\"audio-features.csv\").drop(\"Unnamed: 0\", axis=1)\n",
    "audio_df.head()"
   ]
  },
  {
   "cell_type": "code",
   "execution_count": 4,
   "metadata": {
    "colab": {
     "base_uri": "https://localhost:8080/",
     "height": 68
    },
    "colab_type": "code",
    "id": "H8RHNujiz32Y",
    "outputId": "57998c59-2128-4df5-9e30-be4bd387eb24"
   },
   "outputs": [
    {
     "name": "stdout",
     "output_type": "stream",
     "text": [
      "set()\n",
      "103\n",
      "103\n"
     ]
    }
   ],
   "source": [
    "# Check datas consistency\n",
    "clips_name = df.filename.unique()\n",
    "audios_name = audio_df.filename.unique()\n",
    "df = df[df['filename'] != 'nonflirt-ImEnWAVRLU0-2']\n",
    "df = df[df['filename'] != 'nonflirt-v2VgA_MCNDg-4']\n",
    "\n",
    "# if len(clips_name) != len(audios_name):\n",
    "#   missing_video = set(audios_name)-set(clips_name)\n",
    "#   print(missing_video)\n",
    "missing_audio = set(df.filename.unique())-set(audio_df.filename.unique())\n",
    "print(missing_audio)\n",
    "  # df = df[df['filename'] != missing_video.pop()]\n",
    "  # audio_df = audio_df[audio_df['filename'] != missing_audio]\n",
    "\n",
    "print(len(df.filename.unique()))\n",
    "print(len(audio_df.filename.unique()))\n"
   ]
  },
  {
   "cell_type": "markdown",
   "metadata": {
    "colab_type": "text",
    "id": "uf-G_OjSCBUb"
   },
   "source": [
    "# Feature Selection"
   ]
  },
  {
   "cell_type": "code",
   "execution_count": 5,
   "metadata": {
    "colab": {
     "base_uri": "https://localhost:8080/",
     "height": 119
    },
    "colab_type": "code",
    "id": "TmitO3-lB5x_",
    "outputId": "9305e40a-c73b-4a76-8f66-c9d87380fb39"
   },
   "outputs": [
    {
     "name": "stdout",
     "output_type": "stream",
     "text": [
      "Index(['frame', 'face_id', 'timestamp', 'confidence', 'success', 'gaze_0_x',\n",
      "       'gaze_0_y', 'gaze_0_z', 'gaze_1_x', 'gaze_1_y',\n",
      "       ...\n",
      "       'AU14_c', 'AU15_c', 'AU17_c', 'AU20_c', 'AU23_c', 'AU25_c', 'AU26_c',\n",
      "       'AU28_c', 'AU45_c', 'filename'],\n",
      "      dtype='object', length=335)\n"
     ]
    }
   ],
   "source": [
    "print(df.keys())\n",
    "# feature_columns = []\n",
    "# features = train.drop('filename',axis=1).keys()"
   ]
  },
  {
   "cell_type": "markdown",
   "metadata": {
    "colab_type": "text",
    "id": "Qt_OewYICDi2"
   },
   "source": [
    "# Compute DTW"
   ]
  },
  {
   "cell_type": "code",
   "execution_count": null,
   "metadata": {
    "colab": {
     "base_uri": "https://localhost:8080/",
     "height": 51
    },
    "colab_type": "code",
    "id": "gpaupeMXKVV4",
    "outputId": "2f6f762d-6283-4c95-cbc5-5ca1d20461e5"
   },
   "outputs": [
    {
     "name": "stdout",
     "output_type": "stream",
     "text": [
      "Requirement already satisfied: fastdtw in /usr/local/lib/python3.6/dist-packages (0.3.4)\n",
      "Requirement already satisfied: numpy in /usr/local/lib/python3.6/dist-packages (from fastdtw) (1.18.5)\n"
     ]
    }
   ],
   "source": [
    "# required packages\n",
    "!pip install fastdtw\n",
    "import numpy as np\n",
    "from scipy.spatial.distance import euclidean\n",
    "from fastdtw import fastdtw\n",
    "from tqdm import tqdm, trange"
   ]
  },
  {
   "cell_type": "code",
   "execution_count": null,
   "metadata": {
    "colab": {},
    "colab_type": "code",
    "id": "88Y2P1yLA1kC"
   },
   "outputs": [],
   "source": [
    "clips = pd.concat([df.loc[:,\"filename\"], df.loc[:,\"frame\":\"gaze_angle_y\"], df.loc[:,\"pose_Tx\":\"pose_Rz\"], df.loc[:,\"AU01_r\":\"AU45_c\"]],\n",
    "                  axis=1)"
   ]
  },
  {
   "cell_type": "code",
   "execution_count": null,
   "metadata": {
    "colab": {
     "base_uri": "https://localhost:8080/",
     "height": 34
    },
    "colab_type": "code",
    "id": "Eba8dKck3PjT",
    "outputId": "d6ed677d-cbe4-4f25-d988-a6f0f83d11e9"
   },
   "outputs": [
    {
     "name": "stdout",
     "output_type": "stream",
     "text": [
      "273785.2142364928\n"
     ]
    }
   ],
   "source": [
    "def independent_dtw(clip1, clip2, features):\n",
    "  overall_score = 0\n",
    "  clip1 = clip1[~clip1.isin([np.nan, np.inf, -np.inf]).any(1)]\n",
    "  clip2 = clip2[~clip2.isin([np.nan, np.inf, -np.inf]).any(1)]\n",
    "  for feature in features:\n",
    "    if feature != 'filename' and feature != 'frame':\n",
    "      # print(clip1[feature], clip2[feature])\n",
    "      distance, path = fastdtw(clip1[feature], clip2[feature], dist=euclidean)\n",
    "      # print(path)\n",
    "      overall_score+=distance\n",
    "  return overall_score\n",
    "\n",
    "# test\n",
    "clip1 = clips[clips['filename'] == 'nonflirt-PJP-C7TCaM8-6']\n",
    "clip2 = clips[clips['filename'] == 'flirt-qkq9k5FewvI-1']\n",
    "test_dtw1 = independent_dtw(clip1, clip2, clips.columns)\n",
    "clip1 = audio_df[audio_df['filename'] == 'nonflirt-PJP-C7TCaM8-6']\n",
    "clip2 = audio_df[audio_df['filename'] == 'flirt-qkq9k5FewvI-1']\n",
    "test_dtw2 = independent_dtw(clip1, clip2, audio_df.columns)\n",
    "\n",
    "print(test_dtw1+test_dtw2)"
   ]
  },
  {
   "cell_type": "code",
   "execution_count": null,
   "metadata": {
    "colab": {
     "base_uri": "https://localhost:8080/",
     "height": 34
    },
    "colab_type": "code",
    "id": "7IKAowJP-gOM",
    "outputId": "822816ba-4742-4f06-8906-05afd77a58aa"
   },
   "outputs": [
    {
     "name": "stdout",
     "output_type": "stream",
     "text": [
      "2.8284271247461903\n"
     ]
    }
   ],
   "source": [
    "import numpy as np\n",
    "from scipy.spatial.distance import euclidean\n",
    "\n",
    "from fastdtw import fastdtw\n",
    "\n",
    "x = np.array([[1,1], [2,2], [3,3], [4,4], [5,5]])\n",
    "y = np.array([[2,2], [3,3], [4,4]])\n",
    "distance, path = fastdtw(x, y, dist=euclidean)\n",
    "print(distance)\n"
   ]
  },
  {
   "cell_type": "code",
   "execution_count": null,
   "metadata": {
    "colab": {},
    "colab_type": "code",
    "id": "-MwQb6bxCC3J"
   },
   "outputs": [],
   "source": [
    "# This would be the final matrix that gives how similar between\n",
    "# each two clips\n",
    "def produce_Similarity_Matrix(df, audio_df): # for multimodal\n",
    "  # This data is missing from OpenFace\n",
    "  clips_name = df.filename.unique()\n",
    "  audios_name = audio_df.filename.unique()\n",
    "  length = len(clips_name)\n",
    "  features_face = clips.columns\n",
    "  features_audio = audio_df.columns\n",
    "\n",
    "\n",
    "  Similarity_Matrix = np.zeros((length,length))\n",
    "  for col in trange(length, leave=False, position=0):\n",
    "    for row in trange(length, leave=False, position=0):\n",
    "      # create a Similarity_Matrix, ie         clip1 clip2 clip3\n",
    "      #                                 clip1    0    ...   ...\n",
    "      #                                 clip2   ...    0    ...\n",
    "      #                                 clip3   ...   ...    0\n",
    "      clip_name1 = clips_name[col]\n",
    "      clip1 = clips[clips['filename'] == clip_name1]\n",
    "      clip_name2 = clips_name[row]\n",
    "      clip2 = clips[clips['filename'] == clip_name2]\n",
    "      overall_score1 = independent_dtw(clip1, clip2, features_face)\n",
    "\n",
    "      clip1 = audio_df[audio_df['filename'] == clip_name1]\n",
    "      clip2 = audio_df[audio_df['filename'] == clip_name2]\n",
    "      overall_score2 = independent_dtw(clip1, clip2, features_audio)\n",
    "\n",
    "      Similarity_Matrix[col][row] = overall_score1+overall_score2\n",
    "  return Similarity_Matrix"
   ]
  },
  {
   "cell_type": "code",
   "execution_count": null,
   "metadata": {
    "colab": {
     "base_uri": "https://localhost:8080/",
     "height": 34
    },
    "colab_type": "code",
    "id": "bFjp2ybbvbxp",
    "outputId": "14f16606-6292-45b4-b34a-eae256e7c25e"
   },
   "outputs": [
    {
     "name": "stderr",
     "output_type": "stream",
     "text": [
      " 84%|████████▍ | 87/103 [05:52<01:29,  5.58s/it]"
     ]
    }
   ],
   "source": [
    "Similarity_Matrix = produce_Similarity_Matrix(df, audio_df)\n",
    "sm = Similarity_Matrix\n",
    "print(sm)"
   ]
  },
  {
   "cell_type": "code",
   "execution_count": null,
   "metadata": {
    "colab": {},
    "colab_type": "code",
    "id": "b-fn3LEDOeK2"
   },
   "outputs": [],
   "source": [
    "# Save the result\n",
    "import pickle\n",
    "with open('Similarity_Matrix', 'wb') as f:\n",
    "    pickle.dump(Similarity_Matrix, f)"
   ]
  },
  {
   "cell_type": "code",
   "execution_count": null,
   "metadata": {
    "colab": {},
    "colab_type": "code",
    "id": "wRwaDMyUTATe"
   },
   "outputs": [],
   "source": [
    "# Load the result\n",
    "import pickle\n",
    "with open(\"Similarity_Matrix\", \"rb\") as f:\n",
    "  Similarity_Matrix = pickle.load(f)"
   ]
  },
  {
   "cell_type": "markdown",
   "metadata": {
    "colab_type": "text",
    "id": "ChiF-exqhffm"
   },
   "source": [
    "# K-Means Clustering"
   ]
  },
  {
   "cell_type": "code",
   "execution_count": null,
   "metadata": {
    "colab": {
     "base_uri": "https://localhost:8080/",
     "height": 105
    },
    "colab_type": "code",
    "id": "4DM3xvZmh7aG",
    "outputId": "2fd1e012-fbee-4723-e401-ac8ca76e0aa1"
   },
   "outputs": [
    {
     "name": "stderr",
     "output_type": "stream",
     "text": [
      "/usr/local/lib/python3.6/dist-packages/sklearn/utils/deprecation.py:144: FutureWarning: The sklearn.cluster.k_means_ module is  deprecated in version 0.22 and will be removed in version 0.24. The corresponding classes / functions should instead be imported from sklearn.cluster. Anything that cannot be imported from sklearn.cluster is now part of the private API.\n",
      "  warnings.warn(message, FutureWarning)\n",
      "/usr/local/lib/python3.6/dist-packages/statsmodels/tools/_testing.py:19: FutureWarning: pandas.util.testing is deprecated. Use the functions in the public API at pandas.testing instead.\n",
      "  import pandas.util.testing as tm\n"
     ]
    }
   ],
   "source": [
    "# import packages\n",
    "# !pip install tslearn\n",
    "from tslearn.clustering import TimeSeriesKMeans\n",
    "import seaborn as sns\n",
    "import matplotlib.pyplot as plt\n",
    "import numpy as np\n",
    "from sklearn.metrics import pairwise_distances_argmin_min\n",
    "from sklearn.model_selection import train_test_split"
   ]
  },
  {
   "cell_type": "markdown",
   "metadata": {
    "colab_type": "text",
    "id": "0LWhoOIJcRvg"
   },
   "source": [
    "## look for optimal k to see how many types of flirtatiou/non-flirtatiou is detected"
   ]
  },
  {
   "cell_type": "code",
   "execution_count": null,
   "metadata": {
    "colab": {
     "base_uri": "https://localhost:8080/",
     "height": 312
    },
    "colab_type": "code",
    "id": "ewwCFa0Fasxl",
    "outputId": "93df7f35-93bc-454a-afe6-5137ba0233eb"
   },
   "outputs": [
    {
     "data": {
      "image/png": "[encoded data removed]",
      "text/plain": [
       "<Figure size 432x288 with 1 Axes>"
      ]
     },
     "metadata": {
      "needs_background": "light",
      "tags": []
     },
     "output_type": "display_data"
    },
    {
     "name": "stdout",
     "output_type": "stream",
     "text": [
      "[0 0 0 2 0 2 0 1 0 0 2 2 2 2 0 1 1 2 2 2]\n"
     ]
    }
   ],
   "source": [
    "# We can see that the elbow is around 3 which is the optimal number of clusters\n",
    "np.random.seed(1000)\n",
    "Sum_of_squared_distances = []\n",
    "K = range(1,15)\n",
    "for k in K:\n",
    "    km = TimeSeriesKMeans(n_clusters=k, metric=\"dtw\", max_iter=5)\n",
    "    km = km.fit(Similarity_Matrix)\n",
    "    Sum_of_squared_distances.append(km.inertia_)\n",
    "\n",
    "plt.plot(K, Sum_of_squared_distances, 'bx-')\n",
    "plt.xlabel('k')\n",
    "plt.ylabel('Sum_of_squared_distances')\n",
    "plt.title('Elbow Method For Optimal k')\n",
    "plt.show()\n",
    "\n",
    "# \n",
    "km = TimeSeriesKMeans(n_clusters=3, metric=\"dtw\")\n",
    "km.fit(Similarity_Matrix)\n",
    "\n",
    "labels = km.labels_\n",
    "print(labels)"
   ]
  },
  {
   "cell_type": "markdown",
   "metadata": {
    "colab_type": "text",
    "id": "NFDURtvAdRm6"
   },
   "source": [
    "## Visulization"
   ]
  },
  {
   "cell_type": "code",
   "execution_count": null,
   "metadata": {
    "colab": {
     "base_uri": "https://localhost:8080/",
     "height": 153
    },
    "colab_type": "code",
    "id": "oaFwRA9Ubcmq",
    "outputId": "2c213fd4-ac6c-49f7-878e-3a56dc3e2d71"
   },
   "outputs": [
    {
     "name": "stdout",
     "output_type": "stream",
     "text": [
      "['flirt2' 'flirt4' 'flirt1' 'flirt5' 'flirt3'\n",
      " 'True.Blood.S01E01.720p.HDTV.x264-2HD-0'\n",
      " 'True.Blood.S01E01.720p.HDTV.x264-2HD-1'\n",
      " 'True.Blood.S01E01.720p.HDTV.x264-2HD-2'\n",
      " 'True.Blood.S01E02.720p.HDTV.x264-2HD-0'\n",
      " 'True.Blood.S01E02.720p.HDTV.x264-2HD-1' '1v98t9YKPmc-0' '1v98t9YKPmc-1'\n",
      " '1v98t9YKPmc-2' '1v98t9YKPmc-3' 'qUxXbU2ModY-0' '8YbTIJsI5S0-0'\n",
      " '8YbTIJsI5S0-1' 'VxaOP79X0P4-0' 'NycP2RIqCh8-0' 'eE0llk5Cxok-0']\n"
     ]
    }
   ],
   "source": [
    "print(clips_name)"
   ]
  },
  {
   "cell_type": "markdown",
   "metadata": {
    "colab_type": "text",
    "id": "ExS8qrJnbipc"
   },
   "source": [
    "## might not use"
   ]
  },
  {
   "cell_type": "code",
   "execution_count": null,
   "metadata": {
    "colab": {},
    "colab_type": "code",
    "id": "_kGjb09whehA"
   },
   "outputs": [],
   "source": [
    "dropIndices = ['filename', 'frame']\n",
    "Train = df.drop(dropIndices,axis=1)\n",
    "Train = Train.to_numpy()\n",
    "# We want to visualize if there is a clear distinguish between flirting actions or not\n",
    "kmeans = TimeSeriesKMeans(n_clusters=2, random_state=1)\n",
    "clusters = kmeans.fit_predict(Train)\n",
    "num_clusters = kmeans.n_clusters\n",
    "cluster_centers = kmeans.cluster_centers_\n",
    "# print(np.sum(clusters == 0))\n",
    "\n",
    "# for cluster_num in range(num_clusters):\n",
    "#     sns.scatterplot(\n",
    "#         x=Train[clusters == cluster_num, 0], y=Train[clusters == cluster_num, 1]\n",
    "#     )\n",
    "\n",
    "# plt.scatter(\n",
    "#     x=cluster_centers[:, 0], y=cluster_centers[:, 1],\n",
    "#     s=250, marker='x', c='blue'\n",
    "# )\n",
    "# plt.legend(['cluster 1', 'cluster 2', 'centroid'])\n",
    "# plt.show()"
   ]
  },
  {
   "cell_type": "markdown",
   "metadata": {
    "colab_type": "text",
    "id": "vTWstcTpm1RJ"
   },
   "source": [
    "### Social Signals"
   ]
  },
  {
   "cell_type": "code",
   "execution_count": null,
   "metadata": {
    "colab": {},
    "colab_type": "code",
    "id": "jE6CjFQsm0mQ"
   },
   "outputs": [],
   "source": [
    "# # Find the frame that belongs to the center of the \n",
    "# closest_points, _ = pairwise_distances_argmin_min(cluster_centers.reshape(2,333), Train)\n",
    "# print('The closest points to each centroids are', closest_points)\n",
    "\n",
    "# closest_points_df = pd.DataFrame().reindex_like(df).iloc[0:0]\n",
    "# # print(df.index)\n",
    "# for closest_point in closest_points:\n",
    "#     gif = df.loc[[closest_point]]\n",
    "#     closest_points_df = closest_points_df.append(gif)\n",
    "\n",
    "# closest_points_df"
   ]
  },
  {
   "cell_type": "markdown",
   "metadata": {
    "colab_type": "text",
    "id": "0xbYMWxftOI3"
   },
   "source": [
    "Comparing this to our annotation we found:\n",
    "- "
   ]
  },
  {
   "cell_type": "markdown",
   "metadata": {
    "colab_type": "text",
    "id": "rwyC4gbUpzFo"
   },
   "source": [
    "# K-Means Clustering"
   ]
  },
  {
   "cell_type": "code",
   "execution_count": null,
   "metadata": {
    "colab": {},
    "colab_type": "code",
    "id": "jTUq-2Rxp44W"
   },
   "outputs": [],
   "source": [
    "from tslearn.clustering import TimeSeriesKMeans, silhouette_score\n",
    "from collections import defaultdict\n",
    "from tqdm import tqdm\n",
    "import pickle\n",
    "\n",
    "ts_seed = 85510309\n",
    "ss_seed = 10474245\n",
    "\n",
    "\n",
    "start, stop = 5, 15\n",
    "\n",
    "savename = f\"kmeans_and_silhouette_score_from_{start}_to_{stop}.pickle\"\n",
    "\n",
    "score_per_run = defaultdict(list)\n",
    "\n",
    "if os.path.isfile(savename):\n",
    "  print(f\"Loading saved k-means dict and silhouette scores from {save_location}\")\n",
    "  with open(savename, 'rb') as f:\n",
    "    score_per_run = pickle.load(f)\n",
    "else:\n",
    "  for i in tqdm(range(start, stop)):\n",
    "    km = TimeSeriesKMeans(n_clusters=i, metric=\"dtw\", random_state=ts_seed)\n",
    "    km.fit(dataset)\n",
    "    ss = silhouette_score(dataset, labels=km.labels_, metric='dtw', random_state=ss_seed)\n",
    "\n",
    "    score_per_run[i] = [ss, km]\n",
    "\n",
    "  print(f\"Saving {savename}\")\n",
    "  with open(savename, 'wb') as f:\n",
    "    pickle.dump(score_per_run, f)"
   ]
  },
  {
   "cell_type": "code",
   "execution_count": null,
   "metadata": {
    "colab": {},
    "colab_type": "code",
    "id": "8UwdnQSrqxyf"
   },
   "outputs": [],
   "source": [
    "print(sorted([3,1,7]))  # sort is ascending\n",
    "s = sorted(score_per_run, key=lambda k: score_per_run[k][0])  # sort by silhouette score\n",
    "print(s)\n",
    "print(f\"Best (smallest) silhouette score is with {s[0]} categories\")\n",
    "\n",
    "num_metrics = s[0]"
   ]
  },
  {
   "cell_type": "markdown",
   "metadata": {
    "colab_type": "text",
    "id": "IJ-FEcxmtcDy"
   },
   "source": [
    "# K-Nearest Neighbours Classification"
   ]
  },
  {
   "cell_type": "code",
   "execution_count": null,
   "metadata": {
    "colab": {},
    "colab_type": "code",
    "id": "7Hl1DV5r1ine"
   },
   "outputs": [],
   "source": [
    "# import packages\n",
    "# https://www.saedsayad.com/k_nearest_neighbors.htm\n",
    "from sklearn.neighbors import KNeighborsClassifier"
   ]
  },
  {
   "cell_type": "code",
   "execution_count": null,
   "metadata": {
    "colab": {
     "base_uri": "https://localhost:8080/",
     "height": 68
    },
    "colab_type": "code",
    "id": "QTWfm3y0t2mW",
    "outputId": "533c707c-3542-4213-b238-9d88386f2253"
   },
   "outputs": [
    {
     "name": "stdout",
     "output_type": "stream",
     "text": [
      "0    4883\n",
      "Name: Class, dtype: int64\n",
      "k-NN Accuracy (without Cross-Validation): 1.0\n"
     ]
    }
   ],
   "source": [
    "def is_flirting(filename):\n",
    "  return filename.startswith(\"flirt-\")\n",
    "\n",
    "df['Class'] = 0\n",
    "df.loc[is_flirting(df['filename'].str), 'Class'] = 1\n",
    "print(df['Class'].value_counts())\n",
    "\n",
    "num_clips = df.filename.unique() # Missing nonflirt-PJP-C7TCaM8-2.mp4 in the OpenFace\n",
    "\n",
    "labels = []\n",
    "for i in range(0, len(num_clips)):\n",
    "  clip_filename = num_clips[i]\n",
    "  if is_flirting(clip_filename):\n",
    "    label = 1\n",
    "  else:\n",
    "    label = 0\n",
    "  labels.append(label)\n",
    "features = df.keys()\n",
    "# print(features)\n",
    "\n",
    "# Split the dataset into train (80%) and test (20%) subsets.\n",
    "X_train, X_test, y_train, y_test = train_test_split(\n",
    "    Similarity_Matrix, labels, test_size=0.2, random_state=0\n",
    ")\n",
    "\n",
    "# Create a classifier with k=1\n",
    "knn = KNeighborsClassifier(n_neighbors=1, metric='euclidean')\n",
    "\n",
    "# Train\n",
    "knn.fit(X_train, y_train)\n",
    "y_pred = knn.predict(X_test)\n",
    "print('k-NN Accuracy (without Cross-Validation):', knn.score(X_test, y_test))"
   ]
  },
  {
   "cell_type": "code",
   "execution_count": null,
   "metadata": {
    "colab": {},
    "colab_type": "code",
    "id": "g_D92gZ-7OBD"
   },
   "outputs": [],
   "source": [
    "# plot the result of the classification including the training data\n",
    "# Reference:\n",
    "#https://scikit-learn.org/stable/auto_examples/neighbors/plot_classification.html#sphx-glr-auto-examples-neighbors-plot-classification-py"
   ]
  },
  {
   "cell_type": "markdown",
   "metadata": {
    "colab_type": "text",
    "id": "9dSnPTNW1Biv"
   },
   "source": [
    "# Evaluation"
   ]
  },
  {
   "cell_type": "code",
   "execution_count": null,
   "metadata": {
    "colab": {},
    "colab_type": "code",
    "id": "et9xwy-R1WoR"
   },
   "outputs": [],
   "source": [
    "# import packages\n",
    "from sklearn.model_selection import cross_val_score\n",
    "from sklearn.metrics import classification_report, confusion_matrix"
   ]
  },
  {
   "cell_type": "code",
   "execution_count": null,
   "metadata": {
    "colab": {
     "base_uri": "https://localhost:8080/",
     "height": 51
    },
    "colab_type": "code",
    "id": "QF1lYWVA1E-S",
    "outputId": "50252bc6-02eb-408e-c91f-3bd0969711d9"
   },
   "outputs": [
    {
     "name": "stdout",
     "output_type": "stream",
     "text": [
      "Cross-Validation Scores: [1. 1. 1. 1. 1.]\n",
      "Mean Cross-Validation Score:1.0\n"
     ]
    }
   ],
   "source": [
    "# Train model with a cross-validation (CV) generator with 5 folds. Note: the \n",
    "# CV generator uses `sklearn.model_selection.StratifiedKFold`.\n",
    "cv_scores = cross_val_score(knn, Similarity_Matrix, labels, cv=5)\n",
    "\n",
    "print('Cross-Validation Scores:', cv_scores)\n",
    "print('Mean Cross-Validation Score:{}'.format(np.mean(cv_scores)))"
   ]
  },
  {
   "cell_type": "markdown",
   "metadata": {
    "colab_type": "text",
    "id": "ws-oGTGPffEx"
   },
   "source": [
    "## Confusion Matrix & Classification Report"
   ]
  },
  {
   "cell_type": "code",
   "execution_count": null,
   "metadata": {
    "colab": {},
    "colab_type": "code",
    "id": "Si64bDcqfiOX"
   },
   "outputs": [],
   "source": [
    "# Reference:\n",
    "# https://stackabuse.com/k-nearest-neighbors-algorithm-in-python-and-scikit-learn/\n",
    "\n",
    "print(confusion_matrix(y_test, y_pred))\n",
    "print(classification_report(y_test, y_pred))"
   ]
  },
  {
   "cell_type": "markdown",
   "metadata": {
    "colab_type": "text",
    "id": "GZkSiiFmgHPL"
   },
   "source": [
    "The results show that our KNN algorithm was able to classify all the 30 records in the test set with 100% accuracy, which is excellent. Although the algorithm performed very well with this dataset, don't expect the same results with all applications. As noted earlier, KNN doesn't always perform as well with high-dimensionality or categorical features."
   ]
  },
  {
   "cell_type": "markdown",
   "metadata": {
    "colab_type": "text",
    "id": "vYVMTuRFgOuV"
   },
   "source": [
    "## Comparing Error Rate with the K value"
   ]
  }
 ],
 "metadata": {
  "colab": {
   "collapsed_sections": [
    "uf-G_OjSCBUb",
    "ExS8qrJnbipc",
    "9dSnPTNW1Biv"
   ],
   "name": "FinalModel.ipynb",
   "provenance": []
  },
  "kernelspec": {
   "display_name": "Python 3",
   "language": "python",
   "name": "python3"
  },
  "language_info": {
   "codemirror_mode": {
    "name": "ipython",
    "version": 3
   },
   "file_extension": ".py",
   "mimetype": "text/x-python",
   "name": "python",
   "nbconvert_exporter": "python",
   "pygments_lexer": "ipython3",
   "version": "3.8.2"
  }
 },
 "nbformat": 4,
 "nbformat_minor": 1
}
