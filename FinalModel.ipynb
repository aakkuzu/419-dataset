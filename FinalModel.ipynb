{
 "cells": [
  {
   "cell_type": "markdown",
   "metadata": {
    "colab_type": "text",
    "id": "uZWgMbpZl0xV"
   },
   "source": [
    "# Import Preprocessed Data"
   ]
  },
  {
   "cell_type": "code",
   "execution_count": null,
   "metadata": {
    "colab": {},
    "colab_type": "code",
    "id": "1VXQPwgdl32u"
   },
   "outputs": [],
   "source": [
    "#PROJECT_ROOT = \"/content/drive/My Drive/CMPT419/Project\" #@param [\"/content/drive/My Drive/CMPT419/Project\", \"/content/drive/My Drive/school-419-project\"] {allow-input: true}"
   ]
  },
  {
   "cell_type": "code",
   "execution_count": null,
   "metadata": {
    "colab": {
     "base_uri": "https://localhost:8080/",
     "height": 139
    },
    "colab_type": "code",
    "id": "806DsIpfmE_T",
    "outputId": "931e377a-b00c-4970-b90e-61e46f2b0281"
   },
   "outputs": [
    {
     "name": "stdout",
     "output_type": "stream",
     "text": [
      "Go to this URL in a browser: https://accounts.google.com/o/oauth2/auth?client_id=947318989803-6bn6qk8qdgf4n4g3pfee6491hc0brc4i.apps.googleusercontent.com&redirect_uri=urn%3aietf%3awg%3aoauth%3a2.0%3aoob&scope=email%20https%3a%2f%2fwww.googleapis.com%2fauth%2fdocs.test%20https%3a%2f%2fwww.googleapis.com%2fauth%2fdrive%20https%3a%2f%2fwww.googleapis.com%2fauth%2fdrive.photos.readonly%20https%3a%2f%2fwww.googleapis.com%2fauth%2fpeopleapi.readonly&response_type=code\n",
      "\n",
      "Enter your authorization code:\n",
      "··········\n",
      "Mounted at /content/drive/\n",
      "/content/drive/My Drive/CMPT419/Project\n"
     ]
    }
   ],
   "source": [
    "#from google.colab import drive\n",
    "#drive.mount('/content/drive/')\n",
    "#%cd {PROJECT_ROOT}"
   ]
  },
  {
   "cell_type": "code",
   "execution_count": null,
   "metadata": {
    "colab": {
     "base_uri": "https://localhost:8080/",
     "height": 363
    },
    "colab_type": "code",
    "id": "W_rGY5Xcmdax",
    "outputId": "768a9f9f-5e43-4055-83c4-cb6af12bd5b6"
   },
   "outputs": [
    {
     "name": "stdout",
     "output_type": "stream",
     "text": [
      "Loading combined CSV's from file\n"
     ]
    },
    {
     "data": {
      "text/html": [
       "<div>\n",
       "<style scoped>\n",
       "    .dataframe tbody tr th:only-of-type {\n",
       "        vertical-align: middle;\n",
       "    }\n",
       "\n",
       "    .dataframe tbody tr th {\n",
       "        vertical-align: top;\n",
       "    }\n",
       "\n",
       "    .dataframe thead th {\n",
       "        text-align: right;\n",
       "    }\n",
       "</style>\n",
       "<table border=\"1\" class=\"dataframe\">\n",
       "  <thead>\n",
       "    <tr style=\"text-align: right;\">\n",
       "      <th></th>\n",
       "      <th>frame</th>\n",
       "      <th>face_id</th>\n",
       "      <th>timestamp</th>\n",
       "      <th>confidence</th>\n",
       "      <th>success</th>\n",
       "      <th>gaze_0_x</th>\n",
       "      <th>gaze_0_y</th>\n",
       "      <th>gaze_0_z</th>\n",
       "      <th>gaze_1_x</th>\n",
       "      <th>gaze_1_y</th>\n",
       "      <th>gaze_1_z</th>\n",
       "      <th>gaze_angle_x</th>\n",
       "      <th>gaze_angle_y</th>\n",
       "      <th>eye_lmk_x_0</th>\n",
       "      <th>eye_lmk_x_1</th>\n",
       "      <th>eye_lmk_x_2</th>\n",
       "      <th>eye_lmk_x_3</th>\n",
       "      <th>eye_lmk_x_4</th>\n",
       "      <th>eye_lmk_x_5</th>\n",
       "      <th>eye_lmk_x_6</th>\n",
       "      <th>eye_lmk_x_7</th>\n",
       "      <th>eye_lmk_x_8</th>\n",
       "      <th>eye_lmk_x_9</th>\n",
       "      <th>eye_lmk_x_10</th>\n",
       "      <th>eye_lmk_x_11</th>\n",
       "      <th>eye_lmk_x_12</th>\n",
       "      <th>eye_lmk_x_13</th>\n",
       "      <th>eye_lmk_x_14</th>\n",
       "      <th>eye_lmk_x_15</th>\n",
       "      <th>eye_lmk_x_16</th>\n",
       "      <th>eye_lmk_x_17</th>\n",
       "      <th>eye_lmk_x_18</th>\n",
       "      <th>eye_lmk_x_19</th>\n",
       "      <th>eye_lmk_x_20</th>\n",
       "      <th>eye_lmk_x_21</th>\n",
       "      <th>eye_lmk_x_22</th>\n",
       "      <th>eye_lmk_x_23</th>\n",
       "      <th>eye_lmk_x_24</th>\n",
       "      <th>eye_lmk_x_25</th>\n",
       "      <th>eye_lmk_x_26</th>\n",
       "      <th>...</th>\n",
       "      <th>pose_Ty</th>\n",
       "      <th>pose_Tz</th>\n",
       "      <th>pose_Rx</th>\n",
       "      <th>pose_Ry</th>\n",
       "      <th>pose_Rz</th>\n",
       "      <th>AU01_r</th>\n",
       "      <th>AU02_r</th>\n",
       "      <th>AU04_r</th>\n",
       "      <th>AU05_r</th>\n",
       "      <th>AU06_r</th>\n",
       "      <th>AU07_r</th>\n",
       "      <th>AU09_r</th>\n",
       "      <th>AU10_r</th>\n",
       "      <th>AU12_r</th>\n",
       "      <th>AU14_r</th>\n",
       "      <th>AU15_r</th>\n",
       "      <th>AU17_r</th>\n",
       "      <th>AU20_r</th>\n",
       "      <th>AU23_r</th>\n",
       "      <th>AU25_r</th>\n",
       "      <th>AU26_r</th>\n",
       "      <th>AU45_r</th>\n",
       "      <th>AU01_c</th>\n",
       "      <th>AU02_c</th>\n",
       "      <th>AU04_c</th>\n",
       "      <th>AU05_c</th>\n",
       "      <th>AU06_c</th>\n",
       "      <th>AU07_c</th>\n",
       "      <th>AU09_c</th>\n",
       "      <th>AU10_c</th>\n",
       "      <th>AU12_c</th>\n",
       "      <th>AU14_c</th>\n",
       "      <th>AU15_c</th>\n",
       "      <th>AU17_c</th>\n",
       "      <th>AU20_c</th>\n",
       "      <th>AU23_c</th>\n",
       "      <th>AU25_c</th>\n",
       "      <th>AU26_c</th>\n",
       "      <th>AU28_c</th>\n",
       "      <th>AU45_c</th>\n",
       "    </tr>\n",
       "  </thead>\n",
       "  <tbody>\n",
       "    <tr>\n",
       "      <th>count</th>\n",
       "      <td>22935.000000</td>\n",
       "      <td>22935.000000</td>\n",
       "      <td>22935.000000</td>\n",
       "      <td>22935.000000</td>\n",
       "      <td>22935.000000</td>\n",
       "      <td>22935.000000</td>\n",
       "      <td>22935.000000</td>\n",
       "      <td>22935.000000</td>\n",
       "      <td>22935.000000</td>\n",
       "      <td>22935.000000</td>\n",
       "      <td>22935.000000</td>\n",
       "      <td>22935.000000</td>\n",
       "      <td>22935.000000</td>\n",
       "      <td>22935.000000</td>\n",
       "      <td>22935.000000</td>\n",
       "      <td>22935.000000</td>\n",
       "      <td>22935.000000</td>\n",
       "      <td>22935.000000</td>\n",
       "      <td>22935.000000</td>\n",
       "      <td>22935.000000</td>\n",
       "      <td>22935.000000</td>\n",
       "      <td>22935.000000</td>\n",
       "      <td>22935.000000</td>\n",
       "      <td>22935.000000</td>\n",
       "      <td>22935.000000</td>\n",
       "      <td>22935.000000</td>\n",
       "      <td>22935.000000</td>\n",
       "      <td>22935.000000</td>\n",
       "      <td>22935.000000</td>\n",
       "      <td>22935.000000</td>\n",
       "      <td>22935.000000</td>\n",
       "      <td>22935.000000</td>\n",
       "      <td>22935.000000</td>\n",
       "      <td>22935.000000</td>\n",
       "      <td>22935.000000</td>\n",
       "      <td>22935.000000</td>\n",
       "      <td>22935.000000</td>\n",
       "      <td>22935.000000</td>\n",
       "      <td>22935.000000</td>\n",
       "      <td>22935.000000</td>\n",
       "      <td>...</td>\n",
       "      <td>22935.000000</td>\n",
       "      <td>22935.000000</td>\n",
       "      <td>22935.000000</td>\n",
       "      <td>22935.000000</td>\n",
       "      <td>22935.000000</td>\n",
       "      <td>22935.000000</td>\n",
       "      <td>22935.000000</td>\n",
       "      <td>22935.000000</td>\n",
       "      <td>22935.000000</td>\n",
       "      <td>22935.000000</td>\n",
       "      <td>22935.000000</td>\n",
       "      <td>22935.000000</td>\n",
       "      <td>22935.000000</td>\n",
       "      <td>22935.000000</td>\n",
       "      <td>22935.000000</td>\n",
       "      <td>22935.000000</td>\n",
       "      <td>22935.000000</td>\n",
       "      <td>22935.000000</td>\n",
       "      <td>22935.000000</td>\n",
       "      <td>22935.000000</td>\n",
       "      <td>22935.000000</td>\n",
       "      <td>22935.000000</td>\n",
       "      <td>22935.000000</td>\n",
       "      <td>22935.000000</td>\n",
       "      <td>22935.000000</td>\n",
       "      <td>22935.000000</td>\n",
       "      <td>22935.000000</td>\n",
       "      <td>22935.000000</td>\n",
       "      <td>22935.000000</td>\n",
       "      <td>22935.000000</td>\n",
       "      <td>22935.000000</td>\n",
       "      <td>22935.000000</td>\n",
       "      <td>22935.000000</td>\n",
       "      <td>22935.000000</td>\n",
       "      <td>22935.000000</td>\n",
       "      <td>22935.000000</td>\n",
       "      <td>22935.000000</td>\n",
       "      <td>22935.000000</td>\n",
       "      <td>22935.000000</td>\n",
       "      <td>22935.000000</td>\n",
       "    </tr>\n",
       "    <tr>\n",
       "      <th>mean</th>\n",
       "      <td>155.616133</td>\n",
       "      <td>0.501809</td>\n",
       "      <td>4.605910</td>\n",
       "      <td>0.751813</td>\n",
       "      <td>0.766122</td>\n",
       "      <td>0.036090</td>\n",
       "      <td>0.203211</td>\n",
       "      <td>-0.663631</td>\n",
       "      <td>-0.076915</td>\n",
       "      <td>0.208771</td>\n",
       "      <td>-0.659839</td>\n",
       "      <td>-0.021269</td>\n",
       "      <td>0.232204</td>\n",
       "      <td>511.338561</td>\n",
       "      <td>513.540981</td>\n",
       "      <td>518.662398</td>\n",
       "      <td>523.701761</td>\n",
       "      <td>525.707635</td>\n",
       "      <td>523.873486</td>\n",
       "      <td>518.383976</td>\n",
       "      <td>513.344064</td>\n",
       "      <td>504.688276</td>\n",
       "      <td>507.776730</td>\n",
       "      <td>512.154275</td>\n",
       "      <td>517.574781</td>\n",
       "      <td>523.141496</td>\n",
       "      <td>527.461574</td>\n",
       "      <td>530.542136</td>\n",
       "      <td>527.074441</td>\n",
       "      <td>522.278365</td>\n",
       "      <td>517.093508</td>\n",
       "      <td>512.131908</td>\n",
       "      <td>507.830534</td>\n",
       "      <td>516.282433</td>\n",
       "      <td>518.520946</td>\n",
       "      <td>520.796808</td>\n",
       "      <td>521.776843</td>\n",
       "      <td>520.886959</td>\n",
       "      <td>518.648720</td>\n",
       "      <td>516.373499</td>\n",
       "      <td>...</td>\n",
       "      <td>-85.914567</td>\n",
       "      <td>819.335261</td>\n",
       "      <td>0.223945</td>\n",
       "      <td>0.052617</td>\n",
       "      <td>-0.006233</td>\n",
       "      <td>0.943013</td>\n",
       "      <td>0.363423</td>\n",
       "      <td>0.669315</td>\n",
       "      <td>0.762250</td>\n",
       "      <td>0.390661</td>\n",
       "      <td>0.458547</td>\n",
       "      <td>0.256579</td>\n",
       "      <td>0.720977</td>\n",
       "      <td>0.569083</td>\n",
       "      <td>0.606051</td>\n",
       "      <td>0.497036</td>\n",
       "      <td>0.386099</td>\n",
       "      <td>0.456355</td>\n",
       "      <td>0.192225</td>\n",
       "      <td>0.584426</td>\n",
       "      <td>0.434419</td>\n",
       "      <td>0.331175</td>\n",
       "      <td>0.738609</td>\n",
       "      <td>0.649706</td>\n",
       "      <td>0.488816</td>\n",
       "      <td>0.367342</td>\n",
       "      <td>0.284500</td>\n",
       "      <td>0.300196</td>\n",
       "      <td>0.183824</td>\n",
       "      <td>0.418400</td>\n",
       "      <td>0.294790</td>\n",
       "      <td>0.399913</td>\n",
       "      <td>0.581600</td>\n",
       "      <td>0.286767</td>\n",
       "      <td>0.381905</td>\n",
       "      <td>0.208197</td>\n",
       "      <td>0.404229</td>\n",
       "      <td>0.323261</td>\n",
       "      <td>0.406584</td>\n",
       "      <td>0.318552</td>\n",
       "    </tr>\n",
       "    <tr>\n",
       "      <th>std</th>\n",
       "      <td>164.296348</td>\n",
       "      <td>0.710695</td>\n",
       "      <td>4.882572</td>\n",
       "      <td>0.367902</td>\n",
       "      <td>0.423305</td>\n",
       "      <td>0.332307</td>\n",
       "      <td>0.171565</td>\n",
       "      <td>0.378508</td>\n",
       "      <td>0.330183</td>\n",
       "      <td>0.175701</td>\n",
       "      <td>0.375970</td>\n",
       "      <td>0.370160</td>\n",
       "      <td>0.196829</td>\n",
       "      <td>314.182935</td>\n",
       "      <td>314.628445</td>\n",
       "      <td>315.575512</td>\n",
       "      <td>316.489397</td>\n",
       "      <td>316.813842</td>\n",
       "      <td>316.420605</td>\n",
       "      <td>315.363367</td>\n",
       "      <td>314.479068</td>\n",
       "      <td>313.387881</td>\n",
       "      <td>313.767768</td>\n",
       "      <td>314.390277</td>\n",
       "      <td>315.290230</td>\n",
       "      <td>316.333173</td>\n",
       "      <td>317.194763</td>\n",
       "      <td>317.841956</td>\n",
       "      <td>317.070529</td>\n",
       "      <td>316.074031</td>\n",
       "      <td>315.100014</td>\n",
       "      <td>314.298609</td>\n",
       "      <td>313.714367</td>\n",
       "      <td>315.077610</td>\n",
       "      <td>315.475866</td>\n",
       "      <td>315.906816</td>\n",
       "      <td>316.114550</td>\n",
       "      <td>315.972919</td>\n",
       "      <td>315.568426</td>\n",
       "      <td>315.143290</td>\n",
       "      <td>...</td>\n",
       "      <td>125.684591</td>\n",
       "      <td>524.629290</td>\n",
       "      <td>0.254732</td>\n",
       "      <td>0.481073</td>\n",
       "      <td>0.240291</td>\n",
       "      <td>0.899553</td>\n",
       "      <td>0.685331</td>\n",
       "      <td>0.760899</td>\n",
       "      <td>0.892518</td>\n",
       "      <td>0.580531</td>\n",
       "      <td>0.766686</td>\n",
       "      <td>0.447434</td>\n",
       "      <td>0.774765</td>\n",
       "      <td>0.727288</td>\n",
       "      <td>0.822098</td>\n",
       "      <td>0.669445</td>\n",
       "      <td>0.635610</td>\n",
       "      <td>0.659855</td>\n",
       "      <td>0.426059</td>\n",
       "      <td>0.781036</td>\n",
       "      <td>0.682406</td>\n",
       "      <td>0.545373</td>\n",
       "      <td>0.439402</td>\n",
       "      <td>0.477072</td>\n",
       "      <td>0.499886</td>\n",
       "      <td>0.482091</td>\n",
       "      <td>0.451186</td>\n",
       "      <td>0.458353</td>\n",
       "      <td>0.387349</td>\n",
       "      <td>0.493307</td>\n",
       "      <td>0.455958</td>\n",
       "      <td>0.489891</td>\n",
       "      <td>0.493307</td>\n",
       "      <td>0.452262</td>\n",
       "      <td>0.485864</td>\n",
       "      <td>0.406027</td>\n",
       "      <td>0.490753</td>\n",
       "      <td>0.467732</td>\n",
       "      <td>0.491207</td>\n",
       "      <td>0.465925</td>\n",
       "    </tr>\n",
       "    <tr>\n",
       "      <th>min</th>\n",
       "      <td>1.000000</td>\n",
       "      <td>0.000000</td>\n",
       "      <td>0.000000</td>\n",
       "      <td>0.000000</td>\n",
       "      <td>0.000000</td>\n",
       "      <td>-0.805486</td>\n",
       "      <td>-0.448546</td>\n",
       "      <td>-0.999994</td>\n",
       "      <td>-0.914196</td>\n",
       "      <td>-0.414886</td>\n",
       "      <td>-0.999980</td>\n",
       "      <td>-0.988000</td>\n",
       "      <td>-0.473000</td>\n",
       "      <td>16.700000</td>\n",
       "      <td>18.300000</td>\n",
       "      <td>22.300000</td>\n",
       "      <td>26.400000</td>\n",
       "      <td>28.200000</td>\n",
       "      <td>27.100000</td>\n",
       "      <td>22.600000</td>\n",
       "      <td>18.400000</td>\n",
       "      <td>12.700000</td>\n",
       "      <td>13.900000</td>\n",
       "      <td>16.400000</td>\n",
       "      <td>20.400000</td>\n",
       "      <td>25.400000</td>\n",
       "      <td>29.600000</td>\n",
       "      <td>30.600000</td>\n",
       "      <td>29.500000</td>\n",
       "      <td>25.000000</td>\n",
       "      <td>20.700000</td>\n",
       "      <td>17.100000</td>\n",
       "      <td>13.900000</td>\n",
       "      <td>21.200000</td>\n",
       "      <td>23.000000</td>\n",
       "      <td>24.900000</td>\n",
       "      <td>25.600000</td>\n",
       "      <td>24.800000</td>\n",
       "      <td>22.900000</td>\n",
       "      <td>21.100000</td>\n",
       "      <td>...</td>\n",
       "      <td>-934.700000</td>\n",
       "      <td>187.400000</td>\n",
       "      <td>-2.132000</td>\n",
       "      <td>-1.505000</td>\n",
       "      <td>-2.172000</td>\n",
       "      <td>0.000000</td>\n",
       "      <td>0.000000</td>\n",
       "      <td>0.000000</td>\n",
       "      <td>0.000000</td>\n",
       "      <td>0.000000</td>\n",
       "      <td>0.000000</td>\n",
       "      <td>0.000000</td>\n",
       "      <td>0.000000</td>\n",
       "      <td>0.000000</td>\n",
       "      <td>0.000000</td>\n",
       "      <td>0.000000</td>\n",
       "      <td>0.000000</td>\n",
       "      <td>0.000000</td>\n",
       "      <td>0.000000</td>\n",
       "      <td>0.000000</td>\n",
       "      <td>0.000000</td>\n",
       "      <td>0.000000</td>\n",
       "      <td>0.000000</td>\n",
       "      <td>0.000000</td>\n",
       "      <td>0.000000</td>\n",
       "      <td>0.000000</td>\n",
       "      <td>0.000000</td>\n",
       "      <td>0.000000</td>\n",
       "      <td>0.000000</td>\n",
       "      <td>0.000000</td>\n",
       "      <td>0.000000</td>\n",
       "      <td>0.000000</td>\n",
       "      <td>0.000000</td>\n",
       "      <td>0.000000</td>\n",
       "      <td>0.000000</td>\n",
       "      <td>0.000000</td>\n",
       "      <td>0.000000</td>\n",
       "      <td>0.000000</td>\n",
       "      <td>0.000000</td>\n",
       "      <td>0.000000</td>\n",
       "    </tr>\n",
       "    <tr>\n",
       "      <th>25%</th>\n",
       "      <td>46.000000</td>\n",
       "      <td>0.000000</td>\n",
       "      <td>1.600000</td>\n",
       "      <td>0.770000</td>\n",
       "      <td>1.000000</td>\n",
       "      <td>-0.196749</td>\n",
       "      <td>0.000000</td>\n",
       "      <td>-0.932839</td>\n",
       "      <td>-0.361876</td>\n",
       "      <td>0.000000</td>\n",
       "      <td>-0.922044</td>\n",
       "      <td>-0.293000</td>\n",
       "      <td>0.000000</td>\n",
       "      <td>255.100000</td>\n",
       "      <td>256.750000</td>\n",
       "      <td>259.700000</td>\n",
       "      <td>262.050000</td>\n",
       "      <td>262.600000</td>\n",
       "      <td>261.350000</td>\n",
       "      <td>258.400000</td>\n",
       "      <td>255.800000</td>\n",
       "      <td>252.000000</td>\n",
       "      <td>253.500000</td>\n",
       "      <td>255.400000</td>\n",
       "      <td>258.650000</td>\n",
       "      <td>261.500000</td>\n",
       "      <td>263.400000</td>\n",
       "      <td>264.350000</td>\n",
       "      <td>262.900000</td>\n",
       "      <td>260.400000</td>\n",
       "      <td>257.800000</td>\n",
       "      <td>255.000000</td>\n",
       "      <td>253.300000</td>\n",
       "      <td>257.500000</td>\n",
       "      <td>258.800000</td>\n",
       "      <td>260.150000</td>\n",
       "      <td>260.800000</td>\n",
       "      <td>260.400000</td>\n",
       "      <td>259.200000</td>\n",
       "      <td>257.750000</td>\n",
       "      <td>...</td>\n",
       "      <td>-148.650000</td>\n",
       "      <td>424.900000</td>\n",
       "      <td>0.099000</td>\n",
       "      <td>-0.305000</td>\n",
       "      <td>-0.114000</td>\n",
       "      <td>0.050000</td>\n",
       "      <td>0.000000</td>\n",
       "      <td>0.000000</td>\n",
       "      <td>0.000000</td>\n",
       "      <td>0.000000</td>\n",
       "      <td>0.000000</td>\n",
       "      <td>0.000000</td>\n",
       "      <td>0.000000</td>\n",
       "      <td>0.000000</td>\n",
       "      <td>0.000000</td>\n",
       "      <td>0.000000</td>\n",
       "      <td>0.000000</td>\n",
       "      <td>0.000000</td>\n",
       "      <td>0.000000</td>\n",
       "      <td>0.000000</td>\n",
       "      <td>0.000000</td>\n",
       "      <td>0.000000</td>\n",
       "      <td>0.000000</td>\n",
       "      <td>0.000000</td>\n",
       "      <td>0.000000</td>\n",
       "      <td>0.000000</td>\n",
       "      <td>0.000000</td>\n",
       "      <td>0.000000</td>\n",
       "      <td>0.000000</td>\n",
       "      <td>0.000000</td>\n",
       "      <td>0.000000</td>\n",
       "      <td>0.000000</td>\n",
       "      <td>0.000000</td>\n",
       "      <td>0.000000</td>\n",
       "      <td>0.000000</td>\n",
       "      <td>0.000000</td>\n",
       "      <td>0.000000</td>\n",
       "      <td>0.000000</td>\n",
       "      <td>0.000000</td>\n",
       "      <td>0.000000</td>\n",
       "    </tr>\n",
       "    <tr>\n",
       "      <th>50%</th>\n",
       "      <td>97.000000</td>\n",
       "      <td>0.000000</td>\n",
       "      <td>3.365000</td>\n",
       "      <td>0.980000</td>\n",
       "      <td>1.000000</td>\n",
       "      <td>0.000000</td>\n",
       "      <td>0.210941</td>\n",
       "      <td>-0.857065</td>\n",
       "      <td>0.000000</td>\n",
       "      <td>0.219472</td>\n",
       "      <td>-0.845717</td>\n",
       "      <td>0.000000</td>\n",
       "      <td>0.237000</td>\n",
       "      <td>439.200000</td>\n",
       "      <td>440.900000</td>\n",
       "      <td>445.000000</td>\n",
       "      <td>450.500000</td>\n",
       "      <td>453.400000</td>\n",
       "      <td>451.300000</td>\n",
       "      <td>445.000000</td>\n",
       "      <td>441.100000</td>\n",
       "      <td>433.400000</td>\n",
       "      <td>435.900000</td>\n",
       "      <td>439.200000</td>\n",
       "      <td>443.900000</td>\n",
       "      <td>449.500000</td>\n",
       "      <td>454.800000</td>\n",
       "      <td>457.600000</td>\n",
       "      <td>454.800000</td>\n",
       "      <td>449.400000</td>\n",
       "      <td>443.800000</td>\n",
       "      <td>439.700000</td>\n",
       "      <td>436.200000</td>\n",
       "      <td>442.600000</td>\n",
       "      <td>444.700000</td>\n",
       "      <td>447.100000</td>\n",
       "      <td>448.300000</td>\n",
       "      <td>447.500000</td>\n",
       "      <td>444.800000</td>\n",
       "      <td>442.800000</td>\n",
       "      <td>...</td>\n",
       "      <td>-62.400000</td>\n",
       "      <td>663.500000</td>\n",
       "      <td>0.207000</td>\n",
       "      <td>0.027000</td>\n",
       "      <td>-0.017000</td>\n",
       "      <td>0.750000</td>\n",
       "      <td>0.000000</td>\n",
       "      <td>0.430000</td>\n",
       "      <td>0.470000</td>\n",
       "      <td>0.050000</td>\n",
       "      <td>0.000000</td>\n",
       "      <td>0.000000</td>\n",
       "      <td>0.500000</td>\n",
       "      <td>0.290000</td>\n",
       "      <td>0.170000</td>\n",
       "      <td>0.260000</td>\n",
       "      <td>0.000000</td>\n",
       "      <td>0.010000</td>\n",
       "      <td>0.000000</td>\n",
       "      <td>0.220000</td>\n",
       "      <td>0.000000</td>\n",
       "      <td>0.000000</td>\n",
       "      <td>1.000000</td>\n",
       "      <td>1.000000</td>\n",
       "      <td>0.000000</td>\n",
       "      <td>0.000000</td>\n",
       "      <td>0.000000</td>\n",
       "      <td>0.000000</td>\n",
       "      <td>0.000000</td>\n",
       "      <td>0.000000</td>\n",
       "      <td>0.000000</td>\n",
       "      <td>0.000000</td>\n",
       "      <td>1.000000</td>\n",
       "      <td>0.000000</td>\n",
       "      <td>0.000000</td>\n",
       "      <td>0.000000</td>\n",
       "      <td>0.000000</td>\n",
       "      <td>0.000000</td>\n",
       "      <td>0.000000</td>\n",
       "      <td>0.000000</td>\n",
       "    </tr>\n",
       "    <tr>\n",
       "      <th>75%</th>\n",
       "      <td>188.000000</td>\n",
       "      <td>1.000000</td>\n",
       "      <td>5.772000</td>\n",
       "      <td>0.980000</td>\n",
       "      <td>1.000000</td>\n",
       "      <td>0.286586</td>\n",
       "      <td>0.324906</td>\n",
       "      <td>-0.578735</td>\n",
       "      <td>0.125412</td>\n",
       "      <td>0.340716</td>\n",
       "      <td>-0.560036</td>\n",
       "      <td>0.221000</td>\n",
       "      <td>0.371000</td>\n",
       "      <td>686.000000</td>\n",
       "      <td>688.800000</td>\n",
       "      <td>695.600000</td>\n",
       "      <td>702.300000</td>\n",
       "      <td>705.500000</td>\n",
       "      <td>703.200000</td>\n",
       "      <td>696.100000</td>\n",
       "      <td>689.450000</td>\n",
       "      <td>677.200000</td>\n",
       "      <td>681.300000</td>\n",
       "      <td>687.450000</td>\n",
       "      <td>694.600000</td>\n",
       "      <td>701.650000</td>\n",
       "      <td>707.950000</td>\n",
       "      <td>712.000000</td>\n",
       "      <td>707.800000</td>\n",
       "      <td>701.450000</td>\n",
       "      <td>694.600000</td>\n",
       "      <td>687.750000</td>\n",
       "      <td>681.700000</td>\n",
       "      <td>693.200000</td>\n",
       "      <td>695.900000</td>\n",
       "      <td>698.650000</td>\n",
       "      <td>699.900000</td>\n",
       "      <td>698.650000</td>\n",
       "      <td>695.650000</td>\n",
       "      <td>692.650000</td>\n",
       "      <td>...</td>\n",
       "      <td>-10.900000</td>\n",
       "      <td>1045.700000</td>\n",
       "      <td>0.338000</td>\n",
       "      <td>0.428000</td>\n",
       "      <td>0.112000</td>\n",
       "      <td>1.580000</td>\n",
       "      <td>0.470000</td>\n",
       "      <td>1.100000</td>\n",
       "      <td>1.260000</td>\n",
       "      <td>0.620000</td>\n",
       "      <td>0.690000</td>\n",
       "      <td>0.380000</td>\n",
       "      <td>1.240000</td>\n",
       "      <td>0.890000</td>\n",
       "      <td>1.030000</td>\n",
       "      <td>0.780000</td>\n",
       "      <td>0.610000</td>\n",
       "      <td>0.770000</td>\n",
       "      <td>0.210000</td>\n",
       "      <td>0.970000</td>\n",
       "      <td>0.700000</td>\n",
       "      <td>0.480000</td>\n",
       "      <td>1.000000</td>\n",
       "      <td>1.000000</td>\n",
       "      <td>1.000000</td>\n",
       "      <td>1.000000</td>\n",
       "      <td>1.000000</td>\n",
       "      <td>1.000000</td>\n",
       "      <td>0.000000</td>\n",
       "      <td>1.000000</td>\n",
       "      <td>1.000000</td>\n",
       "      <td>1.000000</td>\n",
       "      <td>1.000000</td>\n",
       "      <td>1.000000</td>\n",
       "      <td>1.000000</td>\n",
       "      <td>0.000000</td>\n",
       "      <td>1.000000</td>\n",
       "      <td>1.000000</td>\n",
       "      <td>1.000000</td>\n",
       "      <td>1.000000</td>\n",
       "    </tr>\n",
       "    <tr>\n",
       "      <th>max</th>\n",
       "      <td>837.000000</td>\n",
       "      <td>3.000000</td>\n",
       "      <td>34.868000</td>\n",
       "      <td>0.980000</td>\n",
       "      <td>1.000000</td>\n",
       "      <td>0.931122</td>\n",
       "      <td>0.726961</td>\n",
       "      <td>0.000000</td>\n",
       "      <td>0.893593</td>\n",
       "      <td>0.843826</td>\n",
       "      <td>0.000000</td>\n",
       "      <td>1.132000</td>\n",
       "      <td>1.009000</td>\n",
       "      <td>1795.700000</td>\n",
       "      <td>1796.400000</td>\n",
       "      <td>1798.300000</td>\n",
       "      <td>1801.600000</td>\n",
       "      <td>1803.300000</td>\n",
       "      <td>1801.800000</td>\n",
       "      <td>1798.900000</td>\n",
       "      <td>1796.800000</td>\n",
       "      <td>1792.700000</td>\n",
       "      <td>1794.100000</td>\n",
       "      <td>1796.200000</td>\n",
       "      <td>1798.700000</td>\n",
       "      <td>1801.700000</td>\n",
       "      <td>1804.700000</td>\n",
       "      <td>1806.500000</td>\n",
       "      <td>1804.200000</td>\n",
       "      <td>1800.800000</td>\n",
       "      <td>1798.600000</td>\n",
       "      <td>1796.300000</td>\n",
       "      <td>1794.200000</td>\n",
       "      <td>1797.700000</td>\n",
       "      <td>1798.600000</td>\n",
       "      <td>1799.400000</td>\n",
       "      <td>1799.900000</td>\n",
       "      <td>1799.300000</td>\n",
       "      <td>1798.300000</td>\n",
       "      <td>1797.500000</td>\n",
       "      <td>...</td>\n",
       "      <td>894.100000</td>\n",
       "      <td>3823.400000</td>\n",
       "      <td>2.693000</td>\n",
       "      <td>1.270000</td>\n",
       "      <td>2.240000</td>\n",
       "      <td>5.000000</td>\n",
       "      <td>5.000000</td>\n",
       "      <td>4.320000</td>\n",
       "      <td>5.000000</td>\n",
       "      <td>3.490000</td>\n",
       "      <td>5.000000</td>\n",
       "      <td>5.000000</td>\n",
       "      <td>4.940000</td>\n",
       "      <td>4.020000</td>\n",
       "      <td>5.000000</td>\n",
       "      <td>5.000000</td>\n",
       "      <td>5.000000</td>\n",
       "      <td>5.000000</td>\n",
       "      <td>5.000000</td>\n",
       "      <td>4.570000</td>\n",
       "      <td>5.000000</td>\n",
       "      <td>3.590000</td>\n",
       "      <td>1.000000</td>\n",
       "      <td>1.000000</td>\n",
       "      <td>1.000000</td>\n",
       "      <td>1.000000</td>\n",
       "      <td>1.000000</td>\n",
       "      <td>1.000000</td>\n",
       "      <td>1.000000</td>\n",
       "      <td>1.000000</td>\n",
       "      <td>1.000000</td>\n",
       "      <td>1.000000</td>\n",
       "      <td>1.000000</td>\n",
       "      <td>1.000000</td>\n",
       "      <td>1.000000</td>\n",
       "      <td>1.000000</td>\n",
       "      <td>1.000000</td>\n",
       "      <td>1.000000</td>\n",
       "      <td>1.000000</td>\n",
       "      <td>1.000000</td>\n",
       "    </tr>\n",
       "  </tbody>\n",
       "</table>\n",
       "<p>8 rows × 334 columns</p>\n",
       "</div>"
      ],
      "text/plain": [
       "              frame       face_id  ...        AU28_c        AU45_c\n",
       "count  22935.000000  22935.000000  ...  22935.000000  22935.000000\n",
       "mean     155.616133      0.501809  ...      0.406584      0.318552\n",
       "std      164.296348      0.710695  ...      0.491207      0.465925\n",
       "min        1.000000      0.000000  ...      0.000000      0.000000\n",
       "25%       46.000000      0.000000  ...      0.000000      0.000000\n",
       "50%       97.000000      0.000000  ...      0.000000      0.000000\n",
       "75%      188.000000      1.000000  ...      1.000000      1.000000\n",
       "max      837.000000      3.000000  ...      1.000000      1.000000\n",
       "\n",
       "[8 rows x 334 columns]"
      ]
     },
     "execution_count": 4,
     "metadata": {
      "tags": []
     },
     "output_type": "execute_result"
    }
   ],
   "source": [
    "# Import Openface's data\n",
    "import pandas as pd\n",
    "import os\n",
    "savename = \"aggregated_openface_data.pickle\"\n",
    "\n",
    "openface_csvs = \"./openface_processed/multi\"\n",
    "\n",
    "df = pd.DataFrame()\n",
    "\n",
    "if os.path.isfile(savename):\n",
    "  print(\"Loading combined CSV's from file\")\n",
    "  df = pd.read_pickle(savename)\n",
    "else:\n",
    "  for root, dirs, files in os.walk(openface_csvs):\n",
    "    dirs.clear()  # don't recurse\n",
    "\n",
    "    for f in [f for f in files if f[-4:] == '.csv']:\n",
    "      tempdata = pd.read_csv(os.path.join(root, f), skipinitialspace=True)\n",
    "      tempdata[\"filename\"] = f[0:-4].strip()  # make column with sample number (remove .csv suffix, whitespace)\n",
    "      df = pd.concat([df, tempdata])\n",
    "\n",
    "  print(\"Saving combined CSV's to file\")\n",
    "  df.to_pickle(savename)\n",
    "df.describe()"
   ]
  },
  {
   "cell_type": "code",
   "execution_count": null,
   "metadata": {
    "colab": {},
    "colab_type": "code",
    "id": "qrUk0cOIrMFZ"
   },
   "outputs": [],
   "source": [
    "# filter out datas with success = 1 or confidence < 0.95\n",
    "df = df[(df['confidence'] >=0.65) & (df['success'] == 1)]\n",
    "df.reset_index(drop=True, inplace=True)\n",
    "# print(df.filename.unique())\n",
    "# print(len(df.keys()))"
   ]
  },
  {
   "cell_type": "code",
   "execution_count": null,
   "metadata": {
    "colab": {
     "base_uri": "https://localhost:8080/",
     "height": 479
    },
    "colab_type": "code",
    "id": "Qx2nnGCjADlo",
    "outputId": "aae0c2fb-fbda-471e-9f0e-74774c2c55c4"
   },
   "outputs": [
    {
     "data": {
      "text/html": [
       "<div>\n",
       "<style scoped>\n",
       "    .dataframe tbody tr th:only-of-type {\n",
       "        vertical-align: middle;\n",
       "    }\n",
       "\n",
       "    .dataframe tbody tr th {\n",
       "        vertical-align: top;\n",
       "    }\n",
       "\n",
       "    .dataframe thead th {\n",
       "        text-align: right;\n",
       "    }\n",
       "</style>\n",
       "<table border=\"1\" class=\"dataframe\">\n",
       "  <thead>\n",
       "    <tr style=\"text-align: right;\">\n",
       "      <th></th>\n",
       "      <th>mean_pitch</th>\n",
       "      <th>min_pitch</th>\n",
       "      <th>max_pitch</th>\n",
       "      <th>mean_intensity</th>\n",
       "      <th>root_mean_square</th>\n",
       "      <th>center_of_gravity</th>\n",
       "      <th>kurtosis</th>\n",
       "      <th>skewness</th>\n",
       "      <th>standard_deviation</th>\n",
       "      <th>mean_f1_frequency</th>\n",
       "      <th>mean_f2_frequency</th>\n",
       "      <th>mean_speech_rate</th>\n",
       "      <th>number_of_silent_intervals</th>\n",
       "      <th>filename</th>\n",
       "      <th>estimated_frame_number</th>\n",
       "    </tr>\n",
       "  </thead>\n",
       "  <tbody>\n",
       "    <tr>\n",
       "      <th>0</th>\n",
       "      <td>290.447878</td>\n",
       "      <td>223.029898</td>\n",
       "      <td>420.621402</td>\n",
       "      <td>83.265478</td>\n",
       "      <td>0.291275</td>\n",
       "      <td>629.042192</td>\n",
       "      <td>60.851689</td>\n",
       "      <td>4.878547</td>\n",
       "      <td>475.672620</td>\n",
       "      <td>605.231710</td>\n",
       "      <td>1634.643303</td>\n",
       "      <td>0.49362</td>\n",
       "      <td>2</td>\n",
       "      <td>nonflirt-PJP-C7TCaM8-6</td>\n",
       "      <td>0</td>\n",
       "    </tr>\n",
       "    <tr>\n",
       "      <th>1</th>\n",
       "      <td>288.354722</td>\n",
       "      <td>223.129737</td>\n",
       "      <td>420.629276</td>\n",
       "      <td>83.295576</td>\n",
       "      <td>0.292287</td>\n",
       "      <td>630.297852</td>\n",
       "      <td>60.325458</td>\n",
       "      <td>4.840207</td>\n",
       "      <td>476.914570</td>\n",
       "      <td>626.793360</td>\n",
       "      <td>1624.179187</td>\n",
       "      <td>0.49362</td>\n",
       "      <td>2</td>\n",
       "      <td>nonflirt-PJP-C7TCaM8-6</td>\n",
       "      <td>1</td>\n",
       "    </tr>\n",
       "    <tr>\n",
       "      <th>2</th>\n",
       "      <td>286.543449</td>\n",
       "      <td>223.243593</td>\n",
       "      <td>420.609286</td>\n",
       "      <td>83.482699</td>\n",
       "      <td>0.298652</td>\n",
       "      <td>662.504028</td>\n",
       "      <td>68.563877</td>\n",
       "      <td>4.773974</td>\n",
       "      <td>496.830745</td>\n",
       "      <td>636.716477</td>\n",
       "      <td>1611.940717</td>\n",
       "      <td>0.49362</td>\n",
       "      <td>2</td>\n",
       "      <td>nonflirt-PJP-C7TCaM8-6</td>\n",
       "      <td>2</td>\n",
       "    </tr>\n",
       "    <tr>\n",
       "      <th>3</th>\n",
       "      <td>284.431711</td>\n",
       "      <td>223.167087</td>\n",
       "      <td>420.564528</td>\n",
       "      <td>83.700942</td>\n",
       "      <td>0.306251</td>\n",
       "      <td>683.002668</td>\n",
       "      <td>58.698875</td>\n",
       "      <td>4.373654</td>\n",
       "      <td>499.577060</td>\n",
       "      <td>648.038718</td>\n",
       "      <td>1610.828022</td>\n",
       "      <td>0.49362</td>\n",
       "      <td>2</td>\n",
       "      <td>nonflirt-PJP-C7TCaM8-6</td>\n",
       "      <td>3</td>\n",
       "    </tr>\n",
       "    <tr>\n",
       "      <th>4</th>\n",
       "      <td>282.287917</td>\n",
       "      <td>223.092497</td>\n",
       "      <td>420.501990</td>\n",
       "      <td>83.765693</td>\n",
       "      <td>0.308542</td>\n",
       "      <td>681.849847</td>\n",
       "      <td>49.727052</td>\n",
       "      <td>4.123383</td>\n",
       "      <td>495.618783</td>\n",
       "      <td>657.417870</td>\n",
       "      <td>1599.743717</td>\n",
       "      <td>0.49362</td>\n",
       "      <td>2</td>\n",
       "      <td>nonflirt-PJP-C7TCaM8-6</td>\n",
       "      <td>4</td>\n",
       "    </tr>\n",
       "  </tbody>\n",
       "</table>\n",
       "</div>"
      ],
      "text/plain": [
       "   mean_pitch   min_pitch  ...                filename  estimated_frame_number\n",
       "0  290.447878  223.029898  ...  nonflirt-PJP-C7TCaM8-6                       0\n",
       "1  288.354722  223.129737  ...  nonflirt-PJP-C7TCaM8-6                       1\n",
       "2  286.543449  223.243593  ...  nonflirt-PJP-C7TCaM8-6                       2\n",
       "3  284.431711  223.167087  ...  nonflirt-PJP-C7TCaM8-6                       3\n",
       "4  282.287917  223.092497  ...  nonflirt-PJP-C7TCaM8-6                       4\n",
       "\n",
       "[5 rows x 15 columns]"
      ]
     },
     "execution_count": 6,
     "metadata": {
      "tags": []
     },
     "output_type": "execute_result"
    }
   ],
   "source": [
    "# Import audio data\n",
    "audio_df = pd.read_csv(\"audio-features.csv\").drop(\"Unnamed: 0\", axis=1)\n",
    "audio_df.head()"
   ]
  },
  {
   "cell_type": "code",
   "execution_count": null,
   "metadata": {
    "colab": {
     "base_uri": "https://localhost:8080/",
     "height": 68
    },
    "colab_type": "code",
    "id": "H8RHNujiz32Y",
    "outputId": "57998c59-2128-4df5-9e30-be4bd387eb24"
   },
   "outputs": [
    {
     "name": "stdout",
     "output_type": "stream",
     "text": [
      "set()\n",
      "103\n",
      "103\n"
     ]
    }
   ],
   "source": [
    "# Check datas consistency\n",
    "clips_name = df.filename.unique()\n",
    "audios_name = audio_df.filename.unique()\n",
    "df = df[df['filename'] != 'nonflirt-ImEnWAVRLU0-2']\n",
    "df = df[df['filename'] != 'nonflirt-v2VgA_MCNDg-4']\n",
    "\n",
    "# if len(clips_name) != len(audios_name):\n",
    "#   missing_video = set(audios_name)-set(clips_name)\n",
    "#   print(missing_video)\n",
    "missing_audio = set(df.filename.unique())-set(audio_df.filename.unique())\n",
    "print(missing_audio)\n",
    "  # df = df[df['filename'] != missing_video.pop()]\n",
    "  # audio_df = audio_df[audio_df['filename'] != missing_audio]\n",
    "\n",
    "print(len(df.filename.unique()))\n",
    "print(len(audio_df.filename.unique()))\n"
   ]
  },
  {
   "cell_type": "markdown",
   "metadata": {
    "colab_type": "text",
    "id": "uf-G_OjSCBUb"
   },
   "source": [
    "# Feature Selection"
   ]
  },
  {
   "cell_type": "code",
   "execution_count": null,
   "metadata": {
    "colab": {
     "base_uri": "https://localhost:8080/",
     "height": 119
    },
    "colab_type": "code",
    "id": "TmitO3-lB5x_",
    "outputId": "9305e40a-c73b-4a76-8f66-c9d87380fb39"
   },
   "outputs": [
    {
     "name": "stdout",
     "output_type": "stream",
     "text": [
      "Index(['frame', 'face_id', 'timestamp', 'confidence', 'success', 'gaze_0_x',\n",
      "       'gaze_0_y', 'gaze_0_z', 'gaze_1_x', 'gaze_1_y',\n",
      "       ...\n",
      "       'AU15_c', 'AU17_c', 'AU20_c', 'AU23_c', 'AU25_c', 'AU26_c', 'AU28_c',\n",
      "       'AU45_c', 'filename', 'Class'],\n",
      "      dtype='object', length=336)\n"
     ]
    }
   ],
   "source": [
    "print(df.keys())\n",
    "# feature_columns = []\n",
    "# features = train.drop('filename',axis=1).keys()"
   ]
  },
  {
   "cell_type": "markdown",
   "metadata": {
    "colab_type": "text",
    "id": "Qt_OewYICDi2"
   },
   "source": [
    "# Compute DTW"
   ]
  },
  {
   "cell_type": "code",
   "execution_count": null,
   "metadata": {
    "colab": {
     "base_uri": "https://localhost:8080/",
     "height": 51
    },
    "colab_type": "code",
    "id": "gpaupeMXKVV4",
    "outputId": "2f6f762d-6283-4c95-cbc5-5ca1d20461e5"
   },
   "outputs": [
    {
     "name": "stdout",
     "output_type": "stream",
     "text": [
      "Requirement already satisfied: fastdtw in /usr/local/lib/python3.6/dist-packages (0.3.4)\n",
      "Requirement already satisfied: numpy in /usr/local/lib/python3.6/dist-packages (from fastdtw) (1.18.5)\n"
     ]
    }
   ],
   "source": [
    "# required packages\n",
    "!pip install fastdtw\n",
    "import numpy as np\n",
    "from scipy.spatial.distance import euclidean\n",
    "from fastdtw import fastdtw\n",
    "from tqdm import tqdm, trange"
   ]
  },
  {
   "cell_type": "code",
   "execution_count": null,
   "metadata": {
    "colab": {},
    "colab_type": "code",
    "id": "88Y2P1yLA1kC"
   },
   "outputs": [],
   "source": [
    "clips = pd.concat([df.loc[:,\"filename\"], df.loc[:,\"frame\":\"gaze_angle_y\"], df.loc[:,\"pose_Tx\":\"pose_Rz\"], df.loc[:,\"AU01_r\":\"AU45_c\"]],\n",
    "                  axis=1)"
   ]
  },
  {
   "cell_type": "code",
   "execution_count": null,
   "metadata": {
    "colab": {
     "base_uri": "https://localhost:8080/",
     "height": 34
    },
    "colab_type": "code",
    "id": "Eba8dKck3PjT",
    "outputId": "d6ed677d-cbe4-4f25-d988-a6f0f83d11e9"
   },
   "outputs": [
    {
     "name": "stdout",
     "output_type": "stream",
     "text": [
      "273785.2142364928\n"
     ]
    }
   ],
   "source": [
    "def independent_dtw(clip1, clip2, features):\n",
    "  overall_score = 0\n",
    "  clip1 = clip1[~clip1.isin([np.nan, np.inf, -np.inf]).any(1)]\n",
    "  clip2 = clip2[~clip2.isin([np.nan, np.inf, -np.inf]).any(1)]\n",
    "  for feature in features:\n",
    "    if feature != 'filename' and feature != 'frame':\n",
    "      # print(clip1[feature], clip2[feature])\n",
    "      distance, path = fastdtw(clip1[feature], clip2[feature], dist=euclidean)\n",
    "      # print(path)\n",
    "      overall_score+=distance\n",
    "  return overall_score\n",
    "\n",
    "# test\n",
    "clip1 = clips[clips['filename'] == 'nonflirt-PJP-C7TCaM8-6']\n",
    "clip2 = clips[clips['filename'] == 'flirt-qkq9k5FewvI-1']\n",
    "test_dtw1 = independent_dtw(clip1, clip2, clips.columns)\n",
    "clip1 = audio_df[audio_df['filename'] == 'nonflirt-PJP-C7TCaM8-6']\n",
    "clip2 = audio_df[audio_df['filename'] == 'flirt-qkq9k5FewvI-1']\n",
    "test_dtw2 = independent_dtw(clip1, clip2, audio_df.columns)\n",
    "\n",
    "print(test_dtw1+test_dtw2)"
   ]
  },
  {
   "cell_type": "code",
   "execution_count": null,
   "metadata": {
    "colab": {
     "base_uri": "https://localhost:8080/",
     "height": 34
    },
    "colab_type": "code",
    "id": "7IKAowJP-gOM",
    "outputId": "822816ba-4742-4f06-8906-05afd77a58aa"
   },
   "outputs": [
    {
     "name": "stdout",
     "output_type": "stream",
     "text": [
      "2.8284271247461903\n"
     ]
    }
   ],
   "source": [
    "import numpy as np\n",
    "from scipy.spatial.distance import euclidean\n",
    "\n",
    "from fastdtw import fastdtw\n",
    "\n",
    "x = np.array([[1,1], [2,2], [3,3], [4,4], [5,5]])\n",
    "y = np.array([[2,2], [3,3], [4,4]])\n",
    "distance, path = fastdtw(x, y, dist=euclidean)\n",
    "print(distance)\n"
   ]
  },
  {
   "cell_type": "code",
   "execution_count": null,
   "metadata": {
    "colab": {},
    "colab_type": "code",
    "id": "-MwQb6bxCC3J"
   },
   "outputs": [],
   "source": [
    "# This would be the final matrix that gives how similar between\n",
    "# each two clips\n",
    "def produce_Similarity_Matrix(df, audio_df): # for multimodal\n",
    "  # This data is missing from OpenFace\n",
    "  clips_name = df.filename.unique()\n",
    "  audios_name = audio_df.filename.unique()\n",
    "  length = len(clips_name)\n",
    "  features_face = clips.columns\n",
    "  features_audio = audio_df.columns\n",
    "\n",
    "\n",
    "  Similarity_Matrix = np.zeros((length,length))\n",
    "  for col in trange(length, leave=False, position=0):\n",
    "    for row in trange(length, leave=False, position=0):\n",
    "      # create a Similarity_Matrix, ie         clip1 clip2 clip3\n",
    "      #                                 clip1    0    ...   ...\n",
    "      #                                 clip2   ...    0    ...\n",
    "      #                                 clip3   ...   ...    0\n",
    "      clip_name1 = clips_name[col]\n",
    "      clip1 = clips[clips['filename'] == clip_name1]\n",
    "      clip_name2 = clips_name[row]\n",
    "      clip2 = clips[clips['filename'] == clip_name2]\n",
    "      overall_score1 = independent_dtw(clip1, clip2, features_face)\n",
    "\n",
    "      clip1 = audio_df[audio_df['filename'] == clip_name1]\n",
    "      clip2 = audio_df[audio_df['filename'] == clip_name2]\n",
    "      overall_score2 = independent_dtw(clip1, clip2, features_audio)\n",
    "\n",
    "      Similarity_Matrix[col][row] = overall_score1+overall_score2\n",
    "  return Similarity_Matrix"
   ]
  },
  {
   "cell_type": "code",
   "execution_count": null,
   "metadata": {
    "colab": {
     "base_uri": "https://localhost:8080/",
     "height": 238
    },
    "colab_type": "code",
    "id": "bFjp2ybbvbxp",
    "outputId": "14f16606-6292-45b4-b34a-eae256e7c25e"
   },
   "outputs": [
    {
     "name": "stderr",
     "output_type": "stream",
     "text": [
      "                                                    "
     ]
    },
    {
     "name": "stdout",
     "output_type": "stream",
     "text": [
      "[[      0.           39700.39783521   14579.874227   ...  833440.97968611\n",
      "   871546.94994018 1512008.68622942]\n",
      " [  39706.48120821       0.           12773.026797   ...  798973.20611083\n",
      "   761487.00584189 1205306.81926377]\n",
      " [  14579.808186     12777.355809         0.         ...  265555.152906\n",
      "   128651.674925    274633.957958  ]\n",
      " ...\n",
      " [ 833438.31062211  811749.55311101  265592.997991   ...       0.\n",
      "   559899.04911218  931043.799445  ]\n",
      " [ 871575.08818518  791197.36868151  128638.481901   ...  564785.91985668\n",
      "        0.          843583.3707392 ]\n",
      " [1512010.48727242 1271360.20612628  274632.648078   ...  932919.05460808\n",
      "   845676.94519348       0.        ]]\n"
     ]
    },
    {
     "name": "stderr",
     "output_type": "stream",
     "text": [
      "\r"
     ]
    }
   ],
   "source": [
    "Similarity_Matrix = produce_Similarity_Matrix(df, audio_df)\n",
    "sm = Similarity_Matrix\n",
    "print(sm)"
   ]
  },
  {
   "cell_type": "code",
   "execution_count": null,
   "metadata": {
    "colab": {},
    "colab_type": "code",
    "id": "b-fn3LEDOeK2"
   },
   "outputs": [],
   "source": [
    "# Save the result\n",
    "import pickle\n",
    "with open('Similarity_Matrix_total', 'wb') as f:\n",
    "    pickle.dump(Similarity_Matrix, f)"
   ]
  },
  {
   "cell_type": "code",
   "execution_count": null,
   "metadata": {
    "colab": {
     "base_uri": "https://localhost:8080/",
     "height": 215
    },
    "colab_type": "code",
    "id": "wRwaDMyUTATe",
    "outputId": "51d1b22e-f185-412b-8026-d2a1a0fffa06"
   },
   "outputs": [
    {
     "ename": "FileNotFoundError",
     "evalue": "ignored",
     "output_type": "error",
     "traceback": [
      "\u001b[0;31m---------------------------------------------------------------------------\u001b[0m",
      "\u001b[0;31mFileNotFoundError\u001b[0m                         Traceback (most recent call last)",
      "\u001b[0;32m<ipython-input-6-2d61cce54ad1>\u001b[0m in \u001b[0;36m<module>\u001b[0;34m()\u001b[0m\n\u001b[1;32m      1\u001b[0m \u001b[0;31m# Load the result\u001b[0m\u001b[0;34m\u001b[0m\u001b[0;34m\u001b[0m\u001b[0;34m\u001b[0m\u001b[0m\n\u001b[1;32m      2\u001b[0m \u001b[0;32mimport\u001b[0m \u001b[0mpickle\u001b[0m\u001b[0;34m\u001b[0m\u001b[0;34m\u001b[0m\u001b[0m\n\u001b[0;32m----> 3\u001b[0;31m \u001b[0;32mwith\u001b[0m \u001b[0mopen\u001b[0m\u001b[0;34m(\u001b[0m\u001b[0;34m\"Similarity_Matrix_total\"\u001b[0m\u001b[0;34m,\u001b[0m \u001b[0;34m\"rb\"\u001b[0m\u001b[0;34m)\u001b[0m \u001b[0;32mas\u001b[0m \u001b[0mf\u001b[0m\u001b[0;34m:\u001b[0m\u001b[0;34m\u001b[0m\u001b[0;34m\u001b[0m\u001b[0m\n\u001b[0m\u001b[1;32m      4\u001b[0m   \u001b[0mSimilarity_Matrix\u001b[0m \u001b[0;34m=\u001b[0m \u001b[0mpickle\u001b[0m\u001b[0;34m.\u001b[0m\u001b[0mload\u001b[0m\u001b[0;34m(\u001b[0m\u001b[0mf\u001b[0m\u001b[0;34m)\u001b[0m\u001b[0;34m\u001b[0m\u001b[0;34m\u001b[0m\u001b[0m\n",
      "\u001b[0;31mFileNotFoundError\u001b[0m: [Errno 2] No such file or directory: 'Similarity_Matrix_total'"
     ]
    }
   ],
   "source": [
    "# Load the result\n",
    "import pickle\n",
    "with open(\"Similarity_Matrix_total\", \"rb\") as f:\n",
    "  Similarity_Matrix = pickle.load(f)"
   ]
  },
  {
   "cell_type": "markdown",
   "metadata": {
    "colab_type": "text",
    "id": "ChiF-exqhffm"
   },
   "source": [
    "# K-Means Clustering"
   ]
  },
  {
   "cell_type": "code",
   "execution_count": null,
   "metadata": {
    "colab": {
     "base_uri": "https://localhost:8080/",
     "height": 71
    },
    "colab_type": "code",
    "id": "4DM3xvZmh7aG",
    "outputId": "a76ce9f9-48fa-498d-eae3-c161309f8f64"
   },
   "outputs": [
    {
     "name": "stderr",
     "output_type": "stream",
     "text": [
      "/usr/local/lib/python3.6/dist-packages/statsmodels/tools/_testing.py:19: FutureWarning: pandas.util.testing is deprecated. Use the functions in the public API at pandas.testing instead.\n",
      "  import pandas.util.testing as tm\n"
     ]
    }
   ],
   "source": [
    "# import packages\n",
    "# !pip install tslearn\n",
    "from tslearn.clustering import TimeSeriesKMeans\n",
    "import seaborn as sns\n",
    "import matplotlib.pyplot as plt\n",
    "import numpy as np\n",
    "from sklearn.metrics import pairwise_distances_argmin_min\n",
    "from sklearn.model_selection import train_test_split"
   ]
  },
  {
   "cell_type": "markdown",
   "metadata": {
    "colab_type": "text",
    "id": "0LWhoOIJcRvg"
   },
   "source": [
    "## look for optimal k to see how many types of flirtatiou/non-flirtatiou is detected"
   ]
  },
  {
   "cell_type": "code",
   "execution_count": null,
   "metadata": {
    "colab": {
     "base_uri": "https://localhost:8080/",
     "height": 375
    },
    "colab_type": "code",
    "id": "ewwCFa0Fasxl",
    "outputId": "5fdc1ddb-1f0c-4c05-9a8f-4ffde00d4e5e"
   },
   "outputs": [
    {
     "ename": "KeyboardInterrupt",
     "evalue": "ignored",
     "output_type": "error",
     "traceback": [
      "\u001b[0;31m---------------------------------------------------------------------------\u001b[0m",
      "\u001b[0;31mKeyboardInterrupt\u001b[0m                         Traceback (most recent call last)",
      "\u001b[0;32m<ipython-input-100-d5651fe2341d>\u001b[0m in \u001b[0;36m<module>\u001b[0;34m()\u001b[0m\n\u001b[1;32m      5\u001b[0m \u001b[0;32mfor\u001b[0m \u001b[0mk\u001b[0m \u001b[0;32min\u001b[0m \u001b[0mK\u001b[0m\u001b[0;34m:\u001b[0m\u001b[0;34m\u001b[0m\u001b[0;34m\u001b[0m\u001b[0m\n\u001b[1;32m      6\u001b[0m     \u001b[0mkm\u001b[0m \u001b[0;34m=\u001b[0m \u001b[0mTimeSeriesKMeans\u001b[0m\u001b[0;34m(\u001b[0m\u001b[0mn_clusters\u001b[0m\u001b[0;34m=\u001b[0m\u001b[0mk\u001b[0m\u001b[0;34m,\u001b[0m \u001b[0mmetric\u001b[0m\u001b[0;34m=\u001b[0m\u001b[0;34m\"dtw\"\u001b[0m\u001b[0;34m,\u001b[0m \u001b[0mmax_iter\u001b[0m\u001b[0;34m=\u001b[0m\u001b[0;36m5\u001b[0m\u001b[0;34m)\u001b[0m\u001b[0;34m\u001b[0m\u001b[0;34m\u001b[0m\u001b[0m\n\u001b[0;32m----> 7\u001b[0;31m     \u001b[0mkm\u001b[0m \u001b[0;34m=\u001b[0m \u001b[0mkm\u001b[0m\u001b[0;34m.\u001b[0m\u001b[0mfit\u001b[0m\u001b[0;34m(\u001b[0m\u001b[0mSimilarity_Matrix\u001b[0m\u001b[0;34m)\u001b[0m\u001b[0;34m\u001b[0m\u001b[0;34m\u001b[0m\u001b[0m\n\u001b[0m\u001b[1;32m      8\u001b[0m     \u001b[0mSum_of_squared_distances\u001b[0m\u001b[0;34m.\u001b[0m\u001b[0mappend\u001b[0m\u001b[0;34m(\u001b[0m\u001b[0mkm\u001b[0m\u001b[0;34m.\u001b[0m\u001b[0minertia_\u001b[0m\u001b[0;34m)\u001b[0m\u001b[0;34m\u001b[0m\u001b[0;34m\u001b[0m\u001b[0m\n\u001b[1;32m      9\u001b[0m \u001b[0;34m\u001b[0m\u001b[0m\n",
      "\u001b[0;32m/usr/local/lib/python3.6/dist-packages/tslearn/clustering.py\u001b[0m in \u001b[0;36mfit\u001b[0;34m(self, X, y)\u001b[0m\n\u001b[1;32m    978\u001b[0m                     \u001b[0mprint\u001b[0m\u001b[0;34m(\u001b[0m\u001b[0;34m\"Init %d\"\u001b[0m \u001b[0;34m%\u001b[0m \u001b[0;34m(\u001b[0m\u001b[0mn_successful\u001b[0m \u001b[0;34m+\u001b[0m \u001b[0;36m1\u001b[0m\u001b[0;34m)\u001b[0m\u001b[0;34m)\u001b[0m\u001b[0;34m\u001b[0m\u001b[0;34m\u001b[0m\u001b[0m\n\u001b[1;32m    979\u001b[0m                 \u001b[0mn_attempts\u001b[0m \u001b[0;34m+=\u001b[0m \u001b[0;36m1\u001b[0m\u001b[0;34m\u001b[0m\u001b[0;34m\u001b[0m\u001b[0m\n\u001b[0;32m--> 980\u001b[0;31m                 \u001b[0mself\u001b[0m\u001b[0;34m.\u001b[0m\u001b[0m_fit_one_init\u001b[0m\u001b[0;34m(\u001b[0m\u001b[0mX_\u001b[0m\u001b[0;34m,\u001b[0m \u001b[0mx_squared_norms\u001b[0m\u001b[0;34m,\u001b[0m \u001b[0mrs\u001b[0m\u001b[0;34m)\u001b[0m\u001b[0;34m\u001b[0m\u001b[0;34m\u001b[0m\u001b[0m\n\u001b[0m\u001b[1;32m    981\u001b[0m                 \u001b[0;32mif\u001b[0m \u001b[0mself\u001b[0m\u001b[0;34m.\u001b[0m\u001b[0minertia_\u001b[0m \u001b[0;34m<\u001b[0m \u001b[0mmin_inertia\u001b[0m\u001b[0;34m:\u001b[0m\u001b[0;34m\u001b[0m\u001b[0;34m\u001b[0m\u001b[0m\n\u001b[1;32m    982\u001b[0m                     \u001b[0mbest_correct_centroids\u001b[0m \u001b[0;34m=\u001b[0m \u001b[0mself\u001b[0m\u001b[0;34m.\u001b[0m\u001b[0mcluster_centers_\u001b[0m\u001b[0;34m.\u001b[0m\u001b[0mcopy\u001b[0m\u001b[0;34m(\u001b[0m\u001b[0;34m)\u001b[0m\u001b[0;34m\u001b[0m\u001b[0;34m\u001b[0m\u001b[0m\n",
      "\u001b[0;32m/usr/local/lib/python3.6/dist-packages/tslearn/clustering.py\u001b[0m in \u001b[0;36m_fit_one_init\u001b[0;34m(self, X, x_squared_norms, rs)\u001b[0m\n\u001b[1;32m    860\u001b[0m \u001b[0;34m\u001b[0m\u001b[0m\n\u001b[1;32m    861\u001b[0m         \u001b[0;32mfor\u001b[0m \u001b[0mit\u001b[0m \u001b[0;32min\u001b[0m \u001b[0mrange\u001b[0m\u001b[0;34m(\u001b[0m\u001b[0mself\u001b[0m\u001b[0;34m.\u001b[0m\u001b[0mmax_iter\u001b[0m\u001b[0;34m)\u001b[0m\u001b[0;34m:\u001b[0m\u001b[0;34m\u001b[0m\u001b[0;34m\u001b[0m\u001b[0m\n\u001b[0;32m--> 862\u001b[0;31m             \u001b[0mself\u001b[0m\u001b[0;34m.\u001b[0m\u001b[0m_assign\u001b[0m\u001b[0;34m(\u001b[0m\u001b[0mX\u001b[0m\u001b[0;34m)\u001b[0m\u001b[0;34m\u001b[0m\u001b[0;34m\u001b[0m\u001b[0m\n\u001b[0m\u001b[1;32m    863\u001b[0m             \u001b[0;32mif\u001b[0m \u001b[0mself\u001b[0m\u001b[0;34m.\u001b[0m\u001b[0mverbose\u001b[0m\u001b[0;34m:\u001b[0m\u001b[0;34m\u001b[0m\u001b[0;34m\u001b[0m\u001b[0m\n\u001b[1;32m    864\u001b[0m                 \u001b[0mprint\u001b[0m\u001b[0;34m(\u001b[0m\u001b[0;34m\"%.3f\"\u001b[0m \u001b[0;34m%\u001b[0m \u001b[0mself\u001b[0m\u001b[0;34m.\u001b[0m\u001b[0minertia_\u001b[0m\u001b[0;34m,\u001b[0m \u001b[0mend\u001b[0m\u001b[0;34m=\u001b[0m\u001b[0;34m\" --> \"\u001b[0m\u001b[0;34m)\u001b[0m\u001b[0;34m\u001b[0m\u001b[0;34m\u001b[0m\u001b[0m\n",
      "\u001b[0;32m/usr/local/lib/python3.6/dist-packages/tslearn/clustering.py\u001b[0m in \u001b[0;36m_assign\u001b[0;34m(self, X, update_class_attributes)\u001b[0m\n\u001b[1;32m    891\u001b[0m \u001b[0;34m\u001b[0m\u001b[0m\n\u001b[1;32m    892\u001b[0m     \u001b[0;32mdef\u001b[0m \u001b[0m_assign\u001b[0m\u001b[0;34m(\u001b[0m\u001b[0mself\u001b[0m\u001b[0;34m,\u001b[0m \u001b[0mX\u001b[0m\u001b[0;34m,\u001b[0m \u001b[0mupdate_class_attributes\u001b[0m\u001b[0;34m=\u001b[0m\u001b[0;32mTrue\u001b[0m\u001b[0;34m)\u001b[0m\u001b[0;34m:\u001b[0m\u001b[0;34m\u001b[0m\u001b[0;34m\u001b[0m\u001b[0m\n\u001b[0;32m--> 893\u001b[0;31m         \u001b[0mdists\u001b[0m \u001b[0;34m=\u001b[0m \u001b[0mself\u001b[0m\u001b[0;34m.\u001b[0m\u001b[0m_transform\u001b[0m\u001b[0;34m(\u001b[0m\u001b[0mX\u001b[0m\u001b[0;34m)\u001b[0m\u001b[0;34m\u001b[0m\u001b[0;34m\u001b[0m\u001b[0m\n\u001b[0m\u001b[1;32m    894\u001b[0m         \u001b[0mmatched_labels\u001b[0m \u001b[0;34m=\u001b[0m \u001b[0mdists\u001b[0m\u001b[0;34m.\u001b[0m\u001b[0margmin\u001b[0m\u001b[0;34m(\u001b[0m\u001b[0maxis\u001b[0m\u001b[0;34m=\u001b[0m\u001b[0;36m1\u001b[0m\u001b[0;34m)\u001b[0m\u001b[0;34m\u001b[0m\u001b[0;34m\u001b[0m\u001b[0m\n\u001b[1;32m    895\u001b[0m         \u001b[0;32mif\u001b[0m \u001b[0mupdate_class_attributes\u001b[0m\u001b[0;34m:\u001b[0m\u001b[0;34m\u001b[0m\u001b[0;34m\u001b[0m\u001b[0m\n",
      "\u001b[0;32m/usr/local/lib/python3.6/dist-packages/tslearn/clustering.py\u001b[0m in \u001b[0;36m_transform\u001b[0;34m(self, X)\u001b[0m\n\u001b[1;32m    883\u001b[0m         \u001b[0;32melif\u001b[0m \u001b[0mself\u001b[0m\u001b[0;34m.\u001b[0m\u001b[0mmetric\u001b[0m \u001b[0;34m==\u001b[0m \u001b[0;34m\"dtw\"\u001b[0m\u001b[0;34m:\u001b[0m\u001b[0;34m\u001b[0m\u001b[0;34m\u001b[0m\u001b[0m\n\u001b[1;32m    884\u001b[0m             return cdist_dtw(X, self.cluster_centers_, n_jobs=self.n_jobs,\n\u001b[0;32m--> 885\u001b[0;31m                               verbose=self.verbose, **metric_params)\n\u001b[0m\u001b[1;32m    886\u001b[0m         \u001b[0;32melif\u001b[0m \u001b[0mself\u001b[0m\u001b[0;34m.\u001b[0m\u001b[0mmetric\u001b[0m \u001b[0;34m==\u001b[0m \u001b[0;34m\"softdtw\"\u001b[0m\u001b[0;34m:\u001b[0m\u001b[0;34m\u001b[0m\u001b[0;34m\u001b[0m\u001b[0m\n\u001b[1;32m    887\u001b[0m             \u001b[0;32mreturn\u001b[0m \u001b[0mcdist_soft_dtw\u001b[0m\u001b[0;34m(\u001b[0m\u001b[0mX\u001b[0m\u001b[0;34m,\u001b[0m \u001b[0mself\u001b[0m\u001b[0;34m.\u001b[0m\u001b[0mcluster_centers_\u001b[0m\u001b[0;34m,\u001b[0m \u001b[0;34m**\u001b[0m\u001b[0mmetric_params\u001b[0m\u001b[0;34m)\u001b[0m\u001b[0;34m\u001b[0m\u001b[0;34m\u001b[0m\u001b[0m\n",
      "\u001b[0;32m/usr/local/lib/python3.6/dist-packages/tslearn/metrics.py\u001b[0m in \u001b[0;36mcdist_dtw\u001b[0;34m(dataset1, dataset2, global_constraint, sakoe_chiba_radius, itakura_max_slope, n_jobs, verbose)\u001b[0m\n\u001b[1;32m   1317\u001b[0m                           \u001b[0mglobal_constraint\u001b[0m\u001b[0;34m=\u001b[0m\u001b[0mglobal_constraint\u001b[0m\u001b[0;34m,\u001b[0m\u001b[0;34m\u001b[0m\u001b[0;34m\u001b[0m\u001b[0m\n\u001b[1;32m   1318\u001b[0m                           \u001b[0msakoe_chiba_radius\u001b[0m\u001b[0;34m=\u001b[0m\u001b[0msakoe_chiba_radius\u001b[0m\u001b[0;34m,\u001b[0m\u001b[0;34m\u001b[0m\u001b[0;34m\u001b[0m\u001b[0m\n\u001b[0;32m-> 1319\u001b[0;31m                           itakura_max_slope=itakura_max_slope)\n\u001b[0m\u001b[1;32m   1320\u001b[0m \u001b[0;34m\u001b[0m\u001b[0m\n\u001b[1;32m   1321\u001b[0m \u001b[0;34m\u001b[0m\u001b[0m\n",
      "\u001b[0;32m/usr/local/lib/python3.6/dist-packages/tslearn/metrics.py\u001b[0m in \u001b[0;36m_cdist_generic\u001b[0;34m(dist_fun, dataset1, dataset2, n_jobs, verbose, compute_diagonal, dtype, *args, **kwargs)\u001b[0m\n\u001b[1;32m   1220\u001b[0m                 \u001b[0;34m*\u001b[0m\u001b[0margs\u001b[0m\u001b[0;34m,\u001b[0m \u001b[0;34m**\u001b[0m\u001b[0mkwargs\u001b[0m\u001b[0;34m\u001b[0m\u001b[0;34m\u001b[0m\u001b[0m\n\u001b[1;32m   1221\u001b[0m             )\n\u001b[0;32m-> 1222\u001b[0;31m             \u001b[0;32mfor\u001b[0m \u001b[0mi\u001b[0m \u001b[0;32min\u001b[0m \u001b[0mrange\u001b[0m\u001b[0;34m(\u001b[0m\u001b[0mlen\u001b[0m\u001b[0;34m(\u001b[0m\u001b[0mdataset1\u001b[0m\u001b[0;34m)\u001b[0m\u001b[0;34m)\u001b[0m \u001b[0;32mfor\u001b[0m \u001b[0mj\u001b[0m \u001b[0;32min\u001b[0m \u001b[0mrange\u001b[0m\u001b[0;34m(\u001b[0m\u001b[0mlen\u001b[0m\u001b[0;34m(\u001b[0m\u001b[0mdataset2\u001b[0m\u001b[0;34m)\u001b[0m\u001b[0;34m)\u001b[0m\u001b[0;34m\u001b[0m\u001b[0;34m\u001b[0m\u001b[0m\n\u001b[0m\u001b[1;32m   1223\u001b[0m         )\n\u001b[1;32m   1224\u001b[0m         \u001b[0;32mreturn\u001b[0m \u001b[0mnumpy\u001b[0m\u001b[0;34m.\u001b[0m\u001b[0marray\u001b[0m\u001b[0;34m(\u001b[0m\u001b[0mmatrix\u001b[0m\u001b[0;34m)\u001b[0m\u001b[0;34m.\u001b[0m\u001b[0mreshape\u001b[0m\u001b[0;34m(\u001b[0m\u001b[0;34m(\u001b[0m\u001b[0mlen\u001b[0m\u001b[0;34m(\u001b[0m\u001b[0mdataset1\u001b[0m\u001b[0;34m)\u001b[0m\u001b[0;34m,\u001b[0m \u001b[0;34m-\u001b[0m\u001b[0;36m1\u001b[0m\u001b[0;34m)\u001b[0m\u001b[0;34m)\u001b[0m\u001b[0;34m\u001b[0m\u001b[0;34m\u001b[0m\u001b[0m\n",
      "\u001b[0;32m/usr/local/lib/python3.6/dist-packages/joblib/parallel.py\u001b[0m in \u001b[0;36m__call__\u001b[0;34m(self, iterable)\u001b[0m\n\u001b[1;32m   1030\u001b[0m                 \u001b[0mself\u001b[0m\u001b[0;34m.\u001b[0m\u001b[0m_iterating\u001b[0m \u001b[0;34m=\u001b[0m \u001b[0mself\u001b[0m\u001b[0;34m.\u001b[0m\u001b[0m_original_iterator\u001b[0m \u001b[0;32mis\u001b[0m \u001b[0;32mnot\u001b[0m \u001b[0;32mNone\u001b[0m\u001b[0;34m\u001b[0m\u001b[0;34m\u001b[0m\u001b[0m\n\u001b[1;32m   1031\u001b[0m \u001b[0;34m\u001b[0m\u001b[0m\n\u001b[0;32m-> 1032\u001b[0;31m             \u001b[0;32mwhile\u001b[0m \u001b[0mself\u001b[0m\u001b[0;34m.\u001b[0m\u001b[0mdispatch_one_batch\u001b[0m\u001b[0;34m(\u001b[0m\u001b[0miterator\u001b[0m\u001b[0;34m)\u001b[0m\u001b[0;34m:\u001b[0m\u001b[0;34m\u001b[0m\u001b[0;34m\u001b[0m\u001b[0m\n\u001b[0m\u001b[1;32m   1033\u001b[0m                 \u001b[0;32mpass\u001b[0m\u001b[0;34m\u001b[0m\u001b[0;34m\u001b[0m\u001b[0m\n\u001b[1;32m   1034\u001b[0m \u001b[0;34m\u001b[0m\u001b[0m\n",
      "\u001b[0;32m/usr/local/lib/python3.6/dist-packages/joblib/parallel.py\u001b[0m in \u001b[0;36mdispatch_one_batch\u001b[0;34m(self, iterator)\u001b[0m\n\u001b[1;32m    845\u001b[0m                 \u001b[0;32mreturn\u001b[0m \u001b[0;32mFalse\u001b[0m\u001b[0;34m\u001b[0m\u001b[0;34m\u001b[0m\u001b[0m\n\u001b[1;32m    846\u001b[0m             \u001b[0;32melse\u001b[0m\u001b[0;34m:\u001b[0m\u001b[0;34m\u001b[0m\u001b[0;34m\u001b[0m\u001b[0m\n\u001b[0;32m--> 847\u001b[0;31m                 \u001b[0mself\u001b[0m\u001b[0;34m.\u001b[0m\u001b[0m_dispatch\u001b[0m\u001b[0;34m(\u001b[0m\u001b[0mtasks\u001b[0m\u001b[0;34m)\u001b[0m\u001b[0;34m\u001b[0m\u001b[0;34m\u001b[0m\u001b[0m\n\u001b[0m\u001b[1;32m    848\u001b[0m                 \u001b[0;32mreturn\u001b[0m \u001b[0;32mTrue\u001b[0m\u001b[0;34m\u001b[0m\u001b[0;34m\u001b[0m\u001b[0m\n\u001b[1;32m    849\u001b[0m \u001b[0;34m\u001b[0m\u001b[0m\n",
      "\u001b[0;32m/usr/local/lib/python3.6/dist-packages/joblib/parallel.py\u001b[0m in \u001b[0;36m_dispatch\u001b[0;34m(self, batch)\u001b[0m\n\u001b[1;32m    763\u001b[0m         \u001b[0;32mwith\u001b[0m \u001b[0mself\u001b[0m\u001b[0;34m.\u001b[0m\u001b[0m_lock\u001b[0m\u001b[0;34m:\u001b[0m\u001b[0;34m\u001b[0m\u001b[0;34m\u001b[0m\u001b[0m\n\u001b[1;32m    764\u001b[0m             \u001b[0mjob_idx\u001b[0m \u001b[0;34m=\u001b[0m \u001b[0mlen\u001b[0m\u001b[0;34m(\u001b[0m\u001b[0mself\u001b[0m\u001b[0;34m.\u001b[0m\u001b[0m_jobs\u001b[0m\u001b[0;34m)\u001b[0m\u001b[0;34m\u001b[0m\u001b[0;34m\u001b[0m\u001b[0m\n\u001b[0;32m--> 765\u001b[0;31m             \u001b[0mjob\u001b[0m \u001b[0;34m=\u001b[0m \u001b[0mself\u001b[0m\u001b[0;34m.\u001b[0m\u001b[0m_backend\u001b[0m\u001b[0;34m.\u001b[0m\u001b[0mapply_async\u001b[0m\u001b[0;34m(\u001b[0m\u001b[0mbatch\u001b[0m\u001b[0;34m,\u001b[0m \u001b[0mcallback\u001b[0m\u001b[0;34m=\u001b[0m\u001b[0mcb\u001b[0m\u001b[0;34m)\u001b[0m\u001b[0;34m\u001b[0m\u001b[0;34m\u001b[0m\u001b[0m\n\u001b[0m\u001b[1;32m    766\u001b[0m             \u001b[0;31m# A job can complete so quickly than its callback is\u001b[0m\u001b[0;34m\u001b[0m\u001b[0;34m\u001b[0m\u001b[0;34m\u001b[0m\u001b[0m\n\u001b[1;32m    767\u001b[0m             \u001b[0;31m# called before we get here, causing self._jobs to\u001b[0m\u001b[0;34m\u001b[0m\u001b[0;34m\u001b[0m\u001b[0;34m\u001b[0m\u001b[0m\n",
      "\u001b[0;32m/usr/local/lib/python3.6/dist-packages/joblib/_parallel_backends.py\u001b[0m in \u001b[0;36mapply_async\u001b[0;34m(self, func, callback)\u001b[0m\n\u001b[1;32m    206\u001b[0m     \u001b[0;32mdef\u001b[0m \u001b[0mapply_async\u001b[0m\u001b[0;34m(\u001b[0m\u001b[0mself\u001b[0m\u001b[0;34m,\u001b[0m \u001b[0mfunc\u001b[0m\u001b[0;34m,\u001b[0m \u001b[0mcallback\u001b[0m\u001b[0;34m=\u001b[0m\u001b[0;32mNone\u001b[0m\u001b[0;34m)\u001b[0m\u001b[0;34m:\u001b[0m\u001b[0;34m\u001b[0m\u001b[0;34m\u001b[0m\u001b[0m\n\u001b[1;32m    207\u001b[0m         \u001b[0;34m\"\"\"Schedule a func to be run\"\"\"\u001b[0m\u001b[0;34m\u001b[0m\u001b[0;34m\u001b[0m\u001b[0m\n\u001b[0;32m--> 208\u001b[0;31m         \u001b[0mresult\u001b[0m \u001b[0;34m=\u001b[0m \u001b[0mImmediateResult\u001b[0m\u001b[0;34m(\u001b[0m\u001b[0mfunc\u001b[0m\u001b[0;34m)\u001b[0m\u001b[0;34m\u001b[0m\u001b[0;34m\u001b[0m\u001b[0m\n\u001b[0m\u001b[1;32m    209\u001b[0m         \u001b[0;32mif\u001b[0m \u001b[0mcallback\u001b[0m\u001b[0;34m:\u001b[0m\u001b[0;34m\u001b[0m\u001b[0;34m\u001b[0m\u001b[0m\n\u001b[1;32m    210\u001b[0m             \u001b[0mcallback\u001b[0m\u001b[0;34m(\u001b[0m\u001b[0mresult\u001b[0m\u001b[0;34m)\u001b[0m\u001b[0;34m\u001b[0m\u001b[0;34m\u001b[0m\u001b[0m\n",
      "\u001b[0;32m/usr/local/lib/python3.6/dist-packages/joblib/_parallel_backends.py\u001b[0m in \u001b[0;36m__init__\u001b[0;34m(self, batch)\u001b[0m\n\u001b[1;32m    570\u001b[0m         \u001b[0;31m# Don't delay the application, to avoid keeping the input\u001b[0m\u001b[0;34m\u001b[0m\u001b[0;34m\u001b[0m\u001b[0;34m\u001b[0m\u001b[0m\n\u001b[1;32m    571\u001b[0m         \u001b[0;31m# arguments in memory\u001b[0m\u001b[0;34m\u001b[0m\u001b[0;34m\u001b[0m\u001b[0;34m\u001b[0m\u001b[0m\n\u001b[0;32m--> 572\u001b[0;31m         \u001b[0mself\u001b[0m\u001b[0;34m.\u001b[0m\u001b[0mresults\u001b[0m \u001b[0;34m=\u001b[0m \u001b[0mbatch\u001b[0m\u001b[0;34m(\u001b[0m\u001b[0;34m)\u001b[0m\u001b[0;34m\u001b[0m\u001b[0;34m\u001b[0m\u001b[0m\n\u001b[0m\u001b[1;32m    573\u001b[0m \u001b[0;34m\u001b[0m\u001b[0m\n\u001b[1;32m    574\u001b[0m     \u001b[0;32mdef\u001b[0m \u001b[0mget\u001b[0m\u001b[0;34m(\u001b[0m\u001b[0mself\u001b[0m\u001b[0;34m)\u001b[0m\u001b[0;34m:\u001b[0m\u001b[0;34m\u001b[0m\u001b[0;34m\u001b[0m\u001b[0m\n",
      "\u001b[0;32m/usr/local/lib/python3.6/dist-packages/joblib/parallel.py\u001b[0m in \u001b[0;36m__call__\u001b[0;34m(self)\u001b[0m\n\u001b[1;32m    251\u001b[0m         \u001b[0;32mwith\u001b[0m \u001b[0mparallel_backend\u001b[0m\u001b[0;34m(\u001b[0m\u001b[0mself\u001b[0m\u001b[0;34m.\u001b[0m\u001b[0m_backend\u001b[0m\u001b[0;34m,\u001b[0m \u001b[0mn_jobs\u001b[0m\u001b[0;34m=\u001b[0m\u001b[0mself\u001b[0m\u001b[0;34m.\u001b[0m\u001b[0m_n_jobs\u001b[0m\u001b[0;34m)\u001b[0m\u001b[0;34m:\u001b[0m\u001b[0;34m\u001b[0m\u001b[0;34m\u001b[0m\u001b[0m\n\u001b[1;32m    252\u001b[0m             return [func(*args, **kwargs)\n\u001b[0;32m--> 253\u001b[0;31m                     for func, args, kwargs in self.items]\n\u001b[0m\u001b[1;32m    254\u001b[0m \u001b[0;34m\u001b[0m\u001b[0m\n\u001b[1;32m    255\u001b[0m     \u001b[0;32mdef\u001b[0m \u001b[0m__reduce__\u001b[0m\u001b[0;34m(\u001b[0m\u001b[0mself\u001b[0m\u001b[0;34m)\u001b[0m\u001b[0;34m:\u001b[0m\u001b[0;34m\u001b[0m\u001b[0;34m\u001b[0m\u001b[0m\n",
      "\u001b[0;32m/usr/local/lib/python3.6/dist-packages/joblib/parallel.py\u001b[0m in \u001b[0;36m<listcomp>\u001b[0;34m(.0)\u001b[0m\n\u001b[1;32m    251\u001b[0m         \u001b[0;32mwith\u001b[0m \u001b[0mparallel_backend\u001b[0m\u001b[0;34m(\u001b[0m\u001b[0mself\u001b[0m\u001b[0;34m.\u001b[0m\u001b[0m_backend\u001b[0m\u001b[0;34m,\u001b[0m \u001b[0mn_jobs\u001b[0m\u001b[0;34m=\u001b[0m\u001b[0mself\u001b[0m\u001b[0;34m.\u001b[0m\u001b[0m_n_jobs\u001b[0m\u001b[0;34m)\u001b[0m\u001b[0;34m:\u001b[0m\u001b[0;34m\u001b[0m\u001b[0;34m\u001b[0m\u001b[0m\n\u001b[1;32m    252\u001b[0m             return [func(*args, **kwargs)\n\u001b[0;32m--> 253\u001b[0;31m                     for func, args, kwargs in self.items]\n\u001b[0m\u001b[1;32m    254\u001b[0m \u001b[0;34m\u001b[0m\u001b[0m\n\u001b[1;32m    255\u001b[0m     \u001b[0;32mdef\u001b[0m \u001b[0m__reduce__\u001b[0m\u001b[0;34m(\u001b[0m\u001b[0mself\u001b[0m\u001b[0;34m)\u001b[0m\u001b[0;34m:\u001b[0m\u001b[0;34m\u001b[0m\u001b[0;34m\u001b[0m\u001b[0m\n",
      "\u001b[0;32m/usr/local/lib/python3.6/dist-packages/tslearn/metrics.py\u001b[0m in \u001b[0;36mdtw\u001b[0;34m(s1, s2, global_constraint, sakoe_chiba_radius, itakura_max_slope)\u001b[0m\n\u001b[1;32m    473\u001b[0m     \"\"\"\n\u001b[1;32m    474\u001b[0m     \u001b[0ms1\u001b[0m \u001b[0;34m=\u001b[0m \u001b[0mto_time_series\u001b[0m\u001b[0;34m(\u001b[0m\u001b[0ms1\u001b[0m\u001b[0;34m,\u001b[0m \u001b[0mremove_nans\u001b[0m\u001b[0;34m=\u001b[0m\u001b[0;32mTrue\u001b[0m\u001b[0;34m)\u001b[0m\u001b[0;34m\u001b[0m\u001b[0;34m\u001b[0m\u001b[0m\n\u001b[0;32m--> 475\u001b[0;31m     \u001b[0ms2\u001b[0m \u001b[0;34m=\u001b[0m \u001b[0mto_time_series\u001b[0m\u001b[0;34m(\u001b[0m\u001b[0ms2\u001b[0m\u001b[0;34m,\u001b[0m \u001b[0mremove_nans\u001b[0m\u001b[0;34m=\u001b[0m\u001b[0;32mTrue\u001b[0m\u001b[0;34m)\u001b[0m\u001b[0;34m\u001b[0m\u001b[0;34m\u001b[0m\u001b[0m\n\u001b[0m\u001b[1;32m    476\u001b[0m \u001b[0;34m\u001b[0m\u001b[0m\n\u001b[1;32m    477\u001b[0m     mask = compute_mask(\n",
      "\u001b[0;31mKeyboardInterrupt\u001b[0m: "
     ]
    }
   ],
   "source": [
    "# We can see that the elbow is around 3 which is the optimal number of clusters\n",
    "np.random.seed(1000)\n",
    "Sum_of_squared_distances = []\n",
    "K = range(1,15)\n",
    "for k in K:\n",
    "    km = TimeSeriesKMeans(n_clusters=k, metric=\"dtw\", max_iter=5)\n",
    "    km = km.fit(Similarity_Matrix)\n",
    "    Sum_of_squared_distances.append(km.inertia_)\n",
    "\n",
    "plt.plot(K, Sum_of_squared_distances, 'bx-')\n",
    "plt.xlabel('k')\n",
    "plt.ylabel('Sum_of_squared_distances')\n",
    "plt.title('Elbow Method For Optimal k')\n",
    "plt.show()\n",
    "\n",
    "# \n",
    "km = TimeSeriesKMeans(n_clusters=3, metric=\"dtw\")\n",
    "km.fit(Similarity_Matrix)\n",
    "\n",
    "labels = km.labels_\n",
    "print(labels)"
   ]
  },
  {
   "cell_type": "markdown",
   "metadata": {
    "colab_type": "text",
    "id": "NFDURtvAdRm6"
   },
   "source": [
    "## Visulization"
   ]
  },
  {
   "cell_type": "code",
   "execution_count": null,
   "metadata": {
    "colab": {},
    "colab_type": "code",
    "id": "oaFwRA9Ubcmq"
   },
   "outputs": [],
   "source": [
    "print(clips_name)"
   ]
  },
  {
   "cell_type": "markdown",
   "metadata": {
    "colab_type": "text",
    "id": "ExS8qrJnbipc"
   },
   "source": [
    "## might not use"
   ]
  },
  {
   "cell_type": "code",
   "execution_count": null,
   "metadata": {
    "colab": {},
    "colab_type": "code",
    "id": "_kGjb09whehA"
   },
   "outputs": [],
   "source": [
    "dropIndices = ['filename', 'frame']\n",
    "Train = df.drop(dropIndices,axis=1)\n",
    "Train = Train.to_numpy()\n",
    "# We want to visualize if there is a clear distinguish between flirting actions or not\n",
    "kmeans = TimeSeriesKMeans(n_clusters=2, random_state=1)\n",
    "clusters = kmeans.fit_predict(Train)\n",
    "num_clusters = kmeans.n_clusters\n",
    "cluster_centers = kmeans.cluster_centers_\n",
    "# print(np.sum(clusters == 0))\n",
    "\n",
    "# for cluster_num in range(num_clusters):\n",
    "#     sns.scatterplot(\n",
    "#         x=Train[clusters == cluster_num, 0], y=Train[clusters == cluster_num, 1]\n",
    "#     )\n",
    "\n",
    "# plt.scatter(\n",
    "#     x=cluster_centers[:, 0], y=cluster_centers[:, 1],\n",
    "#     s=250, marker='x', c='blue'\n",
    "# )\n",
    "# plt.legend(['cluster 1', 'cluster 2', 'centroid'])\n",
    "# plt.show()"
   ]
  },
  {
   "cell_type": "markdown",
   "metadata": {
    "colab_type": "text",
    "id": "vTWstcTpm1RJ"
   },
   "source": [
    "### Social Signals"
   ]
  },
  {
   "cell_type": "code",
   "execution_count": null,
   "metadata": {
    "colab": {},
    "colab_type": "code",
    "id": "jE6CjFQsm0mQ"
   },
   "outputs": [],
   "source": [
    "# # Find the frame that belongs to the center of the \n",
    "# closest_points, _ = pairwise_distances_argmin_min(cluster_centers.reshape(2,333), Train)\n",
    "# print('The closest points to each centroids are', closest_points)\n",
    "\n",
    "# closest_points_df = pd.DataFrame().reindex_like(df).iloc[0:0]\n",
    "# # print(df.index)\n",
    "# for closest_point in closest_points:\n",
    "#     gif = df.loc[[closest_point]]\n",
    "#     closest_points_df = closest_points_df.append(gif)\n",
    "\n",
    "# closest_points_df"
   ]
  },
  {
   "cell_type": "markdown",
   "metadata": {
    "colab_type": "text",
    "id": "0xbYMWxftOI3"
   },
   "source": [
    "Comparing this to our annotation we found:\n",
    "- "
   ]
  },
  {
   "cell_type": "markdown",
   "metadata": {
    "colab_type": "text",
    "id": "rwyC4gbUpzFo"
   },
   "source": [
    "# K-Means Clustering"
   ]
  },
  {
   "cell_type": "code",
   "execution_count": null,
   "metadata": {
    "colab": {
     "base_uri": "https://localhost:8080/",
     "height": 513
    },
    "colab_type": "code",
    "id": "jTUq-2Rxp44W",
    "outputId": "e0bec609-6ce1-4a3a-b212-61e34ade8df4"
   },
   "outputs": [
    {
     "name": "stdout",
     "output_type": "stream",
     "text": [
      "Collecting tslearn\n",
      "\u001b[?25l  Downloading https://files.pythonhosted.org/packages/a7/67/aa3149fdfef2582d881ce4a5117c9e6a465d5082dd57866904ca508a157c/tslearn-0.4.1-cp36-cp36m-manylinux2010_x86_64.whl (770kB)\n",
      "\r",
      "\u001b[K     |▍                               | 10kB 14.3MB/s eta 0:00:01\r",
      "\u001b[K     |▉                               | 20kB 3.5MB/s eta 0:00:01\r",
      "\u001b[K     |█▎                              | 30kB 4.7MB/s eta 0:00:01\r",
      "\u001b[K     |█▊                              | 40kB 4.9MB/s eta 0:00:01\r",
      "\u001b[K     |██▏                             | 51kB 4.0MB/s eta 0:00:01\r",
      "\u001b[K     |██▌                             | 61kB 4.4MB/s eta 0:00:01\r",
      "\u001b[K     |███                             | 71kB 4.7MB/s eta 0:00:01\r",
      "\u001b[K     |███▍                            | 81kB 5.1MB/s eta 0:00:01\r",
      "\u001b[K     |███▉                            | 92kB 5.4MB/s eta 0:00:01\r",
      "\u001b[K     |████▎                           | 102kB 5.2MB/s eta 0:00:01\r",
      "\u001b[K     |████▊                           | 112kB 5.2MB/s eta 0:00:01\r",
      "\u001b[K     |█████                           | 122kB 5.2MB/s eta 0:00:01\r",
      "\u001b[K     |█████▌                          | 133kB 5.2MB/s eta 0:00:01\r",
      "\u001b[K     |██████                          | 143kB 5.2MB/s eta 0:00:01\r",
      "\u001b[K     |██████▍                         | 153kB 5.2MB/s eta 0:00:01\r",
      "\u001b[K     |██████▉                         | 163kB 5.2MB/s eta 0:00:01\r",
      "\u001b[K     |███████▎                        | 174kB 5.2MB/s eta 0:00:01\r",
      "\u001b[K     |███████▋                        | 184kB 5.2MB/s eta 0:00:01\r",
      "\u001b[K     |████████                        | 194kB 5.2MB/s eta 0:00:01\r",
      "\u001b[K     |████████▌                       | 204kB 5.2MB/s eta 0:00:01\r",
      "\u001b[K     |█████████                       | 215kB 5.2MB/s eta 0:00:01\r",
      "\u001b[K     |█████████▍                      | 225kB 5.2MB/s eta 0:00:01\r",
      "\u001b[K     |█████████▉                      | 235kB 5.2MB/s eta 0:00:01\r",
      "\u001b[K     |██████████▏                     | 245kB 5.2MB/s eta 0:00:01\r",
      "\u001b[K     |██████████▋                     | 256kB 5.2MB/s eta 0:00:01\r",
      "\u001b[K     |███████████                     | 266kB 5.2MB/s eta 0:00:01\r",
      "\u001b[K     |███████████▌                    | 276kB 5.2MB/s eta 0:00:01\r",
      "\u001b[K     |████████████                    | 286kB 5.2MB/s eta 0:00:01\r",
      "\u001b[K     |████████████▎                   | 296kB 5.2MB/s eta 0:00:01\r",
      "\u001b[K     |████████████▊                   | 307kB 5.2MB/s eta 0:00:01\r",
      "\u001b[K     |█████████████▏                  | 317kB 5.2MB/s eta 0:00:01\r",
      "\u001b[K     |█████████████▋                  | 327kB 5.2MB/s eta 0:00:01\r",
      "\u001b[K     |██████████████                  | 337kB 5.2MB/s eta 0:00:01\r",
      "\u001b[K     |██████████████▌                 | 348kB 5.2MB/s eta 0:00:01\r",
      "\u001b[K     |██████████████▉                 | 358kB 5.2MB/s eta 0:00:01\r",
      "\u001b[K     |███████████████▎                | 368kB 5.2MB/s eta 0:00:01\r",
      "\u001b[K     |███████████████▊                | 378kB 5.2MB/s eta 0:00:01\r",
      "\u001b[K     |████████████████▏               | 389kB 5.2MB/s eta 0:00:01\r",
      "\u001b[K     |████████████████▋               | 399kB 5.2MB/s eta 0:00:01\r",
      "\u001b[K     |█████████████████               | 409kB 5.2MB/s eta 0:00:01\r",
      "\u001b[K     |█████████████████▍              | 419kB 5.2MB/s eta 0:00:01\r",
      "\u001b[K     |█████████████████▉              | 430kB 5.2MB/s eta 0:00:01\r",
      "\u001b[K     |██████████████████▎             | 440kB 5.2MB/s eta 0:00:01\r",
      "\u001b[K     |██████████████████▊             | 450kB 5.2MB/s eta 0:00:01\r",
      "\u001b[K     |███████████████████▏            | 460kB 5.2MB/s eta 0:00:01\r",
      "\u001b[K     |███████████████████▋            | 471kB 5.2MB/s eta 0:00:01\r",
      "\u001b[K     |████████████████████            | 481kB 5.2MB/s eta 0:00:01\r",
      "\u001b[K     |████████████████████▍           | 491kB 5.2MB/s eta 0:00:01\r",
      "\u001b[K     |████████████████████▉           | 501kB 5.2MB/s eta 0:00:01\r",
      "\u001b[K     |█████████████████████▎          | 512kB 5.2MB/s eta 0:00:01\r",
      "\u001b[K     |█████████████████████▊          | 522kB 5.2MB/s eta 0:00:01\r",
      "\u001b[K     |██████████████████████          | 532kB 5.2MB/s eta 0:00:01\r",
      "\u001b[K     |██████████████████████▌         | 542kB 5.2MB/s eta 0:00:01\r",
      "\u001b[K     |███████████████████████         | 552kB 5.2MB/s eta 0:00:01\r",
      "\u001b[K     |███████████████████████▍        | 563kB 5.2MB/s eta 0:00:01\r",
      "\u001b[K     |███████████████████████▉        | 573kB 5.2MB/s eta 0:00:01\r",
      "\u001b[K     |████████████████████████▎       | 583kB 5.2MB/s eta 0:00:01\r",
      "\u001b[K     |████████████████████████▋       | 593kB 5.2MB/s eta 0:00:01\r",
      "\u001b[K     |█████████████████████████       | 604kB 5.2MB/s eta 0:00:01\r",
      "\u001b[K     |█████████████████████████▌      | 614kB 5.2MB/s eta 0:00:01\r",
      "\u001b[K     |██████████████████████████      | 624kB 5.2MB/s eta 0:00:01\r",
      "\u001b[K     |██████████████████████████▍     | 634kB 5.2MB/s eta 0:00:01\r",
      "\u001b[K     |██████████████████████████▉     | 645kB 5.2MB/s eta 0:00:01\r",
      "\u001b[K     |███████████████████████████▏    | 655kB 5.2MB/s eta 0:00:01\r",
      "\u001b[K     |███████████████████████████▋    | 665kB 5.2MB/s eta 0:00:01\r",
      "\u001b[K     |████████████████████████████    | 675kB 5.2MB/s eta 0:00:01\r",
      "\u001b[K     |████████████████████████████▌   | 686kB 5.2MB/s eta 0:00:01\r",
      "\u001b[K     |█████████████████████████████   | 696kB 5.2MB/s eta 0:00:01\r",
      "\u001b[K     |█████████████████████████████▍  | 706kB 5.2MB/s eta 0:00:01\r",
      "\u001b[K     |█████████████████████████████▊  | 716kB 5.2MB/s eta 0:00:01\r",
      "\u001b[K     |██████████████████████████████▏ | 727kB 5.2MB/s eta 0:00:01\r",
      "\u001b[K     |██████████████████████████████▋ | 737kB 5.2MB/s eta 0:00:01\r",
      "\u001b[K     |███████████████████████████████ | 747kB 5.2MB/s eta 0:00:01\r",
      "\u001b[K     |███████████████████████████████▌| 757kB 5.2MB/s eta 0:00:01\r",
      "\u001b[K     |███████████████████████████████▉| 768kB 5.2MB/s eta 0:00:01\r",
      "\u001b[K     |████████████████████████████████| 778kB 5.2MB/s \n",
      "\u001b[?25hRequirement already satisfied: scikit-learn in /usr/local/lib/python3.6/dist-packages (from tslearn) (0.22.2.post1)\n",
      "Requirement already satisfied: scipy in /usr/local/lib/python3.6/dist-packages (from tslearn) (1.4.1)\n",
      "Requirement already satisfied: numba in /usr/local/lib/python3.6/dist-packages (from tslearn) (0.48.0)\n",
      "Requirement already satisfied: numpy in /usr/local/lib/python3.6/dist-packages (from tslearn) (1.18.5)\n",
      "Requirement already satisfied: Cython in /usr/local/lib/python3.6/dist-packages (from tslearn) (0.29.21)\n",
      "Requirement already satisfied: joblib in /usr/local/lib/python3.6/dist-packages (from tslearn) (0.16.0)\n",
      "Requirement already satisfied: setuptools in /usr/local/lib/python3.6/dist-packages (from numba->tslearn) (49.2.0)\n",
      "Requirement already satisfied: llvmlite<0.32.0,>=0.31.0dev0 in /usr/local/lib/python3.6/dist-packages (from numba->tslearn) (0.31.0)\n",
      "Installing collected packages: tslearn\n",
      "Successfully installed tslearn-0.4.1\n"
     ]
    },
    {
     "name": "stderr",
     "output_type": "stream",
     "text": [
      "/usr/local/lib/python3.6/dist-packages/sklearn/utils/deprecation.py:144: FutureWarning: The sklearn.cluster.k_means_ module is  deprecated in version 0.22 and will be removed in version 0.24. The corresponding classes / functions should instead be imported from sklearn.cluster. Anything that cannot be imported from sklearn.cluster is now part of the private API.\n",
      "  warnings.warn(message, FutureWarning)\n",
      "\n",
      "  0%|          | 0/10 [00:00<?, ?it/s]\u001b[A\n",
      " 10%|█         | 1/10 [00:08<01:13,  8.15s/it]\u001b[A\n",
      " 20%|██        | 2/10 [00:16<01:06,  8.30s/it]\u001b[A\n",
      " 30%|███       | 3/10 [00:25<00:58,  8.40s/it]\u001b[A\n",
      " 40%|████      | 4/10 [00:33<00:49,  8.29s/it]\u001b[A\n",
      " 50%|█████     | 5/10 [00:41<00:41,  8.21s/it]\u001b[A\n",
      " 60%|██████    | 6/10 [00:49<00:33,  8.28s/it]\u001b[A\n",
      " 70%|███████   | 7/10 [00:58<00:25,  8.50s/it]\u001b[A\n",
      " 80%|████████  | 8/10 [01:08<00:17,  8.76s/it]\u001b[A\n",
      " 90%|█████████ | 9/10 [01:18<00:09,  9.10s/it]\u001b[A\n",
      "100%|██████████| 10/10 [01:32<00:00,  9.22s/it]"
     ]
    },
    {
     "name": "stdout",
     "output_type": "stream",
     "text": [
      "Saving kmeans_and_silhouette_score_from_5_to_15.pickle\n"
     ]
    },
    {
     "name": "stderr",
     "output_type": "stream",
     "text": [
      "\n"
     ]
    }
   ],
   "source": [
    "!pip install tslearn\n",
    "from tslearn.clustering import TimeSeriesKMeans, silhouette_score\n",
    "from collections import defaultdict\n",
    "from tqdm import tqdm\n",
    "import pickle\n",
    "\n",
    "ts_seed = 85510309\n",
    "ss_seed = 10474245\n",
    "\n",
    "\n",
    "start, stop = 5, 15\n",
    "\n",
    "savename = f\"kmeans_and_silhouette_score_from_{start}_to_{stop}.pickle\"\n",
    "\n",
    "score_per_run = defaultdict(list)\n",
    "\n",
    "if os.path.isfile(savename):\n",
    "  print(f\"Loading saved k-means dict and silhouette scores from {save_location}\")\n",
    "  with open(savename, 'rb') as f:\n",
    "    score_per_run = pickle.load(f)\n",
    "else:\n",
    "  for i in tqdm(range(start, stop)):\n",
    "    km = TimeSeriesKMeans(n_clusters=i, metric=\"dtw\", random_state=ts_seed)\n",
    "    km.fit(Similarity_Matrix)\n",
    "    ss = silhouette_score(Similarity_Matrix, labels=km.labels_, metric='dtw', random_state=ss_seed)\n",
    "\n",
    "    score_per_run[i] = [ss, km]\n",
    "\n",
    "  print(f\"Saving {savename}\")\n",
    "  with open(savename, 'wb') as f:\n",
    "    pickle.dump(score_per_run, f)"
   ]
  },
  {
   "cell_type": "code",
   "execution_count": null,
   "metadata": {
    "colab": {
     "base_uri": "https://localhost:8080/",
     "height": 51
    },
    "colab_type": "code",
    "id": "8UwdnQSrqxyf",
    "outputId": "b270d97c-2873-486d-b0f6-502de1401391"
   },
   "outputs": [
    {
     "name": "stdout",
     "output_type": "stream",
     "text": [
      "[8, 6, 14, 9, 10, 12, 11, 13, 7, 5]\n",
      "Best (smallest) silhouette score is with 8 categories\n"
     ]
    }
   ],
   "source": [
    "# print(sorted([3,1,7]))  # sort is ascending\n",
    "s = sorted(score_per_run, key=lambda k: score_per_run[k][0])  # sort by silhouette score\n",
    "print(s)\n",
    "print(f\"Best (smallest) silhouette score is with {s[0]} categories\")\n",
    "\n",
    "num_metrics = s[0]"
   ]
  },
  {
   "cell_type": "markdown",
   "metadata": {
    "colab_type": "text",
    "id": "IJ-FEcxmtcDy"
   },
   "source": [
    "# K-Nearest Neighbours Classification"
   ]
  },
  {
   "cell_type": "code",
   "execution_count": null,
   "metadata": {
    "colab": {},
    "colab_type": "code",
    "id": "7Hl1DV5r1ine"
   },
   "outputs": [],
   "source": [
    "# import packages\n",
    "# https://www.saedsayad.com/k_nearest_neighbors.htm\n",
    "from sklearn.neighbors import KNeighborsClassifier\n",
    "from sklearn.model_selection import train_test_split"
   ]
  },
  {
   "cell_type": "code",
   "execution_count": null,
   "metadata": {
    "colab": {
     "base_uri": "https://localhost:8080/",
     "height": 34
    },
    "colab_type": "code",
    "id": "QTWfm3y0t2mW",
    "outputId": "d84f987b-151f-4b5e-bcb8-4c03aa3aa201"
   },
   "outputs": [
    {
     "name": "stdout",
     "output_type": "stream",
     "text": [
      "k-NN Accuracy (without Cross-Validation): 0.6666666666666666\n"
     ]
    }
   ],
   "source": [
    "def is_flirting(filename):\n",
    "  return filename.startswith(\"flirt-\")\n",
    "\n",
    "# label all clips, flirting: 1, non-flirting: 0\n",
    "# df['Class'] = 0\n",
    "# df.loc[is_flirting(df['filename'].str), 'Class'] = 1\n",
    "# print(df['Class'].value_counts())\n",
    "num_clips = df.filename.unique()\n",
    "\n",
    "labels = []\n",
    "for i in range(0, len(num_clips)):\n",
    "  clip_filename = num_clips[i]\n",
    "  if is_flirting(clip_filename):\n",
    "    label = 1\n",
    "  else:\n",
    "    label = 0\n",
    "  labels.append(label)\n",
    "\n",
    "features = df.keys()\n",
    "# print(features)\n",
    "# Split the dataset into train (80%) and test (20%) subsets.\n",
    "X_train, X_test, y_train, y_test = train_test_split(\n",
    "    Similarity_Matrix, labels, test_size=0.2, shuffle=False\n",
    ")\n",
    "\n",
    "# Create a classifier with k=1\n",
    "knn = KNeighborsClassifier(n_neighbors=10)\n",
    "\n",
    "# Train\n",
    "knn.fit(X_train, y_train)\n",
    "y_pred = knn.predict(X_test)\n",
    "print('k-NN Accuracy (without Cross-Validation):', knn.score(X_test, y_test))"
   ]
  },
  {
   "cell_type": "markdown",
   "metadata": {
    "colab_type": "text",
    "id": "0ehwU3e7LSLC"
   },
   "source": [
    "## Dimension Deduction and Visualization"
   ]
  },
  {
   "cell_type": "code",
   "execution_count": null,
   "metadata": {
    "colab": {},
    "colab_type": "code",
    "id": "5gmqSnYCLZXz"
   },
   "outputs": [],
   "source": [
    "import numpy as np\n",
    "import matplotlib.pyplot as plt\n",
    "from sklearn import datasets\n",
    "from sklearn.model_selection import train_test_split\n",
    "from sklearn.decomposition import PCA\n",
    "from sklearn.discriminant_analysis import LinearDiscriminantAnalysis\n",
    "from sklearn.neighbors import (KNeighborsClassifier,\n",
    "                               NeighborhoodComponentsAnalysis)\n",
    "from sklearn.pipeline import make_pipeline\n",
    "from sklearn.preprocessing import StandardScaler"
   ]
  },
  {
   "cell_type": "code",
   "execution_count": null,
   "metadata": {
    "colab": {
     "base_uri": "https://localhost:8080/",
     "height": 232
    },
    "colab_type": "code",
    "id": "g_D92gZ-7OBD",
    "outputId": "d02fedab-e240-49af-ce7f-526620f41d5e"
   },
   "outputs": [
    {
     "ename": "NameError",
     "evalue": "ignored",
     "output_type": "error",
     "traceback": [
      "\u001b[0;31m---------------------------------------------------------------------------\u001b[0m",
      "\u001b[0;31mNameError\u001b[0m                                 Traceback (most recent call last)",
      "\u001b[0;32m<ipython-input-4-61f9418a7bde>\u001b[0m in \u001b[0;36m<module>\u001b[0;34m()\u001b[0m\n\u001b[1;32m      7\u001b[0m \u001b[0;34m\u001b[0m\u001b[0m\n\u001b[1;32m      8\u001b[0m \u001b[0;31m# Split into train/test\u001b[0m\u001b[0;34m\u001b[0m\u001b[0;34m\u001b[0m\u001b[0;34m\u001b[0m\u001b[0m\n\u001b[0;32m----> 9\u001b[0;31m X_train, X_test, y_train, y_test =     train_test_split(Similarity_Matrix, labels, test_size=0.2, stratify=labels,\n\u001b[0m\u001b[1;32m     10\u001b[0m                      random_state=random_state)\n\u001b[1;32m     11\u001b[0m \u001b[0;34m\u001b[0m\u001b[0m\n",
      "\u001b[0;31mNameError\u001b[0m: name 'Similarity_Matrix' is not defined"
     ]
    }
   ],
   "source": [
    "# Reference:\n",
    "# https://scikit-learn.org/stable/auto_examples/neighbors/plot_nca_dim_reduction.html\n",
    "\n",
    "np.random.seed(1000)\n",
    "n_neighbors = 24\n",
    "random_state = 0\n",
    "\n",
    "# Split into train/test\n",
    "X_train, X_test, y_train, y_test = \\\n",
    "    train_test_split(Similarity_Matrix, labels, test_size=0.2, stratify=labels,\n",
    "                     random_state=random_state)\n",
    "\n",
    "dim = len(Similarity_Matrix[0])\n",
    "n_classes = 2\n",
    "\n",
    "# Reduce dimension to 2 with NeighborhoodComponentAnalysis\n",
    "nca = make_pipeline(StandardScaler(),\n",
    "                    NeighborhoodComponentsAnalysis(n_components=2,\n",
    "                                                   random_state=random_state))\n",
    "\n",
    "# Use a nearest neighbor classifier to evaluate the methods\n",
    "knn = KNeighborsClassifier(n_neighbors=n_neighbors)\n",
    "\n",
    "\n",
    "name = 'NCA'\n",
    "model = nca\n",
    "plt.figure()\n",
    "\n",
    "# Fit the method's model\n",
    "model.fit(X_train, y_train)\n",
    "\n",
    "# Fit a nearest neighbor classifier on the embedded training set\n",
    "knn.fit(model.transform(X_train), y_train)\n",
    "y_pred = knn.predict(model.transform(X_test))\n",
    "# Compute the nearest neighbor accuracy on the embedded test set\n",
    "acc_knn = knn.score(model.transform(X_test), y_test)\n",
    "\n",
    "# Embed the data set in 2 dimensions using the fitted model\n",
    "X_embedded = model.transform(Similarity_Matrix)\n",
    "# Plot the projected points and show the evaluation score\n",
    "plt.scatter(X_embedded[:, 0], X_embedded[:, 1], c=labels, s=30)\n",
    "plt.title(\"{}, KNN (k={})\\nTest accuracy = {:.2f}\".format(name,\n",
    "                                                          n_neighbors,\n",
    "                                                          acc_knn))\n",
    "plt.show()"
   ]
  },
  {
   "cell_type": "code",
   "execution_count": null,
   "metadata": {
    "colab": {
     "base_uri": "https://localhost:8080/",
     "height": 374
    },
    "colab_type": "code",
    "id": "p8JQc29QIryH",
    "outputId": "199a7c50-eae8-459f-9326-5becaee9b776"
   },
   "outputs": [
    {
     "name": "stdout",
     "output_type": "stream",
     "text": [
      "1 flirt-qkq9k5FewvI-4 1\n",
      "0 nonflirt-pNqEDwpIm9-1 0\n",
      "1 flirt-1 1\n",
      "1 flirt-True.Blood.S01E02.720p.HDTV.x264-2HD-1 1\n",
      "0 nonflirt-lyvAjZw6O_Q-10 0\n",
      "0 nonflirt-PJP-C7TCaM8-6 0\n",
      "0 nonflirt-v2VgA_MCNDg-0 0\n",
      "0 flirt-ImEnWAVRLU0-0 1\n",
      "1 flirt-1v98t9YKPmc-1 1\n",
      "1 nonflirt-PJP-C7TCaM8-0 0\n",
      "0 flirt-WAkZz1hV7_c-3 1\n",
      "1 nonflirt-PJP-C7TCaM8-1 0\n",
      "1 flirt-5Vl8Wp3aBwQ-1 1\n",
      "1 nonflirt-2 0\n",
      "1 nonflirt-Dyri6DRZltk 0\n",
      "1 flirt-1v98t9YKPmc-2 1\n",
      "1 flirt-4 1\n",
      "1 nonflirt-1 0\n",
      "1 flirt-qUxXbU2ModY-0 1\n",
      "1 flirt-2 1\n",
      "1 flirt-True.Blood.S01E01.720p.HDTV.x264-2HD-2 1\n"
     ]
    }
   ],
   "source": [
    "for i in range(0, len(y_pred)):\n",
    "  offset = len(X_train)\n",
    "  print(y_pred[i], num_clips[offset+i], y_test[i])"
   ]
  },
  {
   "cell_type": "markdown",
   "metadata": {
    "colab_type": "text",
    "id": "LsHFQp0lOFbm"
   },
   "source": [
    "Analyzation (note that this is compared to the Clips&Annotation.ipynb): \n",
    "1. PJP-C7TCaM8-0  \n",
    "This is pretty surprising because the boy detected looks totally angry instead of having any intention of doing flirtious action.\n",
    "\n",
    "2. WAkZz1hV7_c-3  \n",
    "This is another unexpected results since his head turns right + looks away then back + lip droo + head small movement with smile and also smacking lips. The combinations of these features should give a positive result, label it as a flirting action\n",
    "\n",
    "3. Dyri6DRZltk  \n",
    "This one might due to the hand movement and the high picth voice\n",
    "\n",
    "4. ImEnWAVRLU0-0  \n",
    "I think that this was predicted as non-flirting because there is no wink or the clip was actually supposed to be labelled as non-flirting.\n",
    "\n",
    "5. nonflirt-2  \n",
    "Somewhat surprising because the man with the cellphone's tone of voice is  is agitated. Maybe the model detected the presence of two people in the frame.\n",
    "\n",
    "6. nonflirt-1  \n",
    "Somewhat surprising because the child's facial expression seems angry.\n"
   ]
  },
  {
   "cell_type": "markdown",
   "metadata": {
    "colab_type": "text",
    "id": "9dSnPTNW1Biv"
   },
   "source": [
    "# Evaluation"
   ]
  },
  {
   "cell_type": "code",
   "execution_count": null,
   "metadata": {
    "colab": {},
    "colab_type": "code",
    "id": "et9xwy-R1WoR"
   },
   "outputs": [],
   "source": [
    "# import packages\n",
    "from sklearn.model_selection import cross_val_score\n",
    "from sklearn.metrics import classification_report, confusion_matrix"
   ]
  },
  {
   "cell_type": "code",
   "execution_count": null,
   "metadata": {
    "colab": {
     "base_uri": "https://localhost:8080/",
     "height": 51
    },
    "colab_type": "code",
    "id": "QF1lYWVA1E-S",
    "outputId": "f40b038c-48cb-4dab-fca2-7e185bda2666"
   },
   "outputs": [
    {
     "name": "stdout",
     "output_type": "stream",
     "text": [
      "Cross-Validation Scores: [0.61904762 0.76190476 0.76190476 0.7        0.7       ]\n",
      "Mean Cross-Validation Score:0.7085714285714285\n"
     ]
    }
   ],
   "source": [
    "# Train model with a cross-validation (CV) generator with 5 folds. Note: the \n",
    "# CV generator uses `sklearn.model_selection.StratifiedKFold`.\n",
    "# cv_scores = cross_val_score(knn, Similarity_Matrix, labels, cv=5)\n",
    "cv_scores = cross_val_score(knn, X_embedded, labels, cv=5)\n",
    "\n",
    "print('Cross-Validation Scores:', cv_scores)\n",
    "print('Mean Cross-Validation Score:{}'.format(np.mean(cv_scores)))"
   ]
  },
  {
   "cell_type": "markdown",
   "metadata": {
    "colab_type": "text",
    "id": "ws-oGTGPffEx"
   },
   "source": [
    "## Confusion Matrix & Classification Report"
   ]
  },
  {
   "cell_type": "code",
   "execution_count": null,
   "metadata": {
    "colab": {
     "base_uri": "https://localhost:8080/",
     "height": 204
    },
    "colab_type": "code",
    "id": "Si64bDcqfiOX",
    "outputId": "b80006a3-a470-4c80-fe6d-07b5bbde473a"
   },
   "outputs": [
    {
     "name": "stdout",
     "output_type": "stream",
     "text": [
      "[[9 1]\n",
      " [3 8]]\n",
      "              precision    recall  f1-score   support\n",
      "\n",
      "           0       0.75      0.90      0.82        10\n",
      "           1       0.89      0.73      0.80        11\n",
      "\n",
      "    accuracy                           0.81        21\n",
      "   macro avg       0.82      0.81      0.81        21\n",
      "weighted avg       0.82      0.81      0.81        21\n",
      "\n"
     ]
    }
   ],
   "source": [
    "# Reference:\n",
    "# https://stackabuse.com/k-nearest-neighbors-algorithm-in-python-and-scikit-learn/\n",
    "\n",
    "print(confusion_matrix(y_test, y_pred))\n",
    "print(classification_report(y_test, y_pred))"
   ]
  },
  {
   "cell_type": "markdown",
   "metadata": {
    "colab_type": "text",
    "id": "GZkSiiFmgHPL"
   },
   "source": [
    "The results show that our KNN algorithm was able to classify all the 21 records in the test set with 81% accuracy, which is very good. Although the algorithm performed very well with this dataset, don't expect the same results with all applications. As noted earlier, KNN doesn't always perform as well with high-dimensionality or categorical features."
   ]
  },
  {
   "cell_type": "markdown",
   "metadata": {
    "colab_type": "text",
    "id": "vYVMTuRFgOuV"
   },
   "source": [
    "## Comparing Error Rate with the K value"
   ]
  }
 ],
 "metadata": {
  "colab": {
   "collapsed_sections": [
    "uf-G_OjSCBUb",
    "Qt_OewYICDi2",
    "ChiF-exqhffm",
    "rwyC4gbUpzFo"
   ],
   "name": "FinalModel.ipynb",
   "provenance": []
  },
  "kernelspec": {
   "display_name": "Python 3",
   "language": "python",
   "name": "python3"
  },
  "language_info": {
   "codemirror_mode": {
    "name": "ipython",
    "version": 3
   },
   "file_extension": ".py",
   "mimetype": "text/x-python",
   "name": "python",
   "nbconvert_exporter": "python",
   "pygments_lexer": "ipython3",
   "version": "3.8.2"
  }
 },
 "nbformat": 4,
 "nbformat_minor": 1
}
