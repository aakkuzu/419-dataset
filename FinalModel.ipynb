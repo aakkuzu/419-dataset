{
 "cells": [
  {
   "cell_type": "markdown",
   "metadata": {
    "colab_type": "text",
    "id": "uZWgMbpZl0xV"
   },
   "source": [
    "# Import Preprocessed Data"
   ]
  },
  {
   "cell_type": "code",
   "execution_count": null,
   "metadata": {
    "colab": {},
    "colab_type": "code",
    "id": "1VXQPwgdl32u"
   },
   "outputs": [],
   "source": [
    "#PROJECT_ROOT = \"/content/drive/My Drive/CMPT419/Project\" #@param [\"/content/drive/My Drive/CMPT419/Project\", \"/content/drive/My Drive/school-419-project\"] {allow-input: true}"
   ]
  },
  {
   "cell_type": "code",
   "execution_count": null,
   "metadata": {
    "colab": {
     "base_uri": "https://localhost:8080/",
     "height": 139
    },
    "colab_type": "code",
    "id": "806DsIpfmE_T",
    "outputId": "931e377a-b00c-4970-b90e-61e46f2b0281"
   },
   "outputs": [
    {
     "name": "stdout",
     "output_type": "stream",
     "text": [
      "Go to this URL in a browser: https://accounts.google.com/o/oauth2/auth?client_id=947318989803-6bn6qk8qdgf4n4g3pfee6491hc0brc4i.apps.googleusercontent.com&redirect_uri=urn%3aietf%3awg%3aoauth%3a2.0%3aoob&scope=email%20https%3a%2f%2fwww.googleapis.com%2fauth%2fdocs.test%20https%3a%2f%2fwww.googleapis.com%2fauth%2fdrive%20https%3a%2f%2fwww.googleapis.com%2fauth%2fdrive.photos.readonly%20https%3a%2f%2fwww.googleapis.com%2fauth%2fpeopleapi.readonly&response_type=code\n",
      "\n",
      "Enter your authorization code:\n",
      "··········\n",
      "Mounted at /content/drive/\n",
      "/content/drive/My Drive/CMPT419/Project\n"
     ]
    }
   ],
   "source": [
    "#from google.colab import drive\n",
    "#drive.mount('/content/drive/')\n",
    "#%cd {PROJECT_ROOT}"
   ]
  },
  {
   "cell_type": "code",
   "execution_count": 28,
   "metadata": {
    "colab": {
     "base_uri": "https://localhost:8080/",
     "height": 363
    },
    "colab_type": "code",
    "id": "W_rGY5Xcmdax",
    "outputId": "4094fa2d-c91b-4a15-f0b2-f27e524471b0"
   },
   "outputs": [
    {
     "name": "stdout",
     "output_type": "stream",
     "text": [
      "Loading combined CSV's from file\n"
     ]
    },
    {
     "data": {
      "text/html": [
       "<div>\n",
       "<style scoped>\n",
       "    .dataframe tbody tr th:only-of-type {\n",
       "        vertical-align: middle;\n",
       "    }\n",
       "\n",
       "    .dataframe tbody tr th {\n",
       "        vertical-align: top;\n",
       "    }\n",
       "\n",
       "    .dataframe thead th {\n",
       "        text-align: right;\n",
       "    }\n",
       "</style>\n",
       "<table border=\"1\" class=\"dataframe\">\n",
       "  <thead>\n",
       "    <tr style=\"text-align: right;\">\n",
       "      <th></th>\n",
       "      <th>frame</th>\n",
       "      <th>face_id</th>\n",
       "      <th>timestamp</th>\n",
       "      <th>confidence</th>\n",
       "      <th>success</th>\n",
       "      <th>gaze_0_x</th>\n",
       "      <th>gaze_0_y</th>\n",
       "      <th>gaze_0_z</th>\n",
       "      <th>gaze_1_x</th>\n",
       "      <th>gaze_1_y</th>\n",
       "      <th>...</th>\n",
       "      <th>AU12_c</th>\n",
       "      <th>AU14_c</th>\n",
       "      <th>AU15_c</th>\n",
       "      <th>AU17_c</th>\n",
       "      <th>AU20_c</th>\n",
       "      <th>AU23_c</th>\n",
       "      <th>AU25_c</th>\n",
       "      <th>AU26_c</th>\n",
       "      <th>AU28_c</th>\n",
       "      <th>AU45_c</th>\n",
       "    </tr>\n",
       "  </thead>\n",
       "  <tbody>\n",
       "    <tr>\n",
       "      <th>count</th>\n",
       "      <td>22935.000000</td>\n",
       "      <td>22935.000000</td>\n",
       "      <td>22935.000000</td>\n",
       "      <td>22935.000000</td>\n",
       "      <td>22935.000000</td>\n",
       "      <td>22935.000000</td>\n",
       "      <td>22935.000000</td>\n",
       "      <td>22935.000000</td>\n",
       "      <td>22935.000000</td>\n",
       "      <td>22935.000000</td>\n",
       "      <td>...</td>\n",
       "      <td>22935.000000</td>\n",
       "      <td>22935.000000</td>\n",
       "      <td>22935.000000</td>\n",
       "      <td>22935.000000</td>\n",
       "      <td>22935.000000</td>\n",
       "      <td>22935.000000</td>\n",
       "      <td>22935.000000</td>\n",
       "      <td>22935.000000</td>\n",
       "      <td>22935.000000</td>\n",
       "      <td>22935.000000</td>\n",
       "    </tr>\n",
       "    <tr>\n",
       "      <th>mean</th>\n",
       "      <td>155.616133</td>\n",
       "      <td>0.501809</td>\n",
       "      <td>4.605910</td>\n",
       "      <td>0.751813</td>\n",
       "      <td>0.766122</td>\n",
       "      <td>0.036090</td>\n",
       "      <td>0.203211</td>\n",
       "      <td>-0.663631</td>\n",
       "      <td>-0.076915</td>\n",
       "      <td>0.208771</td>\n",
       "      <td>...</td>\n",
       "      <td>0.294790</td>\n",
       "      <td>0.399913</td>\n",
       "      <td>0.581600</td>\n",
       "      <td>0.286767</td>\n",
       "      <td>0.381905</td>\n",
       "      <td>0.208197</td>\n",
       "      <td>0.404229</td>\n",
       "      <td>0.323261</td>\n",
       "      <td>0.406584</td>\n",
       "      <td>0.318552</td>\n",
       "    </tr>\n",
       "    <tr>\n",
       "      <th>std</th>\n",
       "      <td>164.296348</td>\n",
       "      <td>0.710695</td>\n",
       "      <td>4.882572</td>\n",
       "      <td>0.367902</td>\n",
       "      <td>0.423305</td>\n",
       "      <td>0.332307</td>\n",
       "      <td>0.171565</td>\n",
       "      <td>0.378508</td>\n",
       "      <td>0.330183</td>\n",
       "      <td>0.175701</td>\n",
       "      <td>...</td>\n",
       "      <td>0.455958</td>\n",
       "      <td>0.489891</td>\n",
       "      <td>0.493307</td>\n",
       "      <td>0.452262</td>\n",
       "      <td>0.485864</td>\n",
       "      <td>0.406027</td>\n",
       "      <td>0.490753</td>\n",
       "      <td>0.467732</td>\n",
       "      <td>0.491207</td>\n",
       "      <td>0.465925</td>\n",
       "    </tr>\n",
       "    <tr>\n",
       "      <th>min</th>\n",
       "      <td>1.000000</td>\n",
       "      <td>0.000000</td>\n",
       "      <td>0.000000</td>\n",
       "      <td>0.000000</td>\n",
       "      <td>0.000000</td>\n",
       "      <td>-0.805486</td>\n",
       "      <td>-0.448546</td>\n",
       "      <td>-0.999994</td>\n",
       "      <td>-0.914196</td>\n",
       "      <td>-0.414886</td>\n",
       "      <td>...</td>\n",
       "      <td>0.000000</td>\n",
       "      <td>0.000000</td>\n",
       "      <td>0.000000</td>\n",
       "      <td>0.000000</td>\n",
       "      <td>0.000000</td>\n",
       "      <td>0.000000</td>\n",
       "      <td>0.000000</td>\n",
       "      <td>0.000000</td>\n",
       "      <td>0.000000</td>\n",
       "      <td>0.000000</td>\n",
       "    </tr>\n",
       "    <tr>\n",
       "      <th>25%</th>\n",
       "      <td>46.000000</td>\n",
       "      <td>0.000000</td>\n",
       "      <td>1.600000</td>\n",
       "      <td>0.770000</td>\n",
       "      <td>1.000000</td>\n",
       "      <td>-0.196749</td>\n",
       "      <td>0.000000</td>\n",
       "      <td>-0.932839</td>\n",
       "      <td>-0.361876</td>\n",
       "      <td>0.000000</td>\n",
       "      <td>...</td>\n",
       "      <td>0.000000</td>\n",
       "      <td>0.000000</td>\n",
       "      <td>0.000000</td>\n",
       "      <td>0.000000</td>\n",
       "      <td>0.000000</td>\n",
       "      <td>0.000000</td>\n",
       "      <td>0.000000</td>\n",
       "      <td>0.000000</td>\n",
       "      <td>0.000000</td>\n",
       "      <td>0.000000</td>\n",
       "    </tr>\n",
       "    <tr>\n",
       "      <th>50%</th>\n",
       "      <td>97.000000</td>\n",
       "      <td>0.000000</td>\n",
       "      <td>3.365000</td>\n",
       "      <td>0.980000</td>\n",
       "      <td>1.000000</td>\n",
       "      <td>0.000000</td>\n",
       "      <td>0.210941</td>\n",
       "      <td>-0.857065</td>\n",
       "      <td>0.000000</td>\n",
       "      <td>0.219472</td>\n",
       "      <td>...</td>\n",
       "      <td>0.000000</td>\n",
       "      <td>0.000000</td>\n",
       "      <td>1.000000</td>\n",
       "      <td>0.000000</td>\n",
       "      <td>0.000000</td>\n",
       "      <td>0.000000</td>\n",
       "      <td>0.000000</td>\n",
       "      <td>0.000000</td>\n",
       "      <td>0.000000</td>\n",
       "      <td>0.000000</td>\n",
       "    </tr>\n",
       "    <tr>\n",
       "      <th>75%</th>\n",
       "      <td>188.000000</td>\n",
       "      <td>1.000000</td>\n",
       "      <td>5.772000</td>\n",
       "      <td>0.980000</td>\n",
       "      <td>1.000000</td>\n",
       "      <td>0.286586</td>\n",
       "      <td>0.324906</td>\n",
       "      <td>-0.578735</td>\n",
       "      <td>0.125412</td>\n",
       "      <td>0.340716</td>\n",
       "      <td>...</td>\n",
       "      <td>1.000000</td>\n",
       "      <td>1.000000</td>\n",
       "      <td>1.000000</td>\n",
       "      <td>1.000000</td>\n",
       "      <td>1.000000</td>\n",
       "      <td>0.000000</td>\n",
       "      <td>1.000000</td>\n",
       "      <td>1.000000</td>\n",
       "      <td>1.000000</td>\n",
       "      <td>1.000000</td>\n",
       "    </tr>\n",
       "    <tr>\n",
       "      <th>max</th>\n",
       "      <td>837.000000</td>\n",
       "      <td>3.000000</td>\n",
       "      <td>34.868000</td>\n",
       "      <td>0.980000</td>\n",
       "      <td>1.000000</td>\n",
       "      <td>0.931122</td>\n",
       "      <td>0.726961</td>\n",
       "      <td>0.000000</td>\n",
       "      <td>0.893593</td>\n",
       "      <td>0.843826</td>\n",
       "      <td>...</td>\n",
       "      <td>1.000000</td>\n",
       "      <td>1.000000</td>\n",
       "      <td>1.000000</td>\n",
       "      <td>1.000000</td>\n",
       "      <td>1.000000</td>\n",
       "      <td>1.000000</td>\n",
       "      <td>1.000000</td>\n",
       "      <td>1.000000</td>\n",
       "      <td>1.000000</td>\n",
       "      <td>1.000000</td>\n",
       "    </tr>\n",
       "  </tbody>\n",
       "</table>\n",
       "<p>8 rows × 334 columns</p>\n",
       "</div>"
      ],
      "text/plain": [
       "              frame       face_id     timestamp    confidence       success  \\\n",
       "count  22935.000000  22935.000000  22935.000000  22935.000000  22935.000000   \n",
       "mean     155.616133      0.501809      4.605910      0.751813      0.766122   \n",
       "std      164.296348      0.710695      4.882572      0.367902      0.423305   \n",
       "min        1.000000      0.000000      0.000000      0.000000      0.000000   \n",
       "25%       46.000000      0.000000      1.600000      0.770000      1.000000   \n",
       "50%       97.000000      0.000000      3.365000      0.980000      1.000000   \n",
       "75%      188.000000      1.000000      5.772000      0.980000      1.000000   \n",
       "max      837.000000      3.000000     34.868000      0.980000      1.000000   \n",
       "\n",
       "           gaze_0_x      gaze_0_y      gaze_0_z      gaze_1_x      gaze_1_y  \\\n",
       "count  22935.000000  22935.000000  22935.000000  22935.000000  22935.000000   \n",
       "mean       0.036090      0.203211     -0.663631     -0.076915      0.208771   \n",
       "std        0.332307      0.171565      0.378508      0.330183      0.175701   \n",
       "min       -0.805486     -0.448546     -0.999994     -0.914196     -0.414886   \n",
       "25%       -0.196749      0.000000     -0.932839     -0.361876      0.000000   \n",
       "50%        0.000000      0.210941     -0.857065      0.000000      0.219472   \n",
       "75%        0.286586      0.324906     -0.578735      0.125412      0.340716   \n",
       "max        0.931122      0.726961      0.000000      0.893593      0.843826   \n",
       "\n",
       "       ...        AU12_c        AU14_c        AU15_c        AU17_c  \\\n",
       "count  ...  22935.000000  22935.000000  22935.000000  22935.000000   \n",
       "mean   ...      0.294790      0.399913      0.581600      0.286767   \n",
       "std    ...      0.455958      0.489891      0.493307      0.452262   \n",
       "min    ...      0.000000      0.000000      0.000000      0.000000   \n",
       "25%    ...      0.000000      0.000000      0.000000      0.000000   \n",
       "50%    ...      0.000000      0.000000      1.000000      0.000000   \n",
       "75%    ...      1.000000      1.000000      1.000000      1.000000   \n",
       "max    ...      1.000000      1.000000      1.000000      1.000000   \n",
       "\n",
       "             AU20_c        AU23_c        AU25_c        AU26_c        AU28_c  \\\n",
       "count  22935.000000  22935.000000  22935.000000  22935.000000  22935.000000   \n",
       "mean       0.381905      0.208197      0.404229      0.323261      0.406584   \n",
       "std        0.485864      0.406027      0.490753      0.467732      0.491207   \n",
       "min        0.000000      0.000000      0.000000      0.000000      0.000000   \n",
       "25%        0.000000      0.000000      0.000000      0.000000      0.000000   \n",
       "50%        0.000000      0.000000      0.000000      0.000000      0.000000   \n",
       "75%        1.000000      0.000000      1.000000      1.000000      1.000000   \n",
       "max        1.000000      1.000000      1.000000      1.000000      1.000000   \n",
       "\n",
       "             AU45_c  \n",
       "count  22935.000000  \n",
       "mean       0.318552  \n",
       "std        0.465925  \n",
       "min        0.000000  \n",
       "25%        0.000000  \n",
       "50%        0.000000  \n",
       "75%        1.000000  \n",
       "max        1.000000  \n",
       "\n",
       "[8 rows x 334 columns]"
      ]
     },
     "execution_count": 28,
     "metadata": {},
     "output_type": "execute_result"
    }
   ],
   "source": [
    "# Import Openface's data\n",
    "import pandas as pd\n",
    "import os\n",
    "savename = \"aggregated_openface_data.pickle\"\n",
    "\n",
    "openface_csvs = \"./openface_processed/multi\"\n",
    "\n",
    "df = pd.DataFrame()\n",
    "\n",
    "if os.path.isfile(savename):\n",
    "  print(\"Loading combined CSV's from file\")\n",
    "  df = pd.read_pickle(savename)\n",
    "else:\n",
    "  for root, dirs, files in os.walk(openface_csvs):\n",
    "    dirs.clear()  # don't recurse\n",
    "\n",
    "    for f in [f for f in files if f[-4:] == '.csv']:\n",
    "      tempdata = pd.read_csv(os.path.join(root, f), skipinitialspace=True)\n",
    "      tempdata[\"filename\"] = f[0:-4].strip()  # make column with sample number (remove .csv suffix, whitespace)\n",
    "      df = pd.concat([df, tempdata])\n",
    "\n",
    "  print(\"Saving combined CSV's to file\")\n",
    "  df.to_pickle(savename)\n",
    "df.describe()"
   ]
  },
  {
   "cell_type": "code",
   "execution_count": 29,
   "metadata": {
    "colab": {},
    "colab_type": "code",
    "id": "qrUk0cOIrMFZ"
   },
   "outputs": [],
   "source": [
    "# filter out datas with success = 1 or confidence < 0.95\n",
    "df = df[(df['confidence'] >=0.65) & (df['success'] == 1)]\n",
    "df.reset_index(drop=True, inplace=True)\n",
    "# print(df.filename.unique())\n",
    "# print(len(df.keys()))"
   ]
  },
  {
   "cell_type": "code",
   "execution_count": 30,
   "metadata": {
    "colab": {
     "base_uri": "https://localhost:8080/",
     "height": 479
    },
    "colab_type": "code",
    "id": "Qx2nnGCjADlo",
    "outputId": "ff9d7022-5d95-4b22-84b9-59f6d2a67e74"
   },
   "outputs": [
    {
     "data": {
      "text/html": [
       "<div>\n",
       "<style scoped>\n",
       "    .dataframe tbody tr th:only-of-type {\n",
       "        vertical-align: middle;\n",
       "    }\n",
       "\n",
       "    .dataframe tbody tr th {\n",
       "        vertical-align: top;\n",
       "    }\n",
       "\n",
       "    .dataframe thead th {\n",
       "        text-align: right;\n",
       "    }\n",
       "</style>\n",
       "<table border=\"1\" class=\"dataframe\">\n",
       "  <thead>\n",
       "    <tr style=\"text-align: right;\">\n",
       "      <th></th>\n",
       "      <th>mean_pitch</th>\n",
       "      <th>min_pitch</th>\n",
       "      <th>max_pitch</th>\n",
       "      <th>mean_intensity</th>\n",
       "      <th>root_mean_square</th>\n",
       "      <th>center_of_gravity</th>\n",
       "      <th>kurtosis</th>\n",
       "      <th>skewness</th>\n",
       "      <th>standard_deviation</th>\n",
       "      <th>mean_f1_frequency</th>\n",
       "      <th>mean_f2_frequency</th>\n",
       "      <th>mean_speech_rate</th>\n",
       "      <th>number_of_silent_intervals</th>\n",
       "      <th>filename</th>\n",
       "      <th>estimated_frame_number</th>\n",
       "    </tr>\n",
       "  </thead>\n",
       "  <tbody>\n",
       "    <tr>\n",
       "      <th>0</th>\n",
       "      <td>290.447878</td>\n",
       "      <td>223.029898</td>\n",
       "      <td>420.621402</td>\n",
       "      <td>83.265478</td>\n",
       "      <td>0.291275</td>\n",
       "      <td>629.042192</td>\n",
       "      <td>60.851689</td>\n",
       "      <td>4.878547</td>\n",
       "      <td>475.672620</td>\n",
       "      <td>605.231710</td>\n",
       "      <td>1634.643303</td>\n",
       "      <td>0.49362</td>\n",
       "      <td>2</td>\n",
       "      <td>nonflirt-PJP-C7TCaM8-6</td>\n",
       "      <td>0</td>\n",
       "    </tr>\n",
       "    <tr>\n",
       "      <th>1</th>\n",
       "      <td>288.354722</td>\n",
       "      <td>223.129737</td>\n",
       "      <td>420.629276</td>\n",
       "      <td>83.295576</td>\n",
       "      <td>0.292287</td>\n",
       "      <td>630.297852</td>\n",
       "      <td>60.325458</td>\n",
       "      <td>4.840207</td>\n",
       "      <td>476.914570</td>\n",
       "      <td>626.793360</td>\n",
       "      <td>1624.179187</td>\n",
       "      <td>0.49362</td>\n",
       "      <td>2</td>\n",
       "      <td>nonflirt-PJP-C7TCaM8-6</td>\n",
       "      <td>1</td>\n",
       "    </tr>\n",
       "    <tr>\n",
       "      <th>2</th>\n",
       "      <td>286.543449</td>\n",
       "      <td>223.243593</td>\n",
       "      <td>420.609286</td>\n",
       "      <td>83.482699</td>\n",
       "      <td>0.298652</td>\n",
       "      <td>662.504028</td>\n",
       "      <td>68.563877</td>\n",
       "      <td>4.773974</td>\n",
       "      <td>496.830745</td>\n",
       "      <td>636.716477</td>\n",
       "      <td>1611.940717</td>\n",
       "      <td>0.49362</td>\n",
       "      <td>2</td>\n",
       "      <td>nonflirt-PJP-C7TCaM8-6</td>\n",
       "      <td>2</td>\n",
       "    </tr>\n",
       "    <tr>\n",
       "      <th>3</th>\n",
       "      <td>284.431711</td>\n",
       "      <td>223.167087</td>\n",
       "      <td>420.564528</td>\n",
       "      <td>83.700942</td>\n",
       "      <td>0.306251</td>\n",
       "      <td>683.002668</td>\n",
       "      <td>58.698875</td>\n",
       "      <td>4.373654</td>\n",
       "      <td>499.577060</td>\n",
       "      <td>648.038718</td>\n",
       "      <td>1610.828022</td>\n",
       "      <td>0.49362</td>\n",
       "      <td>2</td>\n",
       "      <td>nonflirt-PJP-C7TCaM8-6</td>\n",
       "      <td>3</td>\n",
       "    </tr>\n",
       "    <tr>\n",
       "      <th>4</th>\n",
       "      <td>282.287917</td>\n",
       "      <td>223.092497</td>\n",
       "      <td>420.501990</td>\n",
       "      <td>83.765693</td>\n",
       "      <td>0.308542</td>\n",
       "      <td>681.849847</td>\n",
       "      <td>49.727052</td>\n",
       "      <td>4.123383</td>\n",
       "      <td>495.618783</td>\n",
       "      <td>657.417870</td>\n",
       "      <td>1599.743717</td>\n",
       "      <td>0.49362</td>\n",
       "      <td>2</td>\n",
       "      <td>nonflirt-PJP-C7TCaM8-6</td>\n",
       "      <td>4</td>\n",
       "    </tr>\n",
       "  </tbody>\n",
       "</table>\n",
       "</div>"
      ],
      "text/plain": [
       "   mean_pitch   min_pitch   max_pitch  mean_intensity  root_mean_square  \\\n",
       "0  290.447878  223.029898  420.621402       83.265478          0.291275   \n",
       "1  288.354722  223.129737  420.629276       83.295576          0.292287   \n",
       "2  286.543449  223.243593  420.609286       83.482699          0.298652   \n",
       "3  284.431711  223.167087  420.564528       83.700942          0.306251   \n",
       "4  282.287917  223.092497  420.501990       83.765693          0.308542   \n",
       "\n",
       "   center_of_gravity   kurtosis  skewness  standard_deviation  \\\n",
       "0         629.042192  60.851689  4.878547          475.672620   \n",
       "1         630.297852  60.325458  4.840207          476.914570   \n",
       "2         662.504028  68.563877  4.773974          496.830745   \n",
       "3         683.002668  58.698875  4.373654          499.577060   \n",
       "4         681.849847  49.727052  4.123383          495.618783   \n",
       "\n",
       "   mean_f1_frequency  mean_f2_frequency  mean_speech_rate  \\\n",
       "0         605.231710        1634.643303           0.49362   \n",
       "1         626.793360        1624.179187           0.49362   \n",
       "2         636.716477        1611.940717           0.49362   \n",
       "3         648.038718        1610.828022           0.49362   \n",
       "4         657.417870        1599.743717           0.49362   \n",
       "\n",
       "   number_of_silent_intervals                filename  estimated_frame_number  \n",
       "0                           2  nonflirt-PJP-C7TCaM8-6                       0  \n",
       "1                           2  nonflirt-PJP-C7TCaM8-6                       1  \n",
       "2                           2  nonflirt-PJP-C7TCaM8-6                       2  \n",
       "3                           2  nonflirt-PJP-C7TCaM8-6                       3  \n",
       "4                           2  nonflirt-PJP-C7TCaM8-6                       4  "
      ]
     },
     "execution_count": 30,
     "metadata": {},
     "output_type": "execute_result"
    }
   ],
   "source": [
    "# Import audio data\n",
    "audio_df = pd.read_csv(\"audio-features.csv\").drop(\"Unnamed: 0\", axis=1)\n",
    "audio_df.head()"
   ]
  },
  {
   "cell_type": "code",
   "execution_count": 31,
   "metadata": {
    "colab": {
     "base_uri": "https://localhost:8080/",
     "height": 68
    },
    "colab_type": "code",
    "id": "H8RHNujiz32Y",
    "outputId": "b4a07bbb-d637-493f-a0af-be3edcc62b35"
   },
   "outputs": [
    {
     "name": "stdout",
     "output_type": "stream",
     "text": [
      "set()\n",
      "103\n",
      "103\n"
     ]
    }
   ],
   "source": [
    "# Check datas consistency\n",
    "clips_name = df.filename.unique()\n",
    "audios_name = audio_df.filename.unique()\n",
    "df = df[df['filename'] != 'nonflirt-ImEnWAVRLU0-2']\n",
    "df = df[df['filename'] != 'nonflirt-v2VgA_MCNDg-4']\n",
    "\n",
    "# if len(clips_name) != len(audios_name):\n",
    "#   missing_video = set(audios_name)-set(clips_name)\n",
    "#   print(missing_video)\n",
    "missing_audio = set(df.filename.unique())-set(audio_df.filename.unique())\n",
    "print(missing_audio)\n",
    "  # df = df[df['filename'] != missing_video.pop()]\n",
    "  # audio_df = audio_df[audio_df['filename'] != missing_audio]\n",
    "\n",
    "print(len(df.filename.unique()))\n",
    "print(len(audio_df.filename.unique()))\n"
   ]
  },
  {
   "cell_type": "markdown",
   "metadata": {
    "colab_type": "text",
    "id": "Qt_OewYICDi2"
   },
   "source": [
    "# Compute DTW"
   ]
  },
  {
   "cell_type": "code",
   "execution_count": 41,
   "metadata": {
    "colab": {
     "base_uri": "https://localhost:8080/",
     "height": 51
    },
    "colab_type": "code",
    "id": "gpaupeMXKVV4",
    "outputId": "22313c6e-8fcc-4a31-eb01-b17a46ef52dc"
   },
   "outputs": [
    {
     "name": "stdout",
     "output_type": "stream",
     "text": [
      "/bin/sh: 1: pip: not found\r\n"
     ]
    }
   ],
   "source": [
    "# required packages\n",
    "!pip install fastdtw\n",
    "import numpy as np\n",
    "from scipy.spatial.distance import euclidean\n",
    "from fastdtw import fastdtw\n",
    "from tqdm import tqdm, trange"
   ]
  },
  {
   "cell_type": "code",
   "execution_count": 33,
   "metadata": {
    "colab": {},
    "colab_type": "code",
    "id": "88Y2P1yLA1kC"
   },
   "outputs": [],
   "source": [
    "clips = pd.concat([df.loc[:,\"filename\"], df.loc[:,\"frame\":\"gaze_angle_y\"], df.loc[:,\"pose_Tx\":\"pose_Rz\"], df.loc[:,\"AU01_r\":\"AU45_c\"]],\n",
    "                  axis=1)"
   ]
  },
  {
   "cell_type": "code",
   "execution_count": 34,
   "metadata": {
    "colab": {
     "base_uri": "https://localhost:8080/",
     "height": 34
    },
    "colab_type": "code",
    "id": "Eba8dKck3PjT",
    "outputId": "28c52412-3707-4169-e40c-e46f1b738238"
   },
   "outputs": [
    {
     "name": "stdout",
     "output_type": "stream",
     "text": [
      "273785.2142364928\n"
     ]
    }
   ],
   "source": [
    "def independent_dtw(clip1, clip2, features):\n",
    "  overall_score = 0\n",
    "  clip1 = clip1[~clip1.isin([np.nan, np.inf, -np.inf]).any(1)]\n",
    "  clip2 = clip2[~clip2.isin([np.nan, np.inf, -np.inf]).any(1)]\n",
    "  for feature in features:\n",
    "    if feature != 'filename' and feature != 'frame':\n",
    "      # print(clip1[feature], clip2[feature])\n",
    "      distance, path = fastdtw(clip1[feature], clip2[feature], dist=euclidean)\n",
    "      # print(path)\n",
    "      overall_score+=distance\n",
    "  return overall_score\n",
    "\n",
    "# test\n",
    "clip1 = clips[clips['filename'] == 'nonflirt-PJP-C7TCaM8-6']\n",
    "clip2 = clips[clips['filename'] == 'flirt-qkq9k5FewvI-1']\n",
    "test_dtw1 = independent_dtw(clip1, clip2, clips.columns)\n",
    "clip1 = audio_df[audio_df['filename'] == 'nonflirt-PJP-C7TCaM8-6']\n",
    "clip2 = audio_df[audio_df['filename'] == 'flirt-qkq9k5FewvI-1']\n",
    "test_dtw2 = independent_dtw(clip1, clip2, audio_df.columns)\n",
    "\n",
    "print(test_dtw1+test_dtw2)"
   ]
  },
  {
   "cell_type": "code",
   "execution_count": 35,
   "metadata": {
    "colab": {
     "base_uri": "https://localhost:8080/",
     "height": 34
    },
    "colab_type": "code",
    "id": "7IKAowJP-gOM",
    "outputId": "822816ba-4742-4f06-8906-05afd77a58aa"
   },
   "outputs": [
    {
     "name": "stdout",
     "output_type": "stream",
     "text": [
      "2.8284271247461903\n"
     ]
    }
   ],
   "source": [
    "import numpy as np\n",
    "from scipy.spatial.distance import euclidean\n",
    "\n",
    "from fastdtw import fastdtw\n",
    "\n",
    "x = np.array([[1,1], [2,2], [3,3], [4,4], [5,5]])\n",
    "y = np.array([[2,2], [3,3], [4,4]])\n",
    "distance, path = fastdtw(x, y, dist=euclidean)\n",
    "print(distance)\n"
   ]
  },
  {
   "cell_type": "code",
   "execution_count": 36,
   "metadata": {
    "colab": {},
    "colab_type": "code",
    "id": "-MwQb6bxCC3J"
   },
   "outputs": [],
   "source": [
    "# This would be the final matrix that gives how similar between\n",
    "# each two clips\n",
    "def produce_Similarity_Matrix(df, audio_df): # for multimodal\n",
    "  # This data is missing from OpenFace\n",
    "  clips_name = df.filename.unique()\n",
    "  audios_name = audio_df.filename.unique()\n",
    "  length = len(clips_name)\n",
    "  features_face = clips.columns\n",
    "  features_audio = audio_df.columns\n",
    "\n",
    "\n",
    "  Similarity_Matrix = np.zeros((length,length))\n",
    "  for col in trange(length, leave=False, position=0):\n",
    "    for row in trange(length, leave=False, position=0):\n",
    "      # create a Similarity_Matrix, ie         clip1 clip2 clip3\n",
    "      #                                 clip1    0    ...   ...\n",
    "      #                                 clip2   ...    0    ...\n",
    "      #                                 clip3   ...   ...    0\n",
    "      clip_name1 = clips_name[col]\n",
    "      clip1 = clips[clips['filename'] == clip_name1]\n",
    "      clip_name2 = clips_name[row]\n",
    "      clip2 = clips[clips['filename'] == clip_name2]\n",
    "      overall_score1 = independent_dtw(clip1, clip2, features_face)\n",
    "\n",
    "      clip1 = audio_df[audio_df['filename'] == clip_name1]\n",
    "      clip2 = audio_df[audio_df['filename'] == clip_name2]\n",
    "      overall_score2 = independent_dtw(clip1, clip2, features_audio)\n",
    "\n",
    "      Similarity_Matrix[col][row] = overall_score1+overall_score2\n",
    "  return Similarity_Matrix"
   ]
  },
  {
   "cell_type": "code",
   "execution_count": 37,
   "metadata": {
    "colab": {
     "base_uri": "https://localhost:8080/",
     "height": 238
    },
    "colab_type": "code",
    "id": "bFjp2ybbvbxp",
    "outputId": "14f16606-6292-45b4-b34a-eae256e7c25e"
   },
   "outputs": [
    {
     "name": "stderr",
     "output_type": "stream",
     "text": [
      "                                               \r"
     ]
    },
    {
     "ename": "KeyboardInterrupt",
     "evalue": "",
     "output_type": "error",
     "traceback": [
      "\u001b[0;31m---------------------------------------------------------------------------\u001b[0m",
      "\u001b[0;31mKeyboardInterrupt\u001b[0m                         Traceback (most recent call last)",
      "\u001b[0;32m<ipython-input-37-8493a9d75622>\u001b[0m in \u001b[0;36m<module>\u001b[0;34m\u001b[0m\n\u001b[1;32m      2\u001b[0m \u001b[0;31m# This would take a long time to produce the whole Similarity\u001b[0m\u001b[0;34m\u001b[0m\u001b[0;34m\u001b[0m\u001b[0;34m\u001b[0m\u001b[0m\n\u001b[1;32m      3\u001b[0m \u001b[0;31m# We already provided the final version in our resources\u001b[0m\u001b[0;34m\u001b[0m\u001b[0;34m\u001b[0m\u001b[0;34m\u001b[0m\u001b[0m\n\u001b[0;32m----> 4\u001b[0;31m \u001b[0mSimilarity_Matrix\u001b[0m \u001b[0;34m=\u001b[0m \u001b[0mproduce_Similarity_Matrix\u001b[0m\u001b[0;34m(\u001b[0m\u001b[0mdf\u001b[0m\u001b[0;34m,\u001b[0m \u001b[0maudio_df\u001b[0m\u001b[0;34m)\u001b[0m\u001b[0;34m\u001b[0m\u001b[0;34m\u001b[0m\u001b[0m\n\u001b[0m\u001b[1;32m      5\u001b[0m \u001b[0msm\u001b[0m \u001b[0;34m=\u001b[0m \u001b[0mSimilarity_Matrix\u001b[0m\u001b[0;34m\u001b[0m\u001b[0;34m\u001b[0m\u001b[0m\n\u001b[1;32m      6\u001b[0m \u001b[0mprint\u001b[0m\u001b[0;34m(\u001b[0m\u001b[0msm\u001b[0m\u001b[0;34m)\u001b[0m\u001b[0;34m\u001b[0m\u001b[0;34m\u001b[0m\u001b[0m\n",
      "\u001b[0;32m<ipython-input-36-4c352f12e65e>\u001b[0m in \u001b[0;36mproduce_Similarity_Matrix\u001b[0;34m(df, audio_df)\u001b[0m\n\u001b[1;32m     21\u001b[0m       \u001b[0mclip_name2\u001b[0m \u001b[0;34m=\u001b[0m \u001b[0mclips_name\u001b[0m\u001b[0;34m[\u001b[0m\u001b[0mrow\u001b[0m\u001b[0;34m]\u001b[0m\u001b[0;34m\u001b[0m\u001b[0;34m\u001b[0m\u001b[0m\n\u001b[1;32m     22\u001b[0m       \u001b[0mclip2\u001b[0m \u001b[0;34m=\u001b[0m \u001b[0mclips\u001b[0m\u001b[0;34m[\u001b[0m\u001b[0mclips\u001b[0m\u001b[0;34m[\u001b[0m\u001b[0;34m'filename'\u001b[0m\u001b[0;34m]\u001b[0m \u001b[0;34m==\u001b[0m \u001b[0mclip_name2\u001b[0m\u001b[0;34m]\u001b[0m\u001b[0;34m\u001b[0m\u001b[0;34m\u001b[0m\u001b[0m\n\u001b[0;32m---> 23\u001b[0;31m       \u001b[0moverall_score1\u001b[0m \u001b[0;34m=\u001b[0m \u001b[0mindependent_dtw\u001b[0m\u001b[0;34m(\u001b[0m\u001b[0mclip1\u001b[0m\u001b[0;34m,\u001b[0m \u001b[0mclip2\u001b[0m\u001b[0;34m,\u001b[0m \u001b[0mfeatures_face\u001b[0m\u001b[0;34m)\u001b[0m\u001b[0;34m\u001b[0m\u001b[0;34m\u001b[0m\u001b[0m\n\u001b[0m\u001b[1;32m     24\u001b[0m \u001b[0;34m\u001b[0m\u001b[0m\n\u001b[1;32m     25\u001b[0m       \u001b[0mclip1\u001b[0m \u001b[0;34m=\u001b[0m \u001b[0maudio_df\u001b[0m\u001b[0;34m[\u001b[0m\u001b[0maudio_df\u001b[0m\u001b[0;34m[\u001b[0m\u001b[0;34m'filename'\u001b[0m\u001b[0;34m]\u001b[0m \u001b[0;34m==\u001b[0m \u001b[0mclip_name1\u001b[0m\u001b[0;34m]\u001b[0m\u001b[0;34m\u001b[0m\u001b[0;34m\u001b[0m\u001b[0m\n",
      "\u001b[0;32m<ipython-input-34-a2e538d89ed8>\u001b[0m in \u001b[0;36mindependent_dtw\u001b[0;34m(clip1, clip2, features)\u001b[0m\n\u001b[1;32m      6\u001b[0m     \u001b[0;32mif\u001b[0m \u001b[0mfeature\u001b[0m \u001b[0;34m!=\u001b[0m \u001b[0;34m'filename'\u001b[0m \u001b[0;32mand\u001b[0m \u001b[0mfeature\u001b[0m \u001b[0;34m!=\u001b[0m \u001b[0;34m'frame'\u001b[0m\u001b[0;34m:\u001b[0m\u001b[0;34m\u001b[0m\u001b[0;34m\u001b[0m\u001b[0m\n\u001b[1;32m      7\u001b[0m       \u001b[0;31m# print(clip1[feature], clip2[feature])\u001b[0m\u001b[0;34m\u001b[0m\u001b[0;34m\u001b[0m\u001b[0;34m\u001b[0m\u001b[0m\n\u001b[0;32m----> 8\u001b[0;31m       \u001b[0mdistance\u001b[0m\u001b[0;34m,\u001b[0m \u001b[0mpath\u001b[0m \u001b[0;34m=\u001b[0m \u001b[0mfastdtw\u001b[0m\u001b[0;34m(\u001b[0m\u001b[0mclip1\u001b[0m\u001b[0;34m[\u001b[0m\u001b[0mfeature\u001b[0m\u001b[0;34m]\u001b[0m\u001b[0;34m,\u001b[0m \u001b[0mclip2\u001b[0m\u001b[0;34m[\u001b[0m\u001b[0mfeature\u001b[0m\u001b[0;34m]\u001b[0m\u001b[0;34m,\u001b[0m \u001b[0mdist\u001b[0m\u001b[0;34m=\u001b[0m\u001b[0meuclidean\u001b[0m\u001b[0;34m)\u001b[0m\u001b[0;34m\u001b[0m\u001b[0;34m\u001b[0m\u001b[0m\n\u001b[0m\u001b[1;32m      9\u001b[0m       \u001b[0;31m# print(path)\u001b[0m\u001b[0;34m\u001b[0m\u001b[0;34m\u001b[0m\u001b[0;34m\u001b[0m\u001b[0m\n\u001b[1;32m     10\u001b[0m       \u001b[0moverall_score\u001b[0m\u001b[0;34m+=\u001b[0m\u001b[0mdistance\u001b[0m\u001b[0;34m\u001b[0m\u001b[0;34m\u001b[0m\u001b[0m\n",
      "\u001b[0;32mfastdtw/_fastdtw.pyx\u001b[0m in \u001b[0;36mfastdtw._fastdtw.fastdtw\u001b[0;34m()\u001b[0m\n",
      "\u001b[0;32mfastdtw/_fastdtw.pyx\u001b[0m in \u001b[0;36mfastdtw._fastdtw.__fastdtw\u001b[0;34m()\u001b[0m\n",
      "\u001b[0;32mfastdtw/_fastdtw.pyx\u001b[0m in \u001b[0;36mfastdtw._fastdtw.__dtw\u001b[0;34m()\u001b[0m\n",
      "\u001b[0;32m~/.local/lib/python3.8/site-packages/scipy/spatial/distance.py\u001b[0m in \u001b[0;36meuclidean\u001b[0;34m(u, v, w)\u001b[0m\n\u001b[1;32m    618\u001b[0m \u001b[0;34m\u001b[0m\u001b[0m\n\u001b[1;32m    619\u001b[0m     \"\"\"\n\u001b[0;32m--> 620\u001b[0;31m     \u001b[0;32mreturn\u001b[0m \u001b[0mminkowski\u001b[0m\u001b[0;34m(\u001b[0m\u001b[0mu\u001b[0m\u001b[0;34m,\u001b[0m \u001b[0mv\u001b[0m\u001b[0;34m,\u001b[0m \u001b[0mp\u001b[0m\u001b[0;34m=\u001b[0m\u001b[0;36m2\u001b[0m\u001b[0;34m,\u001b[0m \u001b[0mw\u001b[0m\u001b[0;34m=\u001b[0m\u001b[0mw\u001b[0m\u001b[0;34m)\u001b[0m\u001b[0;34m\u001b[0m\u001b[0;34m\u001b[0m\u001b[0m\n\u001b[0m\u001b[1;32m    621\u001b[0m \u001b[0;34m\u001b[0m\u001b[0m\n\u001b[1;32m    622\u001b[0m \u001b[0;34m\u001b[0m\u001b[0m\n",
      "\u001b[0;32m~/.local/lib/python3.8/site-packages/scipy/spatial/distance.py\u001b[0m in \u001b[0;36mminkowski\u001b[0;34m(u, v, p, w)\u001b[0m\n\u001b[1;32m    521\u001b[0m             \u001b[0mroot_w\u001b[0m \u001b[0;34m=\u001b[0m \u001b[0mnp\u001b[0m\u001b[0;34m.\u001b[0m\u001b[0mpower\u001b[0m\u001b[0;34m(\u001b[0m\u001b[0mw\u001b[0m\u001b[0;34m,\u001b[0m \u001b[0;36m1\u001b[0m\u001b[0;34m/\u001b[0m\u001b[0mp\u001b[0m\u001b[0;34m)\u001b[0m\u001b[0;34m\u001b[0m\u001b[0;34m\u001b[0m\u001b[0m\n\u001b[1;32m    522\u001b[0m         \u001b[0mu_v\u001b[0m \u001b[0;34m=\u001b[0m \u001b[0mroot_w\u001b[0m \u001b[0;34m*\u001b[0m \u001b[0mu_v\u001b[0m\u001b[0;34m\u001b[0m\u001b[0;34m\u001b[0m\u001b[0m\n\u001b[0;32m--> 523\u001b[0;31m     \u001b[0mdist\u001b[0m \u001b[0;34m=\u001b[0m \u001b[0mnorm\u001b[0m\u001b[0;34m(\u001b[0m\u001b[0mu_v\u001b[0m\u001b[0;34m,\u001b[0m \u001b[0mord\u001b[0m\u001b[0;34m=\u001b[0m\u001b[0mp\u001b[0m\u001b[0;34m)\u001b[0m\u001b[0;34m\u001b[0m\u001b[0;34m\u001b[0m\u001b[0m\n\u001b[0m\u001b[1;32m    524\u001b[0m     \u001b[0;32mreturn\u001b[0m \u001b[0mdist\u001b[0m\u001b[0;34m\u001b[0m\u001b[0;34m\u001b[0m\u001b[0m\n\u001b[1;32m    525\u001b[0m \u001b[0;34m\u001b[0m\u001b[0m\n",
      "\u001b[0;32m~/.local/lib/python3.8/site-packages/scipy/linalg/misc.py\u001b[0m in \u001b[0;36mnorm\u001b[0;34m(a, ord, axis, keepdims, check_finite)\u001b[0m\n\u001b[1;32m    140\u001b[0m     \u001b[0;31m# Differs from numpy only in non-finite handling and the use of blas.\u001b[0m\u001b[0;34m\u001b[0m\u001b[0;34m\u001b[0m\u001b[0;34m\u001b[0m\u001b[0m\n\u001b[1;32m    141\u001b[0m     \u001b[0;32mif\u001b[0m \u001b[0mcheck_finite\u001b[0m\u001b[0;34m:\u001b[0m\u001b[0;34m\u001b[0m\u001b[0;34m\u001b[0m\u001b[0m\n\u001b[0;32m--> 142\u001b[0;31m         \u001b[0ma\u001b[0m \u001b[0;34m=\u001b[0m \u001b[0mnp\u001b[0m\u001b[0;34m.\u001b[0m\u001b[0masarray_chkfinite\u001b[0m\u001b[0;34m(\u001b[0m\u001b[0ma\u001b[0m\u001b[0;34m)\u001b[0m\u001b[0;34m\u001b[0m\u001b[0;34m\u001b[0m\u001b[0m\n\u001b[0m\u001b[1;32m    143\u001b[0m     \u001b[0;32melse\u001b[0m\u001b[0;34m:\u001b[0m\u001b[0;34m\u001b[0m\u001b[0;34m\u001b[0m\u001b[0m\n\u001b[1;32m    144\u001b[0m         \u001b[0ma\u001b[0m \u001b[0;34m=\u001b[0m \u001b[0mnp\u001b[0m\u001b[0;34m.\u001b[0m\u001b[0masarray\u001b[0m\u001b[0;34m(\u001b[0m\u001b[0ma\u001b[0m\u001b[0;34m)\u001b[0m\u001b[0;34m\u001b[0m\u001b[0;34m\u001b[0m\u001b[0m\n",
      "\u001b[0;32m~/.local/lib/python3.8/site-packages/numpy/lib/function_base.py\u001b[0m in \u001b[0;36masarray_chkfinite\u001b[0;34m(a, dtype, order)\u001b[0m\n\u001b[1;32m    495\u001b[0m     \"\"\"\n\u001b[1;32m    496\u001b[0m     \u001b[0ma\u001b[0m \u001b[0;34m=\u001b[0m \u001b[0masarray\u001b[0m\u001b[0;34m(\u001b[0m\u001b[0ma\u001b[0m\u001b[0;34m,\u001b[0m \u001b[0mdtype\u001b[0m\u001b[0;34m=\u001b[0m\u001b[0mdtype\u001b[0m\u001b[0;34m,\u001b[0m \u001b[0morder\u001b[0m\u001b[0;34m=\u001b[0m\u001b[0morder\u001b[0m\u001b[0;34m)\u001b[0m\u001b[0;34m\u001b[0m\u001b[0;34m\u001b[0m\u001b[0m\n\u001b[0;32m--> 497\u001b[0;31m     \u001b[0;32mif\u001b[0m \u001b[0ma\u001b[0m\u001b[0;34m.\u001b[0m\u001b[0mdtype\u001b[0m\u001b[0;34m.\u001b[0m\u001b[0mchar\u001b[0m \u001b[0;32min\u001b[0m \u001b[0mtypecodes\u001b[0m\u001b[0;34m[\u001b[0m\u001b[0;34m'AllFloat'\u001b[0m\u001b[0;34m]\u001b[0m \u001b[0;32mand\u001b[0m \u001b[0;32mnot\u001b[0m \u001b[0mnp\u001b[0m\u001b[0;34m.\u001b[0m\u001b[0misfinite\u001b[0m\u001b[0;34m(\u001b[0m\u001b[0ma\u001b[0m\u001b[0;34m)\u001b[0m\u001b[0;34m.\u001b[0m\u001b[0mall\u001b[0m\u001b[0;34m(\u001b[0m\u001b[0;34m)\u001b[0m\u001b[0;34m:\u001b[0m\u001b[0;34m\u001b[0m\u001b[0;34m\u001b[0m\u001b[0m\n\u001b[0m\u001b[1;32m    498\u001b[0m         raise ValueError(\n\u001b[1;32m    499\u001b[0m             \"array must not contain infs or NaNs\")\n",
      "\u001b[0;32m~/.local/lib/python3.8/site-packages/numpy/core/_methods.py\u001b[0m in \u001b[0;36m_all\u001b[0;34m(a, axis, dtype, out, keepdims)\u001b[0m\n\u001b[1;32m     46\u001b[0m \u001b[0;34m\u001b[0m\u001b[0m\n\u001b[1;32m     47\u001b[0m \u001b[0;32mdef\u001b[0m \u001b[0m_all\u001b[0m\u001b[0;34m(\u001b[0m\u001b[0ma\u001b[0m\u001b[0;34m,\u001b[0m \u001b[0maxis\u001b[0m\u001b[0;34m=\u001b[0m\u001b[0;32mNone\u001b[0m\u001b[0;34m,\u001b[0m \u001b[0mdtype\u001b[0m\u001b[0;34m=\u001b[0m\u001b[0;32mNone\u001b[0m\u001b[0;34m,\u001b[0m \u001b[0mout\u001b[0m\u001b[0;34m=\u001b[0m\u001b[0;32mNone\u001b[0m\u001b[0;34m,\u001b[0m \u001b[0mkeepdims\u001b[0m\u001b[0;34m=\u001b[0m\u001b[0;32mFalse\u001b[0m\u001b[0;34m)\u001b[0m\u001b[0;34m:\u001b[0m\u001b[0;34m\u001b[0m\u001b[0;34m\u001b[0m\u001b[0m\n\u001b[0;32m---> 48\u001b[0;31m     \u001b[0;32mreturn\u001b[0m \u001b[0mumr_all\u001b[0m\u001b[0;34m(\u001b[0m\u001b[0ma\u001b[0m\u001b[0;34m,\u001b[0m \u001b[0maxis\u001b[0m\u001b[0;34m,\u001b[0m \u001b[0mdtype\u001b[0m\u001b[0;34m,\u001b[0m \u001b[0mout\u001b[0m\u001b[0;34m,\u001b[0m \u001b[0mkeepdims\u001b[0m\u001b[0;34m)\u001b[0m\u001b[0;34m\u001b[0m\u001b[0;34m\u001b[0m\u001b[0m\n\u001b[0m\u001b[1;32m     49\u001b[0m \u001b[0;34m\u001b[0m\u001b[0m\n\u001b[1;32m     50\u001b[0m \u001b[0;32mdef\u001b[0m \u001b[0m_count_reduce_items\u001b[0m\u001b[0;34m(\u001b[0m\u001b[0marr\u001b[0m\u001b[0;34m,\u001b[0m \u001b[0maxis\u001b[0m\u001b[0;34m)\u001b[0m\u001b[0;34m:\u001b[0m\u001b[0;34m\u001b[0m\u001b[0;34m\u001b[0m\u001b[0m\n",
      "\u001b[0;31mKeyboardInterrupt\u001b[0m: "
     ]
    }
   ],
   "source": [
    "# Suggest not running this if you are to use the same features\n",
    "# This would take a long time to produce the whole Similarity\n",
    "# We already provided the final version in our resources\n",
    "Similarity_Matrix = produce_Similarity_Matrix(df, audio_df)\n",
    "sm = Similarity_Matrix\n",
    "print(sm)"
   ]
  },
  {
   "cell_type": "code",
   "execution_count": 38,
   "metadata": {
    "colab": {},
    "colab_type": "code",
    "id": "b-fn3LEDOeK2"
   },
   "outputs": [],
   "source": [
    "## Save the result\n",
    "#import pickle\n",
    "#with open('Similarity_Matrix_total', 'wb') as f:\n",
    "#    pickle.dump(Similarity_Matrix, f)"
   ]
  },
  {
   "cell_type": "code",
   "execution_count": 39,
   "metadata": {
    "colab": {},
    "colab_type": "code",
    "id": "wRwaDMyUTATe"
   },
   "outputs": [],
   "source": [
    "# Load the result\n",
    "import pickle\n",
    "with open(\"Similarity_Matrix_total\", \"rb\") as f:\n",
    "  Similarity_Matrix = pickle.load(f)"
   ]
  },
  {
   "cell_type": "markdown",
   "metadata": {
    "colab_type": "text",
    "id": "rwyC4gbUpzFo"
   },
   "source": [
    "# K-Means Clustering"
   ]
  },
  {
   "cell_type": "code",
   "execution_count": 46,
   "metadata": {
    "colab": {
     "base_uri": "https://localhost:8080/",
     "height": 513
    },
    "colab_type": "code",
    "id": "jTUq-2Rxp44W",
    "outputId": "e0bec609-6ce1-4a3a-b212-61e34ade8df4"
   },
   "outputs": [
    {
     "name": "stdout",
     "output_type": "stream",
     "text": [
      "/bin/sh: 1: pip: not found\r\n"
     ]
    },
    {
     "name": "stderr",
     "output_type": "stream",
     "text": [
      " 10%|█         | 1/10 [00:06<00:57,  6.39s/it]\n"
     ]
    },
    {
     "ename": "KeyboardInterrupt",
     "evalue": "",
     "output_type": "error",
     "traceback": [
      "\u001b[0;31m---------------------------------------------------------------------------\u001b[0m",
      "\u001b[0;31mKeyboardInterrupt\u001b[0m                         Traceback (most recent call last)",
      "\u001b[0;32m<ipython-input-46-06b192c4e45c>\u001b[0m in \u001b[0;36m<module>\u001b[0;34m\u001b[0m\n\u001b[1;32m     22\u001b[0m   \u001b[0;32mfor\u001b[0m \u001b[0mi\u001b[0m \u001b[0;32min\u001b[0m \u001b[0mtqdm\u001b[0m\u001b[0;34m(\u001b[0m\u001b[0mrange\u001b[0m\u001b[0;34m(\u001b[0m\u001b[0mstart\u001b[0m\u001b[0;34m,\u001b[0m \u001b[0mstop\u001b[0m\u001b[0;34m)\u001b[0m\u001b[0;34m)\u001b[0m\u001b[0;34m:\u001b[0m\u001b[0;34m\u001b[0m\u001b[0;34m\u001b[0m\u001b[0m\n\u001b[1;32m     23\u001b[0m     \u001b[0mkm\u001b[0m \u001b[0;34m=\u001b[0m \u001b[0mTimeSeriesKMeans\u001b[0m\u001b[0;34m(\u001b[0m\u001b[0mn_clusters\u001b[0m\u001b[0;34m=\u001b[0m\u001b[0mi\u001b[0m\u001b[0;34m,\u001b[0m \u001b[0mmetric\u001b[0m\u001b[0;34m=\u001b[0m\u001b[0;34m\"dtw\"\u001b[0m\u001b[0;34m,\u001b[0m \u001b[0mrandom_state\u001b[0m\u001b[0;34m=\u001b[0m\u001b[0mts_seed\u001b[0m\u001b[0;34m)\u001b[0m\u001b[0;34m\u001b[0m\u001b[0;34m\u001b[0m\u001b[0m\n\u001b[0;32m---> 24\u001b[0;31m     \u001b[0mkm\u001b[0m\u001b[0;34m.\u001b[0m\u001b[0mfit\u001b[0m\u001b[0;34m(\u001b[0m\u001b[0mSimilarity_Matrix\u001b[0m\u001b[0;34m)\u001b[0m\u001b[0;34m\u001b[0m\u001b[0;34m\u001b[0m\u001b[0m\n\u001b[0m\u001b[1;32m     25\u001b[0m     \u001b[0mss\u001b[0m \u001b[0;34m=\u001b[0m \u001b[0msilhouette_score\u001b[0m\u001b[0;34m(\u001b[0m\u001b[0mSimilarity_Matrix\u001b[0m\u001b[0;34m,\u001b[0m \u001b[0mlabels\u001b[0m\u001b[0;34m=\u001b[0m\u001b[0mkm\u001b[0m\u001b[0;34m.\u001b[0m\u001b[0mlabels_\u001b[0m\u001b[0;34m,\u001b[0m \u001b[0mmetric\u001b[0m\u001b[0;34m=\u001b[0m\u001b[0;34m'dtw'\u001b[0m\u001b[0;34m,\u001b[0m \u001b[0mrandom_state\u001b[0m\u001b[0;34m=\u001b[0m\u001b[0mss_seed\u001b[0m\u001b[0;34m)\u001b[0m\u001b[0;34m\u001b[0m\u001b[0;34m\u001b[0m\u001b[0m\n\u001b[1;32m     26\u001b[0m \u001b[0;34m\u001b[0m\u001b[0m\n",
      "\u001b[0;32m~/.local/lib/python3.8/site-packages/tslearn/clustering.py\u001b[0m in \u001b[0;36mfit\u001b[0;34m(self, X, y)\u001b[0m\n\u001b[1;32m    978\u001b[0m                     \u001b[0mprint\u001b[0m\u001b[0;34m(\u001b[0m\u001b[0;34m\"Init %d\"\u001b[0m \u001b[0;34m%\u001b[0m \u001b[0;34m(\u001b[0m\u001b[0mn_successful\u001b[0m \u001b[0;34m+\u001b[0m \u001b[0;36m1\u001b[0m\u001b[0;34m)\u001b[0m\u001b[0;34m)\u001b[0m\u001b[0;34m\u001b[0m\u001b[0;34m\u001b[0m\u001b[0m\n\u001b[1;32m    979\u001b[0m                 \u001b[0mn_attempts\u001b[0m \u001b[0;34m+=\u001b[0m \u001b[0;36m1\u001b[0m\u001b[0;34m\u001b[0m\u001b[0;34m\u001b[0m\u001b[0m\n\u001b[0;32m--> 980\u001b[0;31m                 \u001b[0mself\u001b[0m\u001b[0;34m.\u001b[0m\u001b[0m_fit_one_init\u001b[0m\u001b[0;34m(\u001b[0m\u001b[0mX_\u001b[0m\u001b[0;34m,\u001b[0m \u001b[0mx_squared_norms\u001b[0m\u001b[0;34m,\u001b[0m \u001b[0mrs\u001b[0m\u001b[0;34m)\u001b[0m\u001b[0;34m\u001b[0m\u001b[0;34m\u001b[0m\u001b[0m\n\u001b[0m\u001b[1;32m    981\u001b[0m                 \u001b[0;32mif\u001b[0m \u001b[0mself\u001b[0m\u001b[0;34m.\u001b[0m\u001b[0minertia_\u001b[0m \u001b[0;34m<\u001b[0m \u001b[0mmin_inertia\u001b[0m\u001b[0;34m:\u001b[0m\u001b[0;34m\u001b[0m\u001b[0;34m\u001b[0m\u001b[0m\n\u001b[1;32m    982\u001b[0m                     \u001b[0mbest_correct_centroids\u001b[0m \u001b[0;34m=\u001b[0m \u001b[0mself\u001b[0m\u001b[0;34m.\u001b[0m\u001b[0mcluster_centers_\u001b[0m\u001b[0;34m.\u001b[0m\u001b[0mcopy\u001b[0m\u001b[0;34m(\u001b[0m\u001b[0;34m)\u001b[0m\u001b[0;34m\u001b[0m\u001b[0;34m\u001b[0m\u001b[0m\n",
      "\u001b[0;32m~/.local/lib/python3.8/site-packages/tslearn/clustering.py\u001b[0m in \u001b[0;36m_fit_one_init\u001b[0;34m(self, X, x_squared_norms, rs)\u001b[0m\n\u001b[1;32m    863\u001b[0m             \u001b[0;32mif\u001b[0m \u001b[0mself\u001b[0m\u001b[0;34m.\u001b[0m\u001b[0mverbose\u001b[0m\u001b[0;34m:\u001b[0m\u001b[0;34m\u001b[0m\u001b[0;34m\u001b[0m\u001b[0m\n\u001b[1;32m    864\u001b[0m                 \u001b[0mprint\u001b[0m\u001b[0;34m(\u001b[0m\u001b[0;34m\"%.3f\"\u001b[0m \u001b[0;34m%\u001b[0m \u001b[0mself\u001b[0m\u001b[0;34m.\u001b[0m\u001b[0minertia_\u001b[0m\u001b[0;34m,\u001b[0m \u001b[0mend\u001b[0m\u001b[0;34m=\u001b[0m\u001b[0;34m\" --> \"\u001b[0m\u001b[0;34m)\u001b[0m\u001b[0;34m\u001b[0m\u001b[0;34m\u001b[0m\u001b[0m\n\u001b[0;32m--> 865\u001b[0;31m             \u001b[0mself\u001b[0m\u001b[0;34m.\u001b[0m\u001b[0m_update_centroids\u001b[0m\u001b[0;34m(\u001b[0m\u001b[0mX\u001b[0m\u001b[0;34m)\u001b[0m\u001b[0;34m\u001b[0m\u001b[0;34m\u001b[0m\u001b[0m\n\u001b[0m\u001b[1;32m    866\u001b[0m \u001b[0;34m\u001b[0m\u001b[0m\n\u001b[1;32m    867\u001b[0m             \u001b[0;32mif\u001b[0m \u001b[0mnumpy\u001b[0m\u001b[0;34m.\u001b[0m\u001b[0mabs\u001b[0m\u001b[0;34m(\u001b[0m\u001b[0mold_inertia\u001b[0m \u001b[0;34m-\u001b[0m \u001b[0mself\u001b[0m\u001b[0;34m.\u001b[0m\u001b[0minertia_\u001b[0m\u001b[0;34m)\u001b[0m \u001b[0;34m<\u001b[0m \u001b[0mself\u001b[0m\u001b[0;34m.\u001b[0m\u001b[0mtol\u001b[0m\u001b[0;34m:\u001b[0m\u001b[0;34m\u001b[0m\u001b[0;34m\u001b[0m\u001b[0m\n",
      "\u001b[0;32m~/.local/lib/python3.8/site-packages/tslearn/clustering.py\u001b[0m in \u001b[0;36m_update_centroids\u001b[0;34m(self, X)\u001b[0m\n\u001b[1;32m    911\u001b[0m         \u001b[0;32mfor\u001b[0m \u001b[0mk\u001b[0m \u001b[0;32min\u001b[0m \u001b[0mrange\u001b[0m\u001b[0;34m(\u001b[0m\u001b[0mself\u001b[0m\u001b[0;34m.\u001b[0m\u001b[0mn_clusters\u001b[0m\u001b[0;34m)\u001b[0m\u001b[0;34m:\u001b[0m\u001b[0;34m\u001b[0m\u001b[0;34m\u001b[0m\u001b[0m\n\u001b[1;32m    912\u001b[0m             \u001b[0;32mif\u001b[0m \u001b[0mself\u001b[0m\u001b[0;34m.\u001b[0m\u001b[0mmetric\u001b[0m \u001b[0;34m==\u001b[0m \u001b[0;34m\"dtw\"\u001b[0m\u001b[0;34m:\u001b[0m\u001b[0;34m\u001b[0m\u001b[0;34m\u001b[0m\u001b[0m\n\u001b[0;32m--> 913\u001b[0;31m                 self.cluster_centers_[k] = dtw_barycenter_averaging(\n\u001b[0m\u001b[1;32m    914\u001b[0m                     \u001b[0mX\u001b[0m\u001b[0;34m=\u001b[0m\u001b[0mX\u001b[0m\u001b[0;34m[\u001b[0m\u001b[0mself\u001b[0m\u001b[0;34m.\u001b[0m\u001b[0mlabels_\u001b[0m \u001b[0;34m==\u001b[0m \u001b[0mk\u001b[0m\u001b[0;34m]\u001b[0m\u001b[0;34m,\u001b[0m\u001b[0;34m\u001b[0m\u001b[0;34m\u001b[0m\u001b[0m\n\u001b[1;32m    915\u001b[0m                     \u001b[0mbarycenter_size\u001b[0m\u001b[0;34m=\u001b[0m\u001b[0;32mNone\u001b[0m\u001b[0;34m,\u001b[0m\u001b[0;34m\u001b[0m\u001b[0;34m\u001b[0m\u001b[0m\n",
      "\u001b[0;32m~/.local/lib/python3.8/site-packages/tslearn/barycenters.py\u001b[0m in \u001b[0;36mdtw_barycenter_averaging\u001b[0;34m(X, barycenter_size, init_barycenter, max_iter, tol, weights, metric_params, verbose, n_init)\u001b[0m\n\u001b[1;32m    565\u001b[0m         \u001b[0;32mif\u001b[0m \u001b[0mverbose\u001b[0m\u001b[0;34m:\u001b[0m\u001b[0;34m\u001b[0m\u001b[0;34m\u001b[0m\u001b[0m\n\u001b[1;32m    566\u001b[0m             \u001b[0mprint\u001b[0m\u001b[0;34m(\u001b[0m\u001b[0;34m\"Attempt {}\"\u001b[0m\u001b[0;34m.\u001b[0m\u001b[0mformat\u001b[0m\u001b[0;34m(\u001b[0m\u001b[0mi\u001b[0m \u001b[0;34m+\u001b[0m \u001b[0;36m1\u001b[0m\u001b[0;34m)\u001b[0m\u001b[0;34m)\u001b[0m\u001b[0;34m\u001b[0m\u001b[0;34m\u001b[0m\u001b[0m\n\u001b[0;32m--> 567\u001b[0;31m         bary, loss = dtw_barycenter_averaging_one_init(\n\u001b[0m\u001b[1;32m    568\u001b[0m             \u001b[0mX\u001b[0m\u001b[0;34m=\u001b[0m\u001b[0mX\u001b[0m\u001b[0;34m,\u001b[0m\u001b[0;34m\u001b[0m\u001b[0;34m\u001b[0m\u001b[0m\n\u001b[1;32m    569\u001b[0m             \u001b[0mbarycenter_size\u001b[0m\u001b[0;34m=\u001b[0m\u001b[0mbarycenter_size\u001b[0m\u001b[0;34m,\u001b[0m\u001b[0;34m\u001b[0m\u001b[0;34m\u001b[0m\u001b[0m\n",
      "\u001b[0;32m~/.local/lib/python3.8/site-packages/tslearn/barycenters.py\u001b[0m in \u001b[0;36mdtw_barycenter_averaging_one_init\u001b[0;34m(X, barycenter_size, init_barycenter, max_iter, tol, weights, metric_params, verbose)\u001b[0m\n\u001b[1;32m    662\u001b[0m         \u001b[0;32mif\u001b[0m \u001b[0mverbose\u001b[0m\u001b[0;34m:\u001b[0m\u001b[0;34m\u001b[0m\u001b[0;34m\u001b[0m\u001b[0m\n\u001b[1;32m    663\u001b[0m             \u001b[0mprint\u001b[0m\u001b[0;34m(\u001b[0m\u001b[0;34m\"[DBA] epoch %d, cost: %.3f\"\u001b[0m \u001b[0;34m%\u001b[0m \u001b[0;34m(\u001b[0m\u001b[0mit\u001b[0m \u001b[0;34m+\u001b[0m \u001b[0;36m1\u001b[0m\u001b[0;34m,\u001b[0m \u001b[0mcost\u001b[0m\u001b[0;34m)\u001b[0m\u001b[0;34m)\u001b[0m\u001b[0;34m\u001b[0m\u001b[0;34m\u001b[0m\u001b[0m\n\u001b[0;32m--> 664\u001b[0;31m         \u001b[0mbarycenter\u001b[0m \u001b[0;34m=\u001b[0m \u001b[0m_mm_update_barycenter\u001b[0m\u001b[0;34m(\u001b[0m\u001b[0mX_\u001b[0m\u001b[0;34m,\u001b[0m \u001b[0mdiag_sum_v_k\u001b[0m\u001b[0;34m,\u001b[0m \u001b[0mlist_w_k\u001b[0m\u001b[0;34m)\u001b[0m\u001b[0;34m\u001b[0m\u001b[0;34m\u001b[0m\u001b[0m\n\u001b[0m\u001b[1;32m    665\u001b[0m         \u001b[0;32mif\u001b[0m \u001b[0mabs\u001b[0m\u001b[0;34m(\u001b[0m\u001b[0mcost_prev\u001b[0m \u001b[0;34m-\u001b[0m \u001b[0mcost\u001b[0m\u001b[0;34m)\u001b[0m \u001b[0;34m<\u001b[0m \u001b[0mtol\u001b[0m\u001b[0;34m:\u001b[0m\u001b[0;34m\u001b[0m\u001b[0;34m\u001b[0m\u001b[0m\n\u001b[1;32m    666\u001b[0m             \u001b[0;32mbreak\u001b[0m\u001b[0;34m\u001b[0m\u001b[0;34m\u001b[0m\u001b[0m\n",
      "\u001b[0;32m~/.local/lib/python3.8/site-packages/tslearn/barycenters.py\u001b[0m in \u001b[0;36m_mm_update_barycenter\u001b[0;34m(X, diag_sum_v_k, list_w_k)\u001b[0m\n\u001b[1;32m    410\u001b[0m     \u001b[0msum_w_x\u001b[0m \u001b[0;34m=\u001b[0m \u001b[0mnumpy\u001b[0m\u001b[0;34m.\u001b[0m\u001b[0mzeros\u001b[0m\u001b[0;34m(\u001b[0m\u001b[0;34m(\u001b[0m\u001b[0mbarycenter_size\u001b[0m\u001b[0;34m,\u001b[0m \u001b[0md\u001b[0m\u001b[0;34m)\u001b[0m\u001b[0;34m)\u001b[0m\u001b[0;34m\u001b[0m\u001b[0;34m\u001b[0m\u001b[0m\n\u001b[1;32m    411\u001b[0m     \u001b[0;32mfor\u001b[0m \u001b[0mk\u001b[0m\u001b[0;34m,\u001b[0m \u001b[0;34m(\u001b[0m\u001b[0mw_k\u001b[0m\u001b[0;34m,\u001b[0m \u001b[0mx_k\u001b[0m\u001b[0;34m)\u001b[0m \u001b[0;32min\u001b[0m \u001b[0menumerate\u001b[0m\u001b[0;34m(\u001b[0m\u001b[0mzip\u001b[0m\u001b[0;34m(\u001b[0m\u001b[0mlist_w_k\u001b[0m\u001b[0;34m,\u001b[0m \u001b[0mX\u001b[0m\u001b[0;34m)\u001b[0m\u001b[0;34m)\u001b[0m\u001b[0;34m:\u001b[0m\u001b[0;34m\u001b[0m\u001b[0;34m\u001b[0m\u001b[0m\n\u001b[0;32m--> 412\u001b[0;31m         \u001b[0msum_w_x\u001b[0m \u001b[0;34m+=\u001b[0m \u001b[0mw_k\u001b[0m\u001b[0;34m.\u001b[0m\u001b[0mdot\u001b[0m\u001b[0;34m(\u001b[0m\u001b[0mx_k\u001b[0m\u001b[0;34m[\u001b[0m\u001b[0;34m:\u001b[0m\u001b[0mts_size\u001b[0m\u001b[0;34m(\u001b[0m\u001b[0mx_k\u001b[0m\u001b[0;34m)\u001b[0m\u001b[0;34m]\u001b[0m\u001b[0;34m)\u001b[0m\u001b[0;34m\u001b[0m\u001b[0;34m\u001b[0m\u001b[0m\n\u001b[0m\u001b[1;32m    413\u001b[0m     \u001b[0mbarycenter\u001b[0m \u001b[0;34m=\u001b[0m \u001b[0mnumpy\u001b[0m\u001b[0;34m.\u001b[0m\u001b[0mdiag\u001b[0m\u001b[0;34m(\u001b[0m\u001b[0;36m1.\u001b[0m \u001b[0;34m/\u001b[0m \u001b[0mdiag_sum_v_k\u001b[0m\u001b[0;34m)\u001b[0m\u001b[0;34m.\u001b[0m\u001b[0mdot\u001b[0m\u001b[0;34m(\u001b[0m\u001b[0msum_w_x\u001b[0m\u001b[0;34m)\u001b[0m\u001b[0;34m\u001b[0m\u001b[0;34m\u001b[0m\u001b[0m\n\u001b[1;32m    414\u001b[0m     \u001b[0;32mreturn\u001b[0m \u001b[0mbarycenter\u001b[0m\u001b[0;34m\u001b[0m\u001b[0;34m\u001b[0m\u001b[0m\n",
      "\u001b[0;31mKeyboardInterrupt\u001b[0m: "
     ]
    }
   ],
   "source": [
    "!pip install tslearn\n",
    "from tslearn.clustering import TimeSeriesKMeans, silhouette_score\n",
    "from collections import defaultdict\n",
    "from tqdm import tqdm\n",
    "import pickle\n",
    "\n",
    "ts_seed = 85510309\n",
    "ss_seed = 10474245\n",
    "\n",
    "\n",
    "start, stop = 5, 15\n",
    "\n",
    "savename = f\"kmeans_and_silhouette_score_from_{start}_to_{stop}.pickle\"\n",
    "\n",
    "score_per_run = defaultdict(list)\n",
    "\n",
    "if os.path.isfile(savename):\n",
    "  print(f\"Loading saved k-means dict and silhouette scores from {savename}\")\n",
    "  with open(savename, 'rb') as f:\n",
    "    score_per_run = pickle.load(f)\n",
    "else:\n",
    "  for i in tqdm(range(start, stop)):\n",
    "    km = TimeSeriesKMeans(n_clusters=i, metric=\"dtw\", random_state=ts_seed)\n",
    "    km.fit(Similarity_Matrix)\n",
    "    ss = silhouette_score(Similarity_Matrix, labels=km.labels_, metric='dtw', random_state=ss_seed)\n",
    "\n",
    "    score_per_run[i] = [ss, km]\n",
    "\n",
    "  print(f\"Saving {savename}\")\n",
    "  with open(savename, 'wb') as f:\n",
    "    pickle.dump(score_per_run, f)"
   ]
  },
  {
   "cell_type": "code",
   "execution_count": 47,
   "metadata": {
    "colab": {
     "base_uri": "https://localhost:8080/",
     "height": 51
    },
    "colab_type": "code",
    "id": "8UwdnQSrqxyf",
    "outputId": "b270d97c-2873-486d-b0f6-502de1401391"
   },
   "outputs": [
    {
     "name": "stdout",
     "output_type": "stream",
     "text": [
      "[5]\n",
      "Best (smallest) silhouette score is with 5 categories\n"
     ]
    }
   ],
   "source": [
    "# print(sorted([3,1,7]))  # sort is ascending\n",
    "s = sorted(score_per_run, key=lambda k: score_per_run[k][0])  # sort by silhouette score\n",
    "print(s)\n",
    "print(f\"Best (smallest) silhouette score is with {s[0]} categories\")\n",
    "\n",
    "num_metrics = s[0]"
   ]
  },
  {
   "cell_type": "markdown",
   "metadata": {
    "colab_type": "text",
    "id": "IJ-FEcxmtcDy"
   },
   "source": [
    "# K-Nearest Neighbours Classification"
   ]
  },
  {
   "cell_type": "code",
   "execution_count": 48,
   "metadata": {
    "colab": {},
    "colab_type": "code",
    "id": "7Hl1DV5r1ine"
   },
   "outputs": [],
   "source": [
    "# import packages\n",
    "# https://www.saedsayad.com/k_nearest_neighbors.htm\n",
    "from sklearn.neighbors import KNeighborsClassifier\n",
    "from sklearn.model_selection import train_test_split"
   ]
  },
  {
   "cell_type": "code",
   "execution_count": 49,
   "metadata": {
    "colab": {
     "base_uri": "https://localhost:8080/",
     "height": 34
    },
    "colab_type": "code",
    "id": "QTWfm3y0t2mW",
    "outputId": "72fc09d8-8124-4644-b632-6eb66871facc"
   },
   "outputs": [
    {
     "name": "stdout",
     "output_type": "stream",
     "text": [
      "k-NN Accuracy (without Cross-Validation): 0.6666666666666666\n"
     ]
    }
   ],
   "source": [
    "def is_flirting(filename):\n",
    "  return filename.startswith(\"flirt-\")\n",
    "\n",
    "# label all clips, flirting: 1, non-flirting: 0\n",
    "# df['Class'] = 0\n",
    "# df.loc[is_flirting(df['filename'].str), 'Class'] = 1\n",
    "# print(df['Class'].value_counts())\n",
    "num_clips = df.filename.unique()\n",
    "\n",
    "labels = []\n",
    "for i in range(0, len(num_clips)):\n",
    "  clip_filename = num_clips[i]\n",
    "  if is_flirting(clip_filename):\n",
    "    label = 1\n",
    "  else:\n",
    "    label = 0\n",
    "  labels.append(label)\n",
    "\n",
    "features = df.keys()\n",
    "# print(features)\n",
    "# Split the dataset into train (80%) and test (20%) subsets.\n",
    "X_train, X_test, y_train, y_test = train_test_split(\n",
    "    Similarity_Matrix, labels, test_size=0.2, shuffle=False\n",
    ")\n",
    "\n",
    "# Create a classifier with k=1\n",
    "knn = KNeighborsClassifier(n_neighbors=10)\n",
    "\n",
    "# Train\n",
    "knn.fit(X_train, y_train)\n",
    "y_pred = knn.predict(X_test)\n",
    "print('k-NN Accuracy (without Cross-Validation):', knn.score(X_test, y_test))"
   ]
  },
  {
   "cell_type": "markdown",
   "metadata": {
    "colab_type": "text",
    "id": "0ehwU3e7LSLC"
   },
   "source": [
    "## Dimension Deduction and Visualization"
   ]
  },
  {
   "cell_type": "code",
   "execution_count": 50,
   "metadata": {
    "colab": {},
    "colab_type": "code",
    "id": "5gmqSnYCLZXz"
   },
   "outputs": [],
   "source": [
    "import numpy as np\n",
    "import matplotlib.pyplot as plt\n",
    "from sklearn import datasets\n",
    "from sklearn.model_selection import train_test_split\n",
    "from sklearn.decomposition import PCA\n",
    "from sklearn.discriminant_analysis import LinearDiscriminantAnalysis\n",
    "from sklearn.neighbors import (KNeighborsClassifier,\n",
    "                               NeighborhoodComponentsAnalysis)\n",
    "from sklearn.pipeline import make_pipeline\n",
    "from sklearn.preprocessing import StandardScaler"
   ]
  },
  {
   "cell_type": "code",
   "execution_count": 51,
   "metadata": {
    "colab": {
     "base_uri": "https://localhost:8080/",
     "height": 296
    },
    "colab_type": "code",
    "id": "g_D92gZ-7OBD",
    "outputId": "6f0e6639-49d9-44c9-eb7b-26bcea1eef70"
   },
   "outputs": [
    {
     "data": {
      "image/png": "[encoded data removed]",
      "text/plain": [
       "<Figure size 432x288 with 1 Axes>"
      ]
     },
     "metadata": {
      "needs_background": "light"
     },
     "output_type": "display_data"
    }
   ],
   "source": [
    "# Reference:\n",
    "# https://scikit-learn.org/stable/auto_examples/neighbors/plot_nca_dim_reduction.html\n",
    "\n",
    "np.random.seed(1000)\n",
    "n_neighbors = 24\n",
    "random_state = 0\n",
    "\n",
    "# Split into train/test\n",
    "X_train, X_test, y_train, y_test = \\\n",
    "    train_test_split(Similarity_Matrix, labels, test_size=0.2, stratify=labels,\n",
    "                     random_state=random_state)\n",
    "\n",
    "dim = len(Similarity_Matrix[0])\n",
    "n_classes = 2\n",
    "\n",
    "# Reduce dimension to 2 with NeighborhoodComponentAnalysis\n",
    "nca = make_pipeline(StandardScaler(),\n",
    "                    NeighborhoodComponentsAnalysis(n_components=2,\n",
    "                                                   random_state=random_state))\n",
    "\n",
    "# Use a nearest neighbor classifier to evaluate the methods\n",
    "knn = KNeighborsClassifier(n_neighbors=n_neighbors)\n",
    "\n",
    "\n",
    "name = 'NCA'\n",
    "model = nca\n",
    "plt.figure()\n",
    "\n",
    "# Fit the method's model\n",
    "model.fit(X_train, y_train)\n",
    "\n",
    "# Fit a nearest neighbor classifier on the embedded training set\n",
    "knn.fit(model.transform(X_train), y_train)\n",
    "y_pred = knn.predict(model.transform(X_test))\n",
    "# Compute the nearest neighbor accuracy on the embedded test set\n",
    "acc_knn = knn.score(model.transform(X_test), y_test)\n",
    "\n",
    "# Embed the data set in 2 dimensions using the fitted model\n",
    "X_embedded = model.transform(Similarity_Matrix)\n",
    "# Plot the projected points and show the evaluation score\n",
    "plt.scatter(X_embedded[:, 0], X_embedded[:, 1], c=labels, s=30)\n",
    "plt.title(\"{}, KNN (k={})\\nTest accuracy = {:.2f}\".format(name,\n",
    "                                                          n_neighbors,\n",
    "                                                          acc_knn))\n",
    "plt.show()"
   ]
  },
  {
   "cell_type": "code",
   "execution_count": 52,
   "metadata": {
    "colab": {
     "base_uri": "https://localhost:8080/",
     "height": 374
    },
    "colab_type": "code",
    "id": "p8JQc29QIryH",
    "outputId": "f5292b89-8ebd-46cb-c41f-11f20ea4cda4"
   },
   "outputs": [
    {
     "name": "stdout",
     "output_type": "stream",
     "text": [
      "1 flirt-qkq9k5FewvI-4 1\n",
      "1 nonflirt-pNqEDwpIm9-1 1\n",
      "0 flirt-1 0\n",
      "1 flirt-True.Blood.S01E02.720p.HDTV.x264-2HD-1 1\n",
      "0 nonflirt-lyvAjZw6O_Q-10 1\n",
      "0 nonflirt-PJP-C7TCaM8-6 0\n",
      "1 nonflirt-v2VgA_MCNDg-0 1\n",
      "0 flirt-ImEnWAVRLU0-0 1\n",
      "1 flirt-1v98t9YKPmc-1 1\n",
      "1 nonflirt-PJP-C7TCaM8-0 1\n",
      "0 flirt-WAkZz1hV7_c-3 0\n",
      "0 nonflirt-PJP-C7TCaM8-1 0\n",
      "0 flirt-5Vl8Wp3aBwQ-1 0\n",
      "1 nonflirt-2 0\n",
      "0 nonflirt-Dyri6DRZltk 1\n",
      "1 flirt-1v98t9YKPmc-2 1\n",
      "0 flirt-4 0\n",
      "0 nonflirt-1 0\n",
      "0 flirt-qUxXbU2ModY-0 0\n",
      "0 flirt-2 0\n",
      "1 flirt-True.Blood.S01E01.720p.HDTV.x264-2HD-2 1\n"
     ]
    }
   ],
   "source": [
    "for i in range(0, len(y_pred)):\n",
    "  offset = len(X_train)\n",
    "  print(y_pred[i], num_clips[offset+i], y_test[i])"
   ]
  },
  {
   "cell_type": "markdown",
   "metadata": {
    "colab_type": "text",
    "id": "LsHFQp0lOFbm"
   },
   "source": [
    "Analyzation (note that this is compared to the Clips&Annotation.ipynb): \n",
    "1. PJP-C7TCaM8-0  \n",
    "This is pretty surprising because the boy detected looks totally angry instead of having any intention of doing flirtious action.\n",
    "\n",
    "2. WAkZz1hV7_c-3  \n",
    "This is another unexpected results since his head turns right + looks away then back + lip droo + head small movement with smile and also smacking lips. The combinations of these features should give a positive result, label it as a flirting action\n",
    "\n",
    "3. Dyri6DRZltk  \n",
    "This one might due to the hand movement and the high picth voice\n",
    "\n",
    "4. ImEnWAVRLU0-0  \n",
    "I think that this was predicted as non-flirting because there is no wink or the clip was actually supposed to be labelled as non-flirting.\n",
    "\n",
    "5. nonflirt-2  \n",
    "Somewhat surprising because the man with the cellphone's tone of voice is  is agitated. Maybe the model detected the presence of two people in the frame.\n",
    "\n",
    "6. nonflirt-1  \n",
    "Somewhat surprising because the child's facial expression seems angry.\n"
   ]
  },
  {
   "cell_type": "markdown",
   "metadata": {
    "colab_type": "text",
    "id": "9dSnPTNW1Biv"
   },
   "source": [
    "# Evaluation"
   ]
  },
  {
   "cell_type": "code",
   "execution_count": 53,
   "metadata": {
    "colab": {},
    "colab_type": "code",
    "id": "et9xwy-R1WoR"
   },
   "outputs": [],
   "source": [
    "# import packages\n",
    "from sklearn.model_selection import cross_val_score\n",
    "from sklearn.metrics import classification_report, confusion_matrix"
   ]
  },
  {
   "cell_type": "code",
   "execution_count": 54,
   "metadata": {
    "colab": {
     "base_uri": "https://localhost:8080/",
     "height": 51
    },
    "colab_type": "code",
    "id": "QF1lYWVA1E-S",
    "outputId": "f40b038c-48cb-4dab-fca2-7e185bda2666"
   },
   "outputs": [
    {
     "name": "stdout",
     "output_type": "stream",
     "text": [
      "Cross-Validation Scores: [0.66666667 0.76190476 0.61904762 0.5        0.7       ]\n",
      "Mean Cross-Validation Score:0.6495238095238095\n"
     ]
    }
   ],
   "source": [
    "# Train model with a cross-validation (CV) generator with 5 folds. Note: the \n",
    "# CV generator uses `sklearn.model_selection.StratifiedKFold`.\n",
    "# cv_scores = cross_val_score(knn, Similarity_Matrix, labels, cv=5)\n",
    "cv_scores = cross_val_score(knn, X_embedded, labels, cv=5)\n",
    "\n",
    "print('Cross-Validation Scores:', cv_scores)\n",
    "print('Mean Cross-Validation Score:{}'.format(np.mean(cv_scores)))"
   ]
  },
  {
   "cell_type": "markdown",
   "metadata": {
    "colab_type": "text",
    "id": "ws-oGTGPffEx"
   },
   "source": [
    "## Confusion Matrix & Classification Report"
   ]
  },
  {
   "cell_type": "code",
   "execution_count": 55,
   "metadata": {
    "colab": {
     "base_uri": "https://localhost:8080/",
     "height": 204
    },
    "colab_type": "code",
    "id": "Si64bDcqfiOX",
    "outputId": "b80006a3-a470-4c80-fe6d-07b5bbde473a"
   },
   "outputs": [
    {
     "name": "stdout",
     "output_type": "stream",
     "text": [
      "[[9 1]\n",
      " [3 8]]\n",
      "              precision    recall  f1-score   support\n",
      "\n",
      "           0       0.75      0.90      0.82        10\n",
      "           1       0.89      0.73      0.80        11\n",
      "\n",
      "    accuracy                           0.81        21\n",
      "   macro avg       0.82      0.81      0.81        21\n",
      "weighted avg       0.82      0.81      0.81        21\n",
      "\n"
     ]
    }
   ],
   "source": [
    "# Reference:\n",
    "# https://stackabuse.com/k-nearest-neighbors-algorithm-in-python-and-scikit-learn/\n",
    "\n",
    "print(confusion_matrix(y_test, y_pred))\n",
    "print(classification_report(y_test, y_pred))"
   ]
  },
  {
   "cell_type": "markdown",
   "metadata": {
    "colab_type": "text",
    "id": "GZkSiiFmgHPL"
   },
   "source": [
    "The results show that our KNN algorithm was able to classify all the 21 records in the test set with 81% accuracy, which is very good. Although the algorithm performed very well with this dataset, don't expect the same results with all applications. As noted earlier, KNN doesn't always perform as well with high-dimensionality or categorical features."
   ]
  }
 ],
 "metadata": {
  "colab": {
   "collapsed_sections": [
    "uf-G_OjSCBUb",
    "Qt_OewYICDi2",
    "ChiF-exqhffm",
    "rwyC4gbUpzFo"
   ],
   "name": "FinalModel.ipynb",
   "provenance": []
  },
  "kernelspec": {
   "display_name": "Python 3",
   "language": "python",
   "name": "python3"
  },
  "language_info": {
   "codemirror_mode": {
    "name": "ipython",
    "version": 3
   },
   "file_extension": ".py",
   "mimetype": "text/x-python",
   "name": "python",
   "nbconvert_exporter": "python",
   "pygments_lexer": "ipython3",
   "version": "3.8.2"
  }
 },
 "nbformat": 4,
 "nbformat_minor": 1
}
