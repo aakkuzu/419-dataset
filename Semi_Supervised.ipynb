{
 "cells": [
  {
   "cell_type": "markdown",
   "metadata": {
    "colab_type": "text",
    "id": "-dmRIZ2ANyRt"
   },
   "source": [
    "# Example 1 (One semi-supervised learning, not used)"
   ]
  },
  {
   "cell_type": "code",
   "execution_count": 1,
   "metadata": {
    "colab": {
     "base_uri": "https://localhost:8080/",
     "height": 153
    },
    "colab_type": "code",
    "id": "85AHS4-FN6D6",
    "outputId": "58310746-3b67-4731-cd3f-5f8ce7e5aaa6"
   },
   "outputs": [
    {
     "name": "stdout",
     "output_type": "stream",
     "text": [
      "[0 0 0 0 0 0 0 0 0 0 0 0 0 0 0 0 0 0 0 0 0 0 0 0 0 0 0 0 0 0 0 0 0 0 0 0 0\n",
      " 0 0 0 0 0 0 0 0 0 0 0 0 0 1 1 1 1 1 1 1 1 1 1 1 1 1 1 1 1 1 1 1 1 1 1 2 1\n",
      " 1 1 1 1 1 1 1 1 1 2 1 1 1 1 1 1 1 1 1 1 1 1 1 1 1 1 2 2 2 2 2 2 2 2 2 2 2\n",
      " 2 2 2 2 2 2 2 2 2 2 2 2 2 2 2 2 2 2 2 2 2 2 2 2 2 2 2 2 2 2 2 2 2 2 2 2 2\n",
      " 2 2]\n",
      "LabelPropagation()\n"
     ]
    },
    {
     "data": {
      "text/plain": [
       "0.66"
      ]
     },
     "execution_count": 1,
     "metadata": {},
     "output_type": "execute_result"
    }
   ],
   "source": [
    "# Difference between semi-supervised learning and classification model prediciton\n",
    "# is that one is transductive as opposed to supervised learning which is almost\n",
    "# always inductive\n",
    "import numpy as np\n",
    "from sklearn import datasets\n",
    "from sklearn.semi_supervised import LabelPropagation\n",
    "label_prop_model = LabelPropagation()\n",
    "iris = datasets.load_iris()\n",
    "rng = np.random.RandomState(42)\n",
    "random_unlabeled_points = rng.rand(len(iris.target)) < 0.3\n",
    "labels = np.copy(iris.target)\n",
    "labels[random_unlabeled_points] = -1\n",
    "label_prop_model.fit(iris.data, labels)\n",
    "label_prop_model.transduction_\n",
    "y = label_prop_model.predict(iris.data)\n",
    "print(y)\n",
    "print(label_prop_model)\n",
    "label_prop_model.score(iris.data, labels)"
   ]
  },
  {
   "cell_type": "code",
   "execution_count": 2,
   "metadata": {
    "colab": {},
    "colab_type": "code",
    "id": "p_a0KwzIJ8Mi"
   },
   "outputs": [],
   "source": [
    "# import packages\n",
    "import pandas as pd\n",
    "from __future__ import absolute_import, division, print_function, unicode_literals\n",
    "import numpy as np\n",
    "import pandas as pd\n",
    "import tensorflow as tf\n",
    "from tensorflow import feature_column\n",
    "from tensorflow.keras import layers"
   ]
  },
  {
   "cell_type": "markdown",
   "metadata": {
    "colab_type": "text",
    "id": "uZWgMbpZl0xV"
   },
   "source": [
    "# Import Data"
   ]
  },
  {
   "cell_type": "code",
   "execution_count": null,
   "metadata": {
    "colab": {},
    "colab_type": "code",
    "id": "1VXQPwgdl32u"
   },
   "outputs": [],
   "source": [
    "#PROJECT_ROOT = '/content/drive/My Drive/CMPT419/Project'"
   ]
  },
  {
   "cell_type": "code",
   "execution_count": null,
   "metadata": {
    "colab": {
     "base_uri": "https://localhost:8080/",
     "height": 139
    },
    "colab_type": "code",
    "id": "806DsIpfmE_T",
    "outputId": "5d636955-91a3-4669-a462-05fb6a2ab4ea"
   },
   "outputs": [
    {
     "name": "stdout",
     "output_type": "stream",
     "text": [
      "Go to this URL in a browser: https://accounts.google.com/o/oauth2/auth?client_id=947318989803-6bn6qk8qdgf4n4g3pfee6491hc0brc4i.apps.googleusercontent.com&redirect_uri=urn%3aietf%3awg%3aoauth%3a2.0%3aoob&scope=email%20https%3a%2f%2fwww.googleapis.com%2fauth%2fdocs.test%20https%3a%2f%2fwww.googleapis.com%2fauth%2fdrive%20https%3a%2f%2fwww.googleapis.com%2fauth%2fdrive.photos.readonly%20https%3a%2f%2fwww.googleapis.com%2fauth%2fpeopleapi.readonly&response_type=code\n",
      "\n",
      "Enter your authorization code:\n",
      "··········\n",
      "Mounted at /content/drive/\n",
      "/content/drive/My Drive/CMPT419/Project\n"
     ]
    }
   ],
   "source": [
    "#from google.colab import drive\n",
    "#drive.mount('/content/drive/')\n",
    "#%cd {PROJECT_ROOT}"
   ]
  },
  {
   "cell_type": "code",
   "execution_count": 3,
   "metadata": {
    "colab": {
     "base_uri": "https://localhost:8080/",
     "height": 363
    },
    "colab_type": "code",
    "id": "W_rGY5Xcmdax",
    "outputId": "8fb16f53-3360-4827-b767-49ff5c1b1890"
   },
   "outputs": [
    {
     "name": "stdout",
     "output_type": "stream",
     "text": [
      "Loading combined CSV's from file\n"
     ]
    },
    {
     "data": {
      "text/html": [
       "<div>\n",
       "<style scoped>\n",
       "    .dataframe tbody tr th:only-of-type {\n",
       "        vertical-align: middle;\n",
       "    }\n",
       "\n",
       "    .dataframe tbody tr th {\n",
       "        vertical-align: top;\n",
       "    }\n",
       "\n",
       "    .dataframe thead th {\n",
       "        text-align: right;\n",
       "    }\n",
       "</style>\n",
       "<table border=\"1\" class=\"dataframe\">\n",
       "  <thead>\n",
       "    <tr style=\"text-align: right;\">\n",
       "      <th></th>\n",
       "      <th>frame</th>\n",
       "      <th>face_id</th>\n",
       "      <th>timestamp</th>\n",
       "      <th>confidence</th>\n",
       "      <th>success</th>\n",
       "      <th>gaze_0_x</th>\n",
       "      <th>gaze_0_y</th>\n",
       "      <th>gaze_0_z</th>\n",
       "      <th>gaze_1_x</th>\n",
       "      <th>gaze_1_y</th>\n",
       "      <th>...</th>\n",
       "      <th>AU12_c</th>\n",
       "      <th>AU14_c</th>\n",
       "      <th>AU15_c</th>\n",
       "      <th>AU17_c</th>\n",
       "      <th>AU20_c</th>\n",
       "      <th>AU23_c</th>\n",
       "      <th>AU25_c</th>\n",
       "      <th>AU26_c</th>\n",
       "      <th>AU28_c</th>\n",
       "      <th>AU45_c</th>\n",
       "    </tr>\n",
       "  </thead>\n",
       "  <tbody>\n",
       "    <tr>\n",
       "      <th>count</th>\n",
       "      <td>22935.000000</td>\n",
       "      <td>22935.000000</td>\n",
       "      <td>22935.000000</td>\n",
       "      <td>22935.000000</td>\n",
       "      <td>22935.000000</td>\n",
       "      <td>22935.000000</td>\n",
       "      <td>22935.000000</td>\n",
       "      <td>22935.000000</td>\n",
       "      <td>22935.000000</td>\n",
       "      <td>22935.000000</td>\n",
       "      <td>...</td>\n",
       "      <td>22935.000000</td>\n",
       "      <td>22935.000000</td>\n",
       "      <td>22935.000000</td>\n",
       "      <td>22935.000000</td>\n",
       "      <td>22935.000000</td>\n",
       "      <td>22935.000000</td>\n",
       "      <td>22935.000000</td>\n",
       "      <td>22935.000000</td>\n",
       "      <td>22935.000000</td>\n",
       "      <td>22935.000000</td>\n",
       "    </tr>\n",
       "    <tr>\n",
       "      <th>mean</th>\n",
       "      <td>155.616133</td>\n",
       "      <td>0.501809</td>\n",
       "      <td>4.605910</td>\n",
       "      <td>0.751813</td>\n",
       "      <td>0.766122</td>\n",
       "      <td>0.036090</td>\n",
       "      <td>0.203211</td>\n",
       "      <td>-0.663631</td>\n",
       "      <td>-0.076915</td>\n",
       "      <td>0.208771</td>\n",
       "      <td>...</td>\n",
       "      <td>0.294790</td>\n",
       "      <td>0.399913</td>\n",
       "      <td>0.581600</td>\n",
       "      <td>0.286767</td>\n",
       "      <td>0.381905</td>\n",
       "      <td>0.208197</td>\n",
       "      <td>0.404229</td>\n",
       "      <td>0.323261</td>\n",
       "      <td>0.406584</td>\n",
       "      <td>0.318552</td>\n",
       "    </tr>\n",
       "    <tr>\n",
       "      <th>std</th>\n",
       "      <td>164.296348</td>\n",
       "      <td>0.710695</td>\n",
       "      <td>4.882572</td>\n",
       "      <td>0.367902</td>\n",
       "      <td>0.423305</td>\n",
       "      <td>0.332307</td>\n",
       "      <td>0.171565</td>\n",
       "      <td>0.378508</td>\n",
       "      <td>0.330183</td>\n",
       "      <td>0.175701</td>\n",
       "      <td>...</td>\n",
       "      <td>0.455958</td>\n",
       "      <td>0.489891</td>\n",
       "      <td>0.493307</td>\n",
       "      <td>0.452262</td>\n",
       "      <td>0.485864</td>\n",
       "      <td>0.406027</td>\n",
       "      <td>0.490753</td>\n",
       "      <td>0.467732</td>\n",
       "      <td>0.491207</td>\n",
       "      <td>0.465925</td>\n",
       "    </tr>\n",
       "    <tr>\n",
       "      <th>min</th>\n",
       "      <td>1.000000</td>\n",
       "      <td>0.000000</td>\n",
       "      <td>0.000000</td>\n",
       "      <td>0.000000</td>\n",
       "      <td>0.000000</td>\n",
       "      <td>-0.805486</td>\n",
       "      <td>-0.448546</td>\n",
       "      <td>-0.999994</td>\n",
       "      <td>-0.914196</td>\n",
       "      <td>-0.414886</td>\n",
       "      <td>...</td>\n",
       "      <td>0.000000</td>\n",
       "      <td>0.000000</td>\n",
       "      <td>0.000000</td>\n",
       "      <td>0.000000</td>\n",
       "      <td>0.000000</td>\n",
       "      <td>0.000000</td>\n",
       "      <td>0.000000</td>\n",
       "      <td>0.000000</td>\n",
       "      <td>0.000000</td>\n",
       "      <td>0.000000</td>\n",
       "    </tr>\n",
       "    <tr>\n",
       "      <th>25%</th>\n",
       "      <td>46.000000</td>\n",
       "      <td>0.000000</td>\n",
       "      <td>1.600000</td>\n",
       "      <td>0.770000</td>\n",
       "      <td>1.000000</td>\n",
       "      <td>-0.196749</td>\n",
       "      <td>0.000000</td>\n",
       "      <td>-0.932839</td>\n",
       "      <td>-0.361876</td>\n",
       "      <td>0.000000</td>\n",
       "      <td>...</td>\n",
       "      <td>0.000000</td>\n",
       "      <td>0.000000</td>\n",
       "      <td>0.000000</td>\n",
       "      <td>0.000000</td>\n",
       "      <td>0.000000</td>\n",
       "      <td>0.000000</td>\n",
       "      <td>0.000000</td>\n",
       "      <td>0.000000</td>\n",
       "      <td>0.000000</td>\n",
       "      <td>0.000000</td>\n",
       "    </tr>\n",
       "    <tr>\n",
       "      <th>50%</th>\n",
       "      <td>97.000000</td>\n",
       "      <td>0.000000</td>\n",
       "      <td>3.365000</td>\n",
       "      <td>0.980000</td>\n",
       "      <td>1.000000</td>\n",
       "      <td>0.000000</td>\n",
       "      <td>0.210941</td>\n",
       "      <td>-0.857065</td>\n",
       "      <td>0.000000</td>\n",
       "      <td>0.219472</td>\n",
       "      <td>...</td>\n",
       "      <td>0.000000</td>\n",
       "      <td>0.000000</td>\n",
       "      <td>1.000000</td>\n",
       "      <td>0.000000</td>\n",
       "      <td>0.000000</td>\n",
       "      <td>0.000000</td>\n",
       "      <td>0.000000</td>\n",
       "      <td>0.000000</td>\n",
       "      <td>0.000000</td>\n",
       "      <td>0.000000</td>\n",
       "    </tr>\n",
       "    <tr>\n",
       "      <th>75%</th>\n",
       "      <td>188.000000</td>\n",
       "      <td>1.000000</td>\n",
       "      <td>5.772000</td>\n",
       "      <td>0.980000</td>\n",
       "      <td>1.000000</td>\n",
       "      <td>0.286586</td>\n",
       "      <td>0.324906</td>\n",
       "      <td>-0.578735</td>\n",
       "      <td>0.125412</td>\n",
       "      <td>0.340716</td>\n",
       "      <td>...</td>\n",
       "      <td>1.000000</td>\n",
       "      <td>1.000000</td>\n",
       "      <td>1.000000</td>\n",
       "      <td>1.000000</td>\n",
       "      <td>1.000000</td>\n",
       "      <td>0.000000</td>\n",
       "      <td>1.000000</td>\n",
       "      <td>1.000000</td>\n",
       "      <td>1.000000</td>\n",
       "      <td>1.000000</td>\n",
       "    </tr>\n",
       "    <tr>\n",
       "      <th>max</th>\n",
       "      <td>837.000000</td>\n",
       "      <td>3.000000</td>\n",
       "      <td>34.868000</td>\n",
       "      <td>0.980000</td>\n",
       "      <td>1.000000</td>\n",
       "      <td>0.931122</td>\n",
       "      <td>0.726961</td>\n",
       "      <td>0.000000</td>\n",
       "      <td>0.893593</td>\n",
       "      <td>0.843826</td>\n",
       "      <td>...</td>\n",
       "      <td>1.000000</td>\n",
       "      <td>1.000000</td>\n",
       "      <td>1.000000</td>\n",
       "      <td>1.000000</td>\n",
       "      <td>1.000000</td>\n",
       "      <td>1.000000</td>\n",
       "      <td>1.000000</td>\n",
       "      <td>1.000000</td>\n",
       "      <td>1.000000</td>\n",
       "      <td>1.000000</td>\n",
       "    </tr>\n",
       "  </tbody>\n",
       "</table>\n",
       "<p>8 rows × 334 columns</p>\n",
       "</div>"
      ],
      "text/plain": [
       "              frame       face_id     timestamp    confidence       success  \\\n",
       "count  22935.000000  22935.000000  22935.000000  22935.000000  22935.000000   \n",
       "mean     155.616133      0.501809      4.605910      0.751813      0.766122   \n",
       "std      164.296348      0.710695      4.882572      0.367902      0.423305   \n",
       "min        1.000000      0.000000      0.000000      0.000000      0.000000   \n",
       "25%       46.000000      0.000000      1.600000      0.770000      1.000000   \n",
       "50%       97.000000      0.000000      3.365000      0.980000      1.000000   \n",
       "75%      188.000000      1.000000      5.772000      0.980000      1.000000   \n",
       "max      837.000000      3.000000     34.868000      0.980000      1.000000   \n",
       "\n",
       "           gaze_0_x      gaze_0_y      gaze_0_z      gaze_1_x      gaze_1_y  \\\n",
       "count  22935.000000  22935.000000  22935.000000  22935.000000  22935.000000   \n",
       "mean       0.036090      0.203211     -0.663631     -0.076915      0.208771   \n",
       "std        0.332307      0.171565      0.378508      0.330183      0.175701   \n",
       "min       -0.805486     -0.448546     -0.999994     -0.914196     -0.414886   \n",
       "25%       -0.196749      0.000000     -0.932839     -0.361876      0.000000   \n",
       "50%        0.000000      0.210941     -0.857065      0.000000      0.219472   \n",
       "75%        0.286586      0.324906     -0.578735      0.125412      0.340716   \n",
       "max        0.931122      0.726961      0.000000      0.893593      0.843826   \n",
       "\n",
       "       ...        AU12_c        AU14_c        AU15_c        AU17_c  \\\n",
       "count  ...  22935.000000  22935.000000  22935.000000  22935.000000   \n",
       "mean   ...      0.294790      0.399913      0.581600      0.286767   \n",
       "std    ...      0.455958      0.489891      0.493307      0.452262   \n",
       "min    ...      0.000000      0.000000      0.000000      0.000000   \n",
       "25%    ...      0.000000      0.000000      0.000000      0.000000   \n",
       "50%    ...      0.000000      0.000000      1.000000      0.000000   \n",
       "75%    ...      1.000000      1.000000      1.000000      1.000000   \n",
       "max    ...      1.000000      1.000000      1.000000      1.000000   \n",
       "\n",
       "             AU20_c        AU23_c        AU25_c        AU26_c        AU28_c  \\\n",
       "count  22935.000000  22935.000000  22935.000000  22935.000000  22935.000000   \n",
       "mean       0.381905      0.208197      0.404229      0.323261      0.406584   \n",
       "std        0.485864      0.406027      0.490753      0.467732      0.491207   \n",
       "min        0.000000      0.000000      0.000000      0.000000      0.000000   \n",
       "25%        0.000000      0.000000      0.000000      0.000000      0.000000   \n",
       "50%        0.000000      0.000000      0.000000      0.000000      0.000000   \n",
       "75%        1.000000      0.000000      1.000000      1.000000      1.000000   \n",
       "max        1.000000      1.000000      1.000000      1.000000      1.000000   \n",
       "\n",
       "             AU45_c  \n",
       "count  22935.000000  \n",
       "mean       0.318552  \n",
       "std        0.465925  \n",
       "min        0.000000  \n",
       "25%        0.000000  \n",
       "50%        0.000000  \n",
       "75%        1.000000  \n",
       "max        1.000000  \n",
       "\n",
       "[8 rows x 334 columns]"
      ]
     },
     "execution_count": 3,
     "metadata": {},
     "output_type": "execute_result"
    }
   ],
   "source": [
    "import pandas as pd\n",
    "import os\n",
    "savename = \"aggregated_openface_data.pickle\"\n",
    "\n",
    "openface_csvs = \"./openface_processed/multi\"\n",
    "\n",
    "df = pd.DataFrame()\n",
    "\n",
    "if os.path.isfile(savename):\n",
    "  print(\"Loading combined CSV's from file\")\n",
    "  df = pd.read_pickle(savename)\n",
    "else:\n",
    "  for root, dirs, files in os.walk(openface_csvs):\n",
    "    dirs.clear()  # don't recurse\n",
    "\n",
    "    for f in [f for f in files if f[-4:] == '.csv']:\n",
    "      tempdata = pd.read_csv(os.path.join(root, f), skipinitialspace=True)\n",
    "      tempdata[\"filename\"] = f[0:-4].strip()  # make column with sample number (remove .csv suffix, whitespace)\n",
    "      df = pd.concat([df, tempdata])\n",
    "\n",
    "  print(\"Saving combined CSV's to file\")\n",
    "  df.to_pickle(savename)\n",
    "df.describe()"
   ]
  },
  {
   "cell_type": "code",
   "execution_count": 4,
   "metadata": {
    "colab": {
     "base_uri": "https://localhost:8080/",
     "height": 153
    },
    "colab_type": "code",
    "id": "qrUk0cOIrMFZ",
    "outputId": "4aead48d-2caa-4089-bc6e-17dae726631a"
   },
   "outputs": [
    {
     "name": "stdout",
     "output_type": "stream",
     "text": [
      "['flirt-qkq9k5FewvI-1' 'flirt-WAkZz1hV7_c-1' 'nonflirt-ImEnWAVRLU0-2'\n",
      " 'nonflirt-htqVcFHiblQ-2' 'nonflirt-ImEnWAVRLU0-1' 'flirt-7NOL6H2kZaE-2'\n",
      " 'nonflirt-ImEnWAVRLU0-4' 'nonflirt-ImEnWAVRLU0-7'\n",
      " 'nonflirt-PJP-C7TCaM8-5' 'nonflirt-lyvAjZw6O_Q-5' 'flirt-z42hs7HOabE-1'\n",
      " 'nonflirt-pBaZo4IQ030-3' 'nonflirt-lyvAjZw6O_Q-11'\n",
      " 'nonflirt-pNqEDwpIm9-0' 'nonflirt-lyvAjZw6O_Q-3' 'nonflirt-pBaZo4IQ030-2'\n",
      " 'nonflirt-lyvAjZw6O_Q-1' 'flirt-pNqEDwpIm9I-3' 'flirt-WAkZz1hV7_c-2'\n",
      " 'flirt-htqVcFHiblQ-1' 'flirt-qkq9k5FewvI-5' 'flirt-3qxH0R_k3zI-1'\n",
      " 'nonflirt-PJP-C7TCaM8-4' 'flirt-pNqEDwpIm9I-2' 'nonflirt-lyvAjZw6O_Q-9'\n",
      " 'flirt-3' 'nonflirt-lyvAjZw6O_Q-4' 'nonflirt-lyvAjZw6O_Q-6'\n",
      " 'flirt-htqVcFHiblQ-3' 'nonflirt-lyvAjZw6O_Q-7' 'nonflirt-lyvAjZw6O_Q-2'\n",
      " 'flirt-pNqEDwpIm9I-0' 'flirt-8YbTIJsI5S0-1' 'nonflirt-htqVcFHiblQ-5'\n",
      " 'flirt-3qxH0R_k3zI-2' 'flirt-7NOL6H2kZaE-0' 'flirt-WAkZz1hV7_c-4'\n",
      " 'flirt-5' 'flirt-eE0llk5Cxok-0' 'nonflirt-pBaZo4IQ030-1'\n",
      " 'nonflirt-pBaZo4IQ030-0' 'flirt-3qxH0R_k3zI-0' 'flirt-5Vl8Wp3aBwQ-0'\n",
      " 'nonflirt-htqVcFHiblQ-3' 'nonflirt-v2VgA_MCNDg-4' 'flirt-qkq9k5FewvI-2'\n",
      " 'flirt-True.Blood.S01E01.720p.HDTV.x264-2HD-0' 'flirt-8YbTIJsI5S0-0'\n",
      " 'flirt-qkq9k5FewvI-3' 'nonflirt-ImEnWAVRLU0-5' 'flirt-VxaOP79X0P4-0'\n",
      " 'flirt-z42hs7HOabE-2' 'nonflirt-htqVcFHiblQ-1' 'nonflirt-htqVcFHiblQ-4'\n",
      " 'nonflirt-ImEnWAVRLU0-0' 'nonflirt-PJP-C7TCaM8-3' 'flirt-z42hs7HOabE-0'\n",
      " 'flirt-WAkZz1hV7_c-0' 'flirt-z42hs7HOabE-4'\n",
      " 'flirt-True.Blood.S01E02.720p.HDTV.x264-2HD-0' 'nonflirt-PJP-C7TCaM8-2'\n",
      " 'flirt-qkq9k5FewvI-0' 'flirt-z42hs7HOabE-3' 'flirt-3qxH0R_k3zI-3'\n",
      " 'nonflirt-v2VgA_MCNDg-1' 'flirt-1v98t9YKPmc-3' 'nonflirt-htqVcFHiblQ-0'\n",
      " 'nonflirt-ImEnWAVRLU0-9' 'nonflirt-ImEnWAVRLU0-6'\n",
      " 'nonflirt-v2VgA_MCNDg-2' 'nonflirt-ImEnWAVRLU0-3'\n",
      " 'nonflirt-lyvAjZw6O_Q-8' 'flirt-7NOL6H2kZaE-3' 'flirt-1v98t9YKPmc-0'\n",
      " 'flirt-7NOL6H2kZaE-1' 'nonflirt-ImEnWAVRLU0-8' 'nonflirt-lyvAjZw6O_Q-0'\n",
      " 'flirt-htqVcFHiblQ-0' 'flirt-pNqEDwpIm9I-1' 'flirt-htqVcFHiblQ-2'\n",
      " 'nonflirt-3' 'nonflirt-v2VgA_MCNDg-3' 'flirt-NycP2RIqCh8-0'\n",
      " 'flirt-True.Blood.S01E01.720p.HDTV.x264-2HD-1' 'flirt-qkq9k5FewvI-4'\n",
      " 'nonflirt-pNqEDwpIm9-1' 'flirt-1'\n",
      " 'flirt-True.Blood.S01E02.720p.HDTV.x264-2HD-1' 'nonflirt-lyvAjZw6O_Q-10'\n",
      " 'nonflirt-PJP-C7TCaM8-6' 'nonflirt-v2VgA_MCNDg-0' 'flirt-ImEnWAVRLU0-0'\n",
      " 'flirt-1v98t9YKPmc-1' 'nonflirt-PJP-C7TCaM8-0' 'flirt-WAkZz1hV7_c-3'\n",
      " 'nonflirt-PJP-C7TCaM8-1' 'flirt-5Vl8Wp3aBwQ-1' 'nonflirt-2'\n",
      " 'nonflirt-Dyri6DRZltk' 'flirt-1v98t9YKPmc-2' 'flirt-4' 'nonflirt-1'\n",
      " 'flirt-qUxXbU2ModY-0' 'flirt-2'\n",
      " 'flirt-True.Blood.S01E01.720p.HDTV.x264-2HD-2']\n"
     ]
    }
   ],
   "source": [
    "print(df.filename.unique())"
   ]
  },
  {
   "cell_type": "markdown",
   "metadata": {
    "colab_type": "text",
    "id": "esRg6a-5WRe8"
   },
   "source": [
    "# Use NSL (Another way for shortage of data, not used)"
   ]
  },
  {
   "cell_type": "code",
   "execution_count": null,
   "metadata": {
    "colab": {
     "base_uri": "https://localhost:8080/",
     "height": 34
    },
    "colab_type": "code",
    "id": "b4cnSgVYWNQb",
    "outputId": "111451cf-ac9b-4b5a-89cd-b99987b12306"
   },
   "outputs": [
    {
     "name": "stdout",
     "output_type": "stream",
     "text": [
      "\u001b[?25l\r",
      "\u001b[K     |██▊                             | 10kB 22.1MB/s eta 0:00:01\r",
      "\u001b[K     |█████▌                          | 20kB 1.7MB/s eta 0:00:01\r",
      "\u001b[K     |████████▏                       | 30kB 2.2MB/s eta 0:00:01\r",
      "\u001b[K     |███████████                     | 40kB 2.4MB/s eta 0:00:01\r",
      "\u001b[K     |█████████████▋                  | 51kB 2.0MB/s eta 0:00:01\r",
      "\u001b[K     |████████████████▍               | 61kB 2.2MB/s eta 0:00:01\r",
      "\u001b[K     |███████████████████             | 71kB 2.4MB/s eta 0:00:01\r",
      "\u001b[K     |█████████████████████▉          | 81kB 2.6MB/s eta 0:00:01\r",
      "\u001b[K     |████████████████████████▌       | 92kB 2.8MB/s eta 0:00:01\r",
      "\u001b[K     |███████████████████████████▎    | 102kB 2.7MB/s eta 0:00:01\r",
      "\u001b[K     |██████████████████████████████  | 112kB 2.7MB/s eta 0:00:01\r",
      "\u001b[K     |████████████████████████████████| 122kB 2.7MB/s \n",
      "\u001b[?25h"
     ]
    }
   ],
   "source": [
    "# Reference:\n",
    "# https://github.com/tensorflow/neural-structured-learning#:~:text=Structured%20signals%20are%20commonly%20used,labeled%20data%20is%20relatively%20small.\n",
    "# https://www.tensorflow.org/neural_structured_learning\n",
    "# https://www.tensorflow.org/neural_structured_learning/tutorials/graph_keras_lstm_imdb\n",
    "!pip install --quiet neural-structured-learning\n",
    "!pip install --quiet tensorflow-hub"
   ]
  },
  {
   "cell_type": "code",
   "execution_count": null,
   "metadata": {
    "colab": {
     "base_uri": "https://localhost:8080/",
     "height": 85
    },
    "colab_type": "code",
    "id": "vyR_xEENab8w",
    "outputId": "300c2508-a96c-4b97-817f-01453fe52ed5"
   },
   "outputs": [
    {
     "name": "stdout",
     "output_type": "stream",
     "text": [
      "Version:  2.3.0\n",
      "Eager mode:  True\n",
      "Hub version:  0.8.0\n",
      "GPU is NOT AVAILABLE\n"
     ]
    }
   ],
   "source": [
    "import matplotlib.pyplot as plt\n",
    "import numpy as np\n",
    "\n",
    "import neural_structured_learning as nsl\n",
    "\n",
    "import tensorflow as tf\n",
    "import tensorflow_hub as hub\n",
    "\n",
    "# Resets notebook state\n",
    "tf.keras.backend.clear_session()\n",
    "\n",
    "print(\"Version: \", tf.__version__)\n",
    "print(\"Eager mode: \", tf.executing_eagerly())\n",
    "print(\"Hub version: \", hub.__version__)\n",
    "print(\n",
    "    \"GPU is\",\n",
    "    \"available\" if tf.config.list_physical_devices(\"GPU\") else \"NOT AVAILABLE\")"
   ]
  },
  {
   "cell_type": "code",
   "execution_count": null,
   "metadata": {
    "colab": {},
    "colab_type": "code",
    "id": "CgkEm88Bl8nY"
   },
   "outputs": [],
   "source": [
    "# confidence = feature_column.sequance_numeric_column(\"confidence\")\n",
    "# columns = [confidence]"
   ]
  },
  {
   "cell_type": "markdown",
   "metadata": {
    "colab_type": "text",
    "id": "YwAnqRsqgIE1"
   },
   "source": [
    "Thie is a binary-class classification problem"
   ]
  },
  {
   "cell_type": "code",
   "execution_count": null,
   "metadata": {
    "colab": {},
    "colab_type": "code",
    "id": "fQB9rktrFszf"
   },
   "outputs": [],
   "source": [
    "pretrained_embedding = 'https://tfhub.dev/google/tf2-preview/gnews-swivel-20dim/1'\n",
    "\n",
    "hub_layer = hub.KerasLayer(\n",
    "    pretrained_embedding, input_shape=[], dtype=tf.float32, trainable=True)"
   ]
  },
  {
   "cell_type": "markdown",
   "metadata": {
    "colab_type": "text",
    "id": "o3CX2zc-aZOT"
   },
   "source": [
    "or https://awesomeopensource.com/project/clvrai/SSGAN-Tensorflow"
   ]
  },
  {
   "cell_type": "markdown",
   "metadata": {
    "colab_type": "text",
    "id": "5EblNIIS4j2v"
   },
   "source": [
    "# Classify structrued data with feature columns"
   ]
  },
  {
   "cell_type": "code",
   "execution_count": null,
   "metadata": {
    "colab": {},
    "colab_type": "code",
    "id": "BMdywI0V8Z_G"
   },
   "outputs": [],
   "source": [
    "# Reference:\n",
    "# https://www.tensorflow.org/tutorials/structured_data/feature_columns\n",
    "import numpy as np\n",
    "import pandas as pd\n",
    "\n",
    "import tensorflow as tf\n",
    "\n",
    "from tensorflow import feature_column\n",
    "from tensorflow.keras import layers\n",
    "from sklearn.model_selection import train_test_split"
   ]
  },
  {
   "cell_type": "markdown",
   "metadata": {
    "colab_type": "text",
    "id": "yQYoMq-fc11X"
   },
   "source": [
    "# Create a binary class"
   ]
  },
  {
   "cell_type": "code",
   "execution_count": null,
   "metadata": {
    "colab": {},
    "colab_type": "code",
    "id": "Xc6oWe2-c7PI"
   },
   "outputs": [],
   "source": [
    "# Drop un-used columns\n",
    "dropIndices = ['face_id', 'filename']\n",
    "dataframe = df.drop(dropIndices, axis=1)\n",
    "\n",
    "# label all flirting action data to 1\n",
    "dataframe['Class'] = 1"
   ]
  },
  {
   "cell_type": "markdown",
   "metadata": {
    "colab_type": "text",
    "id": "UYeAcn2IceWl"
   },
   "source": [
    "# Split the data into train, validation, and test"
   ]
  },
  {
   "cell_type": "code",
   "execution_count": null,
   "metadata": {
    "colab": {
     "base_uri": "https://localhost:8080/",
     "height": 170
    },
    "colab_type": "code",
    "id": "LmLROLot-s8Z",
    "outputId": "bef74e69-8124-4157-ece3-c3d9bc5f4fad"
   },
   "outputs": [
    {
     "name": "stdout",
     "output_type": "stream",
     "text": [
      "5475 train examples\n",
      "1369 validation examples\n",
      "1712 test examples\n",
      "Index(['frame', 'timestamp', 'confidence', 'success', 'gaze_0_x', 'gaze_0_y',\n",
      "       'gaze_0_z', 'gaze_1_x', 'gaze_1_y', 'gaze_1_z',\n",
      "       ...\n",
      "       'AU14_c', 'AU15_c', 'AU17_c', 'AU20_c', 'AU23_c', 'AU25_c', 'AU26_c',\n",
      "       'AU28_c', 'AU45_c', 'Class'],\n",
      "      dtype='object', length=334)\n"
     ]
    }
   ],
   "source": [
    "train, test = train_test_split(dataframe, test_size=0.2)\n",
    "train, val = train_test_split(train, test_size=0.2)\n",
    "print(len(train), 'train examples')\n",
    "print(len(val), 'validation examples')\n",
    "print(len(test), 'test examples')\n",
    "print(train.keys())"
   ]
  },
  {
   "cell_type": "code",
   "execution_count": null,
   "metadata": {
    "colab": {},
    "colab_type": "code",
    "id": "Qchff3eO_DMR"
   },
   "outputs": [],
   "source": [
    "# A utility method to create a tf.data dataset from a Pandas Dataframe\n",
    "def df_to_dataset(dataframe, shuffle=True, batch_size=32):\n",
    "  dataframe = dataframe.copy()\n",
    "  labels = dataframe.pop('Class')\n",
    "  ds = tf.data.Dataset.from_tensor_slices((dict(dataframe), labels))\n",
    "  if shuffle:\n",
    "    ds = ds.shuffle(buffer_size=len(dataframe))\n",
    "  ds = ds.batch(batch_size)\n",
    "  return ds"
   ]
  },
  {
   "cell_type": "code",
   "execution_count": null,
   "metadata": {
    "colab": {},
    "colab_type": "code",
    "id": "EdQPSYS__HbR"
   },
   "outputs": [],
   "source": [
    "# The batch size defines the number of samples that will be propagated through the network.\n",
    "batch_size = 10\n",
    "train_ds = df_to_dataset(train, batch_size=batch_size)\n",
    "val_ds = df_to_dataset(val, shuffle=False, batch_size=batch_size)\n",
    "test_ds = df_to_dataset(test, shuffle=False, batch_size=batch_size)"
   ]
  },
  {
   "cell_type": "code",
   "execution_count": null,
   "metadata": {
    "colab": {
     "base_uri": "https://localhost:8080/",
     "height": 88
    },
    "colab_type": "code",
    "id": "oO9g6KhUAHyF",
    "outputId": "d0c87b32-ee34-4b30-880a-888e2dd204f6"
   },
   "outputs": [
    {
     "name": "stdout",
     "output_type": "stream",
     "text": [
      "Every feature: ['frame', 'timestamp', 'confidence', 'success', 'gaze_0_x', 'gaze_0_y', 'gaze_0_z', 'gaze_1_x', 'gaze_1_y', 'gaze_1_z', 'gaze_angle_x', 'gaze_angle_y', 'eye_lmk_x_0', 'eye_lmk_x_1', 'eye_lmk_x_2', 'eye_lmk_x_3', 'eye_lmk_x_4', 'eye_lmk_x_5', 'eye_lmk_x_6', 'eye_lmk_x_7', 'eye_lmk_x_8', 'eye_lmk_x_9', 'eye_lmk_x_10', 'eye_lmk_x_11', 'eye_lmk_x_12', 'eye_lmk_x_13', 'eye_lmk_x_14', 'eye_lmk_x_15', 'eye_lmk_x_16', 'eye_lmk_x_17', 'eye_lmk_x_18', 'eye_lmk_x_19', 'eye_lmk_x_20', 'eye_lmk_x_21', 'eye_lmk_x_22', 'eye_lmk_x_23', 'eye_lmk_x_24', 'eye_lmk_x_25', 'eye_lmk_x_26', 'eye_lmk_x_27', 'eye_lmk_x_28', 'eye_lmk_x_29', 'eye_lmk_x_30', 'eye_lmk_x_31', 'eye_lmk_x_32', 'eye_lmk_x_33', 'eye_lmk_x_34', 'eye_lmk_x_35', 'eye_lmk_x_36', 'eye_lmk_x_37', 'eye_lmk_x_38', 'eye_lmk_x_39', 'eye_lmk_x_40', 'eye_lmk_x_41', 'eye_lmk_x_42', 'eye_lmk_x_43', 'eye_lmk_x_44', 'eye_lmk_x_45', 'eye_lmk_x_46', 'eye_lmk_x_47', 'eye_lmk_x_48', 'eye_lmk_x_49', 'eye_lmk_x_50', 'eye_lmk_x_51', 'eye_lmk_x_52', 'eye_lmk_x_53', 'eye_lmk_x_54', 'eye_lmk_x_55', 'eye_lmk_y_0', 'eye_lmk_y_1', 'eye_lmk_y_2', 'eye_lmk_y_3', 'eye_lmk_y_4', 'eye_lmk_y_5', 'eye_lmk_y_6', 'eye_lmk_y_7', 'eye_lmk_y_8', 'eye_lmk_y_9', 'eye_lmk_y_10', 'eye_lmk_y_11', 'eye_lmk_y_12', 'eye_lmk_y_13', 'eye_lmk_y_14', 'eye_lmk_y_15', 'eye_lmk_y_16', 'eye_lmk_y_17', 'eye_lmk_y_18', 'eye_lmk_y_19', 'eye_lmk_y_20', 'eye_lmk_y_21', 'eye_lmk_y_22', 'eye_lmk_y_23', 'eye_lmk_y_24', 'eye_lmk_y_25', 'eye_lmk_y_26', 'eye_lmk_y_27', 'eye_lmk_y_28', 'eye_lmk_y_29', 'eye_lmk_y_30', 'eye_lmk_y_31', 'eye_lmk_y_32', 'eye_lmk_y_33', 'eye_lmk_y_34', 'eye_lmk_y_35', 'eye_lmk_y_36', 'eye_lmk_y_37', 'eye_lmk_y_38', 'eye_lmk_y_39', 'eye_lmk_y_40', 'eye_lmk_y_41', 'eye_lmk_y_42', 'eye_lmk_y_43', 'eye_lmk_y_44', 'eye_lmk_y_45', 'eye_lmk_y_46', 'eye_lmk_y_47', 'eye_lmk_y_48', 'eye_lmk_y_49', 'eye_lmk_y_50', 'eye_lmk_y_51', 'eye_lmk_y_52', 'eye_lmk_y_53', 'eye_lmk_y_54', 'eye_lmk_y_55', 'eye_lmk_X_0', 'eye_lmk_X_1', 'eye_lmk_X_2', 'eye_lmk_X_3', 'eye_lmk_X_4', 'eye_lmk_X_5', 'eye_lmk_X_6', 'eye_lmk_X_7', 'eye_lmk_X_8', 'eye_lmk_X_9', 'eye_lmk_X_10', 'eye_lmk_X_11', 'eye_lmk_X_12', 'eye_lmk_X_13', 'eye_lmk_X_14', 'eye_lmk_X_15', 'eye_lmk_X_16', 'eye_lmk_X_17', 'eye_lmk_X_18', 'eye_lmk_X_19', 'eye_lmk_X_20', 'eye_lmk_X_21', 'eye_lmk_X_22', 'eye_lmk_X_23', 'eye_lmk_X_24', 'eye_lmk_X_25', 'eye_lmk_X_26', 'eye_lmk_X_27', 'eye_lmk_X_28', 'eye_lmk_X_29', 'eye_lmk_X_30', 'eye_lmk_X_31', 'eye_lmk_X_32', 'eye_lmk_X_33', 'eye_lmk_X_34', 'eye_lmk_X_35', 'eye_lmk_X_36', 'eye_lmk_X_37', 'eye_lmk_X_38', 'eye_lmk_X_39', 'eye_lmk_X_40', 'eye_lmk_X_41', 'eye_lmk_X_42', 'eye_lmk_X_43', 'eye_lmk_X_44', 'eye_lmk_X_45', 'eye_lmk_X_46', 'eye_lmk_X_47', 'eye_lmk_X_48', 'eye_lmk_X_49', 'eye_lmk_X_50', 'eye_lmk_X_51', 'eye_lmk_X_52', 'eye_lmk_X_53', 'eye_lmk_X_54', 'eye_lmk_X_55', 'eye_lmk_Y_0', 'eye_lmk_Y_1', 'eye_lmk_Y_2', 'eye_lmk_Y_3', 'eye_lmk_Y_4', 'eye_lmk_Y_5', 'eye_lmk_Y_6', 'eye_lmk_Y_7', 'eye_lmk_Y_8', 'eye_lmk_Y_9', 'eye_lmk_Y_10', 'eye_lmk_Y_11', 'eye_lmk_Y_12', 'eye_lmk_Y_13', 'eye_lmk_Y_14', 'eye_lmk_Y_15', 'eye_lmk_Y_16', 'eye_lmk_Y_17', 'eye_lmk_Y_18', 'eye_lmk_Y_19', 'eye_lmk_Y_20', 'eye_lmk_Y_21', 'eye_lmk_Y_22', 'eye_lmk_Y_23', 'eye_lmk_Y_24', 'eye_lmk_Y_25', 'eye_lmk_Y_26', 'eye_lmk_Y_27', 'eye_lmk_Y_28', 'eye_lmk_Y_29', 'eye_lmk_Y_30', 'eye_lmk_Y_31', 'eye_lmk_Y_32', 'eye_lmk_Y_33', 'eye_lmk_Y_34', 'eye_lmk_Y_35', 'eye_lmk_Y_36', 'eye_lmk_Y_37', 'eye_lmk_Y_38', 'eye_lmk_Y_39', 'eye_lmk_Y_40', 'eye_lmk_Y_41', 'eye_lmk_Y_42', 'eye_lmk_Y_43', 'eye_lmk_Y_44', 'eye_lmk_Y_45', 'eye_lmk_Y_46', 'eye_lmk_Y_47', 'eye_lmk_Y_48', 'eye_lmk_Y_49', 'eye_lmk_Y_50', 'eye_lmk_Y_51', 'eye_lmk_Y_52', 'eye_lmk_Y_53', 'eye_lmk_Y_54', 'eye_lmk_Y_55', 'eye_lmk_Z_0', 'eye_lmk_Z_1', 'eye_lmk_Z_2', 'eye_lmk_Z_3', 'eye_lmk_Z_4', 'eye_lmk_Z_5', 'eye_lmk_Z_6', 'eye_lmk_Z_7', 'eye_lmk_Z_8', 'eye_lmk_Z_9', 'eye_lmk_Z_10', 'eye_lmk_Z_11', 'eye_lmk_Z_12', 'eye_lmk_Z_13', 'eye_lmk_Z_14', 'eye_lmk_Z_15', 'eye_lmk_Z_16', 'eye_lmk_Z_17', 'eye_lmk_Z_18', 'eye_lmk_Z_19', 'eye_lmk_Z_20', 'eye_lmk_Z_21', 'eye_lmk_Z_22', 'eye_lmk_Z_23', 'eye_lmk_Z_24', 'eye_lmk_Z_25', 'eye_lmk_Z_26', 'eye_lmk_Z_27', 'eye_lmk_Z_28', 'eye_lmk_Z_29', 'eye_lmk_Z_30', 'eye_lmk_Z_31', 'eye_lmk_Z_32', 'eye_lmk_Z_33', 'eye_lmk_Z_34', 'eye_lmk_Z_35', 'eye_lmk_Z_36', 'eye_lmk_Z_37', 'eye_lmk_Z_38', 'eye_lmk_Z_39', 'eye_lmk_Z_40', 'eye_lmk_Z_41', 'eye_lmk_Z_42', 'eye_lmk_Z_43', 'eye_lmk_Z_44', 'eye_lmk_Z_45', 'eye_lmk_Z_46', 'eye_lmk_Z_47', 'eye_lmk_Z_48', 'eye_lmk_Z_49', 'eye_lmk_Z_50', 'eye_lmk_Z_51', 'eye_lmk_Z_52', 'eye_lmk_Z_53', 'eye_lmk_Z_54', 'eye_lmk_Z_55', 'pose_Tx', 'pose_Ty', 'pose_Tz', 'pose_Rx', 'pose_Ry', 'pose_Rz', 'AU01_r', 'AU02_r', 'AU04_r', 'AU05_r', 'AU06_r', 'AU07_r', 'AU09_r', 'AU10_r', 'AU12_r', 'AU14_r', 'AU15_r', 'AU17_r', 'AU20_r', 'AU23_r', 'AU25_r', 'AU26_r', 'AU45_r', 'AU01_c', 'AU02_c', 'AU04_c', 'AU05_c', 'AU06_c', 'AU07_c', 'AU09_c', 'AU10_c', 'AU12_c', 'AU14_c', 'AU15_c', 'AU17_c', 'AU20_c', 'AU23_c', 'AU25_c', 'AU26_c', 'AU28_c', 'AU45_c']\n",
      "A batch of confidence: tf.Tensor([0.88 0.98 0.88 0.03 0.98 0.93 0.98 0.88 0.98 0.98], shape=(10,), dtype=float64)\n",
      "A batch of targets: tf.Tensor([1 1 1 1 1 1 1 1 1 1], shape=(10,), dtype=int64)\n"
     ]
    }
   ],
   "source": [
    "# Now we have created the input pipeline\n",
    "for feature_batch, label_batch in train_ds.take(1):\n",
    "  print('Every feature:', list(feature_batch.keys()))\n",
    "  print('A batch of confidence:', feature_batch['confidence'])\n",
    "  print('A batch of targets:', label_batch )"
   ]
  },
  {
   "cell_type": "markdown",
   "metadata": {
    "colab_type": "text",
    "id": "lR5ctPB8BIVL"
   },
   "source": [
    "## Demonstrate several types of feature columns\n"
   ]
  },
  {
   "cell_type": "code",
   "execution_count": null,
   "metadata": {
    "colab": {},
    "colab_type": "code",
    "id": "UKifi48OBLsp"
   },
   "outputs": [],
   "source": [
    "# use this batch to demonstrate feature columns\n",
    "example_batch = next(iter(train_ds))[0]\n",
    "\n",
    "# A utility method to create a feature column\n",
    "# and to transform a batch of data\n",
    "def demo(feature_column):\n",
    "  feature_layer = layers.DenseFeatures(feature_column)\n",
    "  print(feature_layer(example_batch).numpy())"
   ]
  },
  {
   "cell_type": "markdown",
   "metadata": {
    "colab_type": "text",
    "id": "uf-G_OjSCBUb"
   },
   "source": [
    "## Choose which columns to use"
   ]
  },
  {
   "cell_type": "code",
   "execution_count": null,
   "metadata": {
    "colab": {},
    "colab_type": "code",
    "id": "TmitO3-lB5x_"
   },
   "outputs": [],
   "source": [
    "feature_columns = []\n",
    "features = train.drop('Class',axis=1).keys()\n",
    "# numeric cols\n",
    "for feature in features:\n",
    "  feature = feature_column.numeric_column(feature)\n",
    "  # if \"confidence\" in str(feature):\n",
    "  #   print(str(feature))\n",
    "  #   demo(feature)\n",
    "  feature_columns.append(feature)"
   ]
  },
  {
   "cell_type": "markdown",
   "metadata": {
    "colab_type": "text",
    "id": "zoF3dxb5Cyyu"
   },
   "source": [
    "## Create a feature layer"
   ]
  },
  {
   "cell_type": "code",
   "execution_count": null,
   "metadata": {
    "colab": {},
    "colab_type": "code",
    "id": "H7et_MTXCyKz"
   },
   "outputs": [],
   "source": [
    "feature_layer = tf.keras.layers.DenseFeatures(feature_columns)"
   ]
  },
  {
   "cell_type": "markdown",
   "metadata": {
    "colab_type": "text",
    "id": "6QGu2GCWDHW-"
   },
   "source": [
    "## Create, compile, and train the model"
   ]
  },
  {
   "cell_type": "code",
   "execution_count": null,
   "metadata": {
    "colab": {
     "base_uri": "https://localhost:8080/",
     "height": 598
    },
    "colab_type": "code",
    "id": "KkfOzn0iDGo_",
    "outputId": "4f0d051e-e24c-4a94-914e-52efc9402663"
   },
   "outputs": [
    {
     "name": "stdout",
     "output_type": "stream",
     "text": [
      "Epoch 1/10\n",
      "WARNING:tensorflow:Layers in a Sequential model should only have a single input tensor, but we receive a <class 'dict'> input: {'frame': <tf.Tensor 'ExpandDims_316:0' shape=(None, 1) dtype=int64>, 'timestamp': <tf.Tensor 'ExpandDims_332:0' shape=(None, 1) dtype=float64>, 'confidence': <tf.Tensor 'ExpandDims_35:0' shape=(None, 1) dtype=float64>, 'success': <tf.Tensor 'ExpandDims_331:0' shape=(None, 1) dtype=int64>, 'gaze_0_x': <tf.Tensor 'ExpandDims_317:0' shape=(None, 1) dtype=float64>, 'gaze_0_y': <tf.Tensor 'ExpandDims_318:0' shape=(None, 1) dtype=float64>, 'gaze_0_z': <tf.Tensor 'ExpandDims_319:0' shape=(None, 1) dtype=float64>, 'gaze_1_x': <tf.Tensor 'ExpandDims_320:0' shape=(None, 1) dtype=float64>, 'gaze_1_y': <tf.Tensor 'ExpandDims_321:0' shape=(None, 1) dtype=float64>, 'gaze_1_z': <tf.Tensor 'ExpandDims_322:0' shape=(None, 1) dtype=float64>, 'gaze_angle_x': <tf.Tensor 'ExpandDims_323:0' shape=(None, 1) dtype=float64>, 'gaze_angle_y': <tf.Tensor 'ExpandDims_324:0' shape=(None, 1) dtype=float64>, 'eye_lmk_x_0': <tf.Tensor 'ExpandDims_204:0' shape=(None, 1) dtype=float64>, 'eye_lmk_x_1': <tf.Tensor 'ExpandDims_205:0' shape=(None, 1) dtype=float64>, 'eye_lmk_x_2': <tf.Tensor 'ExpandDims_216:0' shape=(None, 1) dtype=float64>, 'eye_lmk_x_3': <tf.Tensor 'ExpandDims_227:0' shape=(None, 1) dtype=float64>, 'eye_lmk_x_4': <tf.Tensor 'ExpandDims_238:0' shape=(None, 1) dtype=float64>, 'eye_lmk_x_5': <tf.Tensor 'ExpandDims_249:0' shape=(None, 1) dtype=float64>, 'eye_lmk_x_6': <tf.Tensor 'ExpandDims_256:0' shape=(None, 1) dtype=float64>, 'eye_lmk_x_7': <tf.Tensor 'ExpandDims_257:0' shape=(None, 1) dtype=float64>, 'eye_lmk_x_8': <tf.Tensor 'ExpandDims_258:0' shape=(None, 1) dtype=float64>, 'eye_lmk_x_9': <tf.Tensor 'ExpandDims_259:0' shape=(None, 1) dtype=float64>, 'eye_lmk_x_10': <tf.Tensor 'ExpandDims_206:0' shape=(None, 1) dtype=float64>, 'eye_lmk_x_11': <tf.Tensor 'ExpandDims_207:0' shape=(None, 1) dtype=float64>, 'eye_lmk_x_12': <tf.Tensor 'ExpandDims_208:0' shape=(None, 1) dtype=float64>, 'eye_lmk_x_13': <tf.Tensor 'ExpandDims_209:0' shape=(None, 1) dtype=float64>, 'eye_lmk_x_14': <tf.Tensor 'ExpandDims_210:0' shape=(None, 1) dtype=float64>, 'eye_lmk_x_15': <tf.Tensor 'ExpandDims_211:0' shape=(None, 1) dtype=float64>, 'eye_lmk_x_16': <tf.Tensor 'ExpandDims_212:0' shape=(None, 1) dtype=float64>, 'eye_lmk_x_17': <tf.Tensor 'ExpandDims_213:0' shape=(None, 1) dtype=float64>, 'eye_lmk_x_18': <tf.Tensor 'ExpandDims_214:0' shape=(None, 1) dtype=float64>, 'eye_lmk_x_19': <tf.Tensor 'ExpandDims_215:0' shape=(None, 1) dtype=float64>, 'eye_lmk_x_20': <tf.Tensor 'ExpandDims_217:0' shape=(None, 1) dtype=float64>, 'eye_lmk_x_21': <tf.Tensor 'ExpandDims_218:0' shape=(None, 1) dtype=float64>, 'eye_lmk_x_22': <tf.Tensor 'ExpandDims_219:0' shape=(None, 1) dtype=float64>, 'eye_lmk_x_23': <tf.Tensor 'ExpandDims_220:0' shape=(None, 1) dtype=float64>, 'eye_lmk_x_24': <tf.Tensor 'ExpandDims_221:0' shape=(None, 1) dtype=float64>, 'eye_lmk_x_25': <tf.Tensor 'ExpandDims_222:0' shape=(None, 1) dtype=float64>, 'eye_lmk_x_26': <tf.Tensor 'ExpandDims_223:0' shape=(None, 1) dtype=float64>, 'eye_lmk_x_27': <tf.Tensor 'ExpandDims_224:0' shape=(None, 1) dtype=float64>, 'eye_lmk_x_28': <tf.Tensor 'ExpandDims_225:0' shape=(None, 1) dtype=float64>, 'eye_lmk_x_29': <tf.Tensor 'ExpandDims_226:0' shape=(None, 1) dtype=float64>, 'eye_lmk_x_30': <tf.Tensor 'ExpandDims_228:0' shape=(None, 1) dtype=float64>, 'eye_lmk_x_31': <tf.Tensor 'ExpandDims_229:0' shape=(None, 1) dtype=float64>, 'eye_lmk_x_32': <tf.Tensor 'ExpandDims_230:0' shape=(None, 1) dtype=float64>, 'eye_lmk_x_33': <tf.Tensor 'ExpandDims_231:0' shape=(None, 1) dtype=float64>, 'eye_lmk_x_34': <tf.Tensor 'ExpandDims_232:0' shape=(None, 1) dtype=float64>, 'eye_lmk_x_35': <tf.Tensor 'ExpandDims_233:0' shape=(None, 1) dtype=float64>, 'eye_lmk_x_36': <tf.Tensor 'ExpandDims_234:0' shape=(None, 1) dtype=float64>, 'eye_lmk_x_37': <tf.Tensor 'ExpandDims_235:0' shape=(None, 1) dtype=float64>, 'eye_lmk_x_38': <tf.Tensor 'ExpandDims_236:0' shape=(None, 1) dtype=float64>, 'eye_lmk_x_39': <tf.Tensor 'ExpandDims_237:0' shape=(None, 1) dtype=float64>, 'eye_lmk_x_40': <tf.Tensor 'ExpandDims_239:0' shape=(None, 1) dtype=float64>, 'eye_lmk_x_41': <tf.Tensor 'ExpandDims_240:0' shape=(None, 1) dtype=float64>, 'eye_lmk_x_42': <tf.Tensor 'ExpandDims_241:0' shape=(None, 1) dtype=float64>, 'eye_lmk_x_43': <tf.Tensor 'ExpandDims_242:0' shape=(None, 1) dtype=float64>, 'eye_lmk_x_44': <tf.Tensor 'ExpandDims_243:0' shape=(None, 1) dtype=float64>, 'eye_lmk_x_45': <tf.Tensor 'ExpandDims_244:0' shape=(None, 1) dtype=float64>, 'eye_lmk_x_46': <tf.Tensor 'ExpandDims_245:0' shape=(None, 1) dtype=float64>, 'eye_lmk_x_47': <tf.Tensor 'ExpandDims_246:0' shape=(None, 1) dtype=float64>, 'eye_lmk_x_48': <tf.Tensor 'ExpandDims_247:0' shape=(None, 1) dtype=float64>, 'eye_lmk_x_49': <tf.Tensor 'ExpandDims_248:0' shape=(None, 1) dtype=float64>, 'eye_lmk_x_50': <tf.Tensor 'ExpandDims_250:0' shape=(None, 1) dtype=float64>, 'eye_lmk_x_51': <tf.Tensor 'ExpandDims_251:0' shape=(None, 1) dtype=float64>, 'eye_lmk_x_52': <tf.Tensor 'ExpandDims_252:0' shape=(None, 1) dtype=float64>, 'eye_lmk_x_53': <tf.Tensor 'ExpandDims_253:0' shape=(None, 1) dtype=float64>, 'eye_lmk_x_54': <tf.Tensor 'ExpandDims_254:0' shape=(None, 1) dtype=float64>, 'eye_lmk_x_55': <tf.Tensor 'ExpandDims_255:0' shape=(None, 1) dtype=float64>, 'eye_lmk_y_0': <tf.Tensor 'ExpandDims_260:0' shape=(None, 1) dtype=float64>, 'eye_lmk_y_1': <tf.Tensor 'ExpandDims_261:0' shape=(None, 1) dtype=float64>, 'eye_lmk_y_2': <tf.Tensor 'ExpandDims_272:0' shape=(None, 1) dtype=float64>, 'eye_lmk_y_3': <tf.Tensor 'ExpandDims_283:0' shape=(None, 1) dtype=float64>, 'eye_lmk_y_4': <tf.Tensor 'ExpandDims_294:0' shape=(None, 1) dtype=float64>, 'eye_lmk_y_5': <tf.Tensor 'ExpandDims_305:0' shape=(None, 1) dtype=float64>, 'eye_lmk_y_6': <tf.Tensor 'ExpandDims_312:0' shape=(None, 1) dtype=float64>, 'eye_lmk_y_7': <tf.Tensor 'ExpandDims_313:0' shape=(None, 1) dtype=float64>, 'eye_lmk_y_8': <tf.Tensor 'ExpandDims_314:0' shape=(None, 1) dtype=float64>, 'eye_lmk_y_9': <tf.Tensor 'ExpandDims_315:0' shape=(None, 1) dtype=float64>, 'eye_lmk_y_10': <tf.Tensor 'ExpandDims_262:0' shape=(None, 1) dtype=float64>, 'eye_lmk_y_11': <tf.Tensor 'ExpandDims_263:0' shape=(None, 1) dtype=float64>, 'eye_lmk_y_12': <tf.Tensor 'ExpandDims_264:0' shape=(None, 1) dtype=float64>, 'eye_lmk_y_13': <tf.Tensor 'ExpandDims_265:0' shape=(None, 1) dtype=float64>, 'eye_lmk_y_14': <tf.Tensor 'ExpandDims_266:0' shape=(None, 1) dtype=float64>, 'eye_lmk_y_15': <tf.Tensor 'ExpandDims_267:0' shape=(None, 1) dtype=float64>, 'eye_lmk_y_16': <tf.Tensor 'ExpandDims_268:0' shape=(None, 1) dtype=float64>, 'eye_lmk_y_17': <tf.Tensor 'ExpandDims_269:0' shape=(None, 1) dtype=float64>, 'eye_lmk_y_18': <tf.Tensor 'ExpandDims_270:0' shape=(None, 1) dtype=float64>, 'eye_lmk_y_19': <tf.Tensor 'ExpandDims_271:0' shape=(None, 1) dtype=float64>, 'eye_lmk_y_20': <tf.Tensor 'ExpandDims_273:0' shape=(None, 1) dtype=float64>, 'eye_lmk_y_21': <tf.Tensor 'ExpandDims_274:0' shape=(None, 1) dtype=float64>, 'eye_lmk_y_22': <tf.Tensor 'ExpandDims_275:0' shape=(None, 1) dtype=float64>, 'eye_lmk_y_23': <tf.Tensor 'ExpandDims_276:0' shape=(None, 1) dtype=float64>, 'eye_lmk_y_24': <tf.Tensor 'ExpandDims_277:0' shape=(None, 1) dtype=float64>, 'eye_lmk_y_25': <tf.Tensor 'ExpandDims_278:0' shape=(None, 1) dtype=float64>, 'eye_lmk_y_26': <tf.Tensor 'ExpandDims_279:0' shape=(None, 1) dtype=float64>, 'eye_lmk_y_27': <tf.Tensor 'ExpandDims_280:0' shape=(None, 1) dtype=float64>, 'eye_lmk_y_28': <tf.Tensor 'ExpandDims_281:0' shape=(None, 1) dtype=float64>, 'eye_lmk_y_29': <tf.Tensor 'ExpandDims_282:0' shape=(None, 1) dtype=float64>, 'eye_lmk_y_30': <tf.Tensor 'ExpandDims_284:0' shape=(None, 1) dtype=float64>, 'eye_lmk_y_31': <tf.Tensor 'ExpandDims_285:0' shape=(None, 1) dtype=float64>, 'eye_lmk_y_32': <tf.Tensor 'ExpandDims_286:0' shape=(None, 1) dtype=float64>, 'eye_lmk_y_33': <tf.Tensor 'ExpandDims_287:0' shape=(None, 1) dtype=float64>, 'eye_lmk_y_34': <tf.Tensor 'ExpandDims_288:0' shape=(None, 1) dtype=float64>, 'eye_lmk_y_35': <tf.Tensor 'ExpandDims_289:0' shape=(None, 1) dtype=float64>, 'eye_lmk_y_36': <tf.Tensor 'ExpandDims_290:0' shape=(None, 1) dtype=float64>, 'eye_lmk_y_37': <tf.Tensor 'ExpandDims_291:0' shape=(None, 1) dtype=float64>, 'eye_lmk_y_38': <tf.Tensor 'ExpandDims_292:0' shape=(None, 1) dtype=float64>, 'eye_lmk_y_39': <tf.Tensor 'ExpandDims_293:0' shape=(None, 1) dtype=float64>, 'eye_lmk_y_40': <tf.Tensor 'ExpandDims_295:0' shape=(None, 1) dtype=float64>, 'eye_lmk_y_41': <tf.Tensor 'ExpandDims_296:0' shape=(None, 1) dtype=float64>, 'eye_lmk_y_42': <tf.Tensor 'ExpandDims_297:0' shape=(None, 1) dtype=float64>, 'eye_lmk_y_43': <tf.Tensor 'ExpandDims_298:0' shape=(None, 1) dtype=float64>, 'eye_lmk_y_44': <tf.Tensor 'ExpandDims_299:0' shape=(None, 1) dtype=float64>, 'eye_lmk_y_45': <tf.Tensor 'ExpandDims_300:0' shape=(None, 1) dtype=float64>, 'eye_lmk_y_46': <tf.Tensor 'ExpandDims_301:0' shape=(None, 1) dtype=float64>, 'eye_lmk_y_47': <tf.Tensor 'ExpandDims_302:0' shape=(None, 1) dtype=float64>, 'eye_lmk_y_48': <tf.Tensor 'ExpandDims_303:0' shape=(None, 1) dtype=float64>, 'eye_lmk_y_49': <tf.Tensor 'ExpandDims_304:0' shape=(None, 1) dtype=float64>, 'eye_lmk_y_50': <tf.Tensor 'ExpandDims_306:0' shape=(None, 1) dtype=float64>, 'eye_lmk_y_51': <tf.Tensor 'ExpandDims_307:0' shape=(None, 1) dtype=float64>, 'eye_lmk_y_52': <tf.Tensor 'ExpandDims_308:0' shape=(None, 1) dtype=float64>, 'eye_lmk_y_53': <tf.Tensor 'ExpandDims_309:0' shape=(None, 1) dtype=float64>, 'eye_lmk_y_54': <tf.Tensor 'ExpandDims_310:0' shape=(None, 1) dtype=float64>, 'eye_lmk_y_55': <tf.Tensor 'ExpandDims_311:0' shape=(None, 1) dtype=float64>, 'eye_lmk_X_0': <tf.Tensor 'ExpandDims_36:0' shape=(None, 1) dtype=float64>, 'eye_lmk_X_1': <tf.Tensor 'ExpandDims_37:0' shape=(None, 1) dtype=float64>, 'eye_lmk_X_2': <tf.Tensor 'ExpandDims_48:0' shape=(None, 1) dtype=float64>, 'eye_lmk_X_3': <tf.Tensor 'ExpandDims_59:0' shape=(None, 1) dtype=float64>, 'eye_lmk_X_4': <tf.Tensor 'ExpandDims_70:0' shape=(None, 1) dtype=float64>, 'eye_lmk_X_5': <tf.Tensor 'ExpandDims_81:0' shape=(None, 1) dtype=float64>, 'eye_lmk_X_6': <tf.Tensor 'ExpandDims_88:0' shape=(None, 1) dtype=float64>, 'eye_lmk_X_7': <tf.Tensor 'ExpandDims_89:0' shape=(None, 1) dtype=float64>, 'eye_lmk_X_8': <tf.Tensor 'ExpandDims_90:0' shape=(None, 1) dtype=float64>, 'eye_lmk_X_9': <tf.Tensor 'ExpandDims_91:0' shape=(None, 1) dtype=float64>, 'eye_lmk_X_10': <tf.Tensor 'ExpandDims_38:0' shape=(None, 1) dtype=float64>, 'eye_lmk_X_11': <tf.Tensor 'ExpandDims_39:0' shape=(None, 1) dtype=float64>, 'eye_lmk_X_12': <tf.Tensor 'ExpandDims_40:0' shape=(None, 1) dtype=float64>, 'eye_lmk_X_13': <tf.Tensor 'ExpandDims_41:0' shape=(None, 1) dtype=float64>, 'eye_lmk_X_14': <tf.Tensor 'ExpandDims_42:0' shape=(None, 1) dtype=float64>, 'eye_lmk_X_15': <tf.Tensor 'ExpandDims_43:0' shape=(None, 1) dtype=float64>, 'eye_lmk_X_16': <tf.Tensor 'ExpandDims_44:0' shape=(None, 1) dtype=float64>, 'eye_lmk_X_17': <tf.Tensor 'ExpandDims_45:0' shape=(None, 1) dtype=float64>, 'eye_lmk_X_18': <tf.Tensor 'ExpandDims_46:0' shape=(None, 1) dtype=float64>, 'eye_lmk_X_19': <tf.Tensor 'ExpandDims_47:0' shape=(None, 1) dtype=float64>, 'eye_lmk_X_20': <tf.Tensor 'ExpandDims_49:0' shape=(None, 1) dtype=float64>, 'eye_lmk_X_21': <tf.Tensor 'ExpandDims_50:0' shape=(None, 1) dtype=float64>, 'eye_lmk_X_22': <tf.Tensor 'ExpandDims_51:0' shape=(None, 1) dtype=float64>, 'eye_lmk_X_23': <tf.Tensor 'ExpandDims_52:0' shape=(None, 1) dtype=float64>, 'eye_lmk_X_24': <tf.Tensor 'ExpandDims_53:0' shape=(None, 1) dtype=float64>, 'eye_lmk_X_25': <tf.Tensor 'ExpandDims_54:0' shape=(None, 1) dtype=float64>, 'eye_lmk_X_26': <tf.Tensor 'ExpandDims_55:0' shape=(None, 1) dtype=float64>, 'eye_lmk_X_27': <tf.Tensor 'ExpandDims_56:0' shape=(None, 1) dtype=float64>, 'eye_lmk_X_28': <tf.Tensor 'ExpandDims_57:0' shape=(None, 1) dtype=float64>, 'eye_lmk_X_29': <tf.Tensor 'ExpandDims_58:0' shape=(None, 1) dtype=float64>, 'eye_lmk_X_30': <tf.Tensor 'ExpandDims_60:0' shape=(None, 1) dtype=float64>, 'eye_lmk_X_31': <tf.Tensor 'ExpandDims_61:0' shape=(None, 1) dtype=float64>, 'eye_lmk_X_32': <tf.Tensor 'ExpandDims_62:0' shape=(None, 1) dtype=float64>, 'eye_lmk_X_33': <tf.Tensor 'ExpandDims_63:0' shape=(None, 1) dtype=float64>, 'eye_lmk_X_34': <tf.Tensor 'ExpandDims_64:0' shape=(None, 1) dtype=float64>, 'eye_lmk_X_35': <tf.Tensor 'ExpandDims_65:0' shape=(None, 1) dtype=float64>, 'eye_lmk_X_36': <tf.Tensor 'ExpandDims_66:0' shape=(None, 1) dtype=float64>, 'eye_lmk_X_37': <tf.Tensor 'ExpandDims_67:0' shape=(None, 1) dtype=float64>, 'eye_lmk_X_38': <tf.Tensor 'ExpandDims_68:0' shape=(None, 1) dtype=float64>, 'eye_lmk_X_39': <tf.Tensor 'ExpandDims_69:0' shape=(None, 1) dtype=float64>, 'eye_lmk_X_40': <tf.Tensor 'ExpandDims_71:0' shape=(None, 1) dtype=float64>, 'eye_lmk_X_41': <tf.Tensor 'ExpandDims_72:0' shape=(None, 1) dtype=float64>, 'eye_lmk_X_42': <tf.Tensor 'ExpandDims_73:0' shape=(None, 1) dtype=float64>, 'eye_lmk_X_43': <tf.Tensor 'ExpandDims_74:0' shape=(None, 1) dtype=float64>, 'eye_lmk_X_44': <tf.Tensor 'ExpandDims_75:0' shape=(None, 1) dtype=float64>, 'eye_lmk_X_45': <tf.Tensor 'ExpandDims_76:0' shape=(None, 1) dtype=float64>, 'eye_lmk_X_46': <tf.Tensor 'ExpandDims_77:0' shape=(None, 1) dtype=float64>, 'eye_lmk_X_47': <tf.Tensor 'ExpandDims_78:0' shape=(None, 1) dtype=float64>, 'eye_lmk_X_48': <tf.Tensor 'ExpandDims_79:0' shape=(None, 1) dtype=float64>, 'eye_lmk_X_49': <tf.Tensor 'ExpandDims_80:0' shape=(None, 1) dtype=float64>, 'eye_lmk_X_50': <tf.Tensor 'ExpandDims_82:0' shape=(None, 1) dtype=float64>, 'eye_lmk_X_51': <tf.Tensor 'ExpandDims_83:0' shape=(None, 1) dtype=float64>, 'eye_lmk_X_52': <tf.Tensor 'ExpandDims_84:0' shape=(None, 1) dtype=float64>, 'eye_lmk_X_53': <tf.Tensor 'ExpandDims_85:0' shape=(None, 1) dtype=float64>, 'eye_lmk_X_54': <tf.Tensor 'ExpandDims_86:0' shape=(None, 1) dtype=float64>, 'eye_lmk_X_55': <tf.Tensor 'ExpandDims_87:0' shape=(None, 1) dtype=float64>, 'eye_lmk_Y_0': <tf.Tensor 'ExpandDims_92:0' shape=(None, 1) dtype=float64>, 'eye_lmk_Y_1': <tf.Tensor 'ExpandDims_93:0' shape=(None, 1) dtype=float64>, 'eye_lmk_Y_2': <tf.Tensor 'ExpandDims_104:0' shape=(None, 1) dtype=float64>, 'eye_lmk_Y_3': <tf.Tensor 'ExpandDims_115:0' shape=(None, 1) dtype=float64>, 'eye_lmk_Y_4': <tf.Tensor 'ExpandDims_126:0' shape=(None, 1) dtype=float64>, 'eye_lmk_Y_5': <tf.Tensor 'ExpandDims_137:0' shape=(None, 1) dtype=float64>, 'eye_lmk_Y_6': <tf.Tensor 'ExpandDims_144:0' shape=(None, 1) dtype=float64>, 'eye_lmk_Y_7': <tf.Tensor 'ExpandDims_145:0' shape=(None, 1) dtype=float64>, 'eye_lmk_Y_8': <tf.Tensor 'ExpandDims_146:0' shape=(None, 1) dtype=float64>, 'eye_lmk_Y_9': <tf.Tensor 'ExpandDims_147:0' shape=(None, 1) dtype=float64>, 'eye_lmk_Y_10': <tf.Tensor 'ExpandDims_94:0' shape=(None, 1) dtype=float64>, 'eye_lmk_Y_11': <tf.Tensor 'ExpandDims_95:0' shape=(None, 1) dtype=float64>, 'eye_lmk_Y_12': <tf.Tensor 'ExpandDims_96:0' shape=(None, 1) dtype=float64>, 'eye_lmk_Y_13': <tf.Tensor 'ExpandDims_97:0' shape=(None, 1) dtype=float64>, 'eye_lmk_Y_14': <tf.Tensor 'ExpandDims_98:0' shape=(None, 1) dtype=float64>, 'eye_lmk_Y_15': <tf.Tensor 'ExpandDims_99:0' shape=(None, 1) dtype=float64>, 'eye_lmk_Y_16': <tf.Tensor 'ExpandDims_100:0' shape=(None, 1) dtype=float64>, 'eye_lmk_Y_17': <tf.Tensor 'ExpandDims_101:0' shape=(None, 1) dtype=float64>, 'eye_lmk_Y_18': <tf.Tensor 'ExpandDims_102:0' shape=(None, 1) dtype=float64>, 'eye_lmk_Y_19': <tf.Tensor 'ExpandDims_103:0' shape=(None, 1) dtype=float64>, 'eye_lmk_Y_20': <tf.Tensor 'ExpandDims_105:0' shape=(None, 1) dtype=float64>, 'eye_lmk_Y_21': <tf.Tensor 'ExpandDims_106:0' shape=(None, 1) dtype=float64>, 'eye_lmk_Y_22': <tf.Tensor 'ExpandDims_107:0' shape=(None, 1) dtype=float64>, 'eye_lmk_Y_23': <tf.Tensor 'ExpandDims_108:0' shape=(None, 1) dtype=float64>, 'eye_lmk_Y_24': <tf.Tensor 'ExpandDims_109:0' shape=(None, 1) dtype=float64>, 'eye_lmk_Y_25': <tf.Tensor 'ExpandDims_110:0' shape=(None, 1) dtype=float64>, 'eye_lmk_Y_26': <tf.Tensor 'ExpandDims_111:0' shape=(None, 1) dtype=float64>, 'eye_lmk_Y_27': <tf.Tensor 'ExpandDims_112:0' shape=(None, 1) dtype=float64>, 'eye_lmk_Y_28': <tf.Tensor 'ExpandDims_113:0' shape=(None, 1) dtype=float64>, 'eye_lmk_Y_29': <tf.Tensor 'ExpandDims_114:0' shape=(None, 1) dtype=float64>, 'eye_lmk_Y_30': <tf.Tensor 'ExpandDims_116:0' shape=(None, 1) dtype=float64>, 'eye_lmk_Y_31': <tf.Tensor 'ExpandDims_117:0' shape=(None, 1) dtype=float64>, 'eye_lmk_Y_32': <tf.Tensor 'ExpandDims_118:0' shape=(None, 1) dtype=float64>, 'eye_lmk_Y_33': <tf.Tensor 'ExpandDims_119:0' shape=(None, 1) dtype=float64>, 'eye_lmk_Y_34': <tf.Tensor 'ExpandDims_120:0' shape=(None, 1) dtype=float64>, 'eye_lmk_Y_35': <tf.Tensor 'ExpandDims_121:0' shape=(None, 1) dtype=float64>, 'eye_lmk_Y_36': <tf.Tensor 'ExpandDims_122:0' shape=(None, 1) dtype=float64>, 'eye_lmk_Y_37': <tf.Tensor 'ExpandDims_123:0' shape=(None, 1) dtype=float64>, 'eye_lmk_Y_38': <tf.Tensor 'ExpandDims_124:0' shape=(None, 1) dtype=float64>, 'eye_lmk_Y_39': <tf.Tensor 'ExpandDims_125:0' shape=(None, 1) dtype=float64>, 'eye_lmk_Y_40': <tf.Tensor 'ExpandDims_127:0' shape=(None, 1) dtype=float64>, 'eye_lmk_Y_41': <tf.Tensor 'ExpandDims_128:0' shape=(None, 1) dtype=float64>, 'eye_lmk_Y_42': <tf.Tensor 'ExpandDims_129:0' shape=(None, 1) dtype=float64>, 'eye_lmk_Y_43': <tf.Tensor 'ExpandDims_130:0' shape=(None, 1) dtype=float64>, 'eye_lmk_Y_44': <tf.Tensor 'ExpandDims_131:0' shape=(None, 1) dtype=float64>, 'eye_lmk_Y_45': <tf.Tensor 'ExpandDims_132:0' shape=(None, 1) dtype=float64>, 'eye_lmk_Y_46': <tf.Tensor 'ExpandDims_133:0' shape=(None, 1) dtype=float64>, 'eye_lmk_Y_47': <tf.Tensor 'ExpandDims_134:0' shape=(None, 1) dtype=float64>, 'eye_lmk_Y_48': <tf.Tensor 'ExpandDims_135:0' shape=(None, 1) dtype=float64>, 'eye_lmk_Y_49': <tf.Tensor 'ExpandDims_136:0' shape=(None, 1) dtype=float64>, 'eye_lmk_Y_50': <tf.Tensor 'ExpandDims_138:0' shape=(None, 1) dtype=float64>, 'eye_lmk_Y_51': <tf.Tensor 'ExpandDims_139:0' shape=(None, 1) dtype=float64>, 'eye_lmk_Y_52': <tf.Tensor 'ExpandDims_140:0' shape=(None, 1) dtype=float64>, 'eye_lmk_Y_53': <tf.Tensor 'ExpandDims_141:0' shape=(None, 1) dtype=float64>, 'eye_lmk_Y_54': <tf.Tensor 'ExpandDims_142:0' shape=(None, 1) dtype=float64>, 'eye_lmk_Y_55': <tf.Tensor 'ExpandDims_143:0' shape=(None, 1) dtype=float64>, 'eye_lmk_Z_0': <tf.Tensor 'ExpandDims_148:0' shape=(None, 1) dtype=float64>, 'eye_lmk_Z_1': <tf.Tensor 'ExpandDims_149:0' shape=(None, 1) dtype=float64>, 'eye_lmk_Z_2': <tf.Tensor 'ExpandDims_160:0' shape=(None, 1) dtype=float64>, 'eye_lmk_Z_3': <tf.Tensor 'ExpandDims_171:0' shape=(None, 1) dtype=float64>, 'eye_lmk_Z_4': <tf.Tensor 'ExpandDims_182:0' shape=(None, 1) dtype=float64>, 'eye_lmk_Z_5': <tf.Tensor 'ExpandDims_193:0' shape=(None, 1) dtype=float64>, 'eye_lmk_Z_6': <tf.Tensor 'ExpandDims_200:0' shape=(None, 1) dtype=float64>, 'eye_lmk_Z_7': <tf.Tensor 'ExpandDims_201:0' shape=(None, 1) dtype=float64>, 'eye_lmk_Z_8': <tf.Tensor 'ExpandDims_202:0' shape=(None, 1) dtype=float64>, 'eye_lmk_Z_9': <tf.Tensor 'ExpandDims_203:0' shape=(None, 1) dtype=float64>, 'eye_lmk_Z_10': <tf.Tensor 'ExpandDims_150:0' shape=(None, 1) dtype=float64>, 'eye_lmk_Z_11': <tf.Tensor 'ExpandDims_151:0' shape=(None, 1) dtype=float64>, 'eye_lmk_Z_12': <tf.Tensor 'ExpandDims_152:0' shape=(None, 1) dtype=float64>, 'eye_lmk_Z_13': <tf.Tensor 'ExpandDims_153:0' shape=(None, 1) dtype=float64>, 'eye_lmk_Z_14': <tf.Tensor 'ExpandDims_154:0' shape=(None, 1) dtype=float64>, 'eye_lmk_Z_15': <tf.Tensor 'ExpandDims_155:0' shape=(None, 1) dtype=float64>, 'eye_lmk_Z_16': <tf.Tensor 'ExpandDims_156:0' shape=(None, 1) dtype=float64>, 'eye_lmk_Z_17': <tf.Tensor 'ExpandDims_157:0' shape=(None, 1) dtype=float64>, 'eye_lmk_Z_18': <tf.Tensor 'ExpandDims_158:0' shape=(None, 1) dtype=float64>, 'eye_lmk_Z_19': <tf.Tensor 'ExpandDims_159:0' shape=(None, 1) dtype=float64>, 'eye_lmk_Z_20': <tf.Tensor 'ExpandDims_161:0' shape=(None, 1) dtype=float64>, 'eye_lmk_Z_21': <tf.Tensor 'ExpandDims_162:0' shape=(None, 1) dtype=float64>, 'eye_lmk_Z_22': <tf.Tensor 'ExpandDims_163:0' shape=(None, 1) dtype=float64>, 'eye_lmk_Z_23': <tf.Tensor 'ExpandDims_164:0' shape=(None, 1) dtype=float64>, 'eye_lmk_Z_24': <tf.Tensor 'ExpandDims_165:0' shape=(None, 1) dtype=float64>, 'eye_lmk_Z_25': <tf.Tensor 'ExpandDims_166:0' shape=(None, 1) dtype=float64>, 'eye_lmk_Z_26': <tf.Tensor 'ExpandDims_167:0' shape=(None, 1) dtype=float64>, 'eye_lmk_Z_27': <tf.Tensor 'ExpandDims_168:0' shape=(None, 1) dtype=float64>, 'eye_lmk_Z_28': <tf.Tensor 'ExpandDims_169:0' shape=(None, 1) dtype=float64>, 'eye_lmk_Z_29': <tf.Tensor 'ExpandDims_170:0' shape=(None, 1) dtype=float64>, 'eye_lmk_Z_30': <tf.Tensor 'ExpandDims_172:0' shape=(None, 1) dtype=float64>, 'eye_lmk_Z_31': <tf.Tensor 'ExpandDims_173:0' shape=(None, 1) dtype=float64>, 'eye_lmk_Z_32': <tf.Tensor 'ExpandDims_174:0' shape=(None, 1) dtype=float64>, 'eye_lmk_Z_33': <tf.Tensor 'ExpandDims_175:0' shape=(None, 1) dtype=float64>, 'eye_lmk_Z_34': <tf.Tensor 'ExpandDims_176:0' shape=(None, 1) dtype=float64>, 'eye_lmk_Z_35': <tf.Tensor 'ExpandDims_177:0' shape=(None, 1) dtype=float64>, 'eye_lmk_Z_36': <tf.Tensor 'ExpandDims_178:0' shape=(None, 1) dtype=float64>, 'eye_lmk_Z_37': <tf.Tensor 'ExpandDims_179:0' shape=(None, 1) dtype=float64>, 'eye_lmk_Z_38': <tf.Tensor 'ExpandDims_180:0' shape=(None, 1) dtype=float64>, 'eye_lmk_Z_39': <tf.Tensor 'ExpandDims_181:0' shape=(None, 1) dtype=float64>, 'eye_lmk_Z_40': <tf.Tensor 'ExpandDims_183:0' shape=(None, 1) dtype=float64>, 'eye_lmk_Z_41': <tf.Tensor 'ExpandDims_184:0' shape=(None, 1) dtype=float64>, 'eye_lmk_Z_42': <tf.Tensor 'ExpandDims_185:0' shape=(None, 1) dtype=float64>, 'eye_lmk_Z_43': <tf.Tensor 'ExpandDims_186:0' shape=(None, 1) dtype=float64>, 'eye_lmk_Z_44': <tf.Tensor 'ExpandDims_187:0' shape=(None, 1) dtype=float64>, 'eye_lmk_Z_45': <tf.Tensor 'ExpandDims_188:0' shape=(None, 1) dtype=float64>, 'eye_lmk_Z_46': <tf.Tensor 'ExpandDims_189:0' shape=(None, 1) dtype=float64>, 'eye_lmk_Z_47': <tf.Tensor 'ExpandDims_190:0' shape=(None, 1) dtype=float64>, 'eye_lmk_Z_48': <tf.Tensor 'ExpandDims_191:0' shape=(None, 1) dtype=float64>, 'eye_lmk_Z_49': <tf.Tensor 'ExpandDims_192:0' shape=(None, 1) dtype=float64>, 'eye_lmk_Z_50': <tf.Tensor 'ExpandDims_194:0' shape=(None, 1) dtype=float64>, 'eye_lmk_Z_51': <tf.Tensor 'ExpandDims_195:0' shape=(None, 1) dtype=float64>, 'eye_lmk_Z_52': <tf.Tensor 'ExpandDims_196:0' shape=(None, 1) dtype=float64>, 'eye_lmk_Z_53': <tf.Tensor 'ExpandDims_197:0' shape=(None, 1) dtype=float64>, 'eye_lmk_Z_54': <tf.Tensor 'ExpandDims_198:0' shape=(None, 1) dtype=float64>, 'eye_lmk_Z_55': <tf.Tensor 'ExpandDims_199:0' shape=(None, 1) dtype=float64>, 'pose_Tx': <tf.Tensor 'ExpandDims_328:0' shape=(None, 1) dtype=float64>, 'pose_Ty': <tf.Tensor 'ExpandDims_329:0' shape=(None, 1) dtype=float64>, 'pose_Tz': <tf.Tensor 'ExpandDims_330:0' shape=(None, 1) dtype=float64>, 'pose_Rx': <tf.Tensor 'ExpandDims_325:0' shape=(None, 1) dtype=float64>, 'pose_Ry': <tf.Tensor 'ExpandDims_326:0' shape=(None, 1) dtype=float64>, 'pose_Rz': <tf.Tensor 'ExpandDims_327:0' shape=(None, 1) dtype=float64>, 'AU01_r': <tf.Tensor 'ExpandDims_1:0' shape=(None, 1) dtype=float64>, 'AU02_r': <tf.Tensor 'ExpandDims_3:0' shape=(None, 1) dtype=float64>, 'AU04_r': <tf.Tensor 'ExpandDims_5:0' shape=(None, 1) dtype=float64>, 'AU05_r': <tf.Tensor 'ExpandDims_7:0' shape=(None, 1) dtype=float64>, 'AU06_r': <tf.Tensor 'ExpandDims_9:0' shape=(None, 1) dtype=float64>, 'AU07_r': <tf.Tensor 'ExpandDims_11:0' shape=(None, 1) dtype=float64>, 'AU09_r': <tf.Tensor 'ExpandDims_13:0' shape=(None, 1) dtype=float64>, 'AU10_r': <tf.Tensor 'ExpandDims_15:0' shape=(None, 1) dtype=float64>, 'AU12_r': <tf.Tensor 'ExpandDims_17:0' shape=(None, 1) dtype=float64>, 'AU14_r': <tf.Tensor 'ExpandDims_19:0' shape=(None, 1) dtype=float64>, 'AU15_r': <tf.Tensor 'ExpandDims_21:0' shape=(None, 1) dtype=float64>, 'AU17_r': <tf.Tensor 'ExpandDims_23:0' shape=(None, 1) dtype=float64>, 'AU20_r': <tf.Tensor 'ExpandDims_25:0' shape=(None, 1) dtype=float64>, 'AU23_r': <tf.Tensor 'ExpandDims_27:0' shape=(None, 1) dtype=float64>, 'AU25_r': <tf.Tensor 'ExpandDims_29:0' shape=(None, 1) dtype=float64>, 'AU26_r': <tf.Tensor 'ExpandDims_31:0' shape=(None, 1) dtype=float64>, 'AU45_r': <tf.Tensor 'ExpandDims_34:0' shape=(None, 1) dtype=float64>, 'AU01_c': <tf.Tensor 'ExpandDims:0' shape=(None, 1) dtype=float64>, 'AU02_c': <tf.Tensor 'ExpandDims_2:0' shape=(None, 1) dtype=float64>, 'AU04_c': <tf.Tensor 'ExpandDims_4:0' shape=(None, 1) dtype=float64>, 'AU05_c': <tf.Tensor 'ExpandDims_6:0' shape=(None, 1) dtype=float64>, 'AU06_c': <tf.Tensor 'ExpandDims_8:0' shape=(None, 1) dtype=float64>, 'AU07_c': <tf.Tensor 'ExpandDims_10:0' shape=(None, 1) dtype=float64>, 'AU09_c': <tf.Tensor 'ExpandDims_12:0' shape=(None, 1) dtype=float64>, 'AU10_c': <tf.Tensor 'ExpandDims_14:0' shape=(None, 1) dtype=float64>, 'AU12_c': <tf.Tensor 'ExpandDims_16:0' shape=(None, 1) dtype=float64>, 'AU14_c': <tf.Tensor 'ExpandDims_18:0' shape=(None, 1) dtype=float64>, 'AU15_c': <tf.Tensor 'ExpandDims_20:0' shape=(None, 1) dtype=float64>, 'AU17_c': <tf.Tensor 'ExpandDims_22:0' shape=(None, 1) dtype=float64>, 'AU20_c': <tf.Tensor 'ExpandDims_24:0' shape=(None, 1) dtype=float64>, 'AU23_c': <tf.Tensor 'ExpandDims_26:0' shape=(None, 1) dtype=float64>, 'AU25_c': <tf.Tensor 'ExpandDims_28:0' shape=(None, 1) dtype=float64>, 'AU26_c': <tf.Tensor 'ExpandDims_30:0' shape=(None, 1) dtype=float64>, 'AU28_c': <tf.Tensor 'ExpandDims_32:0' shape=(None, 1) dtype=float64>, 'AU45_c': <tf.Tensor 'ExpandDims_33:0' shape=(None, 1) dtype=float64>}\n",
      "Consider rewriting this model with the Functional API.\n",
      "WARNING:tensorflow:Layer dense_features is casting an input tensor from dtype float64 to the layer's dtype of float32, which is new behavior in TensorFlow 2.  The layer has dtype float32 because its dtype defaults to floatx.\n",
      "\n",
      "If you intended to run this layer in float32, you can safely ignore this warning. If in doubt, this warning is likely only an issue if you are porting a TensorFlow 1.X model to TensorFlow 2.\n",
      "\n",
      "To change all layers to have dtype float64 by default, call `tf.keras.backend.set_floatx('float64')`. To change just this layer, pass dtype='float64' to the layer constructor. If you are the author of this layer, you can disable autocasting by passing autocast=False to the base Layer constructor.\n",
      "\n",
      "WARNING:tensorflow:Layers in a Sequential model should only have a single input tensor, but we receive a <class 'dict'> input: {'frame': <tf.Tensor 'ExpandDims_316:0' shape=(None, 1) dtype=int64>, 'timestamp': <tf.Tensor 'ExpandDims_332:0' shape=(None, 1) dtype=float64>, 'confidence': <tf.Tensor 'ExpandDims_35:0' shape=(None, 1) dtype=float64>, 'success': <tf.Tensor 'ExpandDims_331:0' shape=(None, 1) dtype=int64>, 'gaze_0_x': <tf.Tensor 'ExpandDims_317:0' shape=(None, 1) dtype=float64>, 'gaze_0_y': <tf.Tensor 'ExpandDims_318:0' shape=(None, 1) dtype=float64>, 'gaze_0_z': <tf.Tensor 'ExpandDims_319:0' shape=(None, 1) dtype=float64>, 'gaze_1_x': <tf.Tensor 'ExpandDims_320:0' shape=(None, 1) dtype=float64>, 'gaze_1_y': <tf.Tensor 'ExpandDims_321:0' shape=(None, 1) dtype=float64>, 'gaze_1_z': <tf.Tensor 'ExpandDims_322:0' shape=(None, 1) dtype=float64>, 'gaze_angle_x': <tf.Tensor 'ExpandDims_323:0' shape=(None, 1) dtype=float64>, 'gaze_angle_y': <tf.Tensor 'ExpandDims_324:0' shape=(None, 1) dtype=float64>, 'eye_lmk_x_0': <tf.Tensor 'ExpandDims_204:0' shape=(None, 1) dtype=float64>, 'eye_lmk_x_1': <tf.Tensor 'ExpandDims_205:0' shape=(None, 1) dtype=float64>, 'eye_lmk_x_2': <tf.Tensor 'ExpandDims_216:0' shape=(None, 1) dtype=float64>, 'eye_lmk_x_3': <tf.Tensor 'ExpandDims_227:0' shape=(None, 1) dtype=float64>, 'eye_lmk_x_4': <tf.Tensor 'ExpandDims_238:0' shape=(None, 1) dtype=float64>, 'eye_lmk_x_5': <tf.Tensor 'ExpandDims_249:0' shape=(None, 1) dtype=float64>, 'eye_lmk_x_6': <tf.Tensor 'ExpandDims_256:0' shape=(None, 1) dtype=float64>, 'eye_lmk_x_7': <tf.Tensor 'ExpandDims_257:0' shape=(None, 1) dtype=float64>, 'eye_lmk_x_8': <tf.Tensor 'ExpandDims_258:0' shape=(None, 1) dtype=float64>, 'eye_lmk_x_9': <tf.Tensor 'ExpandDims_259:0' shape=(None, 1) dtype=float64>, 'eye_lmk_x_10': <tf.Tensor 'ExpandDims_206:0' shape=(None, 1) dtype=float64>, 'eye_lmk_x_11': <tf.Tensor 'ExpandDims_207:0' shape=(None, 1) dtype=float64>, 'eye_lmk_x_12': <tf.Tensor 'ExpandDims_208:0' shape=(None, 1) dtype=float64>, 'eye_lmk_x_13': <tf.Tensor 'ExpandDims_209:0' shape=(None, 1) dtype=float64>, 'eye_lmk_x_14': <tf.Tensor 'ExpandDims_210:0' shape=(None, 1) dtype=float64>, 'eye_lmk_x_15': <tf.Tensor 'ExpandDims_211:0' shape=(None, 1) dtype=float64>, 'eye_lmk_x_16': <tf.Tensor 'ExpandDims_212:0' shape=(None, 1) dtype=float64>, 'eye_lmk_x_17': <tf.Tensor 'ExpandDims_213:0' shape=(None, 1) dtype=float64>, 'eye_lmk_x_18': <tf.Tensor 'ExpandDims_214:0' shape=(None, 1) dtype=float64>, 'eye_lmk_x_19': <tf.Tensor 'ExpandDims_215:0' shape=(None, 1) dtype=float64>, 'eye_lmk_x_20': <tf.Tensor 'ExpandDims_217:0' shape=(None, 1) dtype=float64>, 'eye_lmk_x_21': <tf.Tensor 'ExpandDims_218:0' shape=(None, 1) dtype=float64>, 'eye_lmk_x_22': <tf.Tensor 'ExpandDims_219:0' shape=(None, 1) dtype=float64>, 'eye_lmk_x_23': <tf.Tensor 'ExpandDims_220:0' shape=(None, 1) dtype=float64>, 'eye_lmk_x_24': <tf.Tensor 'ExpandDims_221:0' shape=(None, 1) dtype=float64>, 'eye_lmk_x_25': <tf.Tensor 'ExpandDims_222:0' shape=(None, 1) dtype=float64>, 'eye_lmk_x_26': <tf.Tensor 'ExpandDims_223:0' shape=(None, 1) dtype=float64>, 'eye_lmk_x_27': <tf.Tensor 'ExpandDims_224:0' shape=(None, 1) dtype=float64>, 'eye_lmk_x_28': <tf.Tensor 'ExpandDims_225:0' shape=(None, 1) dtype=float64>, 'eye_lmk_x_29': <tf.Tensor 'ExpandDims_226:0' shape=(None, 1) dtype=float64>, 'eye_lmk_x_30': <tf.Tensor 'ExpandDims_228:0' shape=(None, 1) dtype=float64>, 'eye_lmk_x_31': <tf.Tensor 'ExpandDims_229:0' shape=(None, 1) dtype=float64>, 'eye_lmk_x_32': <tf.Tensor 'ExpandDims_230:0' shape=(None, 1) dtype=float64>, 'eye_lmk_x_33': <tf.Tensor 'ExpandDims_231:0' shape=(None, 1) dtype=float64>, 'eye_lmk_x_34': <tf.Tensor 'ExpandDims_232:0' shape=(None, 1) dtype=float64>, 'eye_lmk_x_35': <tf.Tensor 'ExpandDims_233:0' shape=(None, 1) dtype=float64>, 'eye_lmk_x_36': <tf.Tensor 'ExpandDims_234:0' shape=(None, 1) dtype=float64>, 'eye_lmk_x_37': <tf.Tensor 'ExpandDims_235:0' shape=(None, 1) dtype=float64>, 'eye_lmk_x_38': <tf.Tensor 'ExpandDims_236:0' shape=(None, 1) dtype=float64>, 'eye_lmk_x_39': <tf.Tensor 'ExpandDims_237:0' shape=(None, 1) dtype=float64>, 'eye_lmk_x_40': <tf.Tensor 'ExpandDims_239:0' shape=(None, 1) dtype=float64>, 'eye_lmk_x_41': <tf.Tensor 'ExpandDims_240:0' shape=(None, 1) dtype=float64>, 'eye_lmk_x_42': <tf.Tensor 'ExpandDims_241:0' shape=(None, 1) dtype=float64>, 'eye_lmk_x_43': <tf.Tensor 'ExpandDims_242:0' shape=(None, 1) dtype=float64>, 'eye_lmk_x_44': <tf.Tensor 'ExpandDims_243:0' shape=(None, 1) dtype=float64>, 'eye_lmk_x_45': <tf.Tensor 'ExpandDims_244:0' shape=(None, 1) dtype=float64>, 'eye_lmk_x_46': <tf.Tensor 'ExpandDims_245:0' shape=(None, 1) dtype=float64>, 'eye_lmk_x_47': <tf.Tensor 'ExpandDims_246:0' shape=(None, 1) dtype=float64>, 'eye_lmk_x_48': <tf.Tensor 'ExpandDims_247:0' shape=(None, 1) dtype=float64>, 'eye_lmk_x_49': <tf.Tensor 'ExpandDims_248:0' shape=(None, 1) dtype=float64>, 'eye_lmk_x_50': <tf.Tensor 'ExpandDims_250:0' shape=(None, 1) dtype=float64>, 'eye_lmk_x_51': <tf.Tensor 'ExpandDims_251:0' shape=(None, 1) dtype=float64>, 'eye_lmk_x_52': <tf.Tensor 'ExpandDims_252:0' shape=(None, 1) dtype=float64>, 'eye_lmk_x_53': <tf.Tensor 'ExpandDims_253:0' shape=(None, 1) dtype=float64>, 'eye_lmk_x_54': <tf.Tensor 'ExpandDims_254:0' shape=(None, 1) dtype=float64>, 'eye_lmk_x_55': <tf.Tensor 'ExpandDims_255:0' shape=(None, 1) dtype=float64>, 'eye_lmk_y_0': <tf.Tensor 'ExpandDims_260:0' shape=(None, 1) dtype=float64>, 'eye_lmk_y_1': <tf.Tensor 'ExpandDims_261:0' shape=(None, 1) dtype=float64>, 'eye_lmk_y_2': <tf.Tensor 'ExpandDims_272:0' shape=(None, 1) dtype=float64>, 'eye_lmk_y_3': <tf.Tensor 'ExpandDims_283:0' shape=(None, 1) dtype=float64>, 'eye_lmk_y_4': <tf.Tensor 'ExpandDims_294:0' shape=(None, 1) dtype=float64>, 'eye_lmk_y_5': <tf.Tensor 'ExpandDims_305:0' shape=(None, 1) dtype=float64>, 'eye_lmk_y_6': <tf.Tensor 'ExpandDims_312:0' shape=(None, 1) dtype=float64>, 'eye_lmk_y_7': <tf.Tensor 'ExpandDims_313:0' shape=(None, 1) dtype=float64>, 'eye_lmk_y_8': <tf.Tensor 'ExpandDims_314:0' shape=(None, 1) dtype=float64>, 'eye_lmk_y_9': <tf.Tensor 'ExpandDims_315:0' shape=(None, 1) dtype=float64>, 'eye_lmk_y_10': <tf.Tensor 'ExpandDims_262:0' shape=(None, 1) dtype=float64>, 'eye_lmk_y_11': <tf.Tensor 'ExpandDims_263:0' shape=(None, 1) dtype=float64>, 'eye_lmk_y_12': <tf.Tensor 'ExpandDims_264:0' shape=(None, 1) dtype=float64>, 'eye_lmk_y_13': <tf.Tensor 'ExpandDims_265:0' shape=(None, 1) dtype=float64>, 'eye_lmk_y_14': <tf.Tensor 'ExpandDims_266:0' shape=(None, 1) dtype=float64>, 'eye_lmk_y_15': <tf.Tensor 'ExpandDims_267:0' shape=(None, 1) dtype=float64>, 'eye_lmk_y_16': <tf.Tensor 'ExpandDims_268:0' shape=(None, 1) dtype=float64>, 'eye_lmk_y_17': <tf.Tensor 'ExpandDims_269:0' shape=(None, 1) dtype=float64>, 'eye_lmk_y_18': <tf.Tensor 'ExpandDims_270:0' shape=(None, 1) dtype=float64>, 'eye_lmk_y_19': <tf.Tensor 'ExpandDims_271:0' shape=(None, 1) dtype=float64>, 'eye_lmk_y_20': <tf.Tensor 'ExpandDims_273:0' shape=(None, 1) dtype=float64>, 'eye_lmk_y_21': <tf.Tensor 'ExpandDims_274:0' shape=(None, 1) dtype=float64>, 'eye_lmk_y_22': <tf.Tensor 'ExpandDims_275:0' shape=(None, 1) dtype=float64>, 'eye_lmk_y_23': <tf.Tensor 'ExpandDims_276:0' shape=(None, 1) dtype=float64>, 'eye_lmk_y_24': <tf.Tensor 'ExpandDims_277:0' shape=(None, 1) dtype=float64>, 'eye_lmk_y_25': <tf.Tensor 'ExpandDims_278:0' shape=(None, 1) dtype=float64>, 'eye_lmk_y_26': <tf.Tensor 'ExpandDims_279:0' shape=(None, 1) dtype=float64>, 'eye_lmk_y_27': <tf.Tensor 'ExpandDims_280:0' shape=(None, 1) dtype=float64>, 'eye_lmk_y_28': <tf.Tensor 'ExpandDims_281:0' shape=(None, 1) dtype=float64>, 'eye_lmk_y_29': <tf.Tensor 'ExpandDims_282:0' shape=(None, 1) dtype=float64>, 'eye_lmk_y_30': <tf.Tensor 'ExpandDims_284:0' shape=(None, 1) dtype=float64>, 'eye_lmk_y_31': <tf.Tensor 'ExpandDims_285:0' shape=(None, 1) dtype=float64>, 'eye_lmk_y_32': <tf.Tensor 'ExpandDims_286:0' shape=(None, 1) dtype=float64>, 'eye_lmk_y_33': <tf.Tensor 'ExpandDims_287:0' shape=(None, 1) dtype=float64>, 'eye_lmk_y_34': <tf.Tensor 'ExpandDims_288:0' shape=(None, 1) dtype=float64>, 'eye_lmk_y_35': <tf.Tensor 'ExpandDims_289:0' shape=(None, 1) dtype=float64>, 'eye_lmk_y_36': <tf.Tensor 'ExpandDims_290:0' shape=(None, 1) dtype=float64>, 'eye_lmk_y_37': <tf.Tensor 'ExpandDims_291:0' shape=(None, 1) dtype=float64>, 'eye_lmk_y_38': <tf.Tensor 'ExpandDims_292:0' shape=(None, 1) dtype=float64>, 'eye_lmk_y_39': <tf.Tensor 'ExpandDims_293:0' shape=(None, 1) dtype=float64>, 'eye_lmk_y_40': <tf.Tensor 'ExpandDims_295:0' shape=(None, 1) dtype=float64>, 'eye_lmk_y_41': <tf.Tensor 'ExpandDims_296:0' shape=(None, 1) dtype=float64>, 'eye_lmk_y_42': <tf.Tensor 'ExpandDims_297:0' shape=(None, 1) dtype=float64>, 'eye_lmk_y_43': <tf.Tensor 'ExpandDims_298:0' shape=(None, 1) dtype=float64>, 'eye_lmk_y_44': <tf.Tensor 'ExpandDims_299:0' shape=(None, 1) dtype=float64>, 'eye_lmk_y_45': <tf.Tensor 'ExpandDims_300:0' shape=(None, 1) dtype=float64>, 'eye_lmk_y_46': <tf.Tensor 'ExpandDims_301:0' shape=(None, 1) dtype=float64>, 'eye_lmk_y_47': <tf.Tensor 'ExpandDims_302:0' shape=(None, 1) dtype=float64>, 'eye_lmk_y_48': <tf.Tensor 'ExpandDims_303:0' shape=(None, 1) dtype=float64>, 'eye_lmk_y_49': <tf.Tensor 'ExpandDims_304:0' shape=(None, 1) dtype=float64>, 'eye_lmk_y_50': <tf.Tensor 'ExpandDims_306:0' shape=(None, 1) dtype=float64>, 'eye_lmk_y_51': <tf.Tensor 'ExpandDims_307:0' shape=(None, 1) dtype=float64>, 'eye_lmk_y_52': <tf.Tensor 'ExpandDims_308:0' shape=(None, 1) dtype=float64>, 'eye_lmk_y_53': <tf.Tensor 'ExpandDims_309:0' shape=(None, 1) dtype=float64>, 'eye_lmk_y_54': <tf.Tensor 'ExpandDims_310:0' shape=(None, 1) dtype=float64>, 'eye_lmk_y_55': <tf.Tensor 'ExpandDims_311:0' shape=(None, 1) dtype=float64>, 'eye_lmk_X_0': <tf.Tensor 'ExpandDims_36:0' shape=(None, 1) dtype=float64>, 'eye_lmk_X_1': <tf.Tensor 'ExpandDims_37:0' shape=(None, 1) dtype=float64>, 'eye_lmk_X_2': <tf.Tensor 'ExpandDims_48:0' shape=(None, 1) dtype=float64>, 'eye_lmk_X_3': <tf.Tensor 'ExpandDims_59:0' shape=(None, 1) dtype=float64>, 'eye_lmk_X_4': <tf.Tensor 'ExpandDims_70:0' shape=(None, 1) dtype=float64>, 'eye_lmk_X_5': <tf.Tensor 'ExpandDims_81:0' shape=(None, 1) dtype=float64>, 'eye_lmk_X_6': <tf.Tensor 'ExpandDims_88:0' shape=(None, 1) dtype=float64>, 'eye_lmk_X_7': <tf.Tensor 'ExpandDims_89:0' shape=(None, 1) dtype=float64>, 'eye_lmk_X_8': <tf.Tensor 'ExpandDims_90:0' shape=(None, 1) dtype=float64>, 'eye_lmk_X_9': <tf.Tensor 'ExpandDims_91:0' shape=(None, 1) dtype=float64>, 'eye_lmk_X_10': <tf.Tensor 'ExpandDims_38:0' shape=(None, 1) dtype=float64>, 'eye_lmk_X_11': <tf.Tensor 'ExpandDims_39:0' shape=(None, 1) dtype=float64>, 'eye_lmk_X_12': <tf.Tensor 'ExpandDims_40:0' shape=(None, 1) dtype=float64>, 'eye_lmk_X_13': <tf.Tensor 'ExpandDims_41:0' shape=(None, 1) dtype=float64>, 'eye_lmk_X_14': <tf.Tensor 'ExpandDims_42:0' shape=(None, 1) dtype=float64>, 'eye_lmk_X_15': <tf.Tensor 'ExpandDims_43:0' shape=(None, 1) dtype=float64>, 'eye_lmk_X_16': <tf.Tensor 'ExpandDims_44:0' shape=(None, 1) dtype=float64>, 'eye_lmk_X_17': <tf.Tensor 'ExpandDims_45:0' shape=(None, 1) dtype=float64>, 'eye_lmk_X_18': <tf.Tensor 'ExpandDims_46:0' shape=(None, 1) dtype=float64>, 'eye_lmk_X_19': <tf.Tensor 'ExpandDims_47:0' shape=(None, 1) dtype=float64>, 'eye_lmk_X_20': <tf.Tensor 'ExpandDims_49:0' shape=(None, 1) dtype=float64>, 'eye_lmk_X_21': <tf.Tensor 'ExpandDims_50:0' shape=(None, 1) dtype=float64>, 'eye_lmk_X_22': <tf.Tensor 'ExpandDims_51:0' shape=(None, 1) dtype=float64>, 'eye_lmk_X_23': <tf.Tensor 'ExpandDims_52:0' shape=(None, 1) dtype=float64>, 'eye_lmk_X_24': <tf.Tensor 'ExpandDims_53:0' shape=(None, 1) dtype=float64>, 'eye_lmk_X_25': <tf.Tensor 'ExpandDims_54:0' shape=(None, 1) dtype=float64>, 'eye_lmk_X_26': <tf.Tensor 'ExpandDims_55:0' shape=(None, 1) dtype=float64>, 'eye_lmk_X_27': <tf.Tensor 'ExpandDims_56:0' shape=(None, 1) dtype=float64>, 'eye_lmk_X_28': <tf.Tensor 'ExpandDims_57:0' shape=(None, 1) dtype=float64>, 'eye_lmk_X_29': <tf.Tensor 'ExpandDims_58:0' shape=(None, 1) dtype=float64>, 'eye_lmk_X_30': <tf.Tensor 'ExpandDims_60:0' shape=(None, 1) dtype=float64>, 'eye_lmk_X_31': <tf.Tensor 'ExpandDims_61:0' shape=(None, 1) dtype=float64>, 'eye_lmk_X_32': <tf.Tensor 'ExpandDims_62:0' shape=(None, 1) dtype=float64>, 'eye_lmk_X_33': <tf.Tensor 'ExpandDims_63:0' shape=(None, 1) dtype=float64>, 'eye_lmk_X_34': <tf.Tensor 'ExpandDims_64:0' shape=(None, 1) dtype=float64>, 'eye_lmk_X_35': <tf.Tensor 'ExpandDims_65:0' shape=(None, 1) dtype=float64>, 'eye_lmk_X_36': <tf.Tensor 'ExpandDims_66:0' shape=(None, 1) dtype=float64>, 'eye_lmk_X_37': <tf.Tensor 'ExpandDims_67:0' shape=(None, 1) dtype=float64>, 'eye_lmk_X_38': <tf.Tensor 'ExpandDims_68:0' shape=(None, 1) dtype=float64>, 'eye_lmk_X_39': <tf.Tensor 'ExpandDims_69:0' shape=(None, 1) dtype=float64>, 'eye_lmk_X_40': <tf.Tensor 'ExpandDims_71:0' shape=(None, 1) dtype=float64>, 'eye_lmk_X_41': <tf.Tensor 'ExpandDims_72:0' shape=(None, 1) dtype=float64>, 'eye_lmk_X_42': <tf.Tensor 'ExpandDims_73:0' shape=(None, 1) dtype=float64>, 'eye_lmk_X_43': <tf.Tensor 'ExpandDims_74:0' shape=(None, 1) dtype=float64>, 'eye_lmk_X_44': <tf.Tensor 'ExpandDims_75:0' shape=(None, 1) dtype=float64>, 'eye_lmk_X_45': <tf.Tensor 'ExpandDims_76:0' shape=(None, 1) dtype=float64>, 'eye_lmk_X_46': <tf.Tensor 'ExpandDims_77:0' shape=(None, 1) dtype=float64>, 'eye_lmk_X_47': <tf.Tensor 'ExpandDims_78:0' shape=(None, 1) dtype=float64>, 'eye_lmk_X_48': <tf.Tensor 'ExpandDims_79:0' shape=(None, 1) dtype=float64>, 'eye_lmk_X_49': <tf.Tensor 'ExpandDims_80:0' shape=(None, 1) dtype=float64>, 'eye_lmk_X_50': <tf.Tensor 'ExpandDims_82:0' shape=(None, 1) dtype=float64>, 'eye_lmk_X_51': <tf.Tensor 'ExpandDims_83:0' shape=(None, 1) dtype=float64>, 'eye_lmk_X_52': <tf.Tensor 'ExpandDims_84:0' shape=(None, 1) dtype=float64>, 'eye_lmk_X_53': <tf.Tensor 'ExpandDims_85:0' shape=(None, 1) dtype=float64>, 'eye_lmk_X_54': <tf.Tensor 'ExpandDims_86:0' shape=(None, 1) dtype=float64>, 'eye_lmk_X_55': <tf.Tensor 'ExpandDims_87:0' shape=(None, 1) dtype=float64>, 'eye_lmk_Y_0': <tf.Tensor 'ExpandDims_92:0' shape=(None, 1) dtype=float64>, 'eye_lmk_Y_1': <tf.Tensor 'ExpandDims_93:0' shape=(None, 1) dtype=float64>, 'eye_lmk_Y_2': <tf.Tensor 'ExpandDims_104:0' shape=(None, 1) dtype=float64>, 'eye_lmk_Y_3': <tf.Tensor 'ExpandDims_115:0' shape=(None, 1) dtype=float64>, 'eye_lmk_Y_4': <tf.Tensor 'ExpandDims_126:0' shape=(None, 1) dtype=float64>, 'eye_lmk_Y_5': <tf.Tensor 'ExpandDims_137:0' shape=(None, 1) dtype=float64>, 'eye_lmk_Y_6': <tf.Tensor 'ExpandDims_144:0' shape=(None, 1) dtype=float64>, 'eye_lmk_Y_7': <tf.Tensor 'ExpandDims_145:0' shape=(None, 1) dtype=float64>, 'eye_lmk_Y_8': <tf.Tensor 'ExpandDims_146:0' shape=(None, 1) dtype=float64>, 'eye_lmk_Y_9': <tf.Tensor 'ExpandDims_147:0' shape=(None, 1) dtype=float64>, 'eye_lmk_Y_10': <tf.Tensor 'ExpandDims_94:0' shape=(None, 1) dtype=float64>, 'eye_lmk_Y_11': <tf.Tensor 'ExpandDims_95:0' shape=(None, 1) dtype=float64>, 'eye_lmk_Y_12': <tf.Tensor 'ExpandDims_96:0' shape=(None, 1) dtype=float64>, 'eye_lmk_Y_13': <tf.Tensor 'ExpandDims_97:0' shape=(None, 1) dtype=float64>, 'eye_lmk_Y_14': <tf.Tensor 'ExpandDims_98:0' shape=(None, 1) dtype=float64>, 'eye_lmk_Y_15': <tf.Tensor 'ExpandDims_99:0' shape=(None, 1) dtype=float64>, 'eye_lmk_Y_16': <tf.Tensor 'ExpandDims_100:0' shape=(None, 1) dtype=float64>, 'eye_lmk_Y_17': <tf.Tensor 'ExpandDims_101:0' shape=(None, 1) dtype=float64>, 'eye_lmk_Y_18': <tf.Tensor 'ExpandDims_102:0' shape=(None, 1) dtype=float64>, 'eye_lmk_Y_19': <tf.Tensor 'ExpandDims_103:0' shape=(None, 1) dtype=float64>, 'eye_lmk_Y_20': <tf.Tensor 'ExpandDims_105:0' shape=(None, 1) dtype=float64>, 'eye_lmk_Y_21': <tf.Tensor 'ExpandDims_106:0' shape=(None, 1) dtype=float64>, 'eye_lmk_Y_22': <tf.Tensor 'ExpandDims_107:0' shape=(None, 1) dtype=float64>, 'eye_lmk_Y_23': <tf.Tensor 'ExpandDims_108:0' shape=(None, 1) dtype=float64>, 'eye_lmk_Y_24': <tf.Tensor 'ExpandDims_109:0' shape=(None, 1) dtype=float64>, 'eye_lmk_Y_25': <tf.Tensor 'ExpandDims_110:0' shape=(None, 1) dtype=float64>, 'eye_lmk_Y_26': <tf.Tensor 'ExpandDims_111:0' shape=(None, 1) dtype=float64>, 'eye_lmk_Y_27': <tf.Tensor 'ExpandDims_112:0' shape=(None, 1) dtype=float64>, 'eye_lmk_Y_28': <tf.Tensor 'ExpandDims_113:0' shape=(None, 1) dtype=float64>, 'eye_lmk_Y_29': <tf.Tensor 'ExpandDims_114:0' shape=(None, 1) dtype=float64>, 'eye_lmk_Y_30': <tf.Tensor 'ExpandDims_116:0' shape=(None, 1) dtype=float64>, 'eye_lmk_Y_31': <tf.Tensor 'ExpandDims_117:0' shape=(None, 1) dtype=float64>, 'eye_lmk_Y_32': <tf.Tensor 'ExpandDims_118:0' shape=(None, 1) dtype=float64>, 'eye_lmk_Y_33': <tf.Tensor 'ExpandDims_119:0' shape=(None, 1) dtype=float64>, 'eye_lmk_Y_34': <tf.Tensor 'ExpandDims_120:0' shape=(None, 1) dtype=float64>, 'eye_lmk_Y_35': <tf.Tensor 'ExpandDims_121:0' shape=(None, 1) dtype=float64>, 'eye_lmk_Y_36': <tf.Tensor 'ExpandDims_122:0' shape=(None, 1) dtype=float64>, 'eye_lmk_Y_37': <tf.Tensor 'ExpandDims_123:0' shape=(None, 1) dtype=float64>, 'eye_lmk_Y_38': <tf.Tensor 'ExpandDims_124:0' shape=(None, 1) dtype=float64>, 'eye_lmk_Y_39': <tf.Tensor 'ExpandDims_125:0' shape=(None, 1) dtype=float64>, 'eye_lmk_Y_40': <tf.Tensor 'ExpandDims_127:0' shape=(None, 1) dtype=float64>, 'eye_lmk_Y_41': <tf.Tensor 'ExpandDims_128:0' shape=(None, 1) dtype=float64>, 'eye_lmk_Y_42': <tf.Tensor 'ExpandDims_129:0' shape=(None, 1) dtype=float64>, 'eye_lmk_Y_43': <tf.Tensor 'ExpandDims_130:0' shape=(None, 1) dtype=float64>, 'eye_lmk_Y_44': <tf.Tensor 'ExpandDims_131:0' shape=(None, 1) dtype=float64>, 'eye_lmk_Y_45': <tf.Tensor 'ExpandDims_132:0' shape=(None, 1) dtype=float64>, 'eye_lmk_Y_46': <tf.Tensor 'ExpandDims_133:0' shape=(None, 1) dtype=float64>, 'eye_lmk_Y_47': <tf.Tensor 'ExpandDims_134:0' shape=(None, 1) dtype=float64>, 'eye_lmk_Y_48': <tf.Tensor 'ExpandDims_135:0' shape=(None, 1) dtype=float64>, 'eye_lmk_Y_49': <tf.Tensor 'ExpandDims_136:0' shape=(None, 1) dtype=float64>, 'eye_lmk_Y_50': <tf.Tensor 'ExpandDims_138:0' shape=(None, 1) dtype=float64>, 'eye_lmk_Y_51': <tf.Tensor 'ExpandDims_139:0' shape=(None, 1) dtype=float64>, 'eye_lmk_Y_52': <tf.Tensor 'ExpandDims_140:0' shape=(None, 1) dtype=float64>, 'eye_lmk_Y_53': <tf.Tensor 'ExpandDims_141:0' shape=(None, 1) dtype=float64>, 'eye_lmk_Y_54': <tf.Tensor 'ExpandDims_142:0' shape=(None, 1) dtype=float64>, 'eye_lmk_Y_55': <tf.Tensor 'ExpandDims_143:0' shape=(None, 1) dtype=float64>, 'eye_lmk_Z_0': <tf.Tensor 'ExpandDims_148:0' shape=(None, 1) dtype=float64>, 'eye_lmk_Z_1': <tf.Tensor 'ExpandDims_149:0' shape=(None, 1) dtype=float64>, 'eye_lmk_Z_2': <tf.Tensor 'ExpandDims_160:0' shape=(None, 1) dtype=float64>, 'eye_lmk_Z_3': <tf.Tensor 'ExpandDims_171:0' shape=(None, 1) dtype=float64>, 'eye_lmk_Z_4': <tf.Tensor 'ExpandDims_182:0' shape=(None, 1) dtype=float64>, 'eye_lmk_Z_5': <tf.Tensor 'ExpandDims_193:0' shape=(None, 1) dtype=float64>, 'eye_lmk_Z_6': <tf.Tensor 'ExpandDims_200:0' shape=(None, 1) dtype=float64>, 'eye_lmk_Z_7': <tf.Tensor 'ExpandDims_201:0' shape=(None, 1) dtype=float64>, 'eye_lmk_Z_8': <tf.Tensor 'ExpandDims_202:0' shape=(None, 1) dtype=float64>, 'eye_lmk_Z_9': <tf.Tensor 'ExpandDims_203:0' shape=(None, 1) dtype=float64>, 'eye_lmk_Z_10': <tf.Tensor 'ExpandDims_150:0' shape=(None, 1) dtype=float64>, 'eye_lmk_Z_11': <tf.Tensor 'ExpandDims_151:0' shape=(None, 1) dtype=float64>, 'eye_lmk_Z_12': <tf.Tensor 'ExpandDims_152:0' shape=(None, 1) dtype=float64>, 'eye_lmk_Z_13': <tf.Tensor 'ExpandDims_153:0' shape=(None, 1) dtype=float64>, 'eye_lmk_Z_14': <tf.Tensor 'ExpandDims_154:0' shape=(None, 1) dtype=float64>, 'eye_lmk_Z_15': <tf.Tensor 'ExpandDims_155:0' shape=(None, 1) dtype=float64>, 'eye_lmk_Z_16': <tf.Tensor 'ExpandDims_156:0' shape=(None, 1) dtype=float64>, 'eye_lmk_Z_17': <tf.Tensor 'ExpandDims_157:0' shape=(None, 1) dtype=float64>, 'eye_lmk_Z_18': <tf.Tensor 'ExpandDims_158:0' shape=(None, 1) dtype=float64>, 'eye_lmk_Z_19': <tf.Tensor 'ExpandDims_159:0' shape=(None, 1) dtype=float64>, 'eye_lmk_Z_20': <tf.Tensor 'ExpandDims_161:0' shape=(None, 1) dtype=float64>, 'eye_lmk_Z_21': <tf.Tensor 'ExpandDims_162:0' shape=(None, 1) dtype=float64>, 'eye_lmk_Z_22': <tf.Tensor 'ExpandDims_163:0' shape=(None, 1) dtype=float64>, 'eye_lmk_Z_23': <tf.Tensor 'ExpandDims_164:0' shape=(None, 1) dtype=float64>, 'eye_lmk_Z_24': <tf.Tensor 'ExpandDims_165:0' shape=(None, 1) dtype=float64>, 'eye_lmk_Z_25': <tf.Tensor 'ExpandDims_166:0' shape=(None, 1) dtype=float64>, 'eye_lmk_Z_26': <tf.Tensor 'ExpandDims_167:0' shape=(None, 1) dtype=float64>, 'eye_lmk_Z_27': <tf.Tensor 'ExpandDims_168:0' shape=(None, 1) dtype=float64>, 'eye_lmk_Z_28': <tf.Tensor 'ExpandDims_169:0' shape=(None, 1) dtype=float64>, 'eye_lmk_Z_29': <tf.Tensor 'ExpandDims_170:0' shape=(None, 1) dtype=float64>, 'eye_lmk_Z_30': <tf.Tensor 'ExpandDims_172:0' shape=(None, 1) dtype=float64>, 'eye_lmk_Z_31': <tf.Tensor 'ExpandDims_173:0' shape=(None, 1) dtype=float64>, 'eye_lmk_Z_32': <tf.Tensor 'ExpandDims_174:0' shape=(None, 1) dtype=float64>, 'eye_lmk_Z_33': <tf.Tensor 'ExpandDims_175:0' shape=(None, 1) dtype=float64>, 'eye_lmk_Z_34': <tf.Tensor 'ExpandDims_176:0' shape=(None, 1) dtype=float64>, 'eye_lmk_Z_35': <tf.Tensor 'ExpandDims_177:0' shape=(None, 1) dtype=float64>, 'eye_lmk_Z_36': <tf.Tensor 'ExpandDims_178:0' shape=(None, 1) dtype=float64>, 'eye_lmk_Z_37': <tf.Tensor 'ExpandDims_179:0' shape=(None, 1) dtype=float64>, 'eye_lmk_Z_38': <tf.Tensor 'ExpandDims_180:0' shape=(None, 1) dtype=float64>, 'eye_lmk_Z_39': <tf.Tensor 'ExpandDims_181:0' shape=(None, 1) dtype=float64>, 'eye_lmk_Z_40': <tf.Tensor 'ExpandDims_183:0' shape=(None, 1) dtype=float64>, 'eye_lmk_Z_41': <tf.Tensor 'ExpandDims_184:0' shape=(None, 1) dtype=float64>, 'eye_lmk_Z_42': <tf.Tensor 'ExpandDims_185:0' shape=(None, 1) dtype=float64>, 'eye_lmk_Z_43': <tf.Tensor 'ExpandDims_186:0' shape=(None, 1) dtype=float64>, 'eye_lmk_Z_44': <tf.Tensor 'ExpandDims_187:0' shape=(None, 1) dtype=float64>, 'eye_lmk_Z_45': <tf.Tensor 'ExpandDims_188:0' shape=(None, 1) dtype=float64>, 'eye_lmk_Z_46': <tf.Tensor 'ExpandDims_189:0' shape=(None, 1) dtype=float64>, 'eye_lmk_Z_47': <tf.Tensor 'ExpandDims_190:0' shape=(None, 1) dtype=float64>, 'eye_lmk_Z_48': <tf.Tensor 'ExpandDims_191:0' shape=(None, 1) dtype=float64>, 'eye_lmk_Z_49': <tf.Tensor 'ExpandDims_192:0' shape=(None, 1) dtype=float64>, 'eye_lmk_Z_50': <tf.Tensor 'ExpandDims_194:0' shape=(None, 1) dtype=float64>, 'eye_lmk_Z_51': <tf.Tensor 'ExpandDims_195:0' shape=(None, 1) dtype=float64>, 'eye_lmk_Z_52': <tf.Tensor 'ExpandDims_196:0' shape=(None, 1) dtype=float64>, 'eye_lmk_Z_53': <tf.Tensor 'ExpandDims_197:0' shape=(None, 1) dtype=float64>, 'eye_lmk_Z_54': <tf.Tensor 'ExpandDims_198:0' shape=(None, 1) dtype=float64>, 'eye_lmk_Z_55': <tf.Tensor 'ExpandDims_199:0' shape=(None, 1) dtype=float64>, 'pose_Tx': <tf.Tensor 'ExpandDims_328:0' shape=(None, 1) dtype=float64>, 'pose_Ty': <tf.Tensor 'ExpandDims_329:0' shape=(None, 1) dtype=float64>, 'pose_Tz': <tf.Tensor 'ExpandDims_330:0' shape=(None, 1) dtype=float64>, 'pose_Rx': <tf.Tensor 'ExpandDims_325:0' shape=(None, 1) dtype=float64>, 'pose_Ry': <tf.Tensor 'ExpandDims_326:0' shape=(None, 1) dtype=float64>, 'pose_Rz': <tf.Tensor 'ExpandDims_327:0' shape=(None, 1) dtype=float64>, 'AU01_r': <tf.Tensor 'ExpandDims_1:0' shape=(None, 1) dtype=float64>, 'AU02_r': <tf.Tensor 'ExpandDims_3:0' shape=(None, 1) dtype=float64>, 'AU04_r': <tf.Tensor 'ExpandDims_5:0' shape=(None, 1) dtype=float64>, 'AU05_r': <tf.Tensor 'ExpandDims_7:0' shape=(None, 1) dtype=float64>, 'AU06_r': <tf.Tensor 'ExpandDims_9:0' shape=(None, 1) dtype=float64>, 'AU07_r': <tf.Tensor 'ExpandDims_11:0' shape=(None, 1) dtype=float64>, 'AU09_r': <tf.Tensor 'ExpandDims_13:0' shape=(None, 1) dtype=float64>, 'AU10_r': <tf.Tensor 'ExpandDims_15:0' shape=(None, 1) dtype=float64>, 'AU12_r': <tf.Tensor 'ExpandDims_17:0' shape=(None, 1) dtype=float64>, 'AU14_r': <tf.Tensor 'ExpandDims_19:0' shape=(None, 1) dtype=float64>, 'AU15_r': <tf.Tensor 'ExpandDims_21:0' shape=(None, 1) dtype=float64>, 'AU17_r': <tf.Tensor 'ExpandDims_23:0' shape=(None, 1) dtype=float64>, 'AU20_r': <tf.Tensor 'ExpandDims_25:0' shape=(None, 1) dtype=float64>, 'AU23_r': <tf.Tensor 'ExpandDims_27:0' shape=(None, 1) dtype=float64>, 'AU25_r': <tf.Tensor 'ExpandDims_29:0' shape=(None, 1) dtype=float64>, 'AU26_r': <tf.Tensor 'ExpandDims_31:0' shape=(None, 1) dtype=float64>, 'AU45_r': <tf.Tensor 'ExpandDims_34:0' shape=(None, 1) dtype=float64>, 'AU01_c': <tf.Tensor 'ExpandDims:0' shape=(None, 1) dtype=float64>, 'AU02_c': <tf.Tensor 'ExpandDims_2:0' shape=(None, 1) dtype=float64>, 'AU04_c': <tf.Tensor 'ExpandDims_4:0' shape=(None, 1) dtype=float64>, 'AU05_c': <tf.Tensor 'ExpandDims_6:0' shape=(None, 1) dtype=float64>, 'AU06_c': <tf.Tensor 'ExpandDims_8:0' shape=(None, 1) dtype=float64>, 'AU07_c': <tf.Tensor 'ExpandDims_10:0' shape=(None, 1) dtype=float64>, 'AU09_c': <tf.Tensor 'ExpandDims_12:0' shape=(None, 1) dtype=float64>, 'AU10_c': <tf.Tensor 'ExpandDims_14:0' shape=(None, 1) dtype=float64>, 'AU12_c': <tf.Tensor 'ExpandDims_16:0' shape=(None, 1) dtype=float64>, 'AU14_c': <tf.Tensor 'ExpandDims_18:0' shape=(None, 1) dtype=float64>, 'AU15_c': <tf.Tensor 'ExpandDims_20:0' shape=(None, 1) dtype=float64>, 'AU17_c': <tf.Tensor 'ExpandDims_22:0' shape=(None, 1) dtype=float64>, 'AU20_c': <tf.Tensor 'ExpandDims_24:0' shape=(None, 1) dtype=float64>, 'AU23_c': <tf.Tensor 'ExpandDims_26:0' shape=(None, 1) dtype=float64>, 'AU25_c': <tf.Tensor 'ExpandDims_28:0' shape=(None, 1) dtype=float64>, 'AU26_c': <tf.Tensor 'ExpandDims_30:0' shape=(None, 1) dtype=float64>, 'AU28_c': <tf.Tensor 'ExpandDims_32:0' shape=(None, 1) dtype=float64>, 'AU45_c': <tf.Tensor 'ExpandDims_33:0' shape=(None, 1) dtype=float64>}\n",
      "Consider rewriting this model with the Functional API.\n",
      "547/548 [============================>.] - ETA: 0s - loss: 0.4133 - accuracy: 0.9984WARNING:tensorflow:Layers in a Sequential model should only have a single input tensor, but we receive a <class 'dict'> input: {'frame': <tf.Tensor 'ExpandDims_316:0' shape=(None, 1) dtype=int64>, 'timestamp': <tf.Tensor 'ExpandDims_332:0' shape=(None, 1) dtype=float64>, 'confidence': <tf.Tensor 'ExpandDims_35:0' shape=(None, 1) dtype=float64>, 'success': <tf.Tensor 'ExpandDims_331:0' shape=(None, 1) dtype=int64>, 'gaze_0_x': <tf.Tensor 'ExpandDims_317:0' shape=(None, 1) dtype=float64>, 'gaze_0_y': <tf.Tensor 'ExpandDims_318:0' shape=(None, 1) dtype=float64>, 'gaze_0_z': <tf.Tensor 'ExpandDims_319:0' shape=(None, 1) dtype=float64>, 'gaze_1_x': <tf.Tensor 'ExpandDims_320:0' shape=(None, 1) dtype=float64>, 'gaze_1_y': <tf.Tensor 'ExpandDims_321:0' shape=(None, 1) dtype=float64>, 'gaze_1_z': <tf.Tensor 'ExpandDims_322:0' shape=(None, 1) dtype=float64>, 'gaze_angle_x': <tf.Tensor 'ExpandDims_323:0' shape=(None, 1) dtype=float64>, 'gaze_angle_y': <tf.Tensor 'ExpandDims_324:0' shape=(None, 1) dtype=float64>, 'eye_lmk_x_0': <tf.Tensor 'ExpandDims_204:0' shape=(None, 1) dtype=float64>, 'eye_lmk_x_1': <tf.Tensor 'ExpandDims_205:0' shape=(None, 1) dtype=float64>, 'eye_lmk_x_2': <tf.Tensor 'ExpandDims_216:0' shape=(None, 1) dtype=float64>, 'eye_lmk_x_3': <tf.Tensor 'ExpandDims_227:0' shape=(None, 1) dtype=float64>, 'eye_lmk_x_4': <tf.Tensor 'ExpandDims_238:0' shape=(None, 1) dtype=float64>, 'eye_lmk_x_5': <tf.Tensor 'ExpandDims_249:0' shape=(None, 1) dtype=float64>, 'eye_lmk_x_6': <tf.Tensor 'ExpandDims_256:0' shape=(None, 1) dtype=float64>, 'eye_lmk_x_7': <tf.Tensor 'ExpandDims_257:0' shape=(None, 1) dtype=float64>, 'eye_lmk_x_8': <tf.Tensor 'ExpandDims_258:0' shape=(None, 1) dtype=float64>, 'eye_lmk_x_9': <tf.Tensor 'ExpandDims_259:0' shape=(None, 1) dtype=float64>, 'eye_lmk_x_10': <tf.Tensor 'ExpandDims_206:0' shape=(None, 1) dtype=float64>, 'eye_lmk_x_11': <tf.Tensor 'ExpandDims_207:0' shape=(None, 1) dtype=float64>, 'eye_lmk_x_12': <tf.Tensor 'ExpandDims_208:0' shape=(None, 1) dtype=float64>, 'eye_lmk_x_13': <tf.Tensor 'ExpandDims_209:0' shape=(None, 1) dtype=float64>, 'eye_lmk_x_14': <tf.Tensor 'ExpandDims_210:0' shape=(None, 1) dtype=float64>, 'eye_lmk_x_15': <tf.Tensor 'ExpandDims_211:0' shape=(None, 1) dtype=float64>, 'eye_lmk_x_16': <tf.Tensor 'ExpandDims_212:0' shape=(None, 1) dtype=float64>, 'eye_lmk_x_17': <tf.Tensor 'ExpandDims_213:0' shape=(None, 1) dtype=float64>, 'eye_lmk_x_18': <tf.Tensor 'ExpandDims_214:0' shape=(None, 1) dtype=float64>, 'eye_lmk_x_19': <tf.Tensor 'ExpandDims_215:0' shape=(None, 1) dtype=float64>, 'eye_lmk_x_20': <tf.Tensor 'ExpandDims_217:0' shape=(None, 1) dtype=float64>, 'eye_lmk_x_21': <tf.Tensor 'ExpandDims_218:0' shape=(None, 1) dtype=float64>, 'eye_lmk_x_22': <tf.Tensor 'ExpandDims_219:0' shape=(None, 1) dtype=float64>, 'eye_lmk_x_23': <tf.Tensor 'ExpandDims_220:0' shape=(None, 1) dtype=float64>, 'eye_lmk_x_24': <tf.Tensor 'ExpandDims_221:0' shape=(None, 1) dtype=float64>, 'eye_lmk_x_25': <tf.Tensor 'ExpandDims_222:0' shape=(None, 1) dtype=float64>, 'eye_lmk_x_26': <tf.Tensor 'ExpandDims_223:0' shape=(None, 1) dtype=float64>, 'eye_lmk_x_27': <tf.Tensor 'ExpandDims_224:0' shape=(None, 1) dtype=float64>, 'eye_lmk_x_28': <tf.Tensor 'ExpandDims_225:0' shape=(None, 1) dtype=float64>, 'eye_lmk_x_29': <tf.Tensor 'ExpandDims_226:0' shape=(None, 1) dtype=float64>, 'eye_lmk_x_30': <tf.Tensor 'ExpandDims_228:0' shape=(None, 1) dtype=float64>, 'eye_lmk_x_31': <tf.Tensor 'ExpandDims_229:0' shape=(None, 1) dtype=float64>, 'eye_lmk_x_32': <tf.Tensor 'ExpandDims_230:0' shape=(None, 1) dtype=float64>, 'eye_lmk_x_33': <tf.Tensor 'ExpandDims_231:0' shape=(None, 1) dtype=float64>, 'eye_lmk_x_34': <tf.Tensor 'ExpandDims_232:0' shape=(None, 1) dtype=float64>, 'eye_lmk_x_35': <tf.Tensor 'ExpandDims_233:0' shape=(None, 1) dtype=float64>, 'eye_lmk_x_36': <tf.Tensor 'ExpandDims_234:0' shape=(None, 1) dtype=float64>, 'eye_lmk_x_37': <tf.Tensor 'ExpandDims_235:0' shape=(None, 1) dtype=float64>, 'eye_lmk_x_38': <tf.Tensor 'ExpandDims_236:0' shape=(None, 1) dtype=float64>, 'eye_lmk_x_39': <tf.Tensor 'ExpandDims_237:0' shape=(None, 1) dtype=float64>, 'eye_lmk_x_40': <tf.Tensor 'ExpandDims_239:0' shape=(None, 1) dtype=float64>, 'eye_lmk_x_41': <tf.Tensor 'ExpandDims_240:0' shape=(None, 1) dtype=float64>, 'eye_lmk_x_42': <tf.Tensor 'ExpandDims_241:0' shape=(None, 1) dtype=float64>, 'eye_lmk_x_43': <tf.Tensor 'ExpandDims_242:0' shape=(None, 1) dtype=float64>, 'eye_lmk_x_44': <tf.Tensor 'ExpandDims_243:0' shape=(None, 1) dtype=float64>, 'eye_lmk_x_45': <tf.Tensor 'ExpandDims_244:0' shape=(None, 1) dtype=float64>, 'eye_lmk_x_46': <tf.Tensor 'ExpandDims_245:0' shape=(None, 1) dtype=float64>, 'eye_lmk_x_47': <tf.Tensor 'ExpandDims_246:0' shape=(None, 1) dtype=float64>, 'eye_lmk_x_48': <tf.Tensor 'ExpandDims_247:0' shape=(None, 1) dtype=float64>, 'eye_lmk_x_49': <tf.Tensor 'ExpandDims_248:0' shape=(None, 1) dtype=float64>, 'eye_lmk_x_50': <tf.Tensor 'ExpandDims_250:0' shape=(None, 1) dtype=float64>, 'eye_lmk_x_51': <tf.Tensor 'ExpandDims_251:0' shape=(None, 1) dtype=float64>, 'eye_lmk_x_52': <tf.Tensor 'ExpandDims_252:0' shape=(None, 1) dtype=float64>, 'eye_lmk_x_53': <tf.Tensor 'ExpandDims_253:0' shape=(None, 1) dtype=float64>, 'eye_lmk_x_54': <tf.Tensor 'ExpandDims_254:0' shape=(None, 1) dtype=float64>, 'eye_lmk_x_55': <tf.Tensor 'ExpandDims_255:0' shape=(None, 1) dtype=float64>, 'eye_lmk_y_0': <tf.Tensor 'ExpandDims_260:0' shape=(None, 1) dtype=float64>, 'eye_lmk_y_1': <tf.Tensor 'ExpandDims_261:0' shape=(None, 1) dtype=float64>, 'eye_lmk_y_2': <tf.Tensor 'ExpandDims_272:0' shape=(None, 1) dtype=float64>, 'eye_lmk_y_3': <tf.Tensor 'ExpandDims_283:0' shape=(None, 1) dtype=float64>, 'eye_lmk_y_4': <tf.Tensor 'ExpandDims_294:0' shape=(None, 1) dtype=float64>, 'eye_lmk_y_5': <tf.Tensor 'ExpandDims_305:0' shape=(None, 1) dtype=float64>, 'eye_lmk_y_6': <tf.Tensor 'ExpandDims_312:0' shape=(None, 1) dtype=float64>, 'eye_lmk_y_7': <tf.Tensor 'ExpandDims_313:0' shape=(None, 1) dtype=float64>, 'eye_lmk_y_8': <tf.Tensor 'ExpandDims_314:0' shape=(None, 1) dtype=float64>, 'eye_lmk_y_9': <tf.Tensor 'ExpandDims_315:0' shape=(None, 1) dtype=float64>, 'eye_lmk_y_10': <tf.Tensor 'ExpandDims_262:0' shape=(None, 1) dtype=float64>, 'eye_lmk_y_11': <tf.Tensor 'ExpandDims_263:0' shape=(None, 1) dtype=float64>, 'eye_lmk_y_12': <tf.Tensor 'ExpandDims_264:0' shape=(None, 1) dtype=float64>, 'eye_lmk_y_13': <tf.Tensor 'ExpandDims_265:0' shape=(None, 1) dtype=float64>, 'eye_lmk_y_14': <tf.Tensor 'ExpandDims_266:0' shape=(None, 1) dtype=float64>, 'eye_lmk_y_15': <tf.Tensor 'ExpandDims_267:0' shape=(None, 1) dtype=float64>, 'eye_lmk_y_16': <tf.Tensor 'ExpandDims_268:0' shape=(None, 1) dtype=float64>, 'eye_lmk_y_17': <tf.Tensor 'ExpandDims_269:0' shape=(None, 1) dtype=float64>, 'eye_lmk_y_18': <tf.Tensor 'ExpandDims_270:0' shape=(None, 1) dtype=float64>, 'eye_lmk_y_19': <tf.Tensor 'ExpandDims_271:0' shape=(None, 1) dtype=float64>, 'eye_lmk_y_20': <tf.Tensor 'ExpandDims_273:0' shape=(None, 1) dtype=float64>, 'eye_lmk_y_21': <tf.Tensor 'ExpandDims_274:0' shape=(None, 1) dtype=float64>, 'eye_lmk_y_22': <tf.Tensor 'ExpandDims_275:0' shape=(None, 1) dtype=float64>, 'eye_lmk_y_23': <tf.Tensor 'ExpandDims_276:0' shape=(None, 1) dtype=float64>, 'eye_lmk_y_24': <tf.Tensor 'ExpandDims_277:0' shape=(None, 1) dtype=float64>, 'eye_lmk_y_25': <tf.Tensor 'ExpandDims_278:0' shape=(None, 1) dtype=float64>, 'eye_lmk_y_26': <tf.Tensor 'ExpandDims_279:0' shape=(None, 1) dtype=float64>, 'eye_lmk_y_27': <tf.Tensor 'ExpandDims_280:0' shape=(None, 1) dtype=float64>, 'eye_lmk_y_28': <tf.Tensor 'ExpandDims_281:0' shape=(None, 1) dtype=float64>, 'eye_lmk_y_29': <tf.Tensor 'ExpandDims_282:0' shape=(None, 1) dtype=float64>, 'eye_lmk_y_30': <tf.Tensor 'ExpandDims_284:0' shape=(None, 1) dtype=float64>, 'eye_lmk_y_31': <tf.Tensor 'ExpandDims_285:0' shape=(None, 1) dtype=float64>, 'eye_lmk_y_32': <tf.Tensor 'ExpandDims_286:0' shape=(None, 1) dtype=float64>, 'eye_lmk_y_33': <tf.Tensor 'ExpandDims_287:0' shape=(None, 1) dtype=float64>, 'eye_lmk_y_34': <tf.Tensor 'ExpandDims_288:0' shape=(None, 1) dtype=float64>, 'eye_lmk_y_35': <tf.Tensor 'ExpandDims_289:0' shape=(None, 1) dtype=float64>, 'eye_lmk_y_36': <tf.Tensor 'ExpandDims_290:0' shape=(None, 1) dtype=float64>, 'eye_lmk_y_37': <tf.Tensor 'ExpandDims_291:0' shape=(None, 1) dtype=float64>, 'eye_lmk_y_38': <tf.Tensor 'ExpandDims_292:0' shape=(None, 1) dtype=float64>, 'eye_lmk_y_39': <tf.Tensor 'ExpandDims_293:0' shape=(None, 1) dtype=float64>, 'eye_lmk_y_40': <tf.Tensor 'ExpandDims_295:0' shape=(None, 1) dtype=float64>, 'eye_lmk_y_41': <tf.Tensor 'ExpandDims_296:0' shape=(None, 1) dtype=float64>, 'eye_lmk_y_42': <tf.Tensor 'ExpandDims_297:0' shape=(None, 1) dtype=float64>, 'eye_lmk_y_43': <tf.Tensor 'ExpandDims_298:0' shape=(None, 1) dtype=float64>, 'eye_lmk_y_44': <tf.Tensor 'ExpandDims_299:0' shape=(None, 1) dtype=float64>, 'eye_lmk_y_45': <tf.Tensor 'ExpandDims_300:0' shape=(None, 1) dtype=float64>, 'eye_lmk_y_46': <tf.Tensor 'ExpandDims_301:0' shape=(None, 1) dtype=float64>, 'eye_lmk_y_47': <tf.Tensor 'ExpandDims_302:0' shape=(None, 1) dtype=float64>, 'eye_lmk_y_48': <tf.Tensor 'ExpandDims_303:0' shape=(None, 1) dtype=float64>, 'eye_lmk_y_49': <tf.Tensor 'ExpandDims_304:0' shape=(None, 1) dtype=float64>, 'eye_lmk_y_50': <tf.Tensor 'ExpandDims_306:0' shape=(None, 1) dtype=float64>, 'eye_lmk_y_51': <tf.Tensor 'ExpandDims_307:0' shape=(None, 1) dtype=float64>, 'eye_lmk_y_52': <tf.Tensor 'ExpandDims_308:0' shape=(None, 1) dtype=float64>, 'eye_lmk_y_53': <tf.Tensor 'ExpandDims_309:0' shape=(None, 1) dtype=float64>, 'eye_lmk_y_54': <tf.Tensor 'ExpandDims_310:0' shape=(None, 1) dtype=float64>, 'eye_lmk_y_55': <tf.Tensor 'ExpandDims_311:0' shape=(None, 1) dtype=float64>, 'eye_lmk_X_0': <tf.Tensor 'ExpandDims_36:0' shape=(None, 1) dtype=float64>, 'eye_lmk_X_1': <tf.Tensor 'ExpandDims_37:0' shape=(None, 1) dtype=float64>, 'eye_lmk_X_2': <tf.Tensor 'ExpandDims_48:0' shape=(None, 1) dtype=float64>, 'eye_lmk_X_3': <tf.Tensor 'ExpandDims_59:0' shape=(None, 1) dtype=float64>, 'eye_lmk_X_4': <tf.Tensor 'ExpandDims_70:0' shape=(None, 1) dtype=float64>, 'eye_lmk_X_5': <tf.Tensor 'ExpandDims_81:0' shape=(None, 1) dtype=float64>, 'eye_lmk_X_6': <tf.Tensor 'ExpandDims_88:0' shape=(None, 1) dtype=float64>, 'eye_lmk_X_7': <tf.Tensor 'ExpandDims_89:0' shape=(None, 1) dtype=float64>, 'eye_lmk_X_8': <tf.Tensor 'ExpandDims_90:0' shape=(None, 1) dtype=float64>, 'eye_lmk_X_9': <tf.Tensor 'ExpandDims_91:0' shape=(None, 1) dtype=float64>, 'eye_lmk_X_10': <tf.Tensor 'ExpandDims_38:0' shape=(None, 1) dtype=float64>, 'eye_lmk_X_11': <tf.Tensor 'ExpandDims_39:0' shape=(None, 1) dtype=float64>, 'eye_lmk_X_12': <tf.Tensor 'ExpandDims_40:0' shape=(None, 1) dtype=float64>, 'eye_lmk_X_13': <tf.Tensor 'ExpandDims_41:0' shape=(None, 1) dtype=float64>, 'eye_lmk_X_14': <tf.Tensor 'ExpandDims_42:0' shape=(None, 1) dtype=float64>, 'eye_lmk_X_15': <tf.Tensor 'ExpandDims_43:0' shape=(None, 1) dtype=float64>, 'eye_lmk_X_16': <tf.Tensor 'ExpandDims_44:0' shape=(None, 1) dtype=float64>, 'eye_lmk_X_17': <tf.Tensor 'ExpandDims_45:0' shape=(None, 1) dtype=float64>, 'eye_lmk_X_18': <tf.Tensor 'ExpandDims_46:0' shape=(None, 1) dtype=float64>, 'eye_lmk_X_19': <tf.Tensor 'ExpandDims_47:0' shape=(None, 1) dtype=float64>, 'eye_lmk_X_20': <tf.Tensor 'ExpandDims_49:0' shape=(None, 1) dtype=float64>, 'eye_lmk_X_21': <tf.Tensor 'ExpandDims_50:0' shape=(None, 1) dtype=float64>, 'eye_lmk_X_22': <tf.Tensor 'ExpandDims_51:0' shape=(None, 1) dtype=float64>, 'eye_lmk_X_23': <tf.Tensor 'ExpandDims_52:0' shape=(None, 1) dtype=float64>, 'eye_lmk_X_24': <tf.Tensor 'ExpandDims_53:0' shape=(None, 1) dtype=float64>, 'eye_lmk_X_25': <tf.Tensor 'ExpandDims_54:0' shape=(None, 1) dtype=float64>, 'eye_lmk_X_26': <tf.Tensor 'ExpandDims_55:0' shape=(None, 1) dtype=float64>, 'eye_lmk_X_27': <tf.Tensor 'ExpandDims_56:0' shape=(None, 1) dtype=float64>, 'eye_lmk_X_28': <tf.Tensor 'ExpandDims_57:0' shape=(None, 1) dtype=float64>, 'eye_lmk_X_29': <tf.Tensor 'ExpandDims_58:0' shape=(None, 1) dtype=float64>, 'eye_lmk_X_30': <tf.Tensor 'ExpandDims_60:0' shape=(None, 1) dtype=float64>, 'eye_lmk_X_31': <tf.Tensor 'ExpandDims_61:0' shape=(None, 1) dtype=float64>, 'eye_lmk_X_32': <tf.Tensor 'ExpandDims_62:0' shape=(None, 1) dtype=float64>, 'eye_lmk_X_33': <tf.Tensor 'ExpandDims_63:0' shape=(None, 1) dtype=float64>, 'eye_lmk_X_34': <tf.Tensor 'ExpandDims_64:0' shape=(None, 1) dtype=float64>, 'eye_lmk_X_35': <tf.Tensor 'ExpandDims_65:0' shape=(None, 1) dtype=float64>, 'eye_lmk_X_36': <tf.Tensor 'ExpandDims_66:0' shape=(None, 1) dtype=float64>, 'eye_lmk_X_37': <tf.Tensor 'ExpandDims_67:0' shape=(None, 1) dtype=float64>, 'eye_lmk_X_38': <tf.Tensor 'ExpandDims_68:0' shape=(None, 1) dtype=float64>, 'eye_lmk_X_39': <tf.Tensor 'ExpandDims_69:0' shape=(None, 1) dtype=float64>, 'eye_lmk_X_40': <tf.Tensor 'ExpandDims_71:0' shape=(None, 1) dtype=float64>, 'eye_lmk_X_41': <tf.Tensor 'ExpandDims_72:0' shape=(None, 1) dtype=float64>, 'eye_lmk_X_42': <tf.Tensor 'ExpandDims_73:0' shape=(None, 1) dtype=float64>, 'eye_lmk_X_43': <tf.Tensor 'ExpandDims_74:0' shape=(None, 1) dtype=float64>, 'eye_lmk_X_44': <tf.Tensor 'ExpandDims_75:0' shape=(None, 1) dtype=float64>, 'eye_lmk_X_45': <tf.Tensor 'ExpandDims_76:0' shape=(None, 1) dtype=float64>, 'eye_lmk_X_46': <tf.Tensor 'ExpandDims_77:0' shape=(None, 1) dtype=float64>, 'eye_lmk_X_47': <tf.Tensor 'ExpandDims_78:0' shape=(None, 1) dtype=float64>, 'eye_lmk_X_48': <tf.Tensor 'ExpandDims_79:0' shape=(None, 1) dtype=float64>, 'eye_lmk_X_49': <tf.Tensor 'ExpandDims_80:0' shape=(None, 1) dtype=float64>, 'eye_lmk_X_50': <tf.Tensor 'ExpandDims_82:0' shape=(None, 1) dtype=float64>, 'eye_lmk_X_51': <tf.Tensor 'ExpandDims_83:0' shape=(None, 1) dtype=float64>, 'eye_lmk_X_52': <tf.Tensor 'ExpandDims_84:0' shape=(None, 1) dtype=float64>, 'eye_lmk_X_53': <tf.Tensor 'ExpandDims_85:0' shape=(None, 1) dtype=float64>, 'eye_lmk_X_54': <tf.Tensor 'ExpandDims_86:0' shape=(None, 1) dtype=float64>, 'eye_lmk_X_55': <tf.Tensor 'ExpandDims_87:0' shape=(None, 1) dtype=float64>, 'eye_lmk_Y_0': <tf.Tensor 'ExpandDims_92:0' shape=(None, 1) dtype=float64>, 'eye_lmk_Y_1': <tf.Tensor 'ExpandDims_93:0' shape=(None, 1) dtype=float64>, 'eye_lmk_Y_2': <tf.Tensor 'ExpandDims_104:0' shape=(None, 1) dtype=float64>, 'eye_lmk_Y_3': <tf.Tensor 'ExpandDims_115:0' shape=(None, 1) dtype=float64>, 'eye_lmk_Y_4': <tf.Tensor 'ExpandDims_126:0' shape=(None, 1) dtype=float64>, 'eye_lmk_Y_5': <tf.Tensor 'ExpandDims_137:0' shape=(None, 1) dtype=float64>, 'eye_lmk_Y_6': <tf.Tensor 'ExpandDims_144:0' shape=(None, 1) dtype=float64>, 'eye_lmk_Y_7': <tf.Tensor 'ExpandDims_145:0' shape=(None, 1) dtype=float64>, 'eye_lmk_Y_8': <tf.Tensor 'ExpandDims_146:0' shape=(None, 1) dtype=float64>, 'eye_lmk_Y_9': <tf.Tensor 'ExpandDims_147:0' shape=(None, 1) dtype=float64>, 'eye_lmk_Y_10': <tf.Tensor 'ExpandDims_94:0' shape=(None, 1) dtype=float64>, 'eye_lmk_Y_11': <tf.Tensor 'ExpandDims_95:0' shape=(None, 1) dtype=float64>, 'eye_lmk_Y_12': <tf.Tensor 'ExpandDims_96:0' shape=(None, 1) dtype=float64>, 'eye_lmk_Y_13': <tf.Tensor 'ExpandDims_97:0' shape=(None, 1) dtype=float64>, 'eye_lmk_Y_14': <tf.Tensor 'ExpandDims_98:0' shape=(None, 1) dtype=float64>, 'eye_lmk_Y_15': <tf.Tensor 'ExpandDims_99:0' shape=(None, 1) dtype=float64>, 'eye_lmk_Y_16': <tf.Tensor 'ExpandDims_100:0' shape=(None, 1) dtype=float64>, 'eye_lmk_Y_17': <tf.Tensor 'ExpandDims_101:0' shape=(None, 1) dtype=float64>, 'eye_lmk_Y_18': <tf.Tensor 'ExpandDims_102:0' shape=(None, 1) dtype=float64>, 'eye_lmk_Y_19': <tf.Tensor 'ExpandDims_103:0' shape=(None, 1) dtype=float64>, 'eye_lmk_Y_20': <tf.Tensor 'ExpandDims_105:0' shape=(None, 1) dtype=float64>, 'eye_lmk_Y_21': <tf.Tensor 'ExpandDims_106:0' shape=(None, 1) dtype=float64>, 'eye_lmk_Y_22': <tf.Tensor 'ExpandDims_107:0' shape=(None, 1) dtype=float64>, 'eye_lmk_Y_23': <tf.Tensor 'ExpandDims_108:0' shape=(None, 1) dtype=float64>, 'eye_lmk_Y_24': <tf.Tensor 'ExpandDims_109:0' shape=(None, 1) dtype=float64>, 'eye_lmk_Y_25': <tf.Tensor 'ExpandDims_110:0' shape=(None, 1) dtype=float64>, 'eye_lmk_Y_26': <tf.Tensor 'ExpandDims_111:0' shape=(None, 1) dtype=float64>, 'eye_lmk_Y_27': <tf.Tensor 'ExpandDims_112:0' shape=(None, 1) dtype=float64>, 'eye_lmk_Y_28': <tf.Tensor 'ExpandDims_113:0' shape=(None, 1) dtype=float64>, 'eye_lmk_Y_29': <tf.Tensor 'ExpandDims_114:0' shape=(None, 1) dtype=float64>, 'eye_lmk_Y_30': <tf.Tensor 'ExpandDims_116:0' shape=(None, 1) dtype=float64>, 'eye_lmk_Y_31': <tf.Tensor 'ExpandDims_117:0' shape=(None, 1) dtype=float64>, 'eye_lmk_Y_32': <tf.Tensor 'ExpandDims_118:0' shape=(None, 1) dtype=float64>, 'eye_lmk_Y_33': <tf.Tensor 'ExpandDims_119:0' shape=(None, 1) dtype=float64>, 'eye_lmk_Y_34': <tf.Tensor 'ExpandDims_120:0' shape=(None, 1) dtype=float64>, 'eye_lmk_Y_35': <tf.Tensor 'ExpandDims_121:0' shape=(None, 1) dtype=float64>, 'eye_lmk_Y_36': <tf.Tensor 'ExpandDims_122:0' shape=(None, 1) dtype=float64>, 'eye_lmk_Y_37': <tf.Tensor 'ExpandDims_123:0' shape=(None, 1) dtype=float64>, 'eye_lmk_Y_38': <tf.Tensor 'ExpandDims_124:0' shape=(None, 1) dtype=float64>, 'eye_lmk_Y_39': <tf.Tensor 'ExpandDims_125:0' shape=(None, 1) dtype=float64>, 'eye_lmk_Y_40': <tf.Tensor 'ExpandDims_127:0' shape=(None, 1) dtype=float64>, 'eye_lmk_Y_41': <tf.Tensor 'ExpandDims_128:0' shape=(None, 1) dtype=float64>, 'eye_lmk_Y_42': <tf.Tensor 'ExpandDims_129:0' shape=(None, 1) dtype=float64>, 'eye_lmk_Y_43': <tf.Tensor 'ExpandDims_130:0' shape=(None, 1) dtype=float64>, 'eye_lmk_Y_44': <tf.Tensor 'ExpandDims_131:0' shape=(None, 1) dtype=float64>, 'eye_lmk_Y_45': <tf.Tensor 'ExpandDims_132:0' shape=(None, 1) dtype=float64>, 'eye_lmk_Y_46': <tf.Tensor 'ExpandDims_133:0' shape=(None, 1) dtype=float64>, 'eye_lmk_Y_47': <tf.Tensor 'ExpandDims_134:0' shape=(None, 1) dtype=float64>, 'eye_lmk_Y_48': <tf.Tensor 'ExpandDims_135:0' shape=(None, 1) dtype=float64>, 'eye_lmk_Y_49': <tf.Tensor 'ExpandDims_136:0' shape=(None, 1) dtype=float64>, 'eye_lmk_Y_50': <tf.Tensor 'ExpandDims_138:0' shape=(None, 1) dtype=float64>, 'eye_lmk_Y_51': <tf.Tensor 'ExpandDims_139:0' shape=(None, 1) dtype=float64>, 'eye_lmk_Y_52': <tf.Tensor 'ExpandDims_140:0' shape=(None, 1) dtype=float64>, 'eye_lmk_Y_53': <tf.Tensor 'ExpandDims_141:0' shape=(None, 1) dtype=float64>, 'eye_lmk_Y_54': <tf.Tensor 'ExpandDims_142:0' shape=(None, 1) dtype=float64>, 'eye_lmk_Y_55': <tf.Tensor 'ExpandDims_143:0' shape=(None, 1) dtype=float64>, 'eye_lmk_Z_0': <tf.Tensor 'ExpandDims_148:0' shape=(None, 1) dtype=float64>, 'eye_lmk_Z_1': <tf.Tensor 'ExpandDims_149:0' shape=(None, 1) dtype=float64>, 'eye_lmk_Z_2': <tf.Tensor 'ExpandDims_160:0' shape=(None, 1) dtype=float64>, 'eye_lmk_Z_3': <tf.Tensor 'ExpandDims_171:0' shape=(None, 1) dtype=float64>, 'eye_lmk_Z_4': <tf.Tensor 'ExpandDims_182:0' shape=(None, 1) dtype=float64>, 'eye_lmk_Z_5': <tf.Tensor 'ExpandDims_193:0' shape=(None, 1) dtype=float64>, 'eye_lmk_Z_6': <tf.Tensor 'ExpandDims_200:0' shape=(None, 1) dtype=float64>, 'eye_lmk_Z_7': <tf.Tensor 'ExpandDims_201:0' shape=(None, 1) dtype=float64>, 'eye_lmk_Z_8': <tf.Tensor 'ExpandDims_202:0' shape=(None, 1) dtype=float64>, 'eye_lmk_Z_9': <tf.Tensor 'ExpandDims_203:0' shape=(None, 1) dtype=float64>, 'eye_lmk_Z_10': <tf.Tensor 'ExpandDims_150:0' shape=(None, 1) dtype=float64>, 'eye_lmk_Z_11': <tf.Tensor 'ExpandDims_151:0' shape=(None, 1) dtype=float64>, 'eye_lmk_Z_12': <tf.Tensor 'ExpandDims_152:0' shape=(None, 1) dtype=float64>, 'eye_lmk_Z_13': <tf.Tensor 'ExpandDims_153:0' shape=(None, 1) dtype=float64>, 'eye_lmk_Z_14': <tf.Tensor 'ExpandDims_154:0' shape=(None, 1) dtype=float64>, 'eye_lmk_Z_15': <tf.Tensor 'ExpandDims_155:0' shape=(None, 1) dtype=float64>, 'eye_lmk_Z_16': <tf.Tensor 'ExpandDims_156:0' shape=(None, 1) dtype=float64>, 'eye_lmk_Z_17': <tf.Tensor 'ExpandDims_157:0' shape=(None, 1) dtype=float64>, 'eye_lmk_Z_18': <tf.Tensor 'ExpandDims_158:0' shape=(None, 1) dtype=float64>, 'eye_lmk_Z_19': <tf.Tensor 'ExpandDims_159:0' shape=(None, 1) dtype=float64>, 'eye_lmk_Z_20': <tf.Tensor 'ExpandDims_161:0' shape=(None, 1) dtype=float64>, 'eye_lmk_Z_21': <tf.Tensor 'ExpandDims_162:0' shape=(None, 1) dtype=float64>, 'eye_lmk_Z_22': <tf.Tensor 'ExpandDims_163:0' shape=(None, 1) dtype=float64>, 'eye_lmk_Z_23': <tf.Tensor 'ExpandDims_164:0' shape=(None, 1) dtype=float64>, 'eye_lmk_Z_24': <tf.Tensor 'ExpandDims_165:0' shape=(None, 1) dtype=float64>, 'eye_lmk_Z_25': <tf.Tensor 'ExpandDims_166:0' shape=(None, 1) dtype=float64>, 'eye_lmk_Z_26': <tf.Tensor 'ExpandDims_167:0' shape=(None, 1) dtype=float64>, 'eye_lmk_Z_27': <tf.Tensor 'ExpandDims_168:0' shape=(None, 1) dtype=float64>, 'eye_lmk_Z_28': <tf.Tensor 'ExpandDims_169:0' shape=(None, 1) dtype=float64>, 'eye_lmk_Z_29': <tf.Tensor 'ExpandDims_170:0' shape=(None, 1) dtype=float64>, 'eye_lmk_Z_30': <tf.Tensor 'ExpandDims_172:0' shape=(None, 1) dtype=float64>, 'eye_lmk_Z_31': <tf.Tensor 'ExpandDims_173:0' shape=(None, 1) dtype=float64>, 'eye_lmk_Z_32': <tf.Tensor 'ExpandDims_174:0' shape=(None, 1) dtype=float64>, 'eye_lmk_Z_33': <tf.Tensor 'ExpandDims_175:0' shape=(None, 1) dtype=float64>, 'eye_lmk_Z_34': <tf.Tensor 'ExpandDims_176:0' shape=(None, 1) dtype=float64>, 'eye_lmk_Z_35': <tf.Tensor 'ExpandDims_177:0' shape=(None, 1) dtype=float64>, 'eye_lmk_Z_36': <tf.Tensor 'ExpandDims_178:0' shape=(None, 1) dtype=float64>, 'eye_lmk_Z_37': <tf.Tensor 'ExpandDims_179:0' shape=(None, 1) dtype=float64>, 'eye_lmk_Z_38': <tf.Tensor 'ExpandDims_180:0' shape=(None, 1) dtype=float64>, 'eye_lmk_Z_39': <tf.Tensor 'ExpandDims_181:0' shape=(None, 1) dtype=float64>, 'eye_lmk_Z_40': <tf.Tensor 'ExpandDims_183:0' shape=(None, 1) dtype=float64>, 'eye_lmk_Z_41': <tf.Tensor 'ExpandDims_184:0' shape=(None, 1) dtype=float64>, 'eye_lmk_Z_42': <tf.Tensor 'ExpandDims_185:0' shape=(None, 1) dtype=float64>, 'eye_lmk_Z_43': <tf.Tensor 'ExpandDims_186:0' shape=(None, 1) dtype=float64>, 'eye_lmk_Z_44': <tf.Tensor 'ExpandDims_187:0' shape=(None, 1) dtype=float64>, 'eye_lmk_Z_45': <tf.Tensor 'ExpandDims_188:0' shape=(None, 1) dtype=float64>, 'eye_lmk_Z_46': <tf.Tensor 'ExpandDims_189:0' shape=(None, 1) dtype=float64>, 'eye_lmk_Z_47': <tf.Tensor 'ExpandDims_190:0' shape=(None, 1) dtype=float64>, 'eye_lmk_Z_48': <tf.Tensor 'ExpandDims_191:0' shape=(None, 1) dtype=float64>, 'eye_lmk_Z_49': <tf.Tensor 'ExpandDims_192:0' shape=(None, 1) dtype=float64>, 'eye_lmk_Z_50': <tf.Tensor 'ExpandDims_194:0' shape=(None, 1) dtype=float64>, 'eye_lmk_Z_51': <tf.Tensor 'ExpandDims_195:0' shape=(None, 1) dtype=float64>, 'eye_lmk_Z_52': <tf.Tensor 'ExpandDims_196:0' shape=(None, 1) dtype=float64>, 'eye_lmk_Z_53': <tf.Tensor 'ExpandDims_197:0' shape=(None, 1) dtype=float64>, 'eye_lmk_Z_54': <tf.Tensor 'ExpandDims_198:0' shape=(None, 1) dtype=float64>, 'eye_lmk_Z_55': <tf.Tensor 'ExpandDims_199:0' shape=(None, 1) dtype=float64>, 'pose_Tx': <tf.Tensor 'ExpandDims_328:0' shape=(None, 1) dtype=float64>, 'pose_Ty': <tf.Tensor 'ExpandDims_329:0' shape=(None, 1) dtype=float64>, 'pose_Tz': <tf.Tensor 'ExpandDims_330:0' shape=(None, 1) dtype=float64>, 'pose_Rx': <tf.Tensor 'ExpandDims_325:0' shape=(None, 1) dtype=float64>, 'pose_Ry': <tf.Tensor 'ExpandDims_326:0' shape=(None, 1) dtype=float64>, 'pose_Rz': <tf.Tensor 'ExpandDims_327:0' shape=(None, 1) dtype=float64>, 'AU01_r': <tf.Tensor 'ExpandDims_1:0' shape=(None, 1) dtype=float64>, 'AU02_r': <tf.Tensor 'ExpandDims_3:0' shape=(None, 1) dtype=float64>, 'AU04_r': <tf.Tensor 'ExpandDims_5:0' shape=(None, 1) dtype=float64>, 'AU05_r': <tf.Tensor 'ExpandDims_7:0' shape=(None, 1) dtype=float64>, 'AU06_r': <tf.Tensor 'ExpandDims_9:0' shape=(None, 1) dtype=float64>, 'AU07_r': <tf.Tensor 'ExpandDims_11:0' shape=(None, 1) dtype=float64>, 'AU09_r': <tf.Tensor 'ExpandDims_13:0' shape=(None, 1) dtype=float64>, 'AU10_r': <tf.Tensor 'ExpandDims_15:0' shape=(None, 1) dtype=float64>, 'AU12_r': <tf.Tensor 'ExpandDims_17:0' shape=(None, 1) dtype=float64>, 'AU14_r': <tf.Tensor 'ExpandDims_19:0' shape=(None, 1) dtype=float64>, 'AU15_r': <tf.Tensor 'ExpandDims_21:0' shape=(None, 1) dtype=float64>, 'AU17_r': <tf.Tensor 'ExpandDims_23:0' shape=(None, 1) dtype=float64>, 'AU20_r': <tf.Tensor 'ExpandDims_25:0' shape=(None, 1) dtype=float64>, 'AU23_r': <tf.Tensor 'ExpandDims_27:0' shape=(None, 1) dtype=float64>, 'AU25_r': <tf.Tensor 'ExpandDims_29:0' shape=(None, 1) dtype=float64>, 'AU26_r': <tf.Tensor 'ExpandDims_31:0' shape=(None, 1) dtype=float64>, 'AU45_r': <tf.Tensor 'ExpandDims_34:0' shape=(None, 1) dtype=float64>, 'AU01_c': <tf.Tensor 'ExpandDims:0' shape=(None, 1) dtype=float64>, 'AU02_c': <tf.Tensor 'ExpandDims_2:0' shape=(None, 1) dtype=float64>, 'AU04_c': <tf.Tensor 'ExpandDims_4:0' shape=(None, 1) dtype=float64>, 'AU05_c': <tf.Tensor 'ExpandDims_6:0' shape=(None, 1) dtype=float64>, 'AU06_c': <tf.Tensor 'ExpandDims_8:0' shape=(None, 1) dtype=float64>, 'AU07_c': <tf.Tensor 'ExpandDims_10:0' shape=(None, 1) dtype=float64>, 'AU09_c': <tf.Tensor 'ExpandDims_12:0' shape=(None, 1) dtype=float64>, 'AU10_c': <tf.Tensor 'ExpandDims_14:0' shape=(None, 1) dtype=float64>, 'AU12_c': <tf.Tensor 'ExpandDims_16:0' shape=(None, 1) dtype=float64>, 'AU14_c': <tf.Tensor 'ExpandDims_18:0' shape=(None, 1) dtype=float64>, 'AU15_c': <tf.Tensor 'ExpandDims_20:0' shape=(None, 1) dtype=float64>, 'AU17_c': <tf.Tensor 'ExpandDims_22:0' shape=(None, 1) dtype=float64>, 'AU20_c': <tf.Tensor 'ExpandDims_24:0' shape=(None, 1) dtype=float64>, 'AU23_c': <tf.Tensor 'ExpandDims_26:0' shape=(None, 1) dtype=float64>, 'AU25_c': <tf.Tensor 'ExpandDims_28:0' shape=(None, 1) dtype=float64>, 'AU26_c': <tf.Tensor 'ExpandDims_30:0' shape=(None, 1) dtype=float64>, 'AU28_c': <tf.Tensor 'ExpandDims_32:0' shape=(None, 1) dtype=float64>, 'AU45_c': <tf.Tensor 'ExpandDims_33:0' shape=(None, 1) dtype=float64>}\n",
      "Consider rewriting this model with the Functional API.\n",
      "548/548 [==============================] - 10s 18ms/step - loss: 0.4129 - accuracy: 0.9984 - val_loss: 0.0000e+00 - val_accuracy: 1.0000\n",
      "Epoch 2/10\n",
      "548/548 [==============================] - 7s 13ms/step - loss: 0.0000e+00 - accuracy: 1.0000 - val_loss: 0.0000e+00 - val_accuracy: 1.0000\n",
      "Epoch 3/10\n",
      "548/548 [==============================] - 7s 13ms/step - loss: 0.0000e+00 - accuracy: 1.0000 - val_loss: 0.0000e+00 - val_accuracy: 1.0000\n",
      "Epoch 4/10\n",
      "548/548 [==============================] - 7s 13ms/step - loss: 0.0000e+00 - accuracy: 1.0000 - val_loss: 0.0000e+00 - val_accuracy: 1.0000\n",
      "Epoch 5/10\n",
      "548/548 [==============================] - 7s 13ms/step - loss: 0.0000e+00 - accuracy: 1.0000 - val_loss: 0.0000e+00 - val_accuracy: 1.0000\n",
      "Epoch 6/10\n",
      "548/548 [==============================] - 7s 13ms/step - loss: 0.0000e+00 - accuracy: 1.0000 - val_loss: 0.0000e+00 - val_accuracy: 1.0000\n",
      "Epoch 7/10\n",
      "548/548 [==============================] - 7s 13ms/step - loss: 0.0000e+00 - accuracy: 1.0000 - val_loss: 0.0000e+00 - val_accuracy: 1.0000\n",
      "Epoch 8/10\n",
      "548/548 [==============================] - 7s 13ms/step - loss: 0.0000e+00 - accuracy: 1.0000 - val_loss: 0.0000e+00 - val_accuracy: 1.0000\n",
      "Epoch 9/10\n",
      "548/548 [==============================] - 7s 13ms/step - loss: 0.0000e+00 - accuracy: 1.0000 - val_loss: 0.0000e+00 - val_accuracy: 1.0000\n",
      "Epoch 10/10\n",
      "548/548 [==============================] - 7s 13ms/step - loss: 0.0000e+00 - accuracy: 1.0000 - val_loss: 0.0000e+00 - val_accuracy: 1.0000\n"
     ]
    },
    {
     "data": {
      "text/plain": [
       "<tensorflow.python.keras.callbacks.History at 0x7fae5a955ef0>"
      ]
     },
     "execution_count": 27,
     "metadata": {
      "tags": []
     },
     "output_type": "execute_result"
    }
   ],
   "source": [
    "model = tf.keras.Sequential([\n",
    "  feature_layer,\n",
    "  layers.Dense(128, activation='relu'),\n",
    "  layers.Dense(128, activation='relu'),\n",
    "  layers.Dropout(.1),\n",
    "  layers.Dense(1)                             \n",
    "])\n",
    "model.compile(optimizer='adam',\n",
    "              loss=tf.keras.losses.BinaryCrossentropy(from_logits=True),\n",
    "              metrics=['accuracy'])\n",
    "\n",
    "model.fit(train_ds,\n",
    "          validation_data=val_ds,\n",
    "          epochs=10)"
   ]
  },
  {
   "cell_type": "code",
   "execution_count": null,
   "metadata": {
    "colab": {
     "base_uri": "https://localhost:8080/",
     "height": 51
    },
    "colab_type": "code",
    "id": "6qjTfvMvfUOO",
    "outputId": "0617e136-0866-4d5b-bd15-b4dd059f5d45"
   },
   "outputs": [
    {
     "name": "stdout",
     "output_type": "stream",
     "text": [
      "172/172 [==============================] - 2s 11ms/step - loss: 0.0000e+00 - accuracy: 1.0000\n",
      "Accuracy 1.0\n"
     ]
    }
   ],
   "source": [
    "loss, accuracy = model.evaluate(test_ds)\n",
    "print(\"Accuracy\", accuracy)"
   ]
  },
  {
   "cell_type": "code",
   "execution_count": null,
   "metadata": {
    "colab": {
     "base_uri": "https://localhost:8080/",
     "height": 88
    },
    "colab_type": "code",
    "id": "9N92iKEe4zAO",
    "outputId": "a20d9115-7327-48b4-c2d5-291c4ff273ae"
   },
   "outputs": [
    {
     "name": "stdout",
     "output_type": "stream",
     "text": [
      "WARNING:tensorflow:From <ipython-input-80-ab2bf8f31764>:3: Sequential.predict_classes (from tensorflow.python.keras.engine.sequential) is deprecated and will be removed after 2021-01-01.\n",
      "Instructions for updating:\n",
      "Please use instead:* `np.argmax(model.predict(x), axis=-1)`,   if your model does multi-class classification   (e.g. if it uses a `softmax` last-layer activation).* `(model.predict(x) > 0.5).astype(\"int32\")`,   if your model does binary classification   (e.g. if it uses a `sigmoid` last-layer activation).\n"
     ]
    }
   ],
   "source": [
    "# result = np.argmax(model.predict(train_ds), axis=-1)\n",
    "# print(len(result), len(train))\n",
    "pred_labels = model.predict_classes(train_ds)"
   ]
  },
  {
   "cell_type": "code",
   "execution_count": null,
   "metadata": {
    "colab": {
     "base_uri": "https://localhost:8080/",
     "height": 136
    },
    "colab_type": "code",
    "id": "JPIjlVvtHxwT",
    "outputId": "8876b3ff-bc4a-4e0a-dd90-d8c592f0081a"
   },
   "outputs": [
    {
     "name": "stdout",
     "output_type": "stream",
     "text": [
      "[[1]\n",
      " [1]\n",
      " [1]\n",
      " ...\n",
      " [1]\n",
      " [1]\n",
      " [1]]\n"
     ]
    }
   ],
   "source": [
    "print(pred_labels)"
   ]
  }
 ],
 "metadata": {
  "colab": {
   "collapsed_sections": [],
   "name": "Semi-Supervised.ipynb",
   "provenance": []
  },
  "kernelspec": {
   "display_name": "Python 3",
   "language": "python",
   "name": "python3"
  },
  "language_info": {
   "codemirror_mode": {
    "name": "ipython",
    "version": 3
   },
   "file_extension": ".py",
   "mimetype": "text/x-python",
   "name": "python",
   "nbconvert_exporter": "python",
   "pygments_lexer": "ipython3",
   "version": "3.8.2"
  }
 },
 "nbformat": 4,
 "nbformat_minor": 1
}
