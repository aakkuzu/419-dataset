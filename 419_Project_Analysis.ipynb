{
 "cells": [
  {
   "cell_type": "markdown",
   "metadata": {
    "colab_type": "text",
    "id": "-U8y0pZK2NWb"
   },
   "source": [
    "## Feature Extraction\n",
    "(from Openface data)\n",
    "\n",
    "[Notebook to download youtube videos](https://colab.research.google.com/drive/1aAIrmdMbz8Z9w3UT3n7aUBCQ5BWKP6al)\n",
    "\n",
    "[Notebook to get openface output](https://colab.research.google.com/drive/1_YtiBCoB4-HEQm0M2rNqgAfYXdZfB3FK)"
   ]
  },
  {
   "cell_type": "code",
   "execution_count": null,
   "metadata": {
    "colab": {},
    "colab_type": "code",
    "id": "f6huKEFZoV4a"
   },
   "outputs": [],
   "source": [
    "#PROJECT_ROOT = '/content/drive/My Drive/school-419-project'"
   ]
  },
  {
   "cell_type": "code",
   "execution_count": null,
   "metadata": {
    "colab": {
     "base_uri": "https://localhost:8080/",
     "height": 141
    },
    "colab_type": "code",
    "id": "S8Lcq_xX3G5x",
    "outputId": "d385c4c3-5e83-4945-8c25-5aa24b04d725"
   },
   "outputs": [
    {
     "name": "stdout",
     "output_type": "stream",
     "text": [
      "Go to this URL in a browser: https://accounts.google.com/o/oauth2/auth?client_id=947318989803-6bn6qk8qdgf4n4g3pfee6491hc0brc4i.apps.googleusercontent.com&redirect_uri=urn%3aietf%3awg%3aoauth%3a2.0%3aoob&scope=email%20https%3a%2f%2fwww.googleapis.com%2fauth%2fdocs.test%20https%3a%2f%2fwww.googleapis.com%2fauth%2fdrive%20https%3a%2f%2fwww.googleapis.com%2fauth%2fdrive.photos.readonly%20https%3a%2f%2fwww.googleapis.com%2fauth%2fpeopleapi.readonly&response_type=code\n",
      "\n",
      "Enter your authorization code:\n",
      "··········\n",
      "Mounted at /content/drive/\n",
      "/content/drive/My Drive/school-419-project\n"
     ]
    }
   ],
   "source": [
    "#from google.colab import drive\n",
    "#drive.mount('/content/drive/')\n",
    "#%cd {PROJECT_ROOT}"
   ]
  },
  {
   "cell_type": "code",
   "execution_count": null,
   "metadata": {
    "colab": {
     "base_uri": "https://localhost:8080/",
     "height": 263
    },
    "colab_type": "code",
    "id": "bPlpx8XiKzvl",
    "outputId": "3d9f3999-293c-45ae-adb8-61e459202fc5"
   },
   "outputs": [
    {
     "name": "stdout",
     "output_type": "stream",
     "text": [
      "Collecting tslearn\n",
      "\u001b[?25l  Downloading https://files.pythonhosted.org/packages/a7/67/aa3149fdfef2582d881ce4a5117c9e6a465d5082dd57866904ca508a157c/tslearn-0.4.1-cp36-cp36m-manylinux2010_x86_64.whl (770kB)\n",
      "\r",
      "\u001b[K     |▍                               | 10kB 19.7MB/s eta 0:00:01\r",
      "\u001b[K     |▉                               | 20kB 6.5MB/s eta 0:00:01\r",
      "\u001b[K     |█▎                              | 30kB 7.7MB/s eta 0:00:01\r",
      "\u001b[K     |█▊                              | 40kB 7.5MB/s eta 0:00:01\r",
      "\u001b[K     |██▏                             | 51kB 6.9MB/s eta 0:00:01\r",
      "\u001b[K     |██▌                             | 61kB 7.3MB/s eta 0:00:01\r",
      "\u001b[K     |███                             | 71kB 7.8MB/s eta 0:00:01\r",
      "\u001b[K     |███▍                            | 81kB 8.1MB/s eta 0:00:01\r",
      "\u001b[K     |███▉                            | 92kB 7.7MB/s eta 0:00:01\r",
      "\u001b[K     |████▎                           | 102kB 8.1MB/s eta 0:00:01\r",
      "\u001b[K     |████▊                           | 112kB 8.1MB/s eta 0:00:01\r",
      "\u001b[K     |█████                           | 122kB 8.1MB/s eta 0:00:01\r",
      "\u001b[K     |█████▌                          | 133kB 8.1MB/s eta 0:00:01\r",
      "\u001b[K     |██████                          | 143kB 8.1MB/s eta 0:00:01\r",
      "\u001b[K     |██████▍                         | 153kB 8.1MB/s eta 0:00:01\r",
      "\u001b[K     |██████▉                         | 163kB 8.1MB/s eta 0:00:01\r",
      "\u001b[K     |███████▎                        | 174kB 8.1MB/s eta 0:00:01\r",
      "\u001b[K     |███████▋                        | 184kB 8.1MB/s eta 0:00:01\r",
      "\u001b[K     |████████                        | 194kB 8.1MB/s eta 0:00:01\r",
      "\u001b[K     |████████▌                       | 204kB 8.1MB/s eta 0:00:01\r",
      "\u001b[K     |█████████                       | 215kB 8.1MB/s eta 0:00:01\r",
      "\u001b[K     |█████████▍                      | 225kB 8.1MB/s eta 0:00:01\r",
      "\u001b[K     |█████████▉                      | 235kB 8.1MB/s eta 0:00:01\r",
      "\u001b[K     |██████████▏                     | 245kB 8.1MB/s eta 0:00:01\r",
      "\u001b[K     |██████████▋                     | 256kB 8.1MB/s eta 0:00:01\r",
      "\u001b[K     |███████████                     | 266kB 8.1MB/s eta 0:00:01\r",
      "\u001b[K     |███████████▌                    | 276kB 8.1MB/s eta 0:00:01\r",
      "\u001b[K     |████████████                    | 286kB 8.1MB/s eta 0:00:01\r",
      "\u001b[K     |████████████▎                   | 296kB 8.1MB/s eta 0:00:01\r",
      "\u001b[K     |████████████▊                   | 307kB 8.1MB/s eta 0:00:01\r",
      "\u001b[K     |█████████████▏                  | 317kB 8.1MB/s eta 0:00:01\r",
      "\u001b[K     |█████████████▋                  | 327kB 8.1MB/s eta 0:00:01\r",
      "\u001b[K     |██████████████                  | 337kB 8.1MB/s eta 0:00:01\r",
      "\u001b[K     |██████████████▌                 | 348kB 8.1MB/s eta 0:00:01\r",
      "\u001b[K     |██████████████▉                 | 358kB 8.1MB/s eta 0:00:01\r",
      "\u001b[K     |███████████████▎                | 368kB 8.1MB/s eta 0:00:01\r",
      "\u001b[K     |███████████████▊                | 378kB 8.1MB/s eta 0:00:01\r",
      "\u001b[K     |████████████████▏               | 389kB 8.1MB/s eta 0:00:01\r",
      "\u001b[K     |████████████████▋               | 399kB 8.1MB/s eta 0:00:01\r",
      "\u001b[K     |█████████████████               | 409kB 8.1MB/s eta 0:00:01\r",
      "\u001b[K     |█████████████████▍              | 419kB 8.1MB/s eta 0:00:01\r",
      "\u001b[K     |█████████████████▉              | 430kB 8.1MB/s eta 0:00:01\r",
      "\u001b[K     |██████████████████▎             | 440kB 8.1MB/s eta 0:00:01\r",
      "\u001b[K     |██████████████████▊             | 450kB 8.1MB/s eta 0:00:01\r",
      "\u001b[K     |███████████████████▏            | 460kB 8.1MB/s eta 0:00:01\r",
      "\u001b[K     |███████████████████▋            | 471kB 8.1MB/s eta 0:00:01\r",
      "\u001b[K     |████████████████████            | 481kB 8.1MB/s eta 0:00:01\r",
      "\u001b[K     |████████████████████▍           | 491kB 8.1MB/s eta 0:00:01\r",
      "\u001b[K     |████████████████████▉           | 501kB 8.1MB/s eta 0:00:01\r",
      "\u001b[K     |█████████████████████▎          | 512kB 8.1MB/s eta 0:00:01\r",
      "\u001b[K     |█████████████████████▊          | 522kB 8.1MB/s eta 0:00:01\r",
      "\u001b[K     |██████████████████████          | 532kB 8.1MB/s eta 0:00:01\r",
      "\u001b[K     |██████████████████████▌         | 542kB 8.1MB/s eta 0:00:01\r",
      "\u001b[K     |███████████████████████         | 552kB 8.1MB/s eta 0:00:01\r",
      "\u001b[K     |███████████████████████▍        | 563kB 8.1MB/s eta 0:00:01\r",
      "\u001b[K     |███████████████████████▉        | 573kB 8.1MB/s eta 0:00:01\r",
      "\u001b[K     |████████████████████████▎       | 583kB 8.1MB/s eta 0:00:01\r",
      "\u001b[K     |████████████████████████▋       | 593kB 8.1MB/s eta 0:00:01\r",
      "\u001b[K     |█████████████████████████       | 604kB 8.1MB/s eta 0:00:01\r",
      "\u001b[K     |█████████████████████████▌      | 614kB 8.1MB/s eta 0:00:01\r",
      "\u001b[K     |██████████████████████████      | 624kB 8.1MB/s eta 0:00:01\r",
      "\u001b[K     |██████████████████████████▍     | 634kB 8.1MB/s eta 0:00:01\r",
      "\u001b[K     |██████████████████████████▉     | 645kB 8.1MB/s eta 0:00:01\r",
      "\u001b[K     |███████████████████████████▏    | 655kB 8.1MB/s eta 0:00:01\r",
      "\u001b[K     |███████████████████████████▋    | 665kB 8.1MB/s eta 0:00:01\r",
      "\u001b[K     |████████████████████████████    | 675kB 8.1MB/s eta 0:00:01\r",
      "\u001b[K     |████████████████████████████▌   | 686kB 8.1MB/s eta 0:00:01\r",
      "\u001b[K     |█████████████████████████████   | 696kB 8.1MB/s eta 0:00:01\r",
      "\u001b[K     |█████████████████████████████▍  | 706kB 8.1MB/s eta 0:00:01\r",
      "\u001b[K     |█████████████████████████████▊  | 716kB 8.1MB/s eta 0:00:01\r",
      "\u001b[K     |██████████████████████████████▏ | 727kB 8.1MB/s eta 0:00:01\r",
      "\u001b[K     |██████████████████████████████▋ | 737kB 8.1MB/s eta 0:00:01\r",
      "\u001b[K     |███████████████████████████████ | 747kB 8.1MB/s eta 0:00:01\r",
      "\u001b[K     |███████████████████████████████▌| 757kB 8.1MB/s eta 0:00:01\r",
      "\u001b[K     |███████████████████████████████▉| 768kB 8.1MB/s eta 0:00:01\r",
      "\u001b[K     |████████████████████████████████| 778kB 8.1MB/s \n",
      "\u001b[?25hRequirement already satisfied: Cython in /usr/local/lib/python3.6/dist-packages (from tslearn) (0.29.21)\n",
      "Requirement already satisfied: numpy in /usr/local/lib/python3.6/dist-packages (from tslearn) (1.18.5)\n",
      "Requirement already satisfied: scikit-learn in /usr/local/lib/python3.6/dist-packages (from tslearn) (0.22.2.post1)\n",
      "Requirement already satisfied: joblib in /usr/local/lib/python3.6/dist-packages (from tslearn) (0.16.0)\n",
      "Requirement already satisfied: numba in /usr/local/lib/python3.6/dist-packages (from tslearn) (0.48.0)\n",
      "Requirement already satisfied: scipy in /usr/local/lib/python3.6/dist-packages (from tslearn) (1.4.1)\n",
      "Requirement already satisfied: llvmlite<0.32.0,>=0.31.0dev0 in /usr/local/lib/python3.6/dist-packages (from numba->tslearn) (0.31.0)\n",
      "Requirement already satisfied: setuptools in /usr/local/lib/python3.6/dist-packages (from numba->tslearn) (49.2.0)\n",
      "Installing collected packages: tslearn\n",
      "Successfully installed tslearn-0.4.1\n"
     ]
    }
   ],
   "source": [
    "!pip install tslearn"
   ]
  },
  {
   "cell_type": "code",
   "execution_count": 1,
   "metadata": {
    "colab": {
     "base_uri": "https://localhost:8080/",
     "height": 72
    },
    "colab_type": "code",
    "id": "onJZv63WkQ2N",
    "outputId": "29995350-7a03-47e0-a3b7-9128b5312e40"
   },
   "outputs": [],
   "source": [
    "import numpy as np\n",
    "import os\n",
    "import pandas as pd#; pd.set_option('display.max_colwidth', None)\n",
    "import matplotlib.pyplot as plt\n",
    "import seaborn as sns; sns.set()\n",
    "from pathlib import Path"
   ]
  },
  {
   "cell_type": "code",
   "execution_count": null,
   "metadata": {
    "colab": {
     "base_uri": "https://localhost:8080/",
     "height": 104
    },
    "colab_type": "code",
    "id": "j2wiGcG5raUW",
    "outputId": "d02ebe31-f6a4-44df-84bc-96f54338470b"
   },
   "outputs": [],
   "source": [
    "!ls -al | head -n 5"
   ]
  },
  {
   "cell_type": "markdown",
   "metadata": {
    "colab_type": "text",
    "id": "ZiaeS110KRAr"
   },
   "source": [
    "## Load Openface CSVs"
   ]
  },
  {
   "cell_type": "code",
   "execution_count": 3,
   "metadata": {
    "colab": {
     "base_uri": "https://localhost:8080/",
     "height": 367
    },
    "colab_type": "code",
    "id": "HVWrfzKlqAjj",
    "outputId": "6f8cb1fd-876e-4eea-e2d9-a56a2685aab1"
   },
   "outputs": [
    {
     "name": "stdout",
     "output_type": "stream",
     "text": [
      "Loading combined CSV's from file\n"
     ]
    },
    {
     "data": {
      "text/html": [
       "<div>\n",
       "<style scoped>\n",
       "    .dataframe tbody tr th:only-of-type {\n",
       "        vertical-align: middle;\n",
       "    }\n",
       "\n",
       "    .dataframe tbody tr th {\n",
       "        vertical-align: top;\n",
       "    }\n",
       "\n",
       "    .dataframe thead th {\n",
       "        text-align: right;\n",
       "    }\n",
       "</style>\n",
       "<table border=\"1\" class=\"dataframe\">\n",
       "  <thead>\n",
       "    <tr style=\"text-align: right;\">\n",
       "      <th></th>\n",
       "      <th>frame</th>\n",
       "      <th>face_id</th>\n",
       "      <th>timestamp</th>\n",
       "      <th>confidence</th>\n",
       "      <th>success</th>\n",
       "      <th>gaze_0_x</th>\n",
       "      <th>gaze_0_y</th>\n",
       "      <th>gaze_0_z</th>\n",
       "      <th>gaze_1_x</th>\n",
       "      <th>gaze_1_y</th>\n",
       "      <th>...</th>\n",
       "      <th>AU12_c</th>\n",
       "      <th>AU14_c</th>\n",
       "      <th>AU15_c</th>\n",
       "      <th>AU17_c</th>\n",
       "      <th>AU20_c</th>\n",
       "      <th>AU23_c</th>\n",
       "      <th>AU25_c</th>\n",
       "      <th>AU26_c</th>\n",
       "      <th>AU28_c</th>\n",
       "      <th>AU45_c</th>\n",
       "    </tr>\n",
       "  </thead>\n",
       "  <tbody>\n",
       "    <tr>\n",
       "      <th>count</th>\n",
       "      <td>22935.000000</td>\n",
       "      <td>22935.000000</td>\n",
       "      <td>22935.000000</td>\n",
       "      <td>22935.000000</td>\n",
       "      <td>22935.000000</td>\n",
       "      <td>22935.000000</td>\n",
       "      <td>22935.000000</td>\n",
       "      <td>22935.000000</td>\n",
       "      <td>22935.000000</td>\n",
       "      <td>22935.000000</td>\n",
       "      <td>...</td>\n",
       "      <td>22935.000000</td>\n",
       "      <td>22935.000000</td>\n",
       "      <td>22935.000000</td>\n",
       "      <td>22935.000000</td>\n",
       "      <td>22935.000000</td>\n",
       "      <td>22935.000000</td>\n",
       "      <td>22935.000000</td>\n",
       "      <td>22935.000000</td>\n",
       "      <td>22935.000000</td>\n",
       "      <td>22935.000000</td>\n",
       "    </tr>\n",
       "    <tr>\n",
       "      <th>mean</th>\n",
       "      <td>155.616133</td>\n",
       "      <td>0.501809</td>\n",
       "      <td>4.605910</td>\n",
       "      <td>0.751813</td>\n",
       "      <td>0.766122</td>\n",
       "      <td>0.036090</td>\n",
       "      <td>0.203211</td>\n",
       "      <td>-0.663631</td>\n",
       "      <td>-0.076915</td>\n",
       "      <td>0.208771</td>\n",
       "      <td>...</td>\n",
       "      <td>0.294790</td>\n",
       "      <td>0.399913</td>\n",
       "      <td>0.581600</td>\n",
       "      <td>0.286767</td>\n",
       "      <td>0.381905</td>\n",
       "      <td>0.208197</td>\n",
       "      <td>0.404229</td>\n",
       "      <td>0.323261</td>\n",
       "      <td>0.406584</td>\n",
       "      <td>0.318552</td>\n",
       "    </tr>\n",
       "    <tr>\n",
       "      <th>std</th>\n",
       "      <td>164.296348</td>\n",
       "      <td>0.710695</td>\n",
       "      <td>4.882572</td>\n",
       "      <td>0.367902</td>\n",
       "      <td>0.423305</td>\n",
       "      <td>0.332307</td>\n",
       "      <td>0.171565</td>\n",
       "      <td>0.378508</td>\n",
       "      <td>0.330183</td>\n",
       "      <td>0.175701</td>\n",
       "      <td>...</td>\n",
       "      <td>0.455958</td>\n",
       "      <td>0.489891</td>\n",
       "      <td>0.493307</td>\n",
       "      <td>0.452262</td>\n",
       "      <td>0.485864</td>\n",
       "      <td>0.406027</td>\n",
       "      <td>0.490753</td>\n",
       "      <td>0.467732</td>\n",
       "      <td>0.491207</td>\n",
       "      <td>0.465925</td>\n",
       "    </tr>\n",
       "    <tr>\n",
       "      <th>min</th>\n",
       "      <td>1.000000</td>\n",
       "      <td>0.000000</td>\n",
       "      <td>0.000000</td>\n",
       "      <td>0.000000</td>\n",
       "      <td>0.000000</td>\n",
       "      <td>-0.805486</td>\n",
       "      <td>-0.448546</td>\n",
       "      <td>-0.999994</td>\n",
       "      <td>-0.914196</td>\n",
       "      <td>-0.414886</td>\n",
       "      <td>...</td>\n",
       "      <td>0.000000</td>\n",
       "      <td>0.000000</td>\n",
       "      <td>0.000000</td>\n",
       "      <td>0.000000</td>\n",
       "      <td>0.000000</td>\n",
       "      <td>0.000000</td>\n",
       "      <td>0.000000</td>\n",
       "      <td>0.000000</td>\n",
       "      <td>0.000000</td>\n",
       "      <td>0.000000</td>\n",
       "    </tr>\n",
       "    <tr>\n",
       "      <th>25%</th>\n",
       "      <td>46.000000</td>\n",
       "      <td>0.000000</td>\n",
       "      <td>1.600000</td>\n",
       "      <td>0.770000</td>\n",
       "      <td>1.000000</td>\n",
       "      <td>-0.196749</td>\n",
       "      <td>0.000000</td>\n",
       "      <td>-0.932839</td>\n",
       "      <td>-0.361876</td>\n",
       "      <td>0.000000</td>\n",
       "      <td>...</td>\n",
       "      <td>0.000000</td>\n",
       "      <td>0.000000</td>\n",
       "      <td>0.000000</td>\n",
       "      <td>0.000000</td>\n",
       "      <td>0.000000</td>\n",
       "      <td>0.000000</td>\n",
       "      <td>0.000000</td>\n",
       "      <td>0.000000</td>\n",
       "      <td>0.000000</td>\n",
       "      <td>0.000000</td>\n",
       "    </tr>\n",
       "    <tr>\n",
       "      <th>50%</th>\n",
       "      <td>97.000000</td>\n",
       "      <td>0.000000</td>\n",
       "      <td>3.365000</td>\n",
       "      <td>0.980000</td>\n",
       "      <td>1.000000</td>\n",
       "      <td>0.000000</td>\n",
       "      <td>0.210941</td>\n",
       "      <td>-0.857065</td>\n",
       "      <td>0.000000</td>\n",
       "      <td>0.219472</td>\n",
       "      <td>...</td>\n",
       "      <td>0.000000</td>\n",
       "      <td>0.000000</td>\n",
       "      <td>1.000000</td>\n",
       "      <td>0.000000</td>\n",
       "      <td>0.000000</td>\n",
       "      <td>0.000000</td>\n",
       "      <td>0.000000</td>\n",
       "      <td>0.000000</td>\n",
       "      <td>0.000000</td>\n",
       "      <td>0.000000</td>\n",
       "    </tr>\n",
       "    <tr>\n",
       "      <th>75%</th>\n",
       "      <td>188.000000</td>\n",
       "      <td>1.000000</td>\n",
       "      <td>5.772000</td>\n",
       "      <td>0.980000</td>\n",
       "      <td>1.000000</td>\n",
       "      <td>0.286586</td>\n",
       "      <td>0.324906</td>\n",
       "      <td>-0.578735</td>\n",
       "      <td>0.125412</td>\n",
       "      <td>0.340716</td>\n",
       "      <td>...</td>\n",
       "      <td>1.000000</td>\n",
       "      <td>1.000000</td>\n",
       "      <td>1.000000</td>\n",
       "      <td>1.000000</td>\n",
       "      <td>1.000000</td>\n",
       "      <td>0.000000</td>\n",
       "      <td>1.000000</td>\n",
       "      <td>1.000000</td>\n",
       "      <td>1.000000</td>\n",
       "      <td>1.000000</td>\n",
       "    </tr>\n",
       "    <tr>\n",
       "      <th>max</th>\n",
       "      <td>837.000000</td>\n",
       "      <td>3.000000</td>\n",
       "      <td>34.868000</td>\n",
       "      <td>0.980000</td>\n",
       "      <td>1.000000</td>\n",
       "      <td>0.931122</td>\n",
       "      <td>0.726961</td>\n",
       "      <td>0.000000</td>\n",
       "      <td>0.893593</td>\n",
       "      <td>0.843826</td>\n",
       "      <td>...</td>\n",
       "      <td>1.000000</td>\n",
       "      <td>1.000000</td>\n",
       "      <td>1.000000</td>\n",
       "      <td>1.000000</td>\n",
       "      <td>1.000000</td>\n",
       "      <td>1.000000</td>\n",
       "      <td>1.000000</td>\n",
       "      <td>1.000000</td>\n",
       "      <td>1.000000</td>\n",
       "      <td>1.000000</td>\n",
       "    </tr>\n",
       "  </tbody>\n",
       "</table>\n",
       "<p>8 rows × 334 columns</p>\n",
       "</div>"
      ],
      "text/plain": [
       "              frame       face_id     timestamp    confidence       success  \\\n",
       "count  22935.000000  22935.000000  22935.000000  22935.000000  22935.000000   \n",
       "mean     155.616133      0.501809      4.605910      0.751813      0.766122   \n",
       "std      164.296348      0.710695      4.882572      0.367902      0.423305   \n",
       "min        1.000000      0.000000      0.000000      0.000000      0.000000   \n",
       "25%       46.000000      0.000000      1.600000      0.770000      1.000000   \n",
       "50%       97.000000      0.000000      3.365000      0.980000      1.000000   \n",
       "75%      188.000000      1.000000      5.772000      0.980000      1.000000   \n",
       "max      837.000000      3.000000     34.868000      0.980000      1.000000   \n",
       "\n",
       "           gaze_0_x      gaze_0_y      gaze_0_z      gaze_1_x      gaze_1_y  \\\n",
       "count  22935.000000  22935.000000  22935.000000  22935.000000  22935.000000   \n",
       "mean       0.036090      0.203211     -0.663631     -0.076915      0.208771   \n",
       "std        0.332307      0.171565      0.378508      0.330183      0.175701   \n",
       "min       -0.805486     -0.448546     -0.999994     -0.914196     -0.414886   \n",
       "25%       -0.196749      0.000000     -0.932839     -0.361876      0.000000   \n",
       "50%        0.000000      0.210941     -0.857065      0.000000      0.219472   \n",
       "75%        0.286586      0.324906     -0.578735      0.125412      0.340716   \n",
       "max        0.931122      0.726961      0.000000      0.893593      0.843826   \n",
       "\n",
       "       ...        AU12_c        AU14_c        AU15_c        AU17_c  \\\n",
       "count  ...  22935.000000  22935.000000  22935.000000  22935.000000   \n",
       "mean   ...      0.294790      0.399913      0.581600      0.286767   \n",
       "std    ...      0.455958      0.489891      0.493307      0.452262   \n",
       "min    ...      0.000000      0.000000      0.000000      0.000000   \n",
       "25%    ...      0.000000      0.000000      0.000000      0.000000   \n",
       "50%    ...      0.000000      0.000000      1.000000      0.000000   \n",
       "75%    ...      1.000000      1.000000      1.000000      1.000000   \n",
       "max    ...      1.000000      1.000000      1.000000      1.000000   \n",
       "\n",
       "             AU20_c        AU23_c        AU25_c        AU26_c        AU28_c  \\\n",
       "count  22935.000000  22935.000000  22935.000000  22935.000000  22935.000000   \n",
       "mean       0.381905      0.208197      0.404229      0.323261      0.406584   \n",
       "std        0.485864      0.406027      0.490753      0.467732      0.491207   \n",
       "min        0.000000      0.000000      0.000000      0.000000      0.000000   \n",
       "25%        0.000000      0.000000      0.000000      0.000000      0.000000   \n",
       "50%        0.000000      0.000000      0.000000      0.000000      0.000000   \n",
       "75%        1.000000      0.000000      1.000000      1.000000      1.000000   \n",
       "max        1.000000      1.000000      1.000000      1.000000      1.000000   \n",
       "\n",
       "             AU45_c  \n",
       "count  22935.000000  \n",
       "mean       0.318552  \n",
       "std        0.465925  \n",
       "min        0.000000  \n",
       "25%        0.000000  \n",
       "50%        0.000000  \n",
       "75%        1.000000  \n",
       "max        1.000000  \n",
       "\n",
       "[8 rows x 334 columns]"
      ]
     },
     "execution_count": 3,
     "metadata": {},
     "output_type": "execute_result"
    }
   ],
   "source": [
    "savename = \"aggregated_openface_data.pickle\"\n",
    "\n",
    "openface_csvs = \"./openface_processed/multi\"\n",
    "\n",
    "df = pd.DataFrame()\n",
    "\n",
    "if os.path.isfile(savename):\n",
    "  print(\"Loading combined CSV's from file\")\n",
    "  df = pd.read_pickle(savename)\n",
    "else:\n",
    "  for root, dirs, files in os.walk(openface_csvs):\n",
    "    dirs.clear()  # don't recurse\n",
    "\n",
    "    for f in [f for f in files if f[-4:] == '.csv']:\n",
    "      tempdata = pd.read_csv(os.path.join(root, f), skipinitialspace=True)\n",
    "      tempdata[\"filename\"] = f[0:-4].strip()  # make column with sample number (remove .csv suffix, whitespace)\n",
    "      df = pd.concat([df, tempdata])\n",
    "\n",
    "  print(\"Saving combined CSV's to file\")\n",
    "  df.to_pickle(savename)\n",
    "df.describe()"
   ]
  },
  {
   "cell_type": "markdown",
   "metadata": {
    "colab_type": "text",
    "id": "kAAGbP52_GN8"
   },
   "source": [
    "There are hundreds of columns, let's only consider gaze locations, angles, poses, and AU's with high confidence"
   ]
  },
  {
   "cell_type": "code",
   "execution_count": 4,
   "metadata": {
    "colab": {
     "base_uri": "https://localhost:8080/",
     "height": 320
    },
    "colab_type": "code",
    "id": "e3Q4aMiLqAyM",
    "outputId": "19eff9c3-7c56-4c27-856f-1318e663c236"
   },
   "outputs": [
    {
     "data": {
      "text/html": [
       "<div>\n",
       "<style scoped>\n",
       "    .dataframe tbody tr th:only-of-type {\n",
       "        vertical-align: middle;\n",
       "    }\n",
       "\n",
       "    .dataframe tbody tr th {\n",
       "        vertical-align: top;\n",
       "    }\n",
       "\n",
       "    .dataframe thead th {\n",
       "        text-align: right;\n",
       "    }\n",
       "</style>\n",
       "<table border=\"1\" class=\"dataframe\">\n",
       "  <thead>\n",
       "    <tr style=\"text-align: right;\">\n",
       "      <th></th>\n",
       "      <th>frame</th>\n",
       "      <th>face_id</th>\n",
       "      <th>timestamp</th>\n",
       "      <th>confidence</th>\n",
       "      <th>success</th>\n",
       "      <th>gaze_0_x</th>\n",
       "      <th>gaze_0_y</th>\n",
       "      <th>gaze_0_z</th>\n",
       "      <th>gaze_1_x</th>\n",
       "      <th>gaze_1_y</th>\n",
       "      <th>...</th>\n",
       "      <th>AU12_c</th>\n",
       "      <th>AU14_c</th>\n",
       "      <th>AU15_c</th>\n",
       "      <th>AU17_c</th>\n",
       "      <th>AU20_c</th>\n",
       "      <th>AU23_c</th>\n",
       "      <th>AU25_c</th>\n",
       "      <th>AU26_c</th>\n",
       "      <th>AU28_c</th>\n",
       "      <th>AU45_c</th>\n",
       "    </tr>\n",
       "  </thead>\n",
       "  <tbody>\n",
       "    <tr>\n",
       "      <th>count</th>\n",
       "      <td>17571.000000</td>\n",
       "      <td>17571.000000</td>\n",
       "      <td>17571.000000</td>\n",
       "      <td>17571.000000</td>\n",
       "      <td>17571.0</td>\n",
       "      <td>17571.000000</td>\n",
       "      <td>17571.000000</td>\n",
       "      <td>17571.000000</td>\n",
       "      <td>17571.000000</td>\n",
       "      <td>17571.000000</td>\n",
       "      <td>...</td>\n",
       "      <td>17571.000000</td>\n",
       "      <td>17571.000000</td>\n",
       "      <td>17571.000000</td>\n",
       "      <td>17571.000000</td>\n",
       "      <td>17571.000000</td>\n",
       "      <td>17571.000000</td>\n",
       "      <td>17571.000000</td>\n",
       "      <td>17571.000000</td>\n",
       "      <td>17571.000000</td>\n",
       "      <td>17571.000000</td>\n",
       "    </tr>\n",
       "    <tr>\n",
       "      <th>mean</th>\n",
       "      <td>153.537135</td>\n",
       "      <td>0.448295</td>\n",
       "      <td>4.743672</td>\n",
       "      <td>0.946658</td>\n",
       "      <td>1.0</td>\n",
       "      <td>0.047107</td>\n",
       "      <td>0.265246</td>\n",
       "      <td>-0.866222</td>\n",
       "      <td>-0.100395</td>\n",
       "      <td>0.272504</td>\n",
       "      <td>...</td>\n",
       "      <td>0.303910</td>\n",
       "      <td>0.430425</td>\n",
       "      <td>0.545843</td>\n",
       "      <td>0.238063</td>\n",
       "      <td>0.361732</td>\n",
       "      <td>0.183541</td>\n",
       "      <td>0.410961</td>\n",
       "      <td>0.375221</td>\n",
       "      <td>0.375448</td>\n",
       "      <td>0.371464</td>\n",
       "    </tr>\n",
       "    <tr>\n",
       "      <th>std</th>\n",
       "      <td>159.454405</td>\n",
       "      <td>0.672569</td>\n",
       "      <td>5.120916</td>\n",
       "      <td>0.052381</td>\n",
       "      <td>0.0</td>\n",
       "      <td>0.378974</td>\n",
       "      <td>0.148206</td>\n",
       "      <td>0.107279</td>\n",
       "      <td>0.374094</td>\n",
       "      <td>0.151417</td>\n",
       "      <td>...</td>\n",
       "      <td>0.459957</td>\n",
       "      <td>0.495150</td>\n",
       "      <td>0.497908</td>\n",
       "      <td>0.425910</td>\n",
       "      <td>0.480516</td>\n",
       "      <td>0.387120</td>\n",
       "      <td>0.492022</td>\n",
       "      <td>0.484194</td>\n",
       "      <td>0.484252</td>\n",
       "      <td>0.483210</td>\n",
       "    </tr>\n",
       "    <tr>\n",
       "      <th>min</th>\n",
       "      <td>1.000000</td>\n",
       "      <td>0.000000</td>\n",
       "      <td>0.000000</td>\n",
       "      <td>0.770000</td>\n",
       "      <td>1.0</td>\n",
       "      <td>-0.805486</td>\n",
       "      <td>-0.448546</td>\n",
       "      <td>-0.999994</td>\n",
       "      <td>-0.914196</td>\n",
       "      <td>-0.414886</td>\n",
       "      <td>...</td>\n",
       "      <td>0.000000</td>\n",
       "      <td>0.000000</td>\n",
       "      <td>0.000000</td>\n",
       "      <td>0.000000</td>\n",
       "      <td>0.000000</td>\n",
       "      <td>0.000000</td>\n",
       "      <td>0.000000</td>\n",
       "      <td>0.000000</td>\n",
       "      <td>0.000000</td>\n",
       "      <td>0.000000</td>\n",
       "    </tr>\n",
       "    <tr>\n",
       "      <th>25%</th>\n",
       "      <td>48.000000</td>\n",
       "      <td>0.000000</td>\n",
       "      <td>1.668000</td>\n",
       "      <td>0.880000</td>\n",
       "      <td>1.0</td>\n",
       "      <td>-0.278707</td>\n",
       "      <td>0.175896</td>\n",
       "      <td>-0.947493</td>\n",
       "      <td>-0.415882</td>\n",
       "      <td>0.183876</td>\n",
       "      <td>...</td>\n",
       "      <td>0.000000</td>\n",
       "      <td>0.000000</td>\n",
       "      <td>0.000000</td>\n",
       "      <td>0.000000</td>\n",
       "      <td>0.000000</td>\n",
       "      <td>0.000000</td>\n",
       "      <td>0.000000</td>\n",
       "      <td>0.000000</td>\n",
       "      <td>0.000000</td>\n",
       "      <td>0.000000</td>\n",
       "    </tr>\n",
       "    <tr>\n",
       "      <th>50%</th>\n",
       "      <td>98.000000</td>\n",
       "      <td>0.000000</td>\n",
       "      <td>3.433000</td>\n",
       "      <td>0.980000</td>\n",
       "      <td>1.0</td>\n",
       "      <td>0.072186</td>\n",
       "      <td>0.259811</td>\n",
       "      <td>-0.894062</td>\n",
       "      <td>-0.105439</td>\n",
       "      <td>0.271059</td>\n",
       "      <td>...</td>\n",
       "      <td>0.000000</td>\n",
       "      <td>0.000000</td>\n",
       "      <td>1.000000</td>\n",
       "      <td>0.000000</td>\n",
       "      <td>0.000000</td>\n",
       "      <td>0.000000</td>\n",
       "      <td>0.000000</td>\n",
       "      <td>0.000000</td>\n",
       "      <td>0.000000</td>\n",
       "      <td>0.000000</td>\n",
       "    </tr>\n",
       "    <tr>\n",
       "      <th>75%</th>\n",
       "      <td>186.000000</td>\n",
       "      <td>1.000000</td>\n",
       "      <td>5.839000</td>\n",
       "      <td>0.980000</td>\n",
       "      <td>1.0</td>\n",
       "      <td>0.347410</td>\n",
       "      <td>0.357944</td>\n",
       "      <td>-0.814608</td>\n",
       "      <td>0.196633</td>\n",
       "      <td>0.368472</td>\n",
       "      <td>...</td>\n",
       "      <td>1.000000</td>\n",
       "      <td>1.000000</td>\n",
       "      <td>1.000000</td>\n",
       "      <td>0.000000</td>\n",
       "      <td>1.000000</td>\n",
       "      <td>0.000000</td>\n",
       "      <td>1.000000</td>\n",
       "      <td>1.000000</td>\n",
       "      <td>1.000000</td>\n",
       "      <td>1.000000</td>\n",
       "    </tr>\n",
       "    <tr>\n",
       "      <th>max</th>\n",
       "      <td>831.000000</td>\n",
       "      <td>3.000000</td>\n",
       "      <td>34.618000</td>\n",
       "      <td>0.980000</td>\n",
       "      <td>1.0</td>\n",
       "      <td>0.931122</td>\n",
       "      <td>0.726961</td>\n",
       "      <td>-0.225817</td>\n",
       "      <td>0.893593</td>\n",
       "      <td>0.843826</td>\n",
       "      <td>...</td>\n",
       "      <td>1.000000</td>\n",
       "      <td>1.000000</td>\n",
       "      <td>1.000000</td>\n",
       "      <td>1.000000</td>\n",
       "      <td>1.000000</td>\n",
       "      <td>1.000000</td>\n",
       "      <td>1.000000</td>\n",
       "      <td>1.000000</td>\n",
       "      <td>1.000000</td>\n",
       "      <td>1.000000</td>\n",
       "    </tr>\n",
       "  </tbody>\n",
       "</table>\n",
       "<p>8 rows × 54 columns</p>\n",
       "</div>"
      ],
      "text/plain": [
       "              frame       face_id     timestamp    confidence  success  \\\n",
       "count  17571.000000  17571.000000  17571.000000  17571.000000  17571.0   \n",
       "mean     153.537135      0.448295      4.743672      0.946658      1.0   \n",
       "std      159.454405      0.672569      5.120916      0.052381      0.0   \n",
       "min        1.000000      0.000000      0.000000      0.770000      1.0   \n",
       "25%       48.000000      0.000000      1.668000      0.880000      1.0   \n",
       "50%       98.000000      0.000000      3.433000      0.980000      1.0   \n",
       "75%      186.000000      1.000000      5.839000      0.980000      1.0   \n",
       "max      831.000000      3.000000     34.618000      0.980000      1.0   \n",
       "\n",
       "           gaze_0_x      gaze_0_y      gaze_0_z      gaze_1_x      gaze_1_y  \\\n",
       "count  17571.000000  17571.000000  17571.000000  17571.000000  17571.000000   \n",
       "mean       0.047107      0.265246     -0.866222     -0.100395      0.272504   \n",
       "std        0.378974      0.148206      0.107279      0.374094      0.151417   \n",
       "min       -0.805486     -0.448546     -0.999994     -0.914196     -0.414886   \n",
       "25%       -0.278707      0.175896     -0.947493     -0.415882      0.183876   \n",
       "50%        0.072186      0.259811     -0.894062     -0.105439      0.271059   \n",
       "75%        0.347410      0.357944     -0.814608      0.196633      0.368472   \n",
       "max        0.931122      0.726961     -0.225817      0.893593      0.843826   \n",
       "\n",
       "       ...        AU12_c        AU14_c        AU15_c        AU17_c  \\\n",
       "count  ...  17571.000000  17571.000000  17571.000000  17571.000000   \n",
       "mean   ...      0.303910      0.430425      0.545843      0.238063   \n",
       "std    ...      0.459957      0.495150      0.497908      0.425910   \n",
       "min    ...      0.000000      0.000000      0.000000      0.000000   \n",
       "25%    ...      0.000000      0.000000      0.000000      0.000000   \n",
       "50%    ...      0.000000      0.000000      1.000000      0.000000   \n",
       "75%    ...      1.000000      1.000000      1.000000      0.000000   \n",
       "max    ...      1.000000      1.000000      1.000000      1.000000   \n",
       "\n",
       "             AU20_c        AU23_c        AU25_c        AU26_c        AU28_c  \\\n",
       "count  17571.000000  17571.000000  17571.000000  17571.000000  17571.000000   \n",
       "mean       0.361732      0.183541      0.410961      0.375221      0.375448   \n",
       "std        0.480516      0.387120      0.492022      0.484194      0.484252   \n",
       "min        0.000000      0.000000      0.000000      0.000000      0.000000   \n",
       "25%        0.000000      0.000000      0.000000      0.000000      0.000000   \n",
       "50%        0.000000      0.000000      0.000000      0.000000      0.000000   \n",
       "75%        1.000000      0.000000      1.000000      1.000000      1.000000   \n",
       "max        1.000000      1.000000      1.000000      1.000000      1.000000   \n",
       "\n",
       "             AU45_c  \n",
       "count  17571.000000  \n",
       "mean       0.371464  \n",
       "std        0.483210  \n",
       "min        0.000000  \n",
       "25%        0.000000  \n",
       "50%        0.000000  \n",
       "75%        1.000000  \n",
       "max        1.000000  \n",
       "\n",
       "[8 rows x 54 columns]"
      ]
     },
     "execution_count": 4,
     "metadata": {},
     "output_type": "execute_result"
    }
   ],
   "source": [
    "df = pd.concat([df.loc[:,\"filename\"], df.loc[:,\"frame\":\"gaze_angle_y\"], df.loc[:,\"pose_Tx\":\"pose_Rz\"], df.loc[:,\"AU01_r\":\"AU45_c\"]],\n",
    "                axis=1)\n",
    "df = df[df[\"confidence\"] > .75]\n",
    "df.describe()"
   ]
  },
  {
   "cell_type": "code",
   "execution_count": 6,
   "metadata": {
    "colab": {
     "base_uri": "https://localhost:8080/",
     "height": 244
    },
    "colab_type": "code",
    "id": "eLtt5nShKoVO",
    "outputId": "fe8e72a7-bfee-40b9-cfca-b113f6c3b0c4"
   },
   "outputs": [
    {
     "name": "stdout",
     "output_type": "stream",
     "text": [
      "(17571, 55)\n"
     ]
    },
    {
     "data": {
      "text/html": [
       "<div>\n",
       "<style scoped>\n",
       "    .dataframe tbody tr th:only-of-type {\n",
       "        vertical-align: middle;\n",
       "    }\n",
       "\n",
       "    .dataframe tbody tr th {\n",
       "        vertical-align: top;\n",
       "    }\n",
       "\n",
       "    .dataframe thead th {\n",
       "        text-align: right;\n",
       "    }\n",
       "</style>\n",
       "<table border=\"1\" class=\"dataframe\">\n",
       "  <thead>\n",
       "    <tr style=\"text-align: right;\">\n",
       "      <th></th>\n",
       "      <th>filename</th>\n",
       "      <th>frame</th>\n",
       "      <th>face_id</th>\n",
       "      <th>timestamp</th>\n",
       "      <th>confidence</th>\n",
       "      <th>success</th>\n",
       "      <th>gaze_0_x</th>\n",
       "      <th>gaze_0_y</th>\n",
       "      <th>gaze_0_z</th>\n",
       "      <th>gaze_1_x</th>\n",
       "      <th>...</th>\n",
       "      <th>AU12_c</th>\n",
       "      <th>AU14_c</th>\n",
       "      <th>AU15_c</th>\n",
       "      <th>AU17_c</th>\n",
       "      <th>AU20_c</th>\n",
       "      <th>AU23_c</th>\n",
       "      <th>AU25_c</th>\n",
       "      <th>AU26_c</th>\n",
       "      <th>AU28_c</th>\n",
       "      <th>AU45_c</th>\n",
       "    </tr>\n",
       "  </thead>\n",
       "  <tbody>\n",
       "    <tr>\n",
       "      <th>0</th>\n",
       "      <td>flirt-qkq9k5FewvI-1</td>\n",
       "      <td>1</td>\n",
       "      <td>0</td>\n",
       "      <td>0.000</td>\n",
       "      <td>0.93</td>\n",
       "      <td>1</td>\n",
       "      <td>-0.154035</td>\n",
       "      <td>0.282251</td>\n",
       "      <td>-0.946894</td>\n",
       "      <td>-0.317694</td>\n",
       "      <td>...</td>\n",
       "      <td>1.0</td>\n",
       "      <td>1.0</td>\n",
       "      <td>0.0</td>\n",
       "      <td>0.0</td>\n",
       "      <td>0.0</td>\n",
       "      <td>0.0</td>\n",
       "      <td>1.0</td>\n",
       "      <td>0.0</td>\n",
       "      <td>0.0</td>\n",
       "      <td>0.0</td>\n",
       "    </tr>\n",
       "    <tr>\n",
       "      <th>1</th>\n",
       "      <td>flirt-qkq9k5FewvI-1</td>\n",
       "      <td>2</td>\n",
       "      <td>0</td>\n",
       "      <td>0.033</td>\n",
       "      <td>0.93</td>\n",
       "      <td>1</td>\n",
       "      <td>-0.157176</td>\n",
       "      <td>0.285725</td>\n",
       "      <td>-0.945334</td>\n",
       "      <td>-0.320966</td>\n",
       "      <td>...</td>\n",
       "      <td>1.0</td>\n",
       "      <td>1.0</td>\n",
       "      <td>0.0</td>\n",
       "      <td>0.0</td>\n",
       "      <td>0.0</td>\n",
       "      <td>0.0</td>\n",
       "      <td>1.0</td>\n",
       "      <td>0.0</td>\n",
       "      <td>0.0</td>\n",
       "      <td>0.0</td>\n",
       "    </tr>\n",
       "    <tr>\n",
       "      <th>2</th>\n",
       "      <td>flirt-qkq9k5FewvI-1</td>\n",
       "      <td>3</td>\n",
       "      <td>0</td>\n",
       "      <td>0.067</td>\n",
       "      <td>0.93</td>\n",
       "      <td>1</td>\n",
       "      <td>-0.156784</td>\n",
       "      <td>0.289411</td>\n",
       "      <td>-0.944278</td>\n",
       "      <td>-0.321495</td>\n",
       "      <td>...</td>\n",
       "      <td>1.0</td>\n",
       "      <td>1.0</td>\n",
       "      <td>0.0</td>\n",
       "      <td>0.0</td>\n",
       "      <td>0.0</td>\n",
       "      <td>0.0</td>\n",
       "      <td>1.0</td>\n",
       "      <td>0.0</td>\n",
       "      <td>0.0</td>\n",
       "      <td>0.0</td>\n",
       "    </tr>\n",
       "    <tr>\n",
       "      <th>3</th>\n",
       "      <td>flirt-qkq9k5FewvI-1</td>\n",
       "      <td>4</td>\n",
       "      <td>0</td>\n",
       "      <td>0.100</td>\n",
       "      <td>0.93</td>\n",
       "      <td>1</td>\n",
       "      <td>-0.156940</td>\n",
       "      <td>0.289137</td>\n",
       "      <td>-0.944335</td>\n",
       "      <td>-0.322308</td>\n",
       "      <td>...</td>\n",
       "      <td>1.0</td>\n",
       "      <td>1.0</td>\n",
       "      <td>0.0</td>\n",
       "      <td>0.0</td>\n",
       "      <td>0.0</td>\n",
       "      <td>0.0</td>\n",
       "      <td>1.0</td>\n",
       "      <td>0.0</td>\n",
       "      <td>0.0</td>\n",
       "      <td>0.0</td>\n",
       "    </tr>\n",
       "    <tr>\n",
       "      <th>4</th>\n",
       "      <td>flirt-qkq9k5FewvI-1</td>\n",
       "      <td>5</td>\n",
       "      <td>0</td>\n",
       "      <td>0.133</td>\n",
       "      <td>0.93</td>\n",
       "      <td>1</td>\n",
       "      <td>-0.155533</td>\n",
       "      <td>0.286694</td>\n",
       "      <td>-0.945313</td>\n",
       "      <td>-0.320138</td>\n",
       "      <td>...</td>\n",
       "      <td>1.0</td>\n",
       "      <td>1.0</td>\n",
       "      <td>0.0</td>\n",
       "      <td>0.0</td>\n",
       "      <td>0.0</td>\n",
       "      <td>0.0</td>\n",
       "      <td>1.0</td>\n",
       "      <td>0.0</td>\n",
       "      <td>0.0</td>\n",
       "      <td>0.0</td>\n",
       "    </tr>\n",
       "  </tbody>\n",
       "</table>\n",
       "<p>5 rows × 55 columns</p>\n",
       "</div>"
      ],
      "text/plain": [
       "              filename  frame  face_id  timestamp  confidence  success  \\\n",
       "0  flirt-qkq9k5FewvI-1      1        0      0.000        0.93        1   \n",
       "1  flirt-qkq9k5FewvI-1      2        0      0.033        0.93        1   \n",
       "2  flirt-qkq9k5FewvI-1      3        0      0.067        0.93        1   \n",
       "3  flirt-qkq9k5FewvI-1      4        0      0.100        0.93        1   \n",
       "4  flirt-qkq9k5FewvI-1      5        0      0.133        0.93        1   \n",
       "\n",
       "   gaze_0_x  gaze_0_y  gaze_0_z  gaze_1_x  ...  AU12_c  AU14_c  AU15_c  \\\n",
       "0 -0.154035  0.282251 -0.946894 -0.317694  ...     1.0     1.0     0.0   \n",
       "1 -0.157176  0.285725 -0.945334 -0.320966  ...     1.0     1.0     0.0   \n",
       "2 -0.156784  0.289411 -0.944278 -0.321495  ...     1.0     1.0     0.0   \n",
       "3 -0.156940  0.289137 -0.944335 -0.322308  ...     1.0     1.0     0.0   \n",
       "4 -0.155533  0.286694 -0.945313 -0.320138  ...     1.0     1.0     0.0   \n",
       "\n",
       "   AU17_c  AU20_c  AU23_c  AU25_c  AU26_c  AU28_c  AU45_c  \n",
       "0     0.0     0.0     0.0     1.0     0.0     0.0     0.0  \n",
       "1     0.0     0.0     0.0     1.0     0.0     0.0     0.0  \n",
       "2     0.0     0.0     0.0     1.0     0.0     0.0     0.0  \n",
       "3     0.0     0.0     0.0     1.0     0.0     0.0     0.0  \n",
       "4     0.0     0.0     0.0     1.0     0.0     0.0     0.0  \n",
       "\n",
       "[5 rows x 55 columns]"
      ]
     },
     "execution_count": 6,
     "metadata": {},
     "output_type": "execute_result"
    }
   ],
   "source": [
    "print(np.shape(df))\n",
    "df.head(5)"
   ]
  },
  {
   "cell_type": "markdown",
   "metadata": {
    "colab_type": "text",
    "id": "bz1E39gVe9Ct"
   },
   "source": [
    "# Reshape into tslearn format\n",
    "\n",
    "\"If time series from the set are not equal-sized, NaN values are appended to the shorter ones and the shape of the resulting array is:\n",
    "\n",
    "`(n_ts, max_sz, d)`, where `max_sz` is the maximum of sizes for time series in the set.\" - [tslearn docs](https://tslearn.readthedocs.io/en/stable/gettingstarted.html#time-series-format)\n",
    "\n",
    "(`n_ts` $\\rightarrow$ number of sequences, `d` $\\rightarrow$ the features.)"
   ]
  },
  {
   "cell_type": "code",
   "execution_count": 7,
   "metadata": {
    "colab": {
     "base_uri": "https://localhost:8080/",
     "height": 34
    },
    "colab_type": "code",
    "id": "oMwVBAdBZ9CX",
    "outputId": "f62ec6f9-43aa-4f2e-9d95-db6c752cdd7c"
   },
   "outputs": [
    {
     "data": {
      "text/plain": [
       "[(598, 55), (114, 55), (223, 55), (289, 55), (301, 55)]"
      ]
     },
     "execution_count": 7,
     "metadata": {},
     "output_type": "execute_result"
    }
   ],
   "source": [
    "[data.shape for filename,data in df.groupby(\"filename\")][0:5]  # number of samples, number of features"
   ]
  },
  {
   "cell_type": "code",
   "execution_count": null,
   "metadata": {
    "colab": {},
    "colab_type": "code",
    "id": "x1XgrMGHNKoG"
   },
   "outputs": [],
   "source": [
    "#{filename: data.drop('filename', axis=1) for filename,data in df.groupby(\"filename\")}"
   ]
  },
  {
   "cell_type": "code",
   "execution_count": null,
   "metadata": {
    "colab": {
     "base_uri": "https://localhost:8080/",
     "height": 1000
    },
    "colab_type": "code",
    "id": "qJrRan5fnhSD",
    "outputId": "d71a2fc3-5796-4822-947f-1d3afdbe9863"
   },
   "outputs": [
    {
     "data": {
      "text/plain": [
       "array([[[1.000e+00, 0.000e+00, 0.000e+00, ..., 1.000e+00, 0.000e+00,\n",
       "         1.000e+00],\n",
       "        [2.000e+00, 0.000e+00, 4.200e-02, ..., 1.000e+00, 0.000e+00,\n",
       "         1.000e+00],\n",
       "        [3.000e+00, 0.000e+00, 8.300e-02, ..., 1.000e+00, 0.000e+00,\n",
       "         1.000e+00],\n",
       "        ...,\n",
       "        [      nan,       nan,       nan, ...,       nan,       nan,\n",
       "               nan],\n",
       "        [      nan,       nan,       nan, ...,       nan,       nan,\n",
       "               nan],\n",
       "        [      nan,       nan,       nan, ...,       nan,       nan,\n",
       "               nan]],\n",
       "\n",
       "       [[1.000e+00, 0.000e+00, 0.000e+00, ..., 0.000e+00, 0.000e+00,\n",
       "         0.000e+00],\n",
       "        [2.000e+00, 0.000e+00, 4.200e-02, ..., 0.000e+00, 0.000e+00,\n",
       "         0.000e+00],\n",
       "        [3.000e+00, 0.000e+00, 8.300e-02, ..., 0.000e+00, 0.000e+00,\n",
       "         0.000e+00],\n",
       "        ...,\n",
       "        [      nan,       nan,       nan, ...,       nan,       nan,\n",
       "               nan],\n",
       "        [      nan,       nan,       nan, ...,       nan,       nan,\n",
       "               nan],\n",
       "        [      nan,       nan,       nan, ...,       nan,       nan,\n",
       "               nan]],\n",
       "\n",
       "       [[1.800e+01, 0.000e+00, 7.090e-01, ..., 0.000e+00, 0.000e+00,\n",
       "         0.000e+00],\n",
       "        [2.200e+01, 0.000e+00, 8.760e-01, ..., 0.000e+00, 1.000e+00,\n",
       "         0.000e+00],\n",
       "        [2.300e+01, 0.000e+00, 9.180e-01, ..., 0.000e+00, 1.000e+00,\n",
       "         0.000e+00],\n",
       "        ...,\n",
       "        [      nan,       nan,       nan, ...,       nan,       nan,\n",
       "               nan],\n",
       "        [      nan,       nan,       nan, ...,       nan,       nan,\n",
       "               nan],\n",
       "        [      nan,       nan,       nan, ...,       nan,       nan,\n",
       "               nan]],\n",
       "\n",
       "       ...,\n",
       "\n",
       "       [[2.000e+00, 0.000e+00, 1.700e-02, ..., 1.000e+00, 0.000e+00,\n",
       "         0.000e+00],\n",
       "        [3.000e+00, 0.000e+00, 3.300e-02, ..., 1.000e+00, 0.000e+00,\n",
       "         0.000e+00],\n",
       "        [4.000e+00, 0.000e+00, 5.000e-02, ..., 1.000e+00, 0.000e+00,\n",
       "         0.000e+00],\n",
       "        ...,\n",
       "        [      nan,       nan,       nan, ...,       nan,       nan,\n",
       "               nan],\n",
       "        [      nan,       nan,       nan, ...,       nan,       nan,\n",
       "               nan],\n",
       "        [      nan,       nan,       nan, ...,       nan,       nan,\n",
       "               nan]],\n",
       "\n",
       "       [[1.300e+01, 0.000e+00, 2.000e-01, ..., 0.000e+00, 1.000e+00,\n",
       "         0.000e+00],\n",
       "        [1.400e+01, 0.000e+00, 2.170e-01, ..., 0.000e+00, 1.000e+00,\n",
       "         0.000e+00],\n",
       "        [1.500e+01, 0.000e+00, 2.330e-01, ..., 0.000e+00, 0.000e+00,\n",
       "         0.000e+00],\n",
       "        ...,\n",
       "        [      nan,       nan,       nan, ...,       nan,       nan,\n",
       "               nan],\n",
       "        [      nan,       nan,       nan, ...,       nan,       nan,\n",
       "               nan],\n",
       "        [      nan,       nan,       nan, ...,       nan,       nan,\n",
       "               nan]],\n",
       "\n",
       "       [[3.300e+01, 0.000e+00, 1.068e+00, ..., 0.000e+00, 0.000e+00,\n",
       "         1.000e+00],\n",
       "        [3.400e+01, 0.000e+00, 1.101e+00, ..., 0.000e+00, 0.000e+00,\n",
       "         0.000e+00],\n",
       "        [3.500e+01, 0.000e+00, 1.134e+00, ..., 0.000e+00, 0.000e+00,\n",
       "         0.000e+00],\n",
       "        ...,\n",
       "        [      nan,       nan,       nan, ...,       nan,       nan,\n",
       "               nan],\n",
       "        [      nan,       nan,       nan, ...,       nan,       nan,\n",
       "               nan],\n",
       "        [      nan,       nan,       nan, ...,       nan,       nan,\n",
       "               nan]]])"
      ]
     },
     "execution_count": 11,
     "metadata": {
      "tags": []
     },
     "output_type": "execute_result"
    }
   ],
   "source": [
    "from tslearn.utils import to_time_series_dataset\n",
    "\n",
    "dataset = to_time_series_dataset([data.drop('filename', axis=1) for filename,data in df.groupby(\"filename\")])\n",
    "dataset"
   ]
  },
  {
   "cell_type": "code",
   "execution_count": null,
   "metadata": {
    "colab": {
     "base_uri": "https://localhost:8080/",
     "height": 34
    },
    "colab_type": "code",
    "id": "PlzIV7G8Kgk4",
    "outputId": "dc90ddad-ad8e-47cd-9bc8-6930b4495063"
   },
   "outputs": [
    {
     "data": {
      "text/plain": [
       "(20, 2)"
      ]
     },
     "execution_count": 12,
     "metadata": {
      "tags": []
     },
     "output_type": "execute_result"
    }
   ],
   "source": [
    "np.shape(df.groupby(\"filename\"))"
   ]
  },
  {
   "cell_type": "code",
   "execution_count": null,
   "metadata": {
    "colab": {
     "base_uri": "https://localhost:8080/",
     "height": 34
    },
    "colab_type": "code",
    "id": "U7xRrFENK2uM",
    "outputId": "c2c895bc-7dc0-4c5b-ed3d-ab71d3492074"
   },
   "outputs": [
    {
     "data": {
      "text/plain": [
       "(20, 802, 54)"
      ]
     },
     "execution_count": 13,
     "metadata": {
      "tags": []
     },
     "output_type": "execute_result"
    }
   ],
   "source": [
    "dataset.shape  # n_timeseries (files), max frames, features"
   ]
  },
  {
   "cell_type": "code",
   "execution_count": null,
   "metadata": {
    "colab": {
     "base_uri": "https://localhost:8080/",
     "height": 211
    },
    "colab_type": "code",
    "id": "mSY-bVtWHnKt",
    "outputId": "eb0acf2f-5365-440a-f1ce-bcb644f672f1"
   },
   "outputs": [
    {
     "name": "stdout",
     "output_type": "stream",
     "text": [
      "Collecting neural_structured_learning\n",
      "\u001b[?25l  Downloading https://files.pythonhosted.org/packages/d4/89/2d7f787d8381d488b70a80a0526ab8229881d2d3803f4c9cbb4d640ea403/neural_structured_learning-1.3.0-py2.py3-none-any.whl (120kB)\n",
      "\r",
      "\u001b[K     |██▊                             | 10kB 19.6MB/s eta 0:00:01\r",
      "\u001b[K     |█████▌                          | 20kB 6.5MB/s eta 0:00:01\r",
      "\u001b[K     |████████▏                       | 30kB 7.9MB/s eta 0:00:01\r",
      "\u001b[K     |███████████                     | 40kB 7.4MB/s eta 0:00:01\r",
      "\u001b[K     |█████████████▋                  | 51kB 6.9MB/s eta 0:00:01\r",
      "\u001b[K     |████████████████▍               | 61kB 7.4MB/s eta 0:00:01\r",
      "\u001b[K     |███████████████████             | 71kB 7.7MB/s eta 0:00:01\r",
      "\u001b[K     |█████████████████████▉          | 81kB 8.0MB/s eta 0:00:01\r",
      "\u001b[K     |████████████████████████▌       | 92kB 7.6MB/s eta 0:00:01\r",
      "\u001b[K     |███████████████████████████▎    | 102kB 7.9MB/s eta 0:00:01\r",
      "\u001b[K     |██████████████████████████████  | 112kB 7.9MB/s eta 0:00:01\r",
      "\u001b[K     |████████████████████████████████| 122kB 7.9MB/s \n",
      "\u001b[?25hRequirement already satisfied: attrs in /usr/local/lib/python3.6/dist-packages (from neural_structured_learning) (19.3.0)\n",
      "Requirement already satisfied: absl-py in /usr/local/lib/python3.6/dist-packages (from neural_structured_learning) (0.9.0)\n",
      "Requirement already satisfied: six in /usr/local/lib/python3.6/dist-packages (from neural_structured_learning) (1.15.0)\n",
      "Requirement already satisfied: scipy in /usr/local/lib/python3.6/dist-packages (from neural_structured_learning) (1.4.1)\n",
      "Requirement already satisfied: numpy>=1.13.3 in /usr/local/lib/python3.6/dist-packages (from scipy->neural_structured_learning) (1.18.5)\n",
      "Installing collected packages: neural-structured-learning\n",
      "Successfully installed neural-structured-learning-1.3.0\n"
     ]
    }
   ],
   "source": [
    "!pip install neural_structured_learning"
   ]
  },
  {
   "cell_type": "code",
   "execution_count": null,
   "metadata": {
    "colab": {
     "base_uri": "https://localhost:8080/",
     "height": 888
    },
    "colab_type": "code",
    "id": "0O_dT3pGjKnr",
    "outputId": "9f1793a7-d1e0-488c-ab86-5554fca6ac55"
   },
   "outputs": [
    {
     "name": "stdout",
     "output_type": "stream",
     "text": [
      "Downloading data from https://storage.googleapis.com/tensorflow/tf-keras-datasets/mnist.npz\n",
      "11493376/11490434 [==============================] - 0s 0us/step\n",
      "Epoch 1/5\n",
      "WARNING:tensorflow:The dtype of the watched tensor must be floating (e.g. tf.float32), got tf.uint8\n",
      "WARNING:tensorflow:The dtype of the source tensor must be floating (e.g. tf.float32) when calling GradientTape.gradient, got tf.uint8\n",
      "WARNING:tensorflow:AutoGraph could not transform <bound method Socket.send of <zmq.sugar.socket.Socket object at 0x7f713a501118>> and will run it as-is.\n",
      "Please report this to the TensorFlow team. When filing the bug, set the verbosity to 10 (on Linux, `export AUTOGRAPH_VERBOSITY=10`) and attach the full output.\n",
      "Cause: <cyfunction Socket.send at 0x7f7150622c00> is not a module, class, method, function, traceback, frame, or code object\n",
      "To silence this warning, decorate the function with @tf.autograph.experimental.do_not_convert\n"
     ]
    },
    {
     "name": "stderr",
     "output_type": "stream",
     "text": [
      "WARNING:absl:Cannot perturb features dict_keys(['label'])WARNING:tensorflow:AutoGraph could not transform <bound method Socket.send of <zmq.sugar.socket.Socket object at 0x7f713a501118>> and will run it as-is.\n",
      "Please report this to the TensorFlow team. When filing the bug, set the verbosity to 10 (on Linux, `export AUTOGRAPH_VERBOSITY=10`) and attach the full output.\n",
      "Cause: <cyfunction Socket.send at 0x7f7150622c00> is not a module, class, method, function, traceback, frame, or code object\n",
      "To silence this warning, decorate the function with @tf.autograph.experimental.do_not_convert\n"
     ]
    },
    {
     "name": "stdout",
     "output_type": "stream",
     "text": [
      "WARNING: AutoGraph could not transform <bound method Socket.send of <zmq.sugar.socket.Socket object at 0x7f713a501118>> and will run it as-is.\n",
      "Please report this to the TensorFlow team. When filing the bug, set the verbosity to 10 (on Linux, `export AUTOGRAPH_VERBOSITY=10`) and attach the full output.\n",
      "Cause: <cyfunction Socket.send at 0x7f7150622c00> is not a module, class, method, function, traceback, frame, or code object\n",
      "To silence this warning, decorate the function with @tf.autograph.experimental.do_not_convert\n"
     ]
    },
    {
     "name": "stderr",
     "output_type": "stream",
     "text": [
      "\n"
     ]
    },
    {
     "name": "stdout",
     "output_type": "stream",
     "text": [
      "WARNING:tensorflow:AutoGraph could not transform <function wrap at 0x7f714f252d08> and will run it as-is.\n",
      "Cause: while/else statement not yet supported\n",
      "To silence this warning, decorate the function with @tf.autograph.experimental.do_not_convert\n"
     ]
    },
    {
     "name": "stderr",
     "output_type": "stream",
     "text": [
      "WARNING:tensorflow:AutoGraph could not transform <function wrap at 0x7f714f252d08> and will run it as-is.\n",
      "Cause: while/else statement not yet supported\n",
      "To silence this warning, decorate the function with @tf.autograph.experimental.do_not_convert\n"
     ]
    },
    {
     "name": "stdout",
     "output_type": "stream",
     "text": [
      "WARNING:tensorflow:The dtype of the watched tensor must be floating (e.g. tf.float32), got tf.uint8\n",
      "WARNING: AutoGraph could not transform <function wrap at 0x7f714f252d08> and will run it as-is.\n",
      "Cause: while/else statement not yet supported\n",
      "To silence this warning, decorate the function with @tf.autograph.experimental.do_not_convert\n"
     ]
    },
    {
     "name": "stderr",
     "output_type": "stream",
     "text": [
      "WARNING:tensorflow:The dtype of the watched tensor must be floating (e.g. tf.float32), got tf.uint8\n"
     ]
    },
    {
     "name": "stdout",
     "output_type": "stream",
     "text": [
      "WARNING:tensorflow:The dtype of the source tensor must be floating (e.g. tf.float32) when calling GradientTape.gradient, got tf.uint8\n"
     ]
    },
    {
     "name": "stderr",
     "output_type": "stream",
     "text": [
      "WARNING:tensorflow:The dtype of the source tensor must be floating (e.g. tf.float32) when calling GradientTape.gradient, got tf.uint8\n"
     ]
    },
    {
     "name": "stdout",
     "output_type": "stream",
     "text": [
      "1875/1875 [==============================] - 6s 3ms/step - loss: 0.3153 - sparse_categorical_crossentropy: 0.2578 - sparse_categorical_accuracy: 0.9251 - scaled_adversarial_loss: 0.0575\n",
      "Epoch 2/5\n",
      "1875/1875 [==============================] - 6s 3ms/step - loss: 0.1421 - sparse_categorical_crossentropy: 0.1148 - sparse_categorical_accuracy: 0.9664 - scaled_adversarial_loss: 0.0272\n",
      "Epoch 3/5\n",
      "1875/1875 [==============================] - 5s 3ms/step - loss: 0.0993 - sparse_categorical_crossentropy: 0.0797 - sparse_categorical_accuracy: 0.9760 - scaled_adversarial_loss: 0.0196\n",
      "Epoch 4/5\n",
      "1875/1875 [==============================] - 5s 3ms/step - loss: 0.0751 - sparse_categorical_crossentropy: 0.0599 - sparse_categorical_accuracy: 0.9821 - scaled_adversarial_loss: 0.0152\n",
      "Epoch 5/5\n",
      "1875/1875 [==============================] - 5s 3ms/step - loss: 0.0576 - sparse_categorical_crossentropy: 0.0456 - sparse_categorical_accuracy: 0.9858 - scaled_adversarial_loss: 0.0120\n",
      "WARNING:tensorflow:The dtype of the watched tensor must be floating (e.g. tf.float32), got tf.uint8\n"
     ]
    },
    {
     "name": "stderr",
     "output_type": "stream",
     "text": [
      "WARNING:tensorflow:The dtype of the watched tensor must be floating (e.g. tf.float32), got tf.uint8\n"
     ]
    },
    {
     "name": "stdout",
     "output_type": "stream",
     "text": [
      "WARNING:tensorflow:The dtype of the source tensor must be floating (e.g. tf.float32) when calling GradientTape.gradient, got tf.uint8\n"
     ]
    },
    {
     "name": "stderr",
     "output_type": "stream",
     "text": [
      "WARNING:tensorflow:The dtype of the source tensor must be floating (e.g. tf.float32) when calling GradientTape.gradient, got tf.uint8\n"
     ]
    },
    {
     "name": "stdout",
     "output_type": "stream",
     "text": [
      "313/313 [==============================] - 1s 2ms/step - loss: 0.0989 - sparse_categorical_crossentropy: 0.0791 - sparse_categorical_accuracy: 0.9761 - scaled_adversarial_loss: 0.0198\n"
     ]
    },
    {
     "data": {
      "text/plain": [
       "[0.09892771393060684,\n",
       " 0.07911036163568497,\n",
       " 0.9761000275611877,\n",
       " 0.019817402586340904]"
      ]
     },
     "execution_count": 15,
     "metadata": {
      "tags": []
     },
     "output_type": "execute_result"
    }
   ],
   "source": [
    "import tensorflow as tf\n",
    "import neural_structured_learning as nsl\n",
    "\n",
    "# Prepare data.\n",
    "(x_train, y_train), (x_test, y_test) = tf.keras.datasets.mnist.load_data()\n",
    "x_train, x_test = x_train / 255.0, x_test / 255.0\n",
    "\n",
    "#tf.keras.layers.Embedding\n",
    "\n",
    "# Create a base model -- sequential, functional, or subclass.\n",
    "model = tf.keras.Sequential([\n",
    "    tf.keras.Input((28, 28), name='feature'),\n",
    "    tf.keras.layers.Flatten(),\n",
    "    tf.keras.layers.Dense(128, activation=tf.nn.relu),\n",
    "    tf.keras.layers.Dense(10, activation=tf.nn.softmax)\n",
    "])\n",
    "\n",
    "# Wrap the model with adversarial regularization.\n",
    "adv_config = nsl.configs.make_adv_reg_config(multiplier=0.2, adv_step_size=0.05)\n",
    "adv_model = nsl.keras.AdversarialRegularization(model, adv_config=adv_config)\n",
    "\n",
    "# Compile, train, and evaluate.\n",
    "adv_model.compile(optimizer='adam',\n",
    "                  loss='sparse_categorical_crossentropy',\n",
    "                  metrics=['accuracy'])\n",
    "adv_model.fit({'feature': x_train, 'label': y_train}, batch_size=32, epochs=5)\n",
    "adv_model.evaluate({'feature': x_test, 'label': y_test})\n"
   ]
  },
  {
   "cell_type": "code",
   "execution_count": null,
   "metadata": {
    "colab": {},
    "colab_type": "code",
    "id": "lysR70uQjKgm"
   },
   "outputs": [],
   "source": []
  },
  {
   "cell_type": "markdown",
   "metadata": {
    "colab_type": "text",
    "id": "rWK13kuajKZp"
   },
   "source": [
    "## Literally copied from https://github.com/ml-jku/hopfield-layers/blob/da336c7b0ceef8dd313c687f760b0b6d6df76848/examples/bit_pattern_demo.ipynb\n",
    "## edit this! $\\downarrow$\n"
   ]
  },
  {
   "cell_type": "code",
   "execution_count": null,
   "metadata": {
    "colab": {
     "base_uri": "https://localhost:8080/",
     "height": 377
    },
    "colab_type": "code",
    "id": "_fxCdOPZjmbo",
    "outputId": "944ea3e9-488f-46eb-a130-b83bc121d0b1"
   },
   "outputs": [
    {
     "ename": "ModuleNotFoundError",
     "evalue": "ignored",
     "output_type": "error",
     "traceback": [
      "\u001b[0;31m---------------------------------------------------------------------------\u001b[0m",
      "\u001b[0;31mModuleNotFoundError\u001b[0m                       Traceback (most recent call last)",
      "\u001b[0;32m<ipython-input-16-ff197d54d7fc>\u001b[0m in \u001b[0;36m<module>\u001b[0;34m()\u001b[0m\n\u001b[1;32m      8\u001b[0m \u001b[0;34m\u001b[0m\u001b[0m\n\u001b[1;32m      9\u001b[0m \u001b[0;31m# Importing Hopfield-specific modules.\u001b[0m\u001b[0;34m\u001b[0m\u001b[0;34m\u001b[0m\u001b[0;34m\u001b[0m\u001b[0m\n\u001b[0;32m---> 10\u001b[0;31m \u001b[0;32mfrom\u001b[0m \u001b[0mauxiliary\u001b[0m\u001b[0;34m.\u001b[0m\u001b[0mdata\u001b[0m \u001b[0;32mimport\u001b[0m \u001b[0mBitPatternSet\u001b[0m\u001b[0;34m\u001b[0m\u001b[0;34m\u001b[0m\u001b[0m\n\u001b[0m\u001b[1;32m     11\u001b[0m \u001b[0;32mfrom\u001b[0m \u001b[0mmodules\u001b[0m \u001b[0;32mimport\u001b[0m \u001b[0mHopfield\u001b[0m\u001b[0;34m,\u001b[0m \u001b[0mHopfieldPooling\u001b[0m\u001b[0;34m\u001b[0m\u001b[0;34m\u001b[0m\u001b[0m\n\u001b[1;32m     12\u001b[0m \u001b[0;34m\u001b[0m\u001b[0m\n",
      "\u001b[0;31mModuleNotFoundError\u001b[0m: No module named 'auxiliary'",
      "",
      "\u001b[0;31m---------------------------------------------------------------------------\u001b[0;32m\nNOTE: If your import is failing due to a missing package, you can\nmanually install dependencies using either !pip or !apt.\n\nTo view examples of installing some common dependencies, click the\n\"Open Examples\" button below.\n\u001b[0;31m---------------------------------------------------------------------------\u001b[0m\n"
     ]
    }
   ],
   "source": [
    "# Import general modules used e.g. for plotting.\n",
    "import matplotlib.pyplot as plt\n",
    "import os\n",
    "import pandas as pd\n",
    "import seaborn as sns\n",
    "import sys\n",
    "import torch\n",
    "\n",
    "# Importing Hopfield-specific modules.\n",
    "from auxiliary.data import BitPatternSet\n",
    "from modules import Hopfield, HopfieldPooling\n",
    "\n",
    "# Import auxiliary modules.\n",
    "from distutils.version import LooseVersion\n",
    "from typing import List, Tuple\n",
    "\n",
    "# Importing PyTorch specific modules.\n",
    "from torch import Tensor\n",
    "from torch.nn import Flatten, Linear, Module, Sequential\n",
    "from torch.nn.functional import binary_cross_entropy_with_logits\n",
    "from torch.nn.utils import clip_grad_norm_\n",
    "from torch.optim import AdamW\n",
    "from torch.utils.data import DataLoader\n",
    "from torch.utils.data.sampler import SubsetRandomSampler"
   ]
  },
  {
   "cell_type": "code",
   "execution_count": null,
   "metadata": {
    "colab": {
     "base_uri": "https://localhost:8080/",
     "height": 238
    },
    "colab_type": "code",
    "id": "qAL0qYLIjKRk",
    "outputId": "8310a4d2-9412-4d73-f63e-6b6d07a511d5"
   },
   "outputs": [
    {
     "ename": "NameError",
     "evalue": "ignored",
     "output_type": "error",
     "traceback": [
      "\u001b[0;31m---------------------------------------------------------------------------\u001b[0m",
      "\u001b[0;31mNameError\u001b[0m                                 Traceback (most recent call last)",
      "\u001b[0;32m<ipython-input-17-608da9105205>\u001b[0m in \u001b[0;36m<module>\u001b[0;34m()\u001b[0m\n\u001b[1;32m      2\u001b[0m \u001b[0;34m\u001b[0m\u001b[0m\n\u001b[1;32m      3\u001b[0m \u001b[0;31m# Create data loader of training set.\u001b[0m\u001b[0;34m\u001b[0m\u001b[0;34m\u001b[0m\u001b[0;34m\u001b[0m\u001b[0m\n\u001b[0;32m----> 4\u001b[0;31m \u001b[0msampler_train\u001b[0m \u001b[0;34m=\u001b[0m \u001b[0mSubsetRandomSampler\u001b[0m\u001b[0;34m(\u001b[0m\u001b[0mlist\u001b[0m\u001b[0;34m(\u001b[0m\u001b[0mrange\u001b[0m\u001b[0;34m(\u001b[0m\u001b[0;36m256\u001b[0m\u001b[0;34m,\u001b[0m \u001b[0;36m2048\u001b[0m \u001b[0;34m-\u001b[0m \u001b[0;36m256\u001b[0m\u001b[0;34m)\u001b[0m\u001b[0;34m)\u001b[0m\u001b[0;34m)\u001b[0m\u001b[0;34m\u001b[0m\u001b[0;34m\u001b[0m\u001b[0m\n\u001b[0m\u001b[1;32m      5\u001b[0m \u001b[0mdata_loader_train\u001b[0m \u001b[0;34m=\u001b[0m \u001b[0mDataLoader\u001b[0m\u001b[0;34m(\u001b[0m\u001b[0mdataset\u001b[0m\u001b[0;34m=\u001b[0m\u001b[0mbit_pattern_set\u001b[0m\u001b[0;34m,\u001b[0m \u001b[0mbatch_size\u001b[0m\u001b[0;34m=\u001b[0m\u001b[0;36m32\u001b[0m\u001b[0;34m,\u001b[0m \u001b[0msampler\u001b[0m\u001b[0;34m=\u001b[0m\u001b[0msampler_train\u001b[0m\u001b[0;34m)\u001b[0m\u001b[0;34m\u001b[0m\u001b[0;34m\u001b[0m\u001b[0m\n\u001b[1;32m      6\u001b[0m \u001b[0;34m\u001b[0m\u001b[0m\n",
      "\u001b[0;31mNameError\u001b[0m: name 'SubsetRandomSampler' is not defined"
     ]
    }
   ],
   "source": [
    "device = torch.device(r'cuda:0' if torch.cuda.is_available() else r'cpu')\n",
    "\n",
    "# Create data loader of training set.\n",
    "sampler_train = SubsetRandomSampler(list(range(256, 2048 - 256)))\n",
    "data_loader_train = DataLoader(dataset=bit_pattern_set, batch_size=32, sampler=sampler_train)\n",
    "\n",
    "# Create data loader of validation set.\n",
    "sampler_eval = SubsetRandomSampler(list(range(256)) + list(range(2048 - 256, 2048)))\n",
    "data_loader_eval = DataLoader(dataset=bit_pattern_set, batch_size=32, sampler=sampler_eval)"
   ]
  },
  {
   "cell_type": "code",
   "execution_count": null,
   "metadata": {
    "colab": {
     "base_uri": "https://localhost:8080/",
     "height": 377
    },
    "colab_type": "code",
    "id": "8Usf3APJjKB0",
    "outputId": "dccbf1d9-384c-441a-a991-225fc72f5da9"
   },
   "outputs": [
    {
     "ename": "ModuleNotFoundError",
     "evalue": "ignored",
     "output_type": "error",
     "traceback": [
      "\u001b[0;31m---------------------------------------------------------------------------\u001b[0m",
      "\u001b[0;31mModuleNotFoundError\u001b[0m                       Traceback (most recent call last)",
      "\u001b[0;32m<ipython-input-18-9b84d7187823>\u001b[0m in \u001b[0;36m<module>\u001b[0;34m()\u001b[0m\n\u001b[0;32m----> 1\u001b[0;31m \u001b[0;32mimport\u001b[0m \u001b[0mmidi\u001b[0m\u001b[0;34m\u001b[0m\u001b[0;34m\u001b[0m\u001b[0m\n\u001b[0m\u001b[1;32m      2\u001b[0m \u001b[0;32mimport\u001b[0m \u001b[0mpandas\u001b[0m \u001b[0;32mas\u001b[0m \u001b[0mpd\u001b[0m\u001b[0;34m\u001b[0m\u001b[0;34m\u001b[0m\u001b[0m\n\u001b[1;32m      3\u001b[0m \u001b[0;32mimport\u001b[0m \u001b[0mtensorflow\u001b[0m \u001b[0;32mas\u001b[0m \u001b[0mtf\u001b[0m\u001b[0;34m\u001b[0m\u001b[0;34m\u001b[0m\u001b[0m\n\u001b[1;32m      4\u001b[0m \u001b[0;32mimport\u001b[0m \u001b[0mtime\u001b[0m\u001b[0;34m\u001b[0m\u001b[0;34m\u001b[0m\u001b[0m\n\u001b[1;32m      5\u001b[0m \u001b[0;34m\u001b[0m\u001b[0m\n",
      "\u001b[0;31mModuleNotFoundError\u001b[0m: No module named 'midi'",
      "",
      "\u001b[0;31m---------------------------------------------------------------------------\u001b[0;32m\nNOTE: If your import is failing due to a missing package, you can\nmanually install dependencies using either !pip or !apt.\n\nTo view examples of installing some common dependencies, click the\n\"Open Examples\" button below.\n\u001b[0;31m---------------------------------------------------------------------------\u001b[0m\n"
     ]
    }
   ],
   "source": [
    "import midi\n",
    "import pandas as pd\n",
    "import tensorflow as tf\n",
    "import time\n",
    "\n",
    "from pathlib import Path\n",
    "OPENFACE_CSV_LOCATION = \"openface_processed\"\n",
    "\n",
    "class VideoOpenfaceDataset(tf.data.Dataset):\n",
    "    @staticmethod\n",
    "    def _generator(train_or_test: str):\n",
    "        data_folder = Path(OPENFACE_CSV_LOCATION)\n",
    "        ourPickle.unpickle()\n",
    "\n",
    "        for f in midi_files:\n",
    "            # Reading data (line, record) from the file\n",
    "            yield somekinda_sample_info\n",
    "\n",
    "    def __new__(cls, train_or_test: str):\n",
    "        return tf.data.Dataset.from_generator(\n",
    "            cls._generator,\n",
    "            output_types=tf.dtypes.int64,\n",
    "            output_shapes=(None, 78, 2),  # note_state_matrix size\n",
    "            args=(train_or_test,)\n",
    "        )\n",
    "\n",
    "def benchmark(dataset, num_epochs=2):\n",
    "    start_time = time.perf_counter()\n",
    "    for epoch_num in range(num_epochs):\n",
    "        print(f\"Epoch: {epoch_num}\")\n",
    "        count=0\n",
    "        for sample in dataset:\n",
    "            count += 1\n",
    "            print(f\"Sample: {count}\")\n",
    "            # Performing a training step\n",
    "            time.sleep(0.01)\n",
    "    print(\"Execution time:\", time.perf_counter() - start_time)\n",
    "\n",
    "if __name__==\"__main__\":\n",
    "    benchmark(MidiDataset())"
   ]
  },
  {
   "cell_type": "code",
   "execution_count": null,
   "metadata": {
    "colab": {},
    "colab_type": "code",
    "id": "Gda-TCHNHsbu"
   },
   "outputs": [],
   "source": []
  },
  {
   "cell_type": "markdown",
   "metadata": {
    "colab_type": "text",
    "id": "6P12Y9v5HtfA"
   },
   "source": [
    "# Cluster input clips - probably not using this, ignore"
   ]
  },
  {
   "cell_type": "code",
   "execution_count": null,
   "metadata": {
    "colab": {
     "base_uri": "https://localhost:8080/",
     "height": 52
    },
    "colab_type": "code",
    "id": "b-u4tNTJbm4C",
    "outputId": "719248d2-529f-4b15-a2ba-24729844d89e"
   },
   "outputs": [
    {
     "name": "stderr",
     "output_type": "stream",
     "text": [
      "100%|██████████| 10/10 [07:56<00:00, 47.66s/it]\n"
     ]
    },
    {
     "name": "stdout",
     "output_type": "stream",
     "text": [
      "Saving kmeans_and_silhouette_score_from_5_to_15.pickle\n"
     ]
    }
   ],
   "source": [
    "from tslearn.clustering import TimeSeriesKMeans, silhouette_score\n",
    "from collections import defaultdict\n",
    "from tqdm import tqdm\n",
    "import pickle\n",
    "\n",
    "ts_seed = 85510309\n",
    "ss_seed = 10474245\n",
    "\n",
    "\n",
    "start, stop = 5, 15\n",
    "\n",
    "savename = f\"kmeans_and_silhouette_score_from_{start}_to_{stop}.pickle\"\n",
    "\n",
    "score_per_run = defaultdict(list)\n",
    "\n",
    "if os.path.isfile(savename):\n",
    "  print(f\"Loading saved k-means dict and silhouette scores from {save_location}\")\n",
    "  with open(savename, 'rb') as f:\n",
    "    score_per_run = pickle.load(f)\n",
    "else:\n",
    "  for i in tqdm(range(start, stop)):\n",
    "    km = TimeSeriesKMeans(n_clusters=i, metric=\"dtw\", random_state=ts_seed)\n",
    "    km.fit(dataset)\n",
    "    ss = silhouette_score(dataset, labels=km.labels_, metric='dtw', random_state=ss_seed)\n",
    "\n",
    "    score_per_run[i] = [ss, km]\n",
    "\n",
    "  print(f\"Saving {savename}\")\n",
    "  with open(savename, 'wb') as f:\n",
    "    pickle.dump(score_per_run, f)"
   ]
  },
  {
   "cell_type": "markdown",
   "metadata": {
    "colab_type": "text",
    "id": "GFUatrFrwpdz"
   },
   "source": [
    "We want the best-defined clusters, which is what the highest silhouette score corresponds to"
   ]
  },
  {
   "cell_type": "code",
   "execution_count": null,
   "metadata": {
    "colab": {
     "base_uri": "https://localhost:8080/",
     "height": 104
    },
    "colab_type": "code",
    "id": "LDwyVOcnbBJ6",
    "outputId": "73437837-4081-4ed3-fdee-04f49a5dddfb"
   },
   "outputs": [
    {
     "data": {
      "text/plain": [
       "[0.16582300466566252,\n",
       " TimeSeriesKMeans(dtw_inertia=False, init='k-means++', max_iter=50,\n",
       "                  max_iter_barycenter=100, metric='dtw', metric_params=None,\n",
       "                  n_clusters=5, n_init=1, n_jobs=None, random_state=85510309,\n",
       "                  tol=1e-06, verbose=0)]"
      ]
     },
     "execution_count": 60,
     "metadata": {
      "tags": []
     },
     "output_type": "execute_result"
    }
   ],
   "source": [
    "#num_categories = next(iter(score_per_run.keys()))\n",
    "#score_per_run"
   ]
  },
  {
   "cell_type": "code",
   "execution_count": null,
   "metadata": {
    "colab": {
     "base_uri": "https://localhost:8080/",
     "height": 898
    },
    "colab_type": "code",
    "id": "S8mR3GFqfIiF",
    "outputId": "0468486b-0fa0-4da1-db20-7dab7cbdf276"
   },
   "outputs": [
    {
     "data": {
      "text/plain": [
       "defaultdict(list,\n",
       "            {5: [0.16582300466566252,\n",
       "              TimeSeriesKMeans(dtw_inertia=False, init='k-means++', max_iter=50,\n",
       "                               max_iter_barycenter=100, metric='dtw', metric_params=None,\n",
       "                               n_clusters=5, n_init=1, n_jobs=None, random_state=85510309,\n",
       "                               tol=1e-06, verbose=0)],\n",
       "             6: [0.19760275368115737,\n",
       "              TimeSeriesKMeans(dtw_inertia=False, init='k-means++', max_iter=50,\n",
       "                               max_iter_barycenter=100, metric='dtw', metric_params=None,\n",
       "                               n_clusters=6, n_init=1, n_jobs=None, random_state=85510309,\n",
       "                               tol=1e-06, verbose=0)],\n",
       "             7: [0.18499278071672243,\n",
       "              TimeSeriesKMeans(dtw_inertia=False, init='k-means++', max_iter=50,\n",
       "                               max_iter_barycenter=100, metric='dtw', metric_params=None,\n",
       "                               n_clusters=7, n_init=1, n_jobs=None, random_state=85510309,\n",
       "                               tol=1e-06, verbose=0)],\n",
       "             8: [0.20658971607379667,\n",
       "              TimeSeriesKMeans(dtw_inertia=False, init='k-means++', max_iter=50,\n",
       "                               max_iter_barycenter=100, metric='dtw', metric_params=None,\n",
       "                               n_clusters=8, n_init=1, n_jobs=None, random_state=85510309,\n",
       "                               tol=1e-06, verbose=0)],\n",
       "             9: [0.20020224184408675,\n",
       "              TimeSeriesKMeans(dtw_inertia=False, init='k-means++', max_iter=50,\n",
       "                               max_iter_barycenter=100, metric='dtw', metric_params=None,\n",
       "                               n_clusters=9, n_init=1, n_jobs=None, random_state=85510309,\n",
       "                               tol=1e-06, verbose=0)],\n",
       "             10: [0.2195086918847058,\n",
       "              TimeSeriesKMeans(dtw_inertia=False, init='k-means++', max_iter=50,\n",
       "                               max_iter_barycenter=100, metric='dtw', metric_params=None,\n",
       "                               n_clusters=10, n_init=1, n_jobs=None, random_state=85510309,\n",
       "                               tol=1e-06, verbose=0)],\n",
       "             11: [0.17675076924021005,\n",
       "              TimeSeriesKMeans(dtw_inertia=False, init='k-means++', max_iter=50,\n",
       "                               max_iter_barycenter=100, metric='dtw', metric_params=None,\n",
       "                               n_clusters=11, n_init=1, n_jobs=None, random_state=85510309,\n",
       "                               tol=1e-06, verbose=0)],\n",
       "             12: [0.10833492830264713,\n",
       "              TimeSeriesKMeans(dtw_inertia=False, init='k-means++', max_iter=50,\n",
       "                               max_iter_barycenter=100, metric='dtw', metric_params=None,\n",
       "                               n_clusters=12, n_init=1, n_jobs=None, random_state=85510309,\n",
       "                               tol=1e-06, verbose=0)],\n",
       "             13: [0.16446990726953165,\n",
       "              TimeSeriesKMeans(dtw_inertia=False, init='k-means++', max_iter=50,\n",
       "                               max_iter_barycenter=100, metric='dtw', metric_params=None,\n",
       "                               n_clusters=13, n_init=1, n_jobs=None, random_state=85510309,\n",
       "                               tol=1e-06, verbose=0)],\n",
       "             14: [0.1503589076745649,\n",
       "              TimeSeriesKMeans(dtw_inertia=False, init='k-means++', max_iter=50,\n",
       "                               max_iter_barycenter=100, metric='dtw', metric_params=None,\n",
       "                               n_clusters=14, n_init=1, n_jobs=None, random_state=85510309,\n",
       "                               tol=1e-06, verbose=0)]})"
      ]
     },
     "execution_count": 66,
     "metadata": {
      "tags": []
     },
     "output_type": "execute_result"
    }
   ],
   "source": [
    "score_per_run"
   ]
  },
  {
   "cell_type": "code",
   "execution_count": null,
   "metadata": {
    "colab": {
     "base_uri": "https://localhost:8080/",
     "height": 69
    },
    "colab_type": "code",
    "id": "E3WOiY7LvH_5",
    "outputId": "1dac7a19-4dfb-4d31-8912-4783cd92f016"
   },
   "outputs": [
    {
     "name": "stdout",
     "output_type": "stream",
     "text": [
      "[1, 3, 7]\n",
      "[12, 14, 13, 5, 11, 7, 6, 9, 8, 10]\n",
      "Best (smallest) silhouette score is with 12 categories\n"
     ]
    }
   ],
   "source": [
    "print(sorted([3,1,7]))  # sort is ascending\n",
    "s = sorted(score_per_run, key=lambda k: score_per_run[k][0])  # sort by silhouette score\n",
    "print(s)\n",
    "print(f\"Best (smallest) silhouette score is with {s[0]} categories\")\n",
    "\n",
    "num_metrics = s[0]"
   ]
  },
  {
   "cell_type": "markdown",
   "metadata": {
    "colab_type": "text",
    "id": "W2gl9xuw9zLH"
   },
   "source": [
    "# Only worked on until here, it's Dylan's vanilla A3 stuff past here\n",
    "## \n"
   ]
  },
  {
   "cell_type": "code",
   "execution_count": null,
   "metadata": {
    "colab": {},
    "colab_type": "code",
    "id": "6NMO3d4PHbFO"
   },
   "outputs": [],
   "source": []
  },
  {
   "cell_type": "code",
   "execution_count": null,
   "metadata": {
    "colab": {
     "base_uri": "https://localhost:8080/",
     "height": 104
    },
    "colab_type": "code",
    "id": "5ZApz8i3xRPy",
    "outputId": "6cf6522a-d9a8-46ac-c224-80f102bad1be"
   },
   "outputs": [
    {
     "data": {
      "text/plain": [
       "(0.10833492830264713,\n",
       " TimeSeriesKMeans(dtw_inertia=False, init='k-means++', max_iter=50,\n",
       "                  max_iter_barycenter=100, metric='dtw', metric_params=None,\n",
       "                  n_clusters=12, n_init=1, n_jobs=None, random_state=85510309,\n",
       "                  tol=1e-06, verbose=0))"
      ]
     },
     "execution_count": 90,
     "metadata": {
      "tags": []
     },
     "output_type": "execute_result"
    }
   ],
   "source": [
    "s_score, clustered = score_per_run[num_metrics]\n",
    "s_score, clustered"
   ]
  },
  {
   "cell_type": "code",
   "execution_count": null,
   "metadata": {
    "colab": {
     "base_uri": "https://localhost:8080/",
     "height": 34
    },
    "colab_type": "code",
    "id": "jn4MtD5R0faW",
    "outputId": "f85904d0-b589-4dd4-e6ef-ca5b2aca80a6"
   },
   "outputs": [
    {
     "data": {
      "text/plain": [
       "(12, 802, 49)"
      ]
     },
     "execution_count": 91,
     "metadata": {
      "tags": []
     },
     "output_type": "execute_result"
    }
   ],
   "source": [
    "clustered.cluster_centers_.shape  # categories, max samples, features"
   ]
  },
  {
   "cell_type": "code",
   "execution_count": null,
   "metadata": {
    "colab": {
     "base_uri": "https://localhost:8080/",
     "height": 52
    },
    "colab_type": "code",
    "id": "RocZONm4wjAx",
    "outputId": "aa50e857-25e3-44c4-8790-f6b5e5915bfa"
   },
   "outputs": [
    {
     "data": {
      "text/plain": [
       "array([ 8,  6,  7,  7,  3,  4,  8,  8, 11, 11, 11,  2,  8,  0,  9,  5,  8,\n",
       "       10,  8,  1])"
      ]
     },
     "execution_count": 94,
     "metadata": {
      "tags": []
     },
     "output_type": "execute_result"
    }
   ],
   "source": [
    "clustered.labels_"
   ]
  },
  {
   "cell_type": "code",
   "execution_count": null,
   "metadata": {
    "colab": {},
    "colab_type": "code",
    "id": "3MHDWnvLyGq1"
   },
   "outputs": [],
   "source": [
    "from tslearn.metrics import dtw\n",
    "\n",
    "# find the distance from each point to the center of the cluster\n",
    "\n",
    "dists = defaultdict(float)\n",
    "\n",
    "for fname,label in enumerate(clustered.labels_):\n",
    "  timeseries = dataset[fname,:,:]\n",
    "  center = clustered.cluster_centers_[label,:,:]\n",
    "\n",
    "  dists[fname] = dtw(timeseries, center)"
   ]
  },
  {
   "cell_type": "code",
   "execution_count": null,
   "metadata": {
    "colab": {},
    "colab_type": "code",
    "id": "PbXzv7DY5XFy"
   },
   "outputs": [],
   "source": [
    "# want to get list of gifs closest to the center of the categories\n",
    "\n",
    "per_cluster_distances = defaultdict(list)\n",
    "\n",
    "for fname,label in enumerate(clustered.labels_):  # one label per file\n",
    "  per_cluster_distances[label].append((fname, dists[fname]))\n",
    "\n",
    "# have a dict of categories, "
   ]
  },
  {
   "cell_type": "code",
   "execution_count": null,
   "metadata": {
    "colab": {
     "base_uri": "https://localhost:8080/",
     "height": 34
    },
    "colab_type": "code",
    "id": "_zYggoOo9PKv",
    "outputId": "098ef885-605f-4ec0-8131-f8b942bc1d2c"
   },
   "outputs": [
    {
     "data": {
      "text/plain": [
       "[(13, 0.0)]"
      ]
     },
     "execution_count": 97,
     "metadata": {
      "tags": []
     },
     "output_type": "execute_result"
    }
   ],
   "source": [
    "per_cluster_distances[0][:10] # all the filenames belonging to cluster 0, and their associated dtw distance from center of cluster"
   ]
  },
  {
   "cell_type": "code",
   "execution_count": null,
   "metadata": {
    "colab": {
     "base_uri": "https://localhost:8080/",
     "height": 34
    },
    "colab_type": "code",
    "id": "GPRp_UdZ7sCB",
    "outputId": "a699e7c2-0d94-46d1-8779-fb736c12848e"
   },
   "outputs": [
    {
     "data": {
      "text/plain": [
       "[(13, 0.0)]"
      ]
     },
     "execution_count": 98,
     "metadata": {
      "tags": []
     },
     "output_type": "execute_result"
    }
   ],
   "source": [
    "sorted_cluster_distances = defaultdict(tuple)\n",
    "for label in per_cluster_distances:\n",
    "  sorted_cluster_distances[label] = sorted(per_cluster_distances[label], \n",
    "                                           key=lambda x: x[1])\n",
    "  \n",
    "# now the first entry in each cluster point list is the one with lowest distance (dtw)\n",
    "sorted_cluster_distances[0][:10]"
   ]
  },
  {
   "cell_type": "markdown",
   "metadata": {
    "colab_type": "text",
    "id": "z_T4HSSiF2bC"
   },
   "source": [
    "# Display GIFs in cluster"
   ]
  },
  {
   "cell_type": "code",
   "execution_count": null,
   "metadata": {
    "colab": {},
    "colab_type": "code",
    "id": "_89hoOfAATjN"
   },
   "outputs": [],
   "source": [
    "# sourced from https://github.com/ipython/ipython/issues/10045\n",
    "\n",
    "from IPython.core.interactiveshell import InteractiveShell\n",
    "InteractiveShell.ast_node_interactivity = \"all\"\n",
    "from IPython import display"
   ]
  },
  {
   "cell_type": "code",
   "execution_count": null,
   "metadata": {
    "colab": {
     "base_uri": "https://localhost:8080/",
     "height": 270
    },
    "colab_type": "code",
    "id": "q-0Zga4j_Z3i",
    "outputId": "89081530-8452-4083-bfcb-63dada343d3a"
   },
   "outputs": [
    {
     "name": "stdout",
     "output_type": "stream",
     "text": [
      "Top two clips for label: 0\n",
      "Trying clipped_videos/13\n"
     ]
    },
    {
     "ename": "FileNotFoundError",
     "evalue": "ignored",
     "output_type": "error",
     "traceback": [
      "\u001b[0;31m---------------------------------------------------------------------------\u001b[0m",
      "\u001b[0;31mFileNotFoundError\u001b[0m                         Traceback (most recent call last)",
      "\u001b[0;32m<ipython-input-101-ac31b4ac8559>\u001b[0m in \u001b[0;36m<module>\u001b[0;34m()\u001b[0m\n\u001b[1;32m      4\u001b[0m     \u001b[0mpth\u001b[0m \u001b[0;34m=\u001b[0m \u001b[0mos\u001b[0m\u001b[0;34m.\u001b[0m\u001b[0mpath\u001b[0m\u001b[0;34m.\u001b[0m\u001b[0mjoin\u001b[0m\u001b[0;34m(\u001b[0m\u001b[0;34m\"clipped_videos\"\u001b[0m\u001b[0;34m,\u001b[0m \u001b[0mstr\u001b[0m\u001b[0;34m(\u001b[0m\u001b[0mfname\u001b[0m\u001b[0;34m)\u001b[0m\u001b[0;34m)\u001b[0m\u001b[0;34m\u001b[0m\u001b[0;34m\u001b[0m\u001b[0m\n\u001b[1;32m      5\u001b[0m     \u001b[0mprint\u001b[0m\u001b[0;34m(\u001b[0m\u001b[0;34mf\"Trying {pth}\"\u001b[0m\u001b[0;34m)\u001b[0m\u001b[0;34m\u001b[0m\u001b[0;34m\u001b[0m\u001b[0m\n\u001b[0;32m----> 6\u001b[0;31m     \u001b[0;32mwith\u001b[0m \u001b[0mopen\u001b[0m\u001b[0;34m(\u001b[0m\u001b[0mpth\u001b[0m\u001b[0;34m,\u001b[0m\u001b[0;34m'rb'\u001b[0m\u001b[0;34m)\u001b[0m \u001b[0;32mas\u001b[0m \u001b[0mf\u001b[0m\u001b[0;34m:\u001b[0m\u001b[0;34m\u001b[0m\u001b[0;34m\u001b[0m\u001b[0m\n\u001b[0m\u001b[1;32m      7\u001b[0m       \u001b[0mdisplay\u001b[0m\u001b[0;34m.\u001b[0m\u001b[0mImage\u001b[0m\u001b[0;34m(\u001b[0m\u001b[0mdata\u001b[0m\u001b[0;34m=\u001b[0m\u001b[0mf\u001b[0m\u001b[0;34m.\u001b[0m\u001b[0mread\u001b[0m\u001b[0;34m(\u001b[0m\u001b[0;34m)\u001b[0m\u001b[0;34m,\u001b[0m \u001b[0mformat\u001b[0m\u001b[0;34m=\u001b[0m\u001b[0;34m'png'\u001b[0m\u001b[0;34m,\u001b[0m \u001b[0mheight\u001b[0m\u001b[0;34m=\u001b[0m\u001b[0;36m100\u001b[0m\u001b[0;34m)\u001b[0m\u001b[0;34m\u001b[0m\u001b[0;34m\u001b[0m\u001b[0m\n\u001b[1;32m      8\u001b[0m \u001b[0;34m\u001b[0m\u001b[0m\n",
      "\u001b[0;31mFileNotFoundError\u001b[0m: [Errno 2] No such file or directory: 'clipped_videos/13'"
     ]
    }
   ],
   "source": [
    "for label in sorted(sorted_cluster_distances):\n",
    "  print(f\"Top two clips for label: {label}\")\n",
    "  for fname,score in sorted_cluster_distances[label][:5]:\n",
    "    pth = os.path.join(\"clipped_videos\", str(fname))\n",
    "    print(f\"Trying {pth}\")\n",
    "    with open(pth,'rb') as f:\n",
    "      display.Image(data=f.read(), format='png', height=100)\n",
    "\n",
    "  input(\"Press enter to see next set\")\n",
    "  display.clear_output()\n",
    "  "
   ]
  },
  {
   "cell_type": "markdown",
   "metadata": {
    "colab_type": "text",
    "id": "3TvXSX8sQfTz"
   },
   "source": [
    "My notes on the above categorizations:\n",
    "\n",
    "0\n",
    "more animated, scrunched eyes + horizontal movement\n",
    "\n",
    "1\n",
    "Fists in air\n",
    "\n",
    "2\n",
    "tilted head, open mouth smile, up-to-down head motions\n",
    "\n",
    "\n",
    "3\n",
    "wide open mouth smile, head bobbing\n",
    "\n",
    "\n",
    "4\n",
    "open mouth with tongue sticking out, blinking\n",
    "\n",
    "\n",
    "5\n",
    "head turn side to side, squinted eyes"
   ]
  }
 ],
 "metadata": {
  "colab": {
   "collapsed_sections": [],
   "name": "419-Project-Analysis.ipynb",
   "provenance": [],
   "toc_visible": true
  },
  "kernelspec": {
   "display_name": "Python 3",
   "language": "python",
   "name": "python3"
  },
  "language_info": {
   "codemirror_mode": {
    "name": "ipython",
    "version": 3
   },
   "file_extension": ".py",
   "mimetype": "text/x-python",
   "name": "python",
   "nbconvert_exporter": "python",
   "pygments_lexer": "ipython3",
   "version": "3.8.2"
  }
 },
 "nbformat": 4,
 "nbformat_minor": 1
}
